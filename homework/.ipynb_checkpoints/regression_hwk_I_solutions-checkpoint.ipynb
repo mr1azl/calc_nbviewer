{
 "cells": [
  {
   "cell_type": "code",
   "execution_count": 1,
   "metadata": {
    "collapsed": true
   },
   "outputs": [],
   "source": [
    "%matplotlib notebook\n",
    "import matplotlib.pyplot as plt\n",
    "import numpy as np\n",
    "import seaborn as sns\n",
    "import pandas as pd"
   ]
  },
  {
   "cell_type": "markdown",
   "metadata": {},
   "source": [
    "# Linear Regression Homework\n",
    "\n",
    " | Concentration C | First Measurement | Second Measurement | Third Measurement |\n",
    " | --------------- | ----------------- | ------------------ | ------------------- |\n",
    " | 125 | 0.08 | 0.095 | 0.088 |\n",
    " | 250 | 0.15 | 0.17 | 0.16 |\n",
    " | 500 | 0.32 | 0.35 | 0.34 |\n",
    " | 750 | 0.485 | 0.51 | 0.50 |\n",
    " | 1000 | 0.62 | 0.66 | 0.65 |\n",
    " | 1500 | 0.90 | 0.94 | 0.92 |\n",
    " | 2000 | 1.05 | 1.10 | 1.08 |"
   ]
  },
  {
   "cell_type": "markdown",
   "metadata": {},
   "source": [
    "1. Concentration would be the independent variable and the amount measured would be dependent on this.\n",
    "\n",
    "2. I will use matplotlib to plot this, and after looking at the points add a line based on an approximation.\n",
    "\n",
    "First I create two lists:\n",
    "\n",
    "```python\n",
    "C = [125, 250, 500, 750, 1000, 1500, 2000]\n",
    "meas1 = [0.08, 0.15, 0.32, 0.485, 0.62, 0.90, 1.05]\n",
    "\n",
    "```\n",
    "\n"
   ]
  },
  {
   "cell_type": "code",
   "execution_count": 2,
   "metadata": {
    "collapsed": true
   },
   "outputs": [],
   "source": [
    "C = [125, 250, 500, 750, 1000, 1500, 2000]\n",
    "meas1 = [0.08, 0.15, 0.32, 0.485, 0.62, 0.90, 1.05]"
   ]
  },
  {
   "cell_type": "code",
   "execution_count": 6,
   "metadata": {},
   "outputs": [
    {
     "data": {
      "application/javascript": [
       "/* Put everything inside the global mpl namespace */\n",
       "window.mpl = {};\n",
       "\n",
       "\n",
       "mpl.get_websocket_type = function() {\n",
       "    if (typeof(WebSocket) !== 'undefined') {\n",
       "        return WebSocket;\n",
       "    } else if (typeof(MozWebSocket) !== 'undefined') {\n",
       "        return MozWebSocket;\n",
       "    } else {\n",
       "        alert('Your browser does not have WebSocket support.' +\n",
       "              'Please try Chrome, Safari or Firefox ≥ 6. ' +\n",
       "              'Firefox 4 and 5 are also supported but you ' +\n",
       "              'have to enable WebSockets in about:config.');\n",
       "    };\n",
       "}\n",
       "\n",
       "mpl.figure = function(figure_id, websocket, ondownload, parent_element) {\n",
       "    this.id = figure_id;\n",
       "\n",
       "    this.ws = websocket;\n",
       "\n",
       "    this.supports_binary = (this.ws.binaryType != undefined);\n",
       "\n",
       "    if (!this.supports_binary) {\n",
       "        var warnings = document.getElementById(\"mpl-warnings\");\n",
       "        if (warnings) {\n",
       "            warnings.style.display = 'block';\n",
       "            warnings.textContent = (\n",
       "                \"This browser does not support binary websocket messages. \" +\n",
       "                    \"Performance may be slow.\");\n",
       "        }\n",
       "    }\n",
       "\n",
       "    this.imageObj = new Image();\n",
       "\n",
       "    this.context = undefined;\n",
       "    this.message = undefined;\n",
       "    this.canvas = undefined;\n",
       "    this.rubberband_canvas = undefined;\n",
       "    this.rubberband_context = undefined;\n",
       "    this.format_dropdown = undefined;\n",
       "\n",
       "    this.image_mode = 'full';\n",
       "\n",
       "    this.root = $('<div/>');\n",
       "    this._root_extra_style(this.root)\n",
       "    this.root.attr('style', 'display: inline-block');\n",
       "\n",
       "    $(parent_element).append(this.root);\n",
       "\n",
       "    this._init_header(this);\n",
       "    this._init_canvas(this);\n",
       "    this._init_toolbar(this);\n",
       "\n",
       "    var fig = this;\n",
       "\n",
       "    this.waiting = false;\n",
       "\n",
       "    this.ws.onopen =  function () {\n",
       "            fig.send_message(\"supports_binary\", {value: fig.supports_binary});\n",
       "            fig.send_message(\"send_image_mode\", {});\n",
       "            if (mpl.ratio != 1) {\n",
       "                fig.send_message(\"set_dpi_ratio\", {'dpi_ratio': mpl.ratio});\n",
       "            }\n",
       "            fig.send_message(\"refresh\", {});\n",
       "        }\n",
       "\n",
       "    this.imageObj.onload = function() {\n",
       "            if (fig.image_mode == 'full') {\n",
       "                // Full images could contain transparency (where diff images\n",
       "                // almost always do), so we need to clear the canvas so that\n",
       "                // there is no ghosting.\n",
       "                fig.context.clearRect(0, 0, fig.canvas.width, fig.canvas.height);\n",
       "            }\n",
       "            fig.context.drawImage(fig.imageObj, 0, 0);\n",
       "        };\n",
       "\n",
       "    this.imageObj.onunload = function() {\n",
       "        fig.ws.close();\n",
       "    }\n",
       "\n",
       "    this.ws.onmessage = this._make_on_message_function(this);\n",
       "\n",
       "    this.ondownload = ondownload;\n",
       "}\n",
       "\n",
       "mpl.figure.prototype._init_header = function() {\n",
       "    var titlebar = $(\n",
       "        '<div class=\"ui-dialog-titlebar ui-widget-header ui-corner-all ' +\n",
       "        'ui-helper-clearfix\"/>');\n",
       "    var titletext = $(\n",
       "        '<div class=\"ui-dialog-title\" style=\"width: 100%; ' +\n",
       "        'text-align: center; padding: 3px;\"/>');\n",
       "    titlebar.append(titletext)\n",
       "    this.root.append(titlebar);\n",
       "    this.header = titletext[0];\n",
       "}\n",
       "\n",
       "\n",
       "\n",
       "mpl.figure.prototype._canvas_extra_style = function(canvas_div) {\n",
       "\n",
       "}\n",
       "\n",
       "\n",
       "mpl.figure.prototype._root_extra_style = function(canvas_div) {\n",
       "\n",
       "}\n",
       "\n",
       "mpl.figure.prototype._init_canvas = function() {\n",
       "    var fig = this;\n",
       "\n",
       "    var canvas_div = $('<div/>');\n",
       "\n",
       "    canvas_div.attr('style', 'position: relative; clear: both; outline: 0');\n",
       "\n",
       "    function canvas_keyboard_event(event) {\n",
       "        return fig.key_event(event, event['data']);\n",
       "    }\n",
       "\n",
       "    canvas_div.keydown('key_press', canvas_keyboard_event);\n",
       "    canvas_div.keyup('key_release', canvas_keyboard_event);\n",
       "    this.canvas_div = canvas_div\n",
       "    this._canvas_extra_style(canvas_div)\n",
       "    this.root.append(canvas_div);\n",
       "\n",
       "    var canvas = $('<canvas/>');\n",
       "    canvas.addClass('mpl-canvas');\n",
       "    canvas.attr('style', \"left: 0; top: 0; z-index: 0; outline: 0\")\n",
       "\n",
       "    this.canvas = canvas[0];\n",
       "    this.context = canvas[0].getContext(\"2d\");\n",
       "\n",
       "    var backingStore = this.context.backingStorePixelRatio ||\n",
       "\tthis.context.webkitBackingStorePixelRatio ||\n",
       "\tthis.context.mozBackingStorePixelRatio ||\n",
       "\tthis.context.msBackingStorePixelRatio ||\n",
       "\tthis.context.oBackingStorePixelRatio ||\n",
       "\tthis.context.backingStorePixelRatio || 1;\n",
       "\n",
       "    mpl.ratio = (window.devicePixelRatio || 1) / backingStore;\n",
       "\n",
       "    var rubberband = $('<canvas/>');\n",
       "    rubberband.attr('style', \"position: absolute; left: 0; top: 0; z-index: 1;\")\n",
       "\n",
       "    var pass_mouse_events = true;\n",
       "\n",
       "    canvas_div.resizable({\n",
       "        start: function(event, ui) {\n",
       "            pass_mouse_events = false;\n",
       "        },\n",
       "        resize: function(event, ui) {\n",
       "            fig.request_resize(ui.size.width, ui.size.height);\n",
       "        },\n",
       "        stop: function(event, ui) {\n",
       "            pass_mouse_events = true;\n",
       "            fig.request_resize(ui.size.width, ui.size.height);\n",
       "        },\n",
       "    });\n",
       "\n",
       "    function mouse_event_fn(event) {\n",
       "        if (pass_mouse_events)\n",
       "            return fig.mouse_event(event, event['data']);\n",
       "    }\n",
       "\n",
       "    rubberband.mousedown('button_press', mouse_event_fn);\n",
       "    rubberband.mouseup('button_release', mouse_event_fn);\n",
       "    // Throttle sequential mouse events to 1 every 20ms.\n",
       "    rubberband.mousemove('motion_notify', mouse_event_fn);\n",
       "\n",
       "    rubberband.mouseenter('figure_enter', mouse_event_fn);\n",
       "    rubberband.mouseleave('figure_leave', mouse_event_fn);\n",
       "\n",
       "    canvas_div.on(\"wheel\", function (event) {\n",
       "        event = event.originalEvent;\n",
       "        event['data'] = 'scroll'\n",
       "        if (event.deltaY < 0) {\n",
       "            event.step = 1;\n",
       "        } else {\n",
       "            event.step = -1;\n",
       "        }\n",
       "        mouse_event_fn(event);\n",
       "    });\n",
       "\n",
       "    canvas_div.append(canvas);\n",
       "    canvas_div.append(rubberband);\n",
       "\n",
       "    this.rubberband = rubberband;\n",
       "    this.rubberband_canvas = rubberband[0];\n",
       "    this.rubberband_context = rubberband[0].getContext(\"2d\");\n",
       "    this.rubberband_context.strokeStyle = \"#000000\";\n",
       "\n",
       "    this._resize_canvas = function(width, height) {\n",
       "        // Keep the size of the canvas, canvas container, and rubber band\n",
       "        // canvas in synch.\n",
       "        canvas_div.css('width', width)\n",
       "        canvas_div.css('height', height)\n",
       "\n",
       "        canvas.attr('width', width * mpl.ratio);\n",
       "        canvas.attr('height', height * mpl.ratio);\n",
       "        canvas.attr('style', 'width: ' + width + 'px; height: ' + height + 'px;');\n",
       "\n",
       "        rubberband.attr('width', width);\n",
       "        rubberband.attr('height', height);\n",
       "    }\n",
       "\n",
       "    // Set the figure to an initial 600x600px, this will subsequently be updated\n",
       "    // upon first draw.\n",
       "    this._resize_canvas(600, 600);\n",
       "\n",
       "    // Disable right mouse context menu.\n",
       "    $(this.rubberband_canvas).bind(\"contextmenu\",function(e){\n",
       "        return false;\n",
       "    });\n",
       "\n",
       "    function set_focus () {\n",
       "        canvas.focus();\n",
       "        canvas_div.focus();\n",
       "    }\n",
       "\n",
       "    window.setTimeout(set_focus, 100);\n",
       "}\n",
       "\n",
       "mpl.figure.prototype._init_toolbar = function() {\n",
       "    var fig = this;\n",
       "\n",
       "    var nav_element = $('<div/>')\n",
       "    nav_element.attr('style', 'width: 100%');\n",
       "    this.root.append(nav_element);\n",
       "\n",
       "    // Define a callback function for later on.\n",
       "    function toolbar_event(event) {\n",
       "        return fig.toolbar_button_onclick(event['data']);\n",
       "    }\n",
       "    function toolbar_mouse_event(event) {\n",
       "        return fig.toolbar_button_onmouseover(event['data']);\n",
       "    }\n",
       "\n",
       "    for(var toolbar_ind in mpl.toolbar_items) {\n",
       "        var name = mpl.toolbar_items[toolbar_ind][0];\n",
       "        var tooltip = mpl.toolbar_items[toolbar_ind][1];\n",
       "        var image = mpl.toolbar_items[toolbar_ind][2];\n",
       "        var method_name = mpl.toolbar_items[toolbar_ind][3];\n",
       "\n",
       "        if (!name) {\n",
       "            // put a spacer in here.\n",
       "            continue;\n",
       "        }\n",
       "        var button = $('<button/>');\n",
       "        button.addClass('ui-button ui-widget ui-state-default ui-corner-all ' +\n",
       "                        'ui-button-icon-only');\n",
       "        button.attr('role', 'button');\n",
       "        button.attr('aria-disabled', 'false');\n",
       "        button.click(method_name, toolbar_event);\n",
       "        button.mouseover(tooltip, toolbar_mouse_event);\n",
       "\n",
       "        var icon_img = $('<span/>');\n",
       "        icon_img.addClass('ui-button-icon-primary ui-icon');\n",
       "        icon_img.addClass(image);\n",
       "        icon_img.addClass('ui-corner-all');\n",
       "\n",
       "        var tooltip_span = $('<span/>');\n",
       "        tooltip_span.addClass('ui-button-text');\n",
       "        tooltip_span.html(tooltip);\n",
       "\n",
       "        button.append(icon_img);\n",
       "        button.append(tooltip_span);\n",
       "\n",
       "        nav_element.append(button);\n",
       "    }\n",
       "\n",
       "    var fmt_picker_span = $('<span/>');\n",
       "\n",
       "    var fmt_picker = $('<select/>');\n",
       "    fmt_picker.addClass('mpl-toolbar-option ui-widget ui-widget-content');\n",
       "    fmt_picker_span.append(fmt_picker);\n",
       "    nav_element.append(fmt_picker_span);\n",
       "    this.format_dropdown = fmt_picker[0];\n",
       "\n",
       "    for (var ind in mpl.extensions) {\n",
       "        var fmt = mpl.extensions[ind];\n",
       "        var option = $(\n",
       "            '<option/>', {selected: fmt === mpl.default_extension}).html(fmt);\n",
       "        fmt_picker.append(option)\n",
       "    }\n",
       "\n",
       "    // Add hover states to the ui-buttons\n",
       "    $( \".ui-button\" ).hover(\n",
       "        function() { $(this).addClass(\"ui-state-hover\");},\n",
       "        function() { $(this).removeClass(\"ui-state-hover\");}\n",
       "    );\n",
       "\n",
       "    var status_bar = $('<span class=\"mpl-message\"/>');\n",
       "    nav_element.append(status_bar);\n",
       "    this.message = status_bar[0];\n",
       "}\n",
       "\n",
       "mpl.figure.prototype.request_resize = function(x_pixels, y_pixels) {\n",
       "    // Request matplotlib to resize the figure. Matplotlib will then trigger a resize in the client,\n",
       "    // which will in turn request a refresh of the image.\n",
       "    this.send_message('resize', {'width': x_pixels, 'height': y_pixels});\n",
       "}\n",
       "\n",
       "mpl.figure.prototype.send_message = function(type, properties) {\n",
       "    properties['type'] = type;\n",
       "    properties['figure_id'] = this.id;\n",
       "    this.ws.send(JSON.stringify(properties));\n",
       "}\n",
       "\n",
       "mpl.figure.prototype.send_draw_message = function() {\n",
       "    if (!this.waiting) {\n",
       "        this.waiting = true;\n",
       "        this.ws.send(JSON.stringify({type: \"draw\", figure_id: this.id}));\n",
       "    }\n",
       "}\n",
       "\n",
       "\n",
       "mpl.figure.prototype.handle_save = function(fig, msg) {\n",
       "    var format_dropdown = fig.format_dropdown;\n",
       "    var format = format_dropdown.options[format_dropdown.selectedIndex].value;\n",
       "    fig.ondownload(fig, format);\n",
       "}\n",
       "\n",
       "\n",
       "mpl.figure.prototype.handle_resize = function(fig, msg) {\n",
       "    var size = msg['size'];\n",
       "    if (size[0] != fig.canvas.width || size[1] != fig.canvas.height) {\n",
       "        fig._resize_canvas(size[0], size[1]);\n",
       "        fig.send_message(\"refresh\", {});\n",
       "    };\n",
       "}\n",
       "\n",
       "mpl.figure.prototype.handle_rubberband = function(fig, msg) {\n",
       "    var x0 = msg['x0'] / mpl.ratio;\n",
       "    var y0 = (fig.canvas.height - msg['y0']) / mpl.ratio;\n",
       "    var x1 = msg['x1'] / mpl.ratio;\n",
       "    var y1 = (fig.canvas.height - msg['y1']) / mpl.ratio;\n",
       "    x0 = Math.floor(x0) + 0.5;\n",
       "    y0 = Math.floor(y0) + 0.5;\n",
       "    x1 = Math.floor(x1) + 0.5;\n",
       "    y1 = Math.floor(y1) + 0.5;\n",
       "    var min_x = Math.min(x0, x1);\n",
       "    var min_y = Math.min(y0, y1);\n",
       "    var width = Math.abs(x1 - x0);\n",
       "    var height = Math.abs(y1 - y0);\n",
       "\n",
       "    fig.rubberband_context.clearRect(\n",
       "        0, 0, fig.canvas.width, fig.canvas.height);\n",
       "\n",
       "    fig.rubberband_context.strokeRect(min_x, min_y, width, height);\n",
       "}\n",
       "\n",
       "mpl.figure.prototype.handle_figure_label = function(fig, msg) {\n",
       "    // Updates the figure title.\n",
       "    fig.header.textContent = msg['label'];\n",
       "}\n",
       "\n",
       "mpl.figure.prototype.handle_cursor = function(fig, msg) {\n",
       "    var cursor = msg['cursor'];\n",
       "    switch(cursor)\n",
       "    {\n",
       "    case 0:\n",
       "        cursor = 'pointer';\n",
       "        break;\n",
       "    case 1:\n",
       "        cursor = 'default';\n",
       "        break;\n",
       "    case 2:\n",
       "        cursor = 'crosshair';\n",
       "        break;\n",
       "    case 3:\n",
       "        cursor = 'move';\n",
       "        break;\n",
       "    }\n",
       "    fig.rubberband_canvas.style.cursor = cursor;\n",
       "}\n",
       "\n",
       "mpl.figure.prototype.handle_message = function(fig, msg) {\n",
       "    fig.message.textContent = msg['message'];\n",
       "}\n",
       "\n",
       "mpl.figure.prototype.handle_draw = function(fig, msg) {\n",
       "    // Request the server to send over a new figure.\n",
       "    fig.send_draw_message();\n",
       "}\n",
       "\n",
       "mpl.figure.prototype.handle_image_mode = function(fig, msg) {\n",
       "    fig.image_mode = msg['mode'];\n",
       "}\n",
       "\n",
       "mpl.figure.prototype.updated_canvas_event = function() {\n",
       "    // Called whenever the canvas gets updated.\n",
       "    this.send_message(\"ack\", {});\n",
       "}\n",
       "\n",
       "// A function to construct a web socket function for onmessage handling.\n",
       "// Called in the figure constructor.\n",
       "mpl.figure.prototype._make_on_message_function = function(fig) {\n",
       "    return function socket_on_message(evt) {\n",
       "        if (evt.data instanceof Blob) {\n",
       "            /* FIXME: We get \"Resource interpreted as Image but\n",
       "             * transferred with MIME type text/plain:\" errors on\n",
       "             * Chrome.  But how to set the MIME type?  It doesn't seem\n",
       "             * to be part of the websocket stream */\n",
       "            evt.data.type = \"image/png\";\n",
       "\n",
       "            /* Free the memory for the previous frames */\n",
       "            if (fig.imageObj.src) {\n",
       "                (window.URL || window.webkitURL).revokeObjectURL(\n",
       "                    fig.imageObj.src);\n",
       "            }\n",
       "\n",
       "            fig.imageObj.src = (window.URL || window.webkitURL).createObjectURL(\n",
       "                evt.data);\n",
       "            fig.updated_canvas_event();\n",
       "            fig.waiting = false;\n",
       "            return;\n",
       "        }\n",
       "        else if (typeof evt.data === 'string' && evt.data.slice(0, 21) == \"data:image/png;base64\") {\n",
       "            fig.imageObj.src = evt.data;\n",
       "            fig.updated_canvas_event();\n",
       "            fig.waiting = false;\n",
       "            return;\n",
       "        }\n",
       "\n",
       "        var msg = JSON.parse(evt.data);\n",
       "        var msg_type = msg['type'];\n",
       "\n",
       "        // Call the  \"handle_{type}\" callback, which takes\n",
       "        // the figure and JSON message as its only arguments.\n",
       "        try {\n",
       "            var callback = fig[\"handle_\" + msg_type];\n",
       "        } catch (e) {\n",
       "            console.log(\"No handler for the '\" + msg_type + \"' message type: \", msg);\n",
       "            return;\n",
       "        }\n",
       "\n",
       "        if (callback) {\n",
       "            try {\n",
       "                // console.log(\"Handling '\" + msg_type + \"' message: \", msg);\n",
       "                callback(fig, msg);\n",
       "            } catch (e) {\n",
       "                console.log(\"Exception inside the 'handler_\" + msg_type + \"' callback:\", e, e.stack, msg);\n",
       "            }\n",
       "        }\n",
       "    };\n",
       "}\n",
       "\n",
       "// from http://stackoverflow.com/questions/1114465/getting-mouse-location-in-canvas\n",
       "mpl.findpos = function(e) {\n",
       "    //this section is from http://www.quirksmode.org/js/events_properties.html\n",
       "    var targ;\n",
       "    if (!e)\n",
       "        e = window.event;\n",
       "    if (e.target)\n",
       "        targ = e.target;\n",
       "    else if (e.srcElement)\n",
       "        targ = e.srcElement;\n",
       "    if (targ.nodeType == 3) // defeat Safari bug\n",
       "        targ = targ.parentNode;\n",
       "\n",
       "    // jQuery normalizes the pageX and pageY\n",
       "    // pageX,Y are the mouse positions relative to the document\n",
       "    // offset() returns the position of the element relative to the document\n",
       "    var x = e.pageX - $(targ).offset().left;\n",
       "    var y = e.pageY - $(targ).offset().top;\n",
       "\n",
       "    return {\"x\": x, \"y\": y};\n",
       "};\n",
       "\n",
       "/*\n",
       " * return a copy of an object with only non-object keys\n",
       " * we need this to avoid circular references\n",
       " * http://stackoverflow.com/a/24161582/3208463\n",
       " */\n",
       "function simpleKeys (original) {\n",
       "  return Object.keys(original).reduce(function (obj, key) {\n",
       "    if (typeof original[key] !== 'object')\n",
       "        obj[key] = original[key]\n",
       "    return obj;\n",
       "  }, {});\n",
       "}\n",
       "\n",
       "mpl.figure.prototype.mouse_event = function(event, name) {\n",
       "    var canvas_pos = mpl.findpos(event)\n",
       "\n",
       "    if (name === 'button_press')\n",
       "    {\n",
       "        this.canvas.focus();\n",
       "        this.canvas_div.focus();\n",
       "    }\n",
       "\n",
       "    var x = canvas_pos.x * mpl.ratio;\n",
       "    var y = canvas_pos.y * mpl.ratio;\n",
       "\n",
       "    this.send_message(name, {x: x, y: y, button: event.button,\n",
       "                             step: event.step,\n",
       "                             guiEvent: simpleKeys(event)});\n",
       "\n",
       "    /* This prevents the web browser from automatically changing to\n",
       "     * the text insertion cursor when the button is pressed.  We want\n",
       "     * to control all of the cursor setting manually through the\n",
       "     * 'cursor' event from matplotlib */\n",
       "    event.preventDefault();\n",
       "    return false;\n",
       "}\n",
       "\n",
       "mpl.figure.prototype._key_event_extra = function(event, name) {\n",
       "    // Handle any extra behaviour associated with a key event\n",
       "}\n",
       "\n",
       "mpl.figure.prototype.key_event = function(event, name) {\n",
       "\n",
       "    // Prevent repeat events\n",
       "    if (name == 'key_press')\n",
       "    {\n",
       "        if (event.which === this._key)\n",
       "            return;\n",
       "        else\n",
       "            this._key = event.which;\n",
       "    }\n",
       "    if (name == 'key_release')\n",
       "        this._key = null;\n",
       "\n",
       "    var value = '';\n",
       "    if (event.ctrlKey && event.which != 17)\n",
       "        value += \"ctrl+\";\n",
       "    if (event.altKey && event.which != 18)\n",
       "        value += \"alt+\";\n",
       "    if (event.shiftKey && event.which != 16)\n",
       "        value += \"shift+\";\n",
       "\n",
       "    value += 'k';\n",
       "    value += event.which.toString();\n",
       "\n",
       "    this._key_event_extra(event, name);\n",
       "\n",
       "    this.send_message(name, {key: value,\n",
       "                             guiEvent: simpleKeys(event)});\n",
       "    return false;\n",
       "}\n",
       "\n",
       "mpl.figure.prototype.toolbar_button_onclick = function(name) {\n",
       "    if (name == 'download') {\n",
       "        this.handle_save(this, null);\n",
       "    } else {\n",
       "        this.send_message(\"toolbar_button\", {name: name});\n",
       "    }\n",
       "};\n",
       "\n",
       "mpl.figure.prototype.toolbar_button_onmouseover = function(tooltip) {\n",
       "    this.message.textContent = tooltip;\n",
       "};\n",
       "mpl.toolbar_items = [[\"Home\", \"Reset original view\", \"fa fa-home icon-home\", \"home\"], [\"Back\", \"Back to  previous view\", \"fa fa-arrow-left icon-arrow-left\", \"back\"], [\"Forward\", \"Forward to next view\", \"fa fa-arrow-right icon-arrow-right\", \"forward\"], [\"\", \"\", \"\", \"\"], [\"Pan\", \"Pan axes with left mouse, zoom with right\", \"fa fa-arrows icon-move\", \"pan\"], [\"Zoom\", \"Zoom to rectangle\", \"fa fa-square-o icon-check-empty\", \"zoom\"], [\"\", \"\", \"\", \"\"], [\"Download\", \"Download plot\", \"fa fa-floppy-o icon-save\", \"download\"]];\n",
       "\n",
       "mpl.extensions = [\"eps\", \"jpeg\", \"pdf\", \"png\", \"ps\", \"raw\", \"svg\", \"tif\"];\n",
       "\n",
       "mpl.default_extension = \"png\";var comm_websocket_adapter = function(comm) {\n",
       "    // Create a \"websocket\"-like object which calls the given IPython comm\n",
       "    // object with the appropriate methods. Currently this is a non binary\n",
       "    // socket, so there is still some room for performance tuning.\n",
       "    var ws = {};\n",
       "\n",
       "    ws.close = function() {\n",
       "        comm.close()\n",
       "    };\n",
       "    ws.send = function(m) {\n",
       "        //console.log('sending', m);\n",
       "        comm.send(m);\n",
       "    };\n",
       "    // Register the callback with on_msg.\n",
       "    comm.on_msg(function(msg) {\n",
       "        //console.log('receiving', msg['content']['data'], msg);\n",
       "        // Pass the mpl event to the overriden (by mpl) onmessage function.\n",
       "        ws.onmessage(msg['content']['data'])\n",
       "    });\n",
       "    return ws;\n",
       "}\n",
       "\n",
       "mpl.mpl_figure_comm = function(comm, msg) {\n",
       "    // This is the function which gets called when the mpl process\n",
       "    // starts-up an IPython Comm through the \"matplotlib\" channel.\n",
       "\n",
       "    var id = msg.content.data.id;\n",
       "    // Get hold of the div created by the display call when the Comm\n",
       "    // socket was opened in Python.\n",
       "    var element = $(\"#\" + id);\n",
       "    var ws_proxy = comm_websocket_adapter(comm)\n",
       "\n",
       "    function ondownload(figure, format) {\n",
       "        window.open(figure.imageObj.src);\n",
       "    }\n",
       "\n",
       "    var fig = new mpl.figure(id, ws_proxy,\n",
       "                           ondownload,\n",
       "                           element.get(0));\n",
       "\n",
       "    // Call onopen now - mpl needs it, as it is assuming we've passed it a real\n",
       "    // web socket which is closed, not our websocket->open comm proxy.\n",
       "    ws_proxy.onopen();\n",
       "\n",
       "    fig.parent_element = element.get(0);\n",
       "    fig.cell_info = mpl.find_output_cell(\"<div id='\" + id + \"'></div>\");\n",
       "    if (!fig.cell_info) {\n",
       "        console.error(\"Failed to find cell for figure\", id, fig);\n",
       "        return;\n",
       "    }\n",
       "\n",
       "    var output_index = fig.cell_info[2]\n",
       "    var cell = fig.cell_info[0];\n",
       "\n",
       "};\n",
       "\n",
       "mpl.figure.prototype.handle_close = function(fig, msg) {\n",
       "    var width = fig.canvas.width/mpl.ratio\n",
       "    fig.root.unbind('remove')\n",
       "\n",
       "    // Update the output cell to use the data from the current canvas.\n",
       "    fig.push_to_output();\n",
       "    var dataURL = fig.canvas.toDataURL();\n",
       "    // Re-enable the keyboard manager in IPython - without this line, in FF,\n",
       "    // the notebook keyboard shortcuts fail.\n",
       "    IPython.keyboard_manager.enable()\n",
       "    $(fig.parent_element).html('<img src=\"' + dataURL + '\" width=\"' + width + '\">');\n",
       "    fig.close_ws(fig, msg);\n",
       "}\n",
       "\n",
       "mpl.figure.prototype.close_ws = function(fig, msg){\n",
       "    fig.send_message('closing', msg);\n",
       "    // fig.ws.close()\n",
       "}\n",
       "\n",
       "mpl.figure.prototype.push_to_output = function(remove_interactive) {\n",
       "    // Turn the data on the canvas into data in the output cell.\n",
       "    var width = this.canvas.width/mpl.ratio\n",
       "    var dataURL = this.canvas.toDataURL();\n",
       "    this.cell_info[1]['text/html'] = '<img src=\"' + dataURL + '\" width=\"' + width + '\">';\n",
       "}\n",
       "\n",
       "mpl.figure.prototype.updated_canvas_event = function() {\n",
       "    // Tell IPython that the notebook contents must change.\n",
       "    IPython.notebook.set_dirty(true);\n",
       "    this.send_message(\"ack\", {});\n",
       "    var fig = this;\n",
       "    // Wait a second, then push the new image to the DOM so\n",
       "    // that it is saved nicely (might be nice to debounce this).\n",
       "    setTimeout(function () { fig.push_to_output() }, 1000);\n",
       "}\n",
       "\n",
       "mpl.figure.prototype._init_toolbar = function() {\n",
       "    var fig = this;\n",
       "\n",
       "    var nav_element = $('<div/>')\n",
       "    nav_element.attr('style', 'width: 100%');\n",
       "    this.root.append(nav_element);\n",
       "\n",
       "    // Define a callback function for later on.\n",
       "    function toolbar_event(event) {\n",
       "        return fig.toolbar_button_onclick(event['data']);\n",
       "    }\n",
       "    function toolbar_mouse_event(event) {\n",
       "        return fig.toolbar_button_onmouseover(event['data']);\n",
       "    }\n",
       "\n",
       "    for(var toolbar_ind in mpl.toolbar_items){\n",
       "        var name = mpl.toolbar_items[toolbar_ind][0];\n",
       "        var tooltip = mpl.toolbar_items[toolbar_ind][1];\n",
       "        var image = mpl.toolbar_items[toolbar_ind][2];\n",
       "        var method_name = mpl.toolbar_items[toolbar_ind][3];\n",
       "\n",
       "        if (!name) { continue; };\n",
       "\n",
       "        var button = $('<button class=\"btn btn-default\" href=\"#\" title=\"' + name + '\"><i class=\"fa ' + image + ' fa-lg\"></i></button>');\n",
       "        button.click(method_name, toolbar_event);\n",
       "        button.mouseover(tooltip, toolbar_mouse_event);\n",
       "        nav_element.append(button);\n",
       "    }\n",
       "\n",
       "    // Add the status bar.\n",
       "    var status_bar = $('<span class=\"mpl-message\" style=\"text-align:right; float: right;\"/>');\n",
       "    nav_element.append(status_bar);\n",
       "    this.message = status_bar[0];\n",
       "\n",
       "    // Add the close button to the window.\n",
       "    var buttongrp = $('<div class=\"btn-group inline pull-right\"></div>');\n",
       "    var button = $('<button class=\"btn btn-mini btn-primary\" href=\"#\" title=\"Stop Interaction\"><i class=\"fa fa-power-off icon-remove icon-large\"></i></button>');\n",
       "    button.click(function (evt) { fig.handle_close(fig, {}); } );\n",
       "    button.mouseover('Stop Interaction', toolbar_mouse_event);\n",
       "    buttongrp.append(button);\n",
       "    var titlebar = this.root.find($('.ui-dialog-titlebar'));\n",
       "    titlebar.prepend(buttongrp);\n",
       "}\n",
       "\n",
       "mpl.figure.prototype._root_extra_style = function(el){\n",
       "    var fig = this\n",
       "    el.on(\"remove\", function(){\n",
       "\tfig.close_ws(fig, {});\n",
       "    });\n",
       "}\n",
       "\n",
       "mpl.figure.prototype._canvas_extra_style = function(el){\n",
       "    // this is important to make the div 'focusable\n",
       "    el.attr('tabindex', 0)\n",
       "    // reach out to IPython and tell the keyboard manager to turn it's self\n",
       "    // off when our div gets focus\n",
       "\n",
       "    // location in version 3\n",
       "    if (IPython.notebook.keyboard_manager) {\n",
       "        IPython.notebook.keyboard_manager.register_events(el);\n",
       "    }\n",
       "    else {\n",
       "        // location in version 2\n",
       "        IPython.keyboard_manager.register_events(el);\n",
       "    }\n",
       "\n",
       "}\n",
       "\n",
       "mpl.figure.prototype._key_event_extra = function(event, name) {\n",
       "    var manager = IPython.notebook.keyboard_manager;\n",
       "    if (!manager)\n",
       "        manager = IPython.keyboard_manager;\n",
       "\n",
       "    // Check for shift+enter\n",
       "    if (event.shiftKey && event.which == 13) {\n",
       "        this.canvas_div.blur();\n",
       "        event.shiftKey = false;\n",
       "        // Send a \"J\" for go to next cell\n",
       "        event.which = 74;\n",
       "        event.keyCode = 74;\n",
       "        manager.command_mode();\n",
       "        manager.handle_keydown(event);\n",
       "    }\n",
       "}\n",
       "\n",
       "mpl.figure.prototype.handle_save = function(fig, msg) {\n",
       "    fig.ondownload(fig, null);\n",
       "}\n",
       "\n",
       "\n",
       "mpl.find_output_cell = function(html_output) {\n",
       "    // Return the cell and output element which can be found *uniquely* in the notebook.\n",
       "    // Note - this is a bit hacky, but it is done because the \"notebook_saving.Notebook\"\n",
       "    // IPython event is triggered only after the cells have been serialised, which for\n",
       "    // our purposes (turning an active figure into a static one), is too late.\n",
       "    var cells = IPython.notebook.get_cells();\n",
       "    var ncells = cells.length;\n",
       "    for (var i=0; i<ncells; i++) {\n",
       "        var cell = cells[i];\n",
       "        if (cell.cell_type === 'code'){\n",
       "            for (var j=0; j<cell.output_area.outputs.length; j++) {\n",
       "                var data = cell.output_area.outputs[j];\n",
       "                if (data.data) {\n",
       "                    // IPython >= 3 moved mimebundle to data attribute of output\n",
       "                    data = data.data;\n",
       "                }\n",
       "                if (data['text/html'] == html_output) {\n",
       "                    return [cell, data, j];\n",
       "                }\n",
       "            }\n",
       "        }\n",
       "    }\n",
       "}\n",
       "\n",
       "// Register the function which deals with the matplotlib target/channel.\n",
       "// The kernel may be null if the page has been refreshed.\n",
       "if (IPython.notebook.kernel != null) {\n",
       "    IPython.notebook.kernel.comm_manager.register_target('matplotlib', mpl.mpl_figure_comm);\n",
       "}\n"
      ],
      "text/plain": [
       "<IPython.core.display.Javascript object>"
      ]
     },
     "metadata": {},
     "output_type": "display_data"
    },
    {
     "data": {
      "text/html": [
       "<img src=\"data:image/png;base64,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\" width=\"640\">"
      ],
      "text/plain": [
       "<IPython.core.display.HTML object>"
      ]
     },
     "metadata": {},
     "output_type": "display_data"
    },
    {
     "data": {
      "text/plain": [
       "<matplotlib.collections.PathCollection at 0x1a13ab8ac8>"
      ]
     },
     "execution_count": 6,
     "metadata": {},
     "output_type": "execute_result"
    }
   ],
   "source": [
    "plt.figure()\n",
    "plt.scatter(C, meas1)"
   ]
  },
  {
   "cell_type": "code",
   "execution_count": 7,
   "metadata": {},
   "outputs": [
    {
     "name": "stdout",
     "output_type": "stream",
     "text": [
      "My equation is y =  0.00048666666666666666 x.  I think it needs a steeper slope.\n"
     ]
    }
   ],
   "source": [
    "slope = (1.05 - 0.32)/(2000 - 500)\n",
    "x = np.linspace(0,2000,10000)\n",
    "y = slope*x\n",
    "plt.plot(x, y, '-b')\n",
    "print(\"My equation is y = \", slope, \"x.  I think it needs a steeper slope.\")"
   ]
  },
  {
   "cell_type": "markdown",
   "metadata": {},
   "source": [
    "To approximate the fit, I used two points $(500, .32)$ and $(2000, 1.05)$."
   ]
  },
  {
   "cell_type": "code",
   "execution_count": 8,
   "metadata": {},
   "outputs": [
    {
     "name": "stdout",
     "output_type": "stream",
     "text": [
      "0.00048666666666666666 x +  0.07\n"
     ]
    }
   ],
   "source": [
    "print((1.05 - .32)/(2000 - 500),\"x + \", 0.0005*(-500) + 0.32)\n"
   ]
  },
  {
   "cell_type": "markdown",
   "metadata": {},
   "source": [
    "Which came from equation $y = 0.0005(x - 500) + 0.32$\n",
    "\n",
    "e. I can use the `np.polyfit()` function to find the line of best fit."
   ]
  },
  {
   "cell_type": "code",
   "execution_count": 9,
   "metadata": {
    "collapsed": true
   },
   "outputs": [],
   "source": [
    "m1, b1 = np.polyfit(C, meas1, 1)"
   ]
  },
  {
   "cell_type": "code",
   "execution_count": 10,
   "metadata": {},
   "outputs": [
    {
     "name": "stdout",
     "output_type": "stream",
     "text": [
      "Slope,  0.000534606741573 \n",
      "Intercept,  0.0472191011236\n"
     ]
    }
   ],
   "source": [
    "print(\"Slope, \", m1, \"\\nIntercept, \", b1)"
   ]
  },
  {
   "cell_type": "markdown",
   "metadata": {},
   "source": [
    "This line has a higer slope and lower $y$-intercept than my approximation.  \n",
    "\n",
    "f. I can use the `stats.linregress` function from `scipy` to examine the correlation coefficient.  Here, it is 0.9926, which is very close to 1.  This indicates a significant correlation between the two variables."
   ]
  },
  {
   "cell_type": "code",
   "execution_count": 11,
   "metadata": {
    "collapsed": true
   },
   "outputs": [],
   "source": [
    "from scipy import stats"
   ]
  },
  {
   "cell_type": "code",
   "execution_count": 12,
   "metadata": {},
   "outputs": [
    {
     "data": {
      "text/plain": [
       "LinregressResult(slope=0.00053460674157303374, intercept=0.047219101123595508, rvalue=0.99256291242721195, pvalue=9.1249098623846818e-06, stderr=2.9322355468756015e-05)"
      ]
     },
     "execution_count": 12,
     "metadata": {},
     "output_type": "execute_result"
    }
   ],
   "source": [
    "stats.linregress(C, meas1)"
   ]
  },
  {
   "cell_type": "markdown",
   "metadata": {},
   "source": [
    "g. The slope of the line relates to the rate of change of measurement by concentration.  Here, by changing the concentration by one microgram per millileter the measurement increases by 0.0005.  The intercept suggests the measurement with a concentration of zero.  The fact that it is not zero is interesting.\n",
    "\n",
    "h. Now I create two more lists with the measurements and repeat the fitting."
   ]
  },
  {
   "cell_type": "code",
   "execution_count": 13,
   "metadata": {
    "collapsed": true
   },
   "outputs": [],
   "source": [
    "#make two lists named meas2 and meas3\n",
    "meas2 = [0.095, 0.17, 0.35, 0.51, 0.66, 0.94, 1.10]\n",
    "meas3 = [0.088, 0.16, 0.34, 0.5, 0.65, 0.92, 1.08]"
   ]
  },
  {
   "cell_type": "code",
   "execution_count": 14,
   "metadata": {},
   "outputs": [
    {
     "data": {
      "text/plain": [
       "LinregressResult(slope=0.00055191011235955056, intercept=0.063507223113964728, rvalue=0.99272998665988821, pvalue=8.6218077152362353e-06, stderr=2.9925680904899615e-05)"
      ]
     },
     "execution_count": 14,
     "metadata": {},
     "output_type": "execute_result"
    }
   ],
   "source": [
    "#use stats linear regression model to find fit info\n",
    "stats.linregress(C, meas2)"
   ]
  },
  {
   "cell_type": "code",
   "execution_count": 15,
   "metadata": {},
   "outputs": [
    {
     "data": {
      "text/plain": [
       "LinregressResult(slope=0.00054480898876404496, intercept=0.057292134831460673, rvalue=0.99243685931119907, pvalue=9.5158456726274821e-06, stderr=3.0136981381050549e-05)"
      ]
     },
     "execution_count": 15,
     "metadata": {},
     "output_type": "execute_result"
    }
   ],
   "source": [
    "#use stats linear regression model to find the fit\n",
    "stats.linregress(C, meas3)"
   ]
  },
  {
   "cell_type": "markdown",
   "metadata": {},
   "source": [
    "While the slopes stay fairly close, it seems the intercept is changing.  All have high correlations at .99."
   ]
  },
  {
   "cell_type": "code",
   "execution_count": 16,
   "metadata": {
    "collapsed": true
   },
   "outputs": [],
   "source": [
    "#a quick way to add each element from the lists\n",
    "avg = list(map(sum, zip(meas1, meas2, meas3)))"
   ]
  },
  {
   "cell_type": "code",
   "execution_count": 17,
   "metadata": {},
   "outputs": [
    {
     "data": {
      "text/plain": [
       "LinregressResult(slope=0.0016313258426966296, intercept=0.1680184590690208, rvalue=0.99259684311093943, pvalue=9.0213522703971894e-06, stderr=8.9269071958461178e-05)"
      ]
     },
     "execution_count": 17,
     "metadata": {},
     "output_type": "execute_result"
    }
   ],
   "source": [
    "#run linear regression on average values\n",
    "stats.linregress(C, avg)"
   ]
  },
  {
   "cell_type": "markdown",
   "metadata": {},
   "source": [
    "This gave me a much higher slope and intercept than earlier, however it gives me a high coefficient value.\n",
    "\n",
    "I use the average fit to predict values for the last two questions."
   ]
  },
  {
   "cell_type": "code",
   "execution_count": 18,
   "metadata": {
    "collapsed": true
   },
   "outputs": [],
   "source": [
    "#name variables m, b, r, p, sterr for slope, y-intercept\n",
    "#r value, p value, and standard error\n",
    "m, b, r, p, sterr = stats.linregress(C, avg)"
   ]
  },
  {
   "cell_type": "code",
   "execution_count": 19,
   "metadata": {
    "collapsed": true
   },
   "outputs": [],
   "source": [
    "#use slope and intercept from model to define a new\n",
    "#function named predict\n",
    "def predict(x):\n",
    "    return m*x + b"
   ]
  },
  {
   "cell_type": "code",
   "execution_count": 20,
   "metadata": {},
   "outputs": [
    {
     "data": {
      "text/plain": [
       "0.82054879614767262"
      ]
     },
     "execution_count": 20,
     "metadata": {},
     "output_type": "execute_result"
    }
   ],
   "source": [
    "#use model to predict value at 400\n",
    "predict(400)"
   ]
  },
  {
   "cell_type": "code",
   "execution_count": 21,
   "metadata": {},
   "outputs": [
    {
     "data": {
      "text/plain": [
       "1.6362117174959874"
      ]
     },
     "execution_count": 21,
     "metadata": {},
     "output_type": "execute_result"
    }
   ],
   "source": [
    "#predict at C = 900\n",
    "predict(900)"
   ]
  },
  {
   "cell_type": "code",
   "execution_count": 22,
   "metadata": {},
   "outputs": [
    {
     "data": {
      "text/plain": [
       "3.1044049759229537"
      ]
     },
     "execution_count": 22,
     "metadata": {},
     "output_type": "execute_result"
    }
   ],
   "source": [
    "#predict at C = 1800\n",
    "predict(1800)"
   ]
  },
  {
   "cell_type": "code",
   "execution_count": 23,
   "metadata": {},
   "outputs": [
    {
     "data": {
      "text/plain": [
       "4.0832004815409322"
      ]
     },
     "execution_count": 23,
     "metadata": {},
     "output_type": "execute_result"
    }
   ],
   "source": [
    "#predict at C = 2400\n",
    "predict(2400)"
   ]
  },
  {
   "cell_type": "code",
   "execution_count": 24,
   "metadata": {
    "collapsed": true
   },
   "outputs": [],
   "source": [
    "#solve the inverse problem, given y find x\n",
    "#first solve equation y = mx + b for x\n",
    "def inv_predict(y):\n",
    "    return (y-b)/m"
   ]
  },
  {
   "cell_type": "code",
   "execution_count": 25,
   "metadata": {},
   "outputs": [
    {
     "data": {
      "text/plain": [
       "50.254546814179875"
      ]
     },
     "execution_count": 25,
     "metadata": {},
     "output_type": "execute_result"
    }
   ],
   "source": [
    "#predict c given y\n",
    "inv_predict(0.25)"
   ]
  },
  {
   "cell_type": "code",
   "execution_count": 26,
   "metadata": {},
   "outputs": [
    {
     "data": {
      "text/plain": [
       "356.75370652434867"
      ]
     },
     "execution_count": 26,
     "metadata": {},
     "output_type": "execute_result"
    }
   ],
   "source": [
    "inv_predict(0.75)"
   ]
  },
  {
   "cell_type": "code",
   "execution_count": 27,
   "metadata": {},
   "outputs": [
    {
     "data": {
      "text/plain": [
       "663.25286623451746"
      ]
     },
     "execution_count": 27,
     "metadata": {},
     "output_type": "execute_result"
    }
   ],
   "source": [
    "inv_predict(1.25)"
   ]
  },
  {
   "cell_type": "markdown",
   "metadata": {},
   "source": [
    "I don't think these are very good, they seem high compared to the original data."
   ]
  }
 ],
 "metadata": {
  "kernelspec": {
   "display_name": "Python 3",
   "language": "python",
   "name": "python3"
  },
  "language_info": {
   "codemirror_mode": {
    "name": "ipython",
    "version": 3
   },
   "file_extension": ".py",
   "mimetype": "text/x-python",
   "name": "python",
   "nbconvert_exporter": "python",
   "pygments_lexer": "ipython3",
   "version": "3.6.3"
  }
 },
 "nbformat": 4,
 "nbformat_minor": 2
}
