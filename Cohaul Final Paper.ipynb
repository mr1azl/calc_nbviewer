{
 "cells": [
  {
   "cell_type": "code",
   "execution_count": 2,
   "metadata": {},
   "outputs": [],
   "source": [
    "from bokeh.plotting import figure, show, output_notebook\n",
    "from bokeh.models import ColumnDataSource\n",
    "%matplotlib notebook\n",
    "import matplotlib.pyplot as plt\n",
    "import numpy as np\n",
    "import sympy as sy\n",
    "import pandas as pd\n",
    "import scipy.special"
   ]
  },
  {
   "cell_type": "markdown",
   "metadata": {},
   "source": [
    "# Riemann Integral as Area"
   ]
  },
  {
   "cell_type": "markdown",
   "metadata": {},
   "source": [
    "### Let R be the shaded region in the first quadrant enclosed by the graph of $ y=e^(-x^2)$, $y=1-cosx$, and the y-axis."
   ]
  },
  {
   "cell_type": "code",
   "execution_count": 12,
   "metadata": {},
   "outputs": [
    {
     "data": {
      "text/html": [
       "\n",
       "    <div class=\"bk-root\">\n",
       "        <a href=\"https://bokeh.pydata.org\" target=\"_blank\" class=\"bk-logo bk-logo-small bk-logo-notebook\"></a>\n",
       "        <span id=\"5ce36ee0-d637-4009-bd49-8086d605ea2f\">Loading BokehJS ...</span>\n",
       "    </div>"
      ]
     },
     "metadata": {},
     "output_type": "display_data"
    },
    {
     "data": {
      "application/javascript": [
       "\n",
       "(function(root) {\n",
       "  function now() {\n",
       "    return new Date();\n",
       "  }\n",
       "\n",
       "  var force = true;\n",
       "\n",
       "  if (typeof (root._bokeh_onload_callbacks) === \"undefined\" || force === true) {\n",
       "    root._bokeh_onload_callbacks = [];\n",
       "    root._bokeh_is_loading = undefined;\n",
       "  }\n",
       "\n",
       "  var JS_MIME_TYPE = 'application/javascript';\n",
       "  var HTML_MIME_TYPE = 'text/html';\n",
       "  var EXEC_MIME_TYPE = 'application/vnd.bokehjs_exec.v0+json';\n",
       "  var CLASS_NAME = 'output_bokeh rendered_html';\n",
       "\n",
       "  /**\n",
       "   * Render data to the DOM node\n",
       "   */\n",
       "  function render(props, node) {\n",
       "    var script = document.createElement(\"script\");\n",
       "    node.appendChild(script);\n",
       "  }\n",
       "\n",
       "  /**\n",
       "   * Handle when an output is cleared or removed\n",
       "   */\n",
       "  function handleClearOutput(event, handle) {\n",
       "    var cell = handle.cell;\n",
       "\n",
       "    var id = cell.output_area._bokeh_element_id;\n",
       "    var server_id = cell.output_area._bokeh_server_id;\n",
       "    // Clean up Bokeh references\n",
       "    if (id !== undefined) {\n",
       "      Bokeh.index[id].model.document.clear();\n",
       "      delete Bokeh.index[id];\n",
       "    }\n",
       "\n",
       "    if (server_id !== undefined) {\n",
       "      // Clean up Bokeh references\n",
       "      var cmd = \"from bokeh.io.state import curstate; print(curstate().uuid_to_server['\" + server_id + \"'].get_sessions()[0].document.roots[0]._id)\";\n",
       "      cell.notebook.kernel.execute(cmd, {\n",
       "        iopub: {\n",
       "          output: function(msg) {\n",
       "            var element_id = msg.content.text.trim();\n",
       "            Bokeh.index[element_id].model.document.clear();\n",
       "            delete Bokeh.index[element_id];\n",
       "          }\n",
       "        }\n",
       "      });\n",
       "      // Destroy server and session\n",
       "      var cmd = \"import bokeh.io.notebook as ion; ion.destroy_server('\" + server_id + \"')\";\n",
       "      cell.notebook.kernel.execute(cmd);\n",
       "    }\n",
       "  }\n",
       "\n",
       "  /**\n",
       "   * Handle when a new output is added\n",
       "   */\n",
       "  function handleAddOutput(event, handle) {\n",
       "    var output_area = handle.output_area;\n",
       "    var output = handle.output;\n",
       "\n",
       "    // limit handleAddOutput to display_data with EXEC_MIME_TYPE content only\n",
       "    if ((output.output_type != \"display_data\") || (!output.data.hasOwnProperty(EXEC_MIME_TYPE))) {\n",
       "      return\n",
       "    }\n",
       "\n",
       "    var toinsert = output_area.element.find(`.${CLASS_NAME.split(' ')[0]}`);\n",
       "\n",
       "    if (output.metadata[EXEC_MIME_TYPE][\"id\"] !== undefined) {\n",
       "      toinsert[0].firstChild.textContent = output.data[JS_MIME_TYPE];\n",
       "      // store reference to embed id on output_area\n",
       "      output_area._bokeh_element_id = output.metadata[EXEC_MIME_TYPE][\"id\"];\n",
       "    }\n",
       "    if (output.metadata[EXEC_MIME_TYPE][\"server_id\"] !== undefined) {\n",
       "      var bk_div = document.createElement(\"div\");\n",
       "      bk_div.innerHTML = output.data[HTML_MIME_TYPE];\n",
       "      var script_attrs = bk_div.children[0].attributes;\n",
       "      for (var i = 0; i < script_attrs.length; i++) {\n",
       "        toinsert[0].firstChild.setAttribute(script_attrs[i].name, script_attrs[i].value);\n",
       "      }\n",
       "      // store reference to server id on output_area\n",
       "      output_area._bokeh_server_id = output.metadata[EXEC_MIME_TYPE][\"server_id\"];\n",
       "    }\n",
       "  }\n",
       "\n",
       "  function register_renderer(events, OutputArea) {\n",
       "\n",
       "    function append_mime(data, metadata, element) {\n",
       "      // create a DOM node to render to\n",
       "      var toinsert = this.create_output_subarea(\n",
       "        metadata,\n",
       "        CLASS_NAME,\n",
       "        EXEC_MIME_TYPE\n",
       "      );\n",
       "      this.keyboard_manager.register_events(toinsert);\n",
       "      // Render to node\n",
       "      var props = {data: data, metadata: metadata[EXEC_MIME_TYPE]};\n",
       "      render(props, toinsert[0]);\n",
       "      element.append(toinsert);\n",
       "      return toinsert\n",
       "    }\n",
       "\n",
       "    /* Handle when an output is cleared or removed */\n",
       "    events.on('clear_output.CodeCell', handleClearOutput);\n",
       "    events.on('delete.Cell', handleClearOutput);\n",
       "\n",
       "    /* Handle when a new output is added */\n",
       "    events.on('output_added.OutputArea', handleAddOutput);\n",
       "\n",
       "    /**\n",
       "     * Register the mime type and append_mime function with output_area\n",
       "     */\n",
       "    OutputArea.prototype.register_mime_type(EXEC_MIME_TYPE, append_mime, {\n",
       "      /* Is output safe? */\n",
       "      safe: true,\n",
       "      /* Index of renderer in `output_area.display_order` */\n",
       "      index: 0\n",
       "    });\n",
       "  }\n",
       "\n",
       "  // register the mime type if in Jupyter Notebook environment and previously unregistered\n",
       "  if (root.Jupyter !== undefined) {\n",
       "    var events = require('base/js/events');\n",
       "    var OutputArea = require('notebook/js/outputarea').OutputArea;\n",
       "\n",
       "    if (OutputArea.prototype.mime_types().indexOf(EXEC_MIME_TYPE) == -1) {\n",
       "      register_renderer(events, OutputArea);\n",
       "    }\n",
       "  }\n",
       "\n",
       "  \n",
       "  if (typeof (root._bokeh_timeout) === \"undefined\" || force === true) {\n",
       "    root._bokeh_timeout = Date.now() + 5000;\n",
       "    root._bokeh_failed_load = false;\n",
       "  }\n",
       "\n",
       "  var NB_LOAD_WARNING = {'data': {'text/html':\n",
       "     \"<div style='background-color: #fdd'>\\n\"+\n",
       "     \"<p>\\n\"+\n",
       "     \"BokehJS does not appear to have successfully loaded. If loading BokehJS from CDN, this \\n\"+\n",
       "     \"may be due to a slow or bad network connection. Possible fixes:\\n\"+\n",
       "     \"</p>\\n\"+\n",
       "     \"<ul>\\n\"+\n",
       "     \"<li>re-rerun `output_notebook()` to attempt to load from CDN again, or</li>\\n\"+\n",
       "     \"<li>use INLINE resources instead, as so:</li>\\n\"+\n",
       "     \"</ul>\\n\"+\n",
       "     \"<code>\\n\"+\n",
       "     \"from bokeh.resources import INLINE\\n\"+\n",
       "     \"output_notebook(resources=INLINE)\\n\"+\n",
       "     \"</code>\\n\"+\n",
       "     \"</div>\"}};\n",
       "\n",
       "  function display_loaded() {\n",
       "    var el = document.getElementById(\"5ce36ee0-d637-4009-bd49-8086d605ea2f\");\n",
       "    if (el != null) {\n",
       "      el.textContent = \"BokehJS is loading...\";\n",
       "    }\n",
       "    if (root.Bokeh !== undefined) {\n",
       "      if (el != null) {\n",
       "        el.textContent = \"BokehJS \" + root.Bokeh.version + \" successfully loaded.\";\n",
       "      }\n",
       "    } else if (Date.now() < root._bokeh_timeout) {\n",
       "      setTimeout(display_loaded, 100)\n",
       "    }\n",
       "  }\n",
       "\n",
       "\n",
       "  function run_callbacks() {\n",
       "    try {\n",
       "      root._bokeh_onload_callbacks.forEach(function(callback) { callback() });\n",
       "    }\n",
       "    finally {\n",
       "      delete root._bokeh_onload_callbacks\n",
       "    }\n",
       "    console.info(\"Bokeh: all callbacks have finished\");\n",
       "  }\n",
       "\n",
       "  function load_libs(js_urls, callback) {\n",
       "    root._bokeh_onload_callbacks.push(callback);\n",
       "    if (root._bokeh_is_loading > 0) {\n",
       "      console.log(\"Bokeh: BokehJS is being loaded, scheduling callback at\", now());\n",
       "      return null;\n",
       "    }\n",
       "    if (js_urls == null || js_urls.length === 0) {\n",
       "      run_callbacks();\n",
       "      return null;\n",
       "    }\n",
       "    console.log(\"Bokeh: BokehJS not loaded, scheduling load and callback at\", now());\n",
       "    root._bokeh_is_loading = js_urls.length;\n",
       "    for (var i = 0; i < js_urls.length; i++) {\n",
       "      var url = js_urls[i];\n",
       "      var s = document.createElement('script');\n",
       "      s.src = url;\n",
       "      s.async = false;\n",
       "      s.onreadystatechange = s.onload = function() {\n",
       "        root._bokeh_is_loading--;\n",
       "        if (root._bokeh_is_loading === 0) {\n",
       "          console.log(\"Bokeh: all BokehJS libraries loaded\");\n",
       "          run_callbacks()\n",
       "        }\n",
       "      };\n",
       "      s.onerror = function() {\n",
       "        console.warn(\"failed to load library \" + url);\n",
       "      };\n",
       "      console.log(\"Bokeh: injecting script tag for BokehJS library: \", url);\n",
       "      document.getElementsByTagName(\"head\")[0].appendChild(s);\n",
       "    }\n",
       "  };var element = document.getElementById(\"5ce36ee0-d637-4009-bd49-8086d605ea2f\");\n",
       "  if (element == null) {\n",
       "    console.log(\"Bokeh: ERROR: autoload.js configured with elementid '5ce36ee0-d637-4009-bd49-8086d605ea2f' but no matching script tag was found. \")\n",
       "    return false;\n",
       "  }\n",
       "\n",
       "  var js_urls = [\"https://cdn.pydata.org/bokeh/release/bokeh-0.12.10.min.js\", \"https://cdn.pydata.org/bokeh/release/bokeh-widgets-0.12.10.min.js\", \"https://cdn.pydata.org/bokeh/release/bokeh-tables-0.12.10.min.js\", \"https://cdn.pydata.org/bokeh/release/bokeh-gl-0.12.10.min.js\"];\n",
       "\n",
       "  var inline_js = [\n",
       "    function(Bokeh) {\n",
       "      Bokeh.set_log_level(\"info\");\n",
       "    },\n",
       "    \n",
       "    function(Bokeh) {\n",
       "      \n",
       "    },\n",
       "    function(Bokeh) {\n",
       "      console.log(\"Bokeh: injecting CSS: https://cdn.pydata.org/bokeh/release/bokeh-0.12.10.min.css\");\n",
       "      Bokeh.embed.inject_css(\"https://cdn.pydata.org/bokeh/release/bokeh-0.12.10.min.css\");\n",
       "      console.log(\"Bokeh: injecting CSS: https://cdn.pydata.org/bokeh/release/bokeh-widgets-0.12.10.min.css\");\n",
       "      Bokeh.embed.inject_css(\"https://cdn.pydata.org/bokeh/release/bokeh-widgets-0.12.10.min.css\");\n",
       "      console.log(\"Bokeh: injecting CSS: https://cdn.pydata.org/bokeh/release/bokeh-tables-0.12.10.min.css\");\n",
       "      Bokeh.embed.inject_css(\"https://cdn.pydata.org/bokeh/release/bokeh-tables-0.12.10.min.css\");\n",
       "    }\n",
       "  ];\n",
       "\n",
       "  function run_inline_js() {\n",
       "    \n",
       "    if ((root.Bokeh !== undefined) || (force === true)) {\n",
       "      for (var i = 0; i < inline_js.length; i++) {\n",
       "        inline_js[i].call(root, root.Bokeh);\n",
       "      }if (force === true) {\n",
       "        display_loaded();\n",
       "      }} else if (Date.now() < root._bokeh_timeout) {\n",
       "      setTimeout(run_inline_js, 100);\n",
       "    } else if (!root._bokeh_failed_load) {\n",
       "      console.log(\"Bokeh: BokehJS failed to load within specified timeout.\");\n",
       "      root._bokeh_failed_load = true;\n",
       "    } else if (force !== true) {\n",
       "      var cell = $(document.getElementById(\"5ce36ee0-d637-4009-bd49-8086d605ea2f\")).parents('.cell').data().cell;\n",
       "      cell.output_area.append_execute_result(NB_LOAD_WARNING)\n",
       "    }\n",
       "\n",
       "  }\n",
       "\n",
       "  if (root._bokeh_is_loading === 0) {\n",
       "    console.log(\"Bokeh: BokehJS loaded, going straight to plotting\");\n",
       "    run_inline_js();\n",
       "  } else {\n",
       "    load_libs(js_urls, function() {\n",
       "      console.log(\"Bokeh: BokehJS plotting callback run at\", now());\n",
       "      run_inline_js();\n",
       "    });\n",
       "  }\n",
       "}(window));"
      ],
      "application/vnd.bokehjs_load.v0+json": "\n(function(root) {\n  function now() {\n    return new Date();\n  }\n\n  var force = true;\n\n  if (typeof (root._bokeh_onload_callbacks) === \"undefined\" || force === true) {\n    root._bokeh_onload_callbacks = [];\n    root._bokeh_is_loading = undefined;\n  }\n\n  \n\n  \n  if (typeof (root._bokeh_timeout) === \"undefined\" || force === true) {\n    root._bokeh_timeout = Date.now() + 5000;\n    root._bokeh_failed_load = false;\n  }\n\n  var NB_LOAD_WARNING = {'data': {'text/html':\n     \"<div style='background-color: #fdd'>\\n\"+\n     \"<p>\\n\"+\n     \"BokehJS does not appear to have successfully loaded. If loading BokehJS from CDN, this \\n\"+\n     \"may be due to a slow or bad network connection. Possible fixes:\\n\"+\n     \"</p>\\n\"+\n     \"<ul>\\n\"+\n     \"<li>re-rerun `output_notebook()` to attempt to load from CDN again, or</li>\\n\"+\n     \"<li>use INLINE resources instead, as so:</li>\\n\"+\n     \"</ul>\\n\"+\n     \"<code>\\n\"+\n     \"from bokeh.resources import INLINE\\n\"+\n     \"output_notebook(resources=INLINE)\\n\"+\n     \"</code>\\n\"+\n     \"</div>\"}};\n\n  function display_loaded() {\n    var el = document.getElementById(\"5ce36ee0-d637-4009-bd49-8086d605ea2f\");\n    if (el != null) {\n      el.textContent = \"BokehJS is loading...\";\n    }\n    if (root.Bokeh !== undefined) {\n      if (el != null) {\n        el.textContent = \"BokehJS \" + root.Bokeh.version + \" successfully loaded.\";\n      }\n    } else if (Date.now() < root._bokeh_timeout) {\n      setTimeout(display_loaded, 100)\n    }\n  }\n\n\n  function run_callbacks() {\n    try {\n      root._bokeh_onload_callbacks.forEach(function(callback) { callback() });\n    }\n    finally {\n      delete root._bokeh_onload_callbacks\n    }\n    console.info(\"Bokeh: all callbacks have finished\");\n  }\n\n  function load_libs(js_urls, callback) {\n    root._bokeh_onload_callbacks.push(callback);\n    if (root._bokeh_is_loading > 0) {\n      console.log(\"Bokeh: BokehJS is being loaded, scheduling callback at\", now());\n      return null;\n    }\n    if (js_urls == null || js_urls.length === 0) {\n      run_callbacks();\n      return null;\n    }\n    console.log(\"Bokeh: BokehJS not loaded, scheduling load and callback at\", now());\n    root._bokeh_is_loading = js_urls.length;\n    for (var i = 0; i < js_urls.length; i++) {\n      var url = js_urls[i];\n      var s = document.createElement('script');\n      s.src = url;\n      s.async = false;\n      s.onreadystatechange = s.onload = function() {\n        root._bokeh_is_loading--;\n        if (root._bokeh_is_loading === 0) {\n          console.log(\"Bokeh: all BokehJS libraries loaded\");\n          run_callbacks()\n        }\n      };\n      s.onerror = function() {\n        console.warn(\"failed to load library \" + url);\n      };\n      console.log(\"Bokeh: injecting script tag for BokehJS library: \", url);\n      document.getElementsByTagName(\"head\")[0].appendChild(s);\n    }\n  };var element = document.getElementById(\"5ce36ee0-d637-4009-bd49-8086d605ea2f\");\n  if (element == null) {\n    console.log(\"Bokeh: ERROR: autoload.js configured with elementid '5ce36ee0-d637-4009-bd49-8086d605ea2f' but no matching script tag was found. \")\n    return false;\n  }\n\n  var js_urls = [\"https://cdn.pydata.org/bokeh/release/bokeh-0.12.10.min.js\", \"https://cdn.pydata.org/bokeh/release/bokeh-widgets-0.12.10.min.js\", \"https://cdn.pydata.org/bokeh/release/bokeh-tables-0.12.10.min.js\", \"https://cdn.pydata.org/bokeh/release/bokeh-gl-0.12.10.min.js\"];\n\n  var inline_js = [\n    function(Bokeh) {\n      Bokeh.set_log_level(\"info\");\n    },\n    \n    function(Bokeh) {\n      \n    },\n    function(Bokeh) {\n      console.log(\"Bokeh: injecting CSS: https://cdn.pydata.org/bokeh/release/bokeh-0.12.10.min.css\");\n      Bokeh.embed.inject_css(\"https://cdn.pydata.org/bokeh/release/bokeh-0.12.10.min.css\");\n      console.log(\"Bokeh: injecting CSS: https://cdn.pydata.org/bokeh/release/bokeh-widgets-0.12.10.min.css\");\n      Bokeh.embed.inject_css(\"https://cdn.pydata.org/bokeh/release/bokeh-widgets-0.12.10.min.css\");\n      console.log(\"Bokeh: injecting CSS: https://cdn.pydata.org/bokeh/release/bokeh-tables-0.12.10.min.css\");\n      Bokeh.embed.inject_css(\"https://cdn.pydata.org/bokeh/release/bokeh-tables-0.12.10.min.css\");\n    }\n  ];\n\n  function run_inline_js() {\n    \n    if ((root.Bokeh !== undefined) || (force === true)) {\n      for (var i = 0; i < inline_js.length; i++) {\n        inline_js[i].call(root, root.Bokeh);\n      }if (force === true) {\n        display_loaded();\n      }} else if (Date.now() < root._bokeh_timeout) {\n      setTimeout(run_inline_js, 100);\n    } else if (!root._bokeh_failed_load) {\n      console.log(\"Bokeh: BokehJS failed to load within specified timeout.\");\n      root._bokeh_failed_load = true;\n    } else if (force !== true) {\n      var cell = $(document.getElementById(\"5ce36ee0-d637-4009-bd49-8086d605ea2f\")).parents('.cell').data().cell;\n      cell.output_area.append_execute_result(NB_LOAD_WARNING)\n    }\n\n  }\n\n  if (root._bokeh_is_loading === 0) {\n    console.log(\"Bokeh: BokehJS loaded, going straight to plotting\");\n    run_inline_js();\n  } else {\n    load_libs(js_urls, function() {\n      console.log(\"Bokeh: BokehJS plotting callback run at\", now());\n      run_inline_js();\n    });\n  }\n}(window));"
     },
     "metadata": {},
     "output_type": "display_data"
    },
    {
     "data": {
      "text/html": [
       "\n",
       "<div class=\"bk-root\">\n",
       "    <div class=\"bk-plotdiv\" id=\"8980fc2c-5d82-4b25-9e48-e6e6f1d93742\"></div>\n",
       "</div>"
      ]
     },
     "metadata": {},
     "output_type": "display_data"
    },
    {
     "data": {
      "application/javascript": [
       "(function(root) {\n",
       "  function embed_document(root) {\n",
       "    var docs_json = {\"d1eccb3d-c277-4fe3-a610-a9ec93396962\":{\"roots\":{\"references\":[{\"attributes\":{\"callback\":null,\"column_names\":[\"x\",\"y\"],\"data\":{\"x\":{\"__ndarray__\":\"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\",\"dtype\":\"float64\",\"shape\":[1000]},\"y\":{\"__ndarray__\":\"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\",\"dtype\":\"float64\",\"shape\":[1000]}}},\"id\":\"be130b28-8d69-4e3b-b07c-11677cabd889\",\"type\":\"ColumnDataSource\"},{\"attributes\":{\"source\":{\"id\":\"be130b28-8d69-4e3b-b07c-11677cabd889\",\"type\":\"ColumnDataSource\"}},\"id\":\"d0da3eaa-d382-4ea4-8cdc-e32b5300ad16\",\"type\":\"CDSView\"},{\"attributes\":{},\"id\":\"d5b3db1f-b706-475e-9831-256faec53fc9\",\"type\":\"LinearScale\"},{\"attributes\":{},\"id\":\"60bfedc0-0413-4736-9c84-e808da47f7f7\",\"type\":\"BasicTicker\"},{\"attributes\":{\"dimension\":1,\"plot\":{\"id\":\"8b77a610-55ee-4049-9641-2376c698e4a3\",\"subtype\":\"Figure\",\"type\":\"Plot\"},\"ticker\":{\"id\":\"60bfedc0-0413-4736-9c84-e808da47f7f7\",\"type\":\"BasicTicker\"}},\"id\":\"1d5ee316-ae88-4d6f-97f9-6c38000030a6\",\"type\":\"Grid\"},{\"attributes\":{\"below\":[{\"id\":\"d5348a19-7dea-465f-abaf-d00ec6a55f63\",\"type\":\"LinearAxis\"}],\"left\":[{\"id\":\"b8d3f7df-e56c-4d59-ba72-0339442fb62f\",\"type\":\"LinearAxis\"}],\"renderers\":[{\"id\":\"d5348a19-7dea-465f-abaf-d00ec6a55f63\",\"type\":\"LinearAxis\"},{\"id\":\"cb00ac25-875a-4a8c-ab4f-3347a6447763\",\"type\":\"Grid\"},{\"id\":\"b8d3f7df-e56c-4d59-ba72-0339442fb62f\",\"type\":\"LinearAxis\"},{\"id\":\"1d5ee316-ae88-4d6f-97f9-6c38000030a6\",\"type\":\"Grid\"},{\"id\":\"d16df5d6-44b6-4bbc-b65c-3e838d90c321\",\"type\":\"BoxAnnotation\"},{\"id\":\"3d8caa58-3eb1-4ff9-9c5f-0e7f85213011\",\"type\":\"GlyphRenderer\"},{\"id\":\"8d627bda-0969-488e-81b2-bb48a931204d\",\"type\":\"GlyphRenderer\"},{\"id\":\"d5be6b04-644c-4932-8e1f-1963fb0e6006\",\"type\":\"GlyphRenderer\"},{\"id\":\"0b2580c3-0723-4dfd-b937-be33b4ae4c9f\",\"type\":\"GlyphRenderer\"}],\"title\":{\"id\":\"b973a793-7380-456f-8533-129708c8211b\",\"type\":\"Title\"},\"toolbar\":{\"id\":\"1d3b07bb-8d3d-4c42-b6ee-007556263b5e\",\"type\":\"Toolbar\"},\"x_range\":{\"id\":\"f05ff8d2-8290-4ef5-8c25-6d4716df43c1\",\"type\":\"DataRange1d\"},\"x_scale\":{\"id\":\"d5b3db1f-b706-475e-9831-256faec53fc9\",\"type\":\"LinearScale\"},\"y_range\":{\"id\":\"e0ed6457-ec38-4a34-bbad-cb6fbe305a42\",\"type\":\"DataRange1d\"},\"y_scale\":{\"id\":\"01a3408e-4a2a-48e3-9ae9-62ccca0b9e57\",\"type\":\"LinearScale\"}},\"id\":\"8b77a610-55ee-4049-9641-2376c698e4a3\",\"subtype\":\"Figure\",\"type\":\"Plot\"},{\"attributes\":{},\"id\":\"03738385-924b-41be-bf79-a3eeb4b9e12f\",\"type\":\"BasicTickFormatter\"},{\"attributes\":{\"data_source\":{\"id\":\"be130b28-8d69-4e3b-b07c-11677cabd889\",\"type\":\"ColumnDataSource\"},\"glyph\":{\"id\":\"a66f610e-b381-44a7-8446-6123eff6d049\",\"type\":\"Line\"},\"hover_glyph\":null,\"muted_glyph\":null,\"nonselection_glyph\":{\"id\":\"23cecca9-fc54-4355-aeb9-2875b1980055\",\"type\":\"Line\"},\"selection_glyph\":null,\"view\":{\"id\":\"d0da3eaa-d382-4ea4-8cdc-e32b5300ad16\",\"type\":\"CDSView\"}},\"id\":\"3d8caa58-3eb1-4ff9-9c5f-0e7f85213011\",\"type\":\"GlyphRenderer\"},{\"attributes\":{},\"id\":\"4db42ddc-786a-4b78-8964-e5eb2fa501ae\",\"type\":\"BasicTickFormatter\"},{\"attributes\":{\"line_alpha\":{\"value\":0.1},\"line_color\":{\"value\":\"#1f77b4\"},\"line_width\":{\"value\":3},\"x\":{\"field\":\"x\"},\"y\":{\"field\":\"y\"}},\"id\":\"23cecca9-fc54-4355-aeb9-2875b1980055\",\"type\":\"Line\"},{\"attributes\":{\"bottom_units\":\"screen\",\"fill_alpha\":{\"value\":0.5},\"fill_color\":{\"value\":\"lightgrey\"},\"left_units\":\"screen\",\"level\":\"overlay\",\"line_alpha\":{\"value\":1.0},\"line_color\":{\"value\":\"black\"},\"line_dash\":[4,4],\"line_width\":{\"value\":2},\"plot\":null,\"render_mode\":\"css\",\"right_units\":\"screen\",\"top_units\":\"screen\"},\"id\":\"d16df5d6-44b6-4bbc-b65c-3e838d90c321\",\"type\":\"BoxAnnotation\"},{\"attributes\":{},\"id\":\"22f12b3f-ba84-4304-a1c2-55fa57e57602\",\"type\":\"PanTool\"},{\"attributes\":{\"plot\":null,\"text\":\"\"},\"id\":\"b973a793-7380-456f-8533-129708c8211b\",\"type\":\"Title\"},{\"attributes\":{\"plot\":{\"id\":\"8b77a610-55ee-4049-9641-2376c698e4a3\",\"subtype\":\"Figure\",\"type\":\"Plot\"},\"ticker\":{\"id\":\"c478f252-4006-43e8-a7f3-d47355947ce4\",\"type\":\"BasicTicker\"}},\"id\":\"cb00ac25-875a-4a8c-ab4f-3347a6447763\",\"type\":\"Grid\"},{\"attributes\":{},\"id\":\"57877a69-947c-4ba3-9d09-7f154ad700b0\",\"type\":\"WheelZoomTool\"},{\"attributes\":{\"fill_alpha\":{\"value\":0.5},\"fill_color\":{\"value\":\"green\"},\"line_alpha\":{\"value\":0.5},\"line_color\":{\"value\":\"green\"},\"xs\":{\"field\":\"xs\"},\"ys\":{\"field\":\"ys\"}},\"id\":\"7b9dd64f-6bea-4f41-b54b-24a73dad553d\",\"type\":\"Patches\"},{\"attributes\":{\"overlay\":{\"id\":\"d16df5d6-44b6-4bbc-b65c-3e838d90c321\",\"type\":\"BoxAnnotation\"}},\"id\":\"35b1e407-ecb7-44ea-9294-eb649b6ea8c5\",\"type\":\"BoxZoomTool\"},{\"attributes\":{},\"id\":\"a8a1d598-19aa-4b18-98b4-75b10d7c9b62\",\"type\":\"SaveTool\"},{\"attributes\":{},\"id\":\"4126f20a-88bf-4e03-865e-5bab97140968\",\"type\":\"ResetTool\"},{\"attributes\":{},\"id\":\"39672429-06d0-478e-9488-058ded90c16a\",\"type\":\"HelpTool\"},{\"attributes\":{\"formatter\":{\"id\":\"4db42ddc-786a-4b78-8964-e5eb2fa501ae\",\"type\":\"BasicTickFormatter\"},\"plot\":{\"id\":\"8b77a610-55ee-4049-9641-2376c698e4a3\",\"subtype\":\"Figure\",\"type\":\"Plot\"},\"ticker\":{\"id\":\"c478f252-4006-43e8-a7f3-d47355947ce4\",\"type\":\"BasicTicker\"}},\"id\":\"d5348a19-7dea-465f-abaf-d00ec6a55f63\",\"type\":\"LinearAxis\"},{\"attributes\":{\"callback\":null,\"column_names\":[\"xs\",\"ys\"],\"data\":{\"xs\":[{\"__ndarray__\":\"AAAAAAAAAABoBgGkgGZQP2gGAaSAZmA/nIkB9sCZaD9oBgGkgGZwPwJIAc0ggHQ/nIkB9sCZeD82ywEfYbN8P2gGAaSAZoA/NSeBuFBzgj8CSAHNIICEP89ogeHwjIY/nIkB9sCZiD9pqoEKkaaKPzbLAR9hs4w/A+yBMzHAjj9oBgGkgGaQP84WQa7obJE/NSeBuFBzkj+cN8HCuHmTPwJIAc0ggJQ/aFhB14iGlT/PaIHh8IyWPzZ5wetYk5c/nIkB9sCZmD8CmkEAKaCZP2mqgQqRppo/0LrBFPmsmz82ywEfYbOcP5zbQSnJuZ0/A+yBMzHAnj9q/ME9mcafP2gGAaSAZqA/mw4hqbTpoD/OFkGu6GyhPwIfYbMc8KE/NSeBuFBzoj9oL6G9hPaiP5w3wcK4eaM/zz/hx+z8oz8CSAHNIICkPzVQIdJUA6U/aFhB14iGpT+cYGHcvAmmP89ogeHwjKY/AnGh5iQQpz82ecHrWJOnP2mB4fCMFqg/nIkB9sCZqD/PkSH79BypPwKaQQApoKk/NqJhBV0jqj9pqoEKkaaqP5yyoQ/FKas/0LrBFPmsqz8Dw+EZLTCsPzbLAR9hs6w/adMhJJU2rT+c20EpybmtP9DjYS79PK4/A+yBMzHArj829KE4ZUOvP2r8wT2Zxq8/TgJxoeYksD9oBgGkgGawP4IKkaYaqLA/mw4hqbTpsD+1ErGrTiuxP84WQa7obLE/6BrRsIKusT8CH2GzHPCxPxsj8bW2MbI/NSeBuFBzsj9PKxG76rSyP2gvob2E9rI/gjMxwB44sz+cN8HCuHmzP7U7UcVSu7M/zz/hx+z8sz/oQ3HKhj60PwJIAc0ggLQ/HEyRz7rBtD81UCHSVAO1P09UsdTuRLU/aFhB14iGtT+CXNHZIsi1P5xgYdy8CbY/tWTx3lZLtj/PaIHh8Iy2P+lsEeSKzrY/AnGh5iQQtz8cdTHpvlG3PzZ5wetYk7c/T31R7vLUtz9pgeHwjBa4P4KFcfMmWLg/nIkB9sCZuD+2jZH4Wtu4P8+RIfv0HLk/6ZWx/Y5euT8CmkEAKaC5Pxye0QLD4bk/NqJhBV0juj9PpvEH92S6P2mqgQqRpro/g64RDSvouj+csqEPxSm7P7a2MRJfa7s/0LrBFPmsuz/pvlEXk+67PwPD4RktMLw/HMdxHMdxvD82ywEfYbO8P1DPkSH79Lw/adMhJJU2vT+D17EmL3i9P5zbQSnJub0/tt/RK2P7vT/Q42Eu/Ty+P+nn8TCXfr4/A+yBMzHAvj8d8BE2ywG/Pzb0oThlQ78/UPgxO/+Evz9q/ME9mca/P0IAKaAZBMA/TgJxoeYkwD9bBLmis0XAP2gGAaSAZsA/dQhJpU2HwD+CCpGmGqjAP44M2afnyMA/mw4hqbTpwD+oEGmqgQrBP7USsatOK8E/whT5rBtMwT/OFkGu6GzBP9sYia+1jcE/6BrRsIKuwT/1HBmyT8/BPwIfYbMc8ME/DyGptOkQwj8bI/G1tjHCPyglObeDUsI/NSeBuFBzwj9CKcm5HZTCP08rEbvqtMI/Wy1ZvLfVwj9oL6G9hPbCP3Ux6b5RF8M/gjMxwB44wz+PNXnB61jDP5w3wcK4ecM/qDkJxIWawz+1O1HFUrvDP8I9mcYf3MM/zz/hx+z8wz/cQSnJuR3EP+hDccqGPsQ/9UW5y1NfxD8CSAHNIIDEPw9KSc7toMQ/HEyRz7rBxD8oTtnQh+LEPzVQIdJUA8U/QlJp0yEkxT9PVLHU7kTFP1xW+dW7ZcU/aFhB14iGxT91WonYVafFP4Jc0dkiyMU/j14Z2+/oxT+cYGHcvAnGP6liqd2JKsY/tWTx3lZLxj/CZjngI2zGP89ogeHwjMY/3GrJ4r2txj/pbBHkis7GP/VuWeVX78Y/AnGh5iQQxz8Pc+nn8TDHPxx1Mem+Ucc/KXd56otyxz82ecHrWJPHP0J7Ce0ltMc/T31R7vLUxz9cf5nvv/XHP2mB4fCMFsg/doMp8lk3yD+ChXHzJljIP4+HufTzeMg/nIkB9sCZyD+pi0n3jbrIP7aNkfha28g/wo/Z+Sf8yD/PkSH79BzJP9yTafzBPck/6ZWx/Y5eyT/2l/n+W3/JPwKaQQApoMk/D5yJAfbAyT8cntECw+HJPymgGQSQAso/NqJhBV0jyj9DpKkGKkTKP0+m8Qf3ZMo/XKg5CcSFyj9pqoEKkabKP3asyQtex8o/g64RDSvoyj+PsFkO+AjLP5yyoQ/FKcs/qbTpEJJKyz+2tjESX2vLP8O4eRMsjMs/0LrBFPmsyz/cvAkWxs3LP+m+UReT7ss/9sCZGGAPzD8Dw+EZLTDMPxDFKRv6UMw/HMdxHMdxzD8pybkdlJLMPzbLAR9hs8w/Q81JIC7UzD9Qz5Eh+/TMP1zR2SLIFc0/adMhJJU2zT921WklYlfNP4PXsSYveM0/kNn5J/yYzT+c20EpybnNP6ndiSqW2s0/tt/RK2P7zT/D4RktMBzOP9DjYS79PM4/3eWpL8pdzj/p5/Ewl37OP/bpOTJkn84/A+yBMzHAzj8Q7sk0/uDOPx3wETbLAc8/KfJZN5gizz829KE4ZUPPP0P26TkyZM8/UPgxO/+Ezz9d+nk8zKXPP2r8wT2Zxs8/dv4JP2bnzz9CACmgGQTQP0gBzSCAFNA/TgJxoeYk0D9VAxUiTTXQP1sEuaKzRdA/YgVdIxpW0D9oBgGkgGbQP24HpSTndtA/dQhJpU2H0D97Ce0ltJfQP4IKkaYaqNA/iAs1J4G40D+ODNmn58jQP5UNfShO2dA/mw4hqbTp0D+iD8UpG/rQP6gQaaqBCtE/rhENK+ga0T+1ErGrTivRP7sTVSy1O9E/whT5rBtM0T/IFZ0tglzRP84WQa7obNE/1RflLk990T/bGImvtY3RP+IZLTAcntE/6BrRsIKu0T/vG3Ux6b7RP/UcGbJPz9E/+x29Mrbf0T8CH2GzHPDRPwggBTSDANI/DyGptOkQ0j8VIk01UCHSPxsj8bW2MdI/IiSVNh1C0j8oJTm3g1LSPy8m3TfqYtI/NSeBuFBz0j87KCU5t4PSP0IpybkdlNI/SCptOoSk0j9PKxG76rTSP1UstTtRxdI/Wy1ZvLfV0j9iLv08HubSP2gvob2E9tI/bzBFPusG0z91Mem+URfTP3syjT+4J9M/gjMxwB440z+INNVAhUjTP481ecHrWNM/lTYdQlJp0z+cN8HCuHnTP6I4ZUMfitM/qDkJxIWa0z+vOq1E7KrTP7U7UcVSu9M/vDz1RbnL0z/CPZnGH9zTP8g+PUeG7NM/zz/hx+z80z/VQIVIUw3UP9xBKcm5HdQ/4kLNSSAu1D/oQ3HKhj7UP+9EFUvtTtQ/9UW5y1Nf1D/8Rl1Mum/UPwJIAc0ggNQ/CEmlTYeQ1D8PSknO7aDUPxVL7U5UsdQ/HEyRz7rB1D8iTTVQIdLUPyhO2dCH4tQ/L099Ue7y1D81UCHSVAPVPzxRxVK7E9U/QlJp0yEk1T9IUw1UiDTVP09UsdTuRNU/VVVVVVVV1T9cVvnVu2XVP2JXnVYidtU/aFhB14iG1T9vWeVX75bVP3VaidhVp9U/fFstWby31T+CXNHZIsjVP4lddVqJ2NU/j14Z2+/o1T+VX71bVvnVP5xgYdy8CdY/omEFXSMa1j+pYqndiSrWP69jTV7wOtY/tWTx3lZL1j+8ZZVfvVvWP8JmOeAjbNY/yWfdYIp81j/PaIHh8IzWP9VpJWJXndY/3GrJ4r2t1j/ia21jJL7WP+lsEeSKztY/7221ZPHe1j/1blnlV+/WP/xv/WW+/9Y/AnGh5iQQ1z8JckVniyDXPw9z6efxMNc/FXSNaFhB1z8cdTHpvlHXPyJ21WklYtc/KXd56oty1z8veB1r8oLXPzZ5wetYk9c/PHplbL+j1z9CewntJbTXP0l8rW2MxNc/T31R7vLU1z9WfvVuWeXXP1x/me+/9dc/YoA9cCYG2D9pgeHwjBbYP2+ChXHzJtg/doMp8lk32D98hM1ywEfYP4KFcfMmWNg/iYYVdI1o2D+Ph7n083jYP5aIXXVaidg/nIkB9sCZ2D+iiqV2J6rYP6mLSfeNutg/r4ztd/TK2D+2jZH4WtvYP7yONXnB69g/wo/Z+Sf82D/JkH16jgzZP8+RIfv0HNk/1pLFe1st2T/ck2n8wT3ZP+KUDX0oTtk/6ZWx/Y5e2T/vllV+9W7ZP/aX+f5bf9k//Jidf8KP2T8CmkEAKaDZPwmb5YCPsNk/D5yJAfbA2T8WnS2CXNHZPxye0QLD4dk/I591gyny2T8poBkEkALaPy+hvYT2Eto/NqJhBV0j2j88owWGwzPaP0OkqQYqRNo/SaVNh5BU2j9PpvEH92TaP1anlYhdddo/XKg5CcSF2j9jqd2JKpbaP2mqgQqRpto/b6sli/e22j92rMkLXsfaP3ytbYzE19o/g64RDSvo2j+Jr7WNkfjaP4+wWQ74CNs/lrH9jl4Z2z+csqEPxSnbP6OzRZArOts/qbTpEJJK2z+vtY2R+FrbP7a2MRJfa9s/vLfVksV72z/DuHkTLIzbP8m5HZSSnNs/0LrBFPms2z/Wu2WVX73bP9y8CRbGzds/472tlize2z/pvlEXk+7bP/C/9Zf5/ts/9sCZGGAP3D/8wT2Zxh/cPwPD4RktMNw/CcSFmpNA3D8QxSkb+lDcPxbGzZtgYdw/HMdxHMdx3D8jyBWdLYLcPynJuR2Uktw/MMpdnvqi3D82ywEfYbPcPzzMpZ/Hw9w/Q81JIC7U3D9Jzu2glOTcP1DPkSH79Nw/VtA1omEF3T9c0dkiyBXdP2PSfaMuJt0/adMhJJU23T9w1MWk+0bdP3bVaSViV90/fNYNpshn3T+D17EmL3jdP4nYVaeViN0/kNn5J/yY3T+W2p2oYqndP5zbQSnJud0/o9zlqS/K3T+p3YkqltrdP7DeLav86t0/tt/RK2P73T+94HWsyQveP8PhGS0wHN4/yeK9rZYs3j/Q42Eu/TzeP9bkBa9jTd4/3eWpL8pd3j/j5k2wMG7eP+nn8TCXft4/8OiVsf2O3j/26TkyZJ/eP/3q3bLKr94/A+yBMzHA3j8J7SW0l9DePxDuyTT+4N4/Fu9ttWTx3j8d8BE2ywHfPyPxtbYxEt8/KfJZN5gi3z8w8/23/jLfPzb0oThlQ98/PfVFuctT3z9D9uk5MmTfP0n3jbqYdN8/UPgxO/+E3z9W+dW7ZZXfP136eTzMpd8/Y/sdvTK23z9q/ME9mcbfP3D9Zb7/1t8/dv4JP2bn3z99/62/zPffP0IAKaAZBOA/xQB74EwM4D9IAc0ggBTgP8sBH2GzHOA/TgJxoeYk4D/SAsPhGS3gP1UDFSJNNeA/2ANnYoA94D9bBLmis0XgP94EC+PmTeA/YgVdIxpW4D/lBa9jTV7gP2gGAaSAZuA/6wZT5LNu4D9uB6Uk53bgP/IH92Qaf+A/dQhJpU2H4D/4CJvlgI/gP3sJ7SW0l+A//gk/Zuef4D+CCpGmGqjgPwUL4+ZNsOA/iAs1J4G44D8LDIdntMDgP44M2afnyOA/Eg0r6BrR4D+VDX0oTtngPxgOz2iB4eA/mw4hqbTp4D8eD3Pp5/HgP6IPxSkb+uA/JRAXak4C4T+oEGmqgQrhPysRu+q0EuE/rhENK+ga4T8yEl9rGyPhP7USsatOK+E/OBMD7IEz4T+7E1UstTvhPz4Up2zoQ+E/whT5rBtM4T9FFUvtTlThP8gVnS2CXOE/SxbvbbVk4T/OFkGu6GzhP1IXk+4bdeE/1RflLk994T9YGDdvgoXhP9sYia+1jeE/Xxnb7+iV4T/iGS0wHJ7hP2Uaf3BPpuE/6BrRsIKu4T9rGyPxtbbhP+8bdTHpvuE/chzHcRzH4T/1HBmyT8/hP3gda/KC1+E/+x29Mrbf4T9/Hg9z6efhPwIfYbMc8OE/hR+z80/44T8IIAU0gwDiP4sgV3S2COI/DyGptOkQ4j+SIfv0HBniPxUiTTVQIeI/mCKfdYMp4j8bI/G1tjHiP58jQ/bpOeI/IiSVNh1C4j+lJOd2UEriPyglObeDUuI/qyWL97Za4j8vJt036mLiP7ImL3gda+I/NSeBuFBz4j+4J9P4g3viPzsoJTm3g+I/vyh3eeqL4j9CKcm5HZTiP8UpG/pQnOI/SCptOoSk4j/LKr96t6ziP08rEbvqtOI/0itj+x294j9VLLU7UcXiP9gsB3yEzeI/Wy1ZvLfV4j/fLav86t3iP2Iu/Twe5uI/5S5PfVHu4j9oL6G9hPbiP+sv8/23/uI/bzBFPusG4z/yMJd+Hg/jP3Ux6b5RF+M/+DE7/4Qf4z97Mo0/uCfjP/8y33/rL+M/gjMxwB444z8FNIMAUkDjP4g01UCFSOM/CzUngbhQ4z+PNXnB61jjPxI2ywEfYeM/lTYdQlJp4z8YN2+ChXHjP5w3wcK4eeM/HzgTA+yB4z+iOGVDH4rjPyU5t4NSkuM/qDkJxIWa4z8sOlsEuaLjP686rUTsquM/Mjv/hB+z4z+1O1HFUrvjPzg8owWGw+M/vDz1RbnL4z8/PUeG7NPjP8I9mcYf3OM/RT7rBlPk4z/IPj1HhuzjP0w/j4e59OM/zz/hx+z84z9SQDMIIAXkP9VAhUhTDeQ/WEHXiIYV5D/cQSnJuR3kP19CewntJeQ/4kLNSSAu5D9lQx+KUzbkP+hDccqGPuQ/bETDCrpG5D/vRBVL7U7kP3JFZ4sgV+Q/9UW5y1Nf5D94RgsMh2fkP/xGXUy6b+Q/f0evjO135D8CSAHNIIDkP4VIUw1UiOQ/CEmlTYeQ5D+MSfeNupjkPw9KSc7toOQ/kkqbDiGp5D8VS+1OVLHkP5hLP4+HueQ/HEyRz7rB5D+fTOMP7snkPyJNNVAh0uQ/pU2HkFTa5D8oTtnQh+LkP6xOKxG76uQ/L099Ue7y5D+yT8+RIfvkPzVQIdJUA+U/uFBzEogL5T88UcVSuxPlP79RF5PuG+U/QlJp0yEk5T/FUrsTVSzlP0hTDVSINOU/zFNflLs85T9PVLHU7kTlP9JUAxUiTeU/VVVVVVVV5T/YVaeViF3lP1xW+dW7ZeU/31ZLFu9t5T9iV51WInblP+VX75ZVfuU/aFhB14iG5T/sWJMXvI7lP29Z5VfvluU/8lk3mCKf5T91WonYVaflP/la2xiJr+U/fFstWby35T//W3+Z77/lP4Jc0dkiyOU/BV0jGlbQ5T+JXXVaidjlPwxex5q84OU/j14Z2+/o5T8SX2sbI/HlP5VfvVtW+eU/GWAPnIkB5j+cYGHcvAnmPx9hsxzwEeY/omEFXSMa5j8lYledViLmP6liqd2JKuY/LGP7Hb0y5j+vY01e8DrmPzJkn54jQ+Y/tWTx3lZL5j85ZUMfilPmP7xllV+9W+Y/P2bnn/Bj5j/CZjngI2zmP0VniyBXdOY/yWfdYIp85j9MaC+hvYTmP89ogeHwjOY/UmnTISSV5j/VaSViV53mP1lqd6KKpeY/3GrJ4r2t5j9faxsj8bXmP+JrbWMkvuY/ZWy/o1fG5j/pbBHkis7mP2xtYyS+1uY/7221ZPHe5j9ybgelJOfmP/VuWeVX7+Y/eW+rJYv35j/8b/1lvv/mP39wT6bxB+c/AnGh5iQQ5z+FcfMmWBjnPwlyRWeLIOc/jHKXp74o5z8Pc+nn8TDnP5JzOyglOec/FXSNaFhB5z+ZdN+oi0nnPxx1Mem+Uec/n3WDKfJZ5z8idtVpJWLnP6V2J6pYauc/KXd56oty5z+sd8sqv3rnPy94HWvyguc/snhvqyWL5z82ecHrWJPnP7l5EyyMm+c/PHplbL+j5z+/eres8qvnP0J7Ce0ltOc/xntbLVm85z9JfK1tjMTnP8x8/62/zOc/T31R7vLU5z/SfaMuJt3nP1Z+9W5Z5ec/2X5Hr4zt5z9cf5nvv/XnP99/6y/z/ec/YoA9cCYG6D/mgI+wWQ7oP2mB4fCMFug/7IEzMcAe6D9vgoVx8yboP/KC17EmL+g/doMp8lk36D/5g3syjT/oP3yEzXLAR+g//4Qfs/NP6D+ChXHzJljoPwaGwzNaYOg/iYYVdI1o6D8Mh2e0wHDoP4+HufTzeOg/EogLNSeB6D+WiF11WonoPxmJr7WNkeg/nIkB9sCZ6D8filM29KHoP6KKpXYnqug/Jov3tlqy6D+pi0n3jbroPyyMmzfBwug/r4ztd/TK6D8yjT+4J9PoP7aNkfha2+g/OY7jOI7j6D+8jjV5wevoPz+Ph7n08+g/wo/Z+Sf86D9GkCs6WwTpP8mQfXqODOk/TJHPusEU6T/PkSH79BzpP1KSczsoJek/1pLFe1st6T9Zkxe8jjXpP9yTafzBPek/X5S7PPVF6T/ilA19KE7pP2aVX71bVuk/6ZWx/Y5e6T9slgM+wmbpP++WVX71buk/cpenvih36T/2l/n+W3/pP3mYSz+Ph+k//Jidf8KP6T9/me+/9ZfpPwKaQQApoOk/hpqTQFyo6T8Jm+WAj7DpP4ybN8HCuOk/D5yJAfbA6T+TnNtBKcnpPxadLYJc0ek/mZ1/wo/Z6T8cntECw+HpP5+eI0P26ek/I591gyny6T+mn8fDXPrpPymgGQSQAuo/rKBrRMMK6j8vob2E9hLqP7OhD8UpG+o/NqJhBV0j6j+5orNFkCvqPzyjBYbDM+o/v6NXxvY76j9DpKkGKkTqP8ak+0ZdTOo/SaVNh5BU6j/MpZ/Hw1zqP0+m8Qf3ZOo/06ZDSCpt6j9Wp5WIXXXqP9mn58iQfeo/XKg5CcSF6j/fqItJ943qP2Op3Ykqluo/5qkvyl2e6j9pqoEKkabqP+yq00rEruo/b6sli/e26j/zq3fLKr/qP3asyQtex+o/+awbTJHP6j98rW2MxNfqP/+tv8z33+o/g64RDSvo6j8Gr2NNXvDqP4mvtY2R+Oo/DLAHzsQA6z+PsFkO+AjrPxOxq04rEes/lrH9jl4Z6z8Zsk/PkSHrP5yyoQ/FKes/H7PzT/gx6z+js0WQKzrrPya0l9BeQus/qbTpEJJK6z8stTtRxVLrP6+1jZH4Wus/M7bf0Stj6z+2tjESX2vrPzm3g1KSc+s/vLfVksV76z8/uCfT+IPrP8O4eRMsjOs/RrnLU1+U6z/JuR2UkpzrP0y6b9TFpOs/0LrBFPms6z9TuxNVLLXrP9a7ZZVfves/Wby31ZLF6z/cvAkWxs3rP2C9W1b51es/472tlize6z9mvv/WX+brP+m+UReT7us/bL+jV8b26z/wv/WX+f7rP3PAR9gsB+w/9sCZGGAP7D95wetYkxfsP/zBPZnGH+w/gMKP2fkn7D8Dw+EZLTDsP4bDM1pgOOw/CcSFmpNA7D+MxNfaxkjsPxDFKRv6UOw/k8V7Wy1Z7D8Wxs2bYGHsP5nGH9yTaew/HMdxHMdx7D+gx8Nc+nnsPyPIFZ0tguw/pshn3WCK7D8pybkdlJLsP6zJC17Hmuw/MMpdnvqi7D+zyq/eLavsPzbLAR9hs+w/uctTX5S77D88zKWfx8PsP8DM99/6y+w/Q81JIC7U7D/GzZtgYdzsP0nO7aCU5Ow/zM4/4cfs7D9Qz5Eh+/TsP9PP42Eu/ew/VtA1omEF7T/Z0IfilA3tP1zR2SLIFe0/4NErY/sd7T9j0n2jLibtP+bSz+NhLu0/adMhJJU27T/s03NkyD7tP3DUxaT7Ru0/89QX5S5P7T921WklYlftP/nVu2WVX+0/fNYNpshn7T8A11/m+2/tP4PXsSYveO0/BtgDZ2KA7T+J2FWnlYjtPwzZp+fIkO0/kNn5J/yY7T8T2ktoL6HtP5banahiqe0/Gdvv6JWx7T+c20EpybntPyDck2n8we0/o9zlqS/K7T8m3TfqYtLtP6ndiSqW2u0/Ld7basni7T+w3i2r/OrtPzPff+sv8+0/tt/RK2P77T854CNslgPuP73gdazJC+4/QOHH7PwT7j/D4RktMBzuP0bia21jJO4/yeK9rZYs7j9N4w/uyTTuP9DjYS79PO4/U+SzbjBF7j/W5AWvY03uP1nlV++WVe4/3eWpL8pd7j9g5vtv/WXuP+PmTbAwbu4/Zuef8GN27j/p5/Ewl37uP23oQ3HKhu4/8OiVsf2O7j9z6efxMJfuP/bpOTJkn+4/eeqLcpen7j/96t2yyq/uP4DrL/P9t+4/A+yBMzHA7j+G7NNzZMjuPwntJbSX0O4/je139MrY7j8Q7sk0/uDuP5PuG3Ux6e4/Fu9ttWTx7j+Z77/1l/nuPx3wETbLAe8/oPBjdv4J7z8j8bW2MRLvP6bxB/dkGu8/KfJZN5gi7z+t8qt3yyrvPzDz/bf+Mu8/s/NP+DE77z829KE4ZUPvP7n083iYS+8/PfVFuctT7z/A9Zf5/lvvP0P26TkyZO8/xvY7emVs7z9J9426mHTvP8333/rLfO8/UPgxO/+E7z/T+IN7Mo3vP1b51btlle8/2fkn/Jid7z9d+nk8zKXvP+D6y3z/re8/Y/sdvTK27z/m+2/9Zb7vP2r8wT2Zxu8/7fwTfszO7z9w/WW+/9bvP/P9t/4y3+8/dv4JP2bn7z/6/lt/me/vP33/rb/M9+8/AAAAAAAA8D8=\",\"dtype\":\"float64\",\"shape\":[1000]}],\"ys\":[{\"__ndarray__\":\"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\",\"dtype\":\"float64\",\"shape\":[1000]}]}},\"id\":\"b20aadc3-7cd0-4bef-9e0b-3efd292e47db\",\"type\":\"ColumnDataSource\"},{\"attributes\":{\"data_source\":{\"id\":\"218db417-5da5-4cf1-a0dc-54536627e263\",\"type\":\"ColumnDataSource\"},\"glyph\":{\"id\":\"6a39ed1d-9b8e-4b3d-a656-4305b1f240b2\",\"type\":\"Line\"},\"hover_glyph\":null,\"muted_glyph\":null,\"nonselection_glyph\":{\"id\":\"4446b919-934c-4e03-acc9-aa87befb876c\",\"type\":\"Line\"},\"selection_glyph\":null,\"view\":{\"id\":\"cfdb98e3-77e3-4beb-916e-0b6baaa8d4c4\",\"type\":\"CDSView\"}},\"id\":\"8d627bda-0969-488e-81b2-bb48a931204d\",\"type\":\"GlyphRenderer\"},{\"attributes\":{\"line_color\":{\"value\":\"red\"},\"line_width\":{\"value\":3},\"x\":{\"field\":\"x\"},\"y\":{\"field\":\"y\"}},\"id\":\"a66f610e-b381-44a7-8446-6123eff6d049\",\"type\":\"Line\"},{\"attributes\":{\"callback\":null,\"column_names\":[\"x\",\"y\"],\"data\":{\"x\":[0,0],\"y\":[0,1.2]}},\"id\":\"1fb469d3-2429-4ae3-9623-2deed31d17bb\",\"type\":\"ColumnDataSource\"},{\"attributes\":{\"data_source\":{\"id\":\"b20aadc3-7cd0-4bef-9e0b-3efd292e47db\",\"type\":\"ColumnDataSource\"},\"glyph\":{\"id\":\"7b9dd64f-6bea-4f41-b54b-24a73dad553d\",\"type\":\"Patches\"},\"hover_glyph\":null,\"muted_glyph\":null,\"nonselection_glyph\":{\"id\":\"286305a2-c7e9-4ac2-83f7-998ebcd16eac\",\"type\":\"Patches\"},\"selection_glyph\":null,\"view\":{\"id\":\"690c50f7-7190-4774-a2bf-38cfe32638a4\",\"type\":\"CDSView\"}},\"id\":\"0b2580c3-0723-4dfd-b937-be33b4ae4c9f\",\"type\":\"GlyphRenderer\"},{\"attributes\":{\"callback\":null},\"id\":\"e0ed6457-ec38-4a34-bbad-cb6fbe305a42\",\"type\":\"DataRange1d\"},{\"attributes\":{\"line_width\":{\"value\":2},\"x\":{\"field\":\"x\"},\"y\":{\"field\":\"y\"}},\"id\":\"6104a910-5535-469b-953d-5a33d742a606\",\"type\":\"Line\"},{\"attributes\":{\"line_color\":{\"value\":\"blue\"},\"line_width\":{\"value\":3},\"x\":{\"field\":\"x\"},\"y\":{\"field\":\"y\"}},\"id\":\"6a39ed1d-9b8e-4b3d-a656-4305b1f240b2\",\"type\":\"Line\"},{\"attributes\":{\"line_alpha\":{\"value\":0.1},\"line_color\":{\"value\":\"#1f77b4\"},\"line_width\":{\"value\":3},\"x\":{\"field\":\"x\"},\"y\":{\"field\":\"y\"}},\"id\":\"4446b919-934c-4e03-acc9-aa87befb876c\",\"type\":\"Line\"},{\"attributes\":{\"formatter\":{\"id\":\"03738385-924b-41be-bf79-a3eeb4b9e12f\",\"type\":\"BasicTickFormatter\"},\"plot\":{\"id\":\"8b77a610-55ee-4049-9641-2376c698e4a3\",\"subtype\":\"Figure\",\"type\":\"Plot\"},\"ticker\":{\"id\":\"60bfedc0-0413-4736-9c84-e808da47f7f7\",\"type\":\"BasicTicker\"}},\"id\":\"b8d3f7df-e56c-4d59-ba72-0339442fb62f\",\"type\":\"LinearAxis\"},{\"attributes\":{\"source\":{\"id\":\"218db417-5da5-4cf1-a0dc-54536627e263\",\"type\":\"ColumnDataSource\"}},\"id\":\"cfdb98e3-77e3-4beb-916e-0b6baaa8d4c4\",\"type\":\"CDSView\"},{\"attributes\":{\"line_alpha\":{\"value\":0.1},\"line_color\":{\"value\":\"#1f77b4\"},\"line_width\":{\"value\":2},\"x\":{\"field\":\"x\"},\"y\":{\"field\":\"y\"}},\"id\":\"51ffb9ee-bf96-48e5-b909-54de7fa22b48\",\"type\":\"Line\"},{\"attributes\":{},\"id\":\"01a3408e-4a2a-48e3-9ae9-62ccca0b9e57\",\"type\":\"LinearScale\"},{\"attributes\":{\"data_source\":{\"id\":\"1fb469d3-2429-4ae3-9623-2deed31d17bb\",\"type\":\"ColumnDataSource\"},\"glyph\":{\"id\":\"6104a910-5535-469b-953d-5a33d742a606\",\"type\":\"Line\"},\"hover_glyph\":null,\"muted_glyph\":null,\"nonselection_glyph\":{\"id\":\"51ffb9ee-bf96-48e5-b909-54de7fa22b48\",\"type\":\"Line\"},\"selection_glyph\":null,\"view\":{\"id\":\"c89f695f-f92c-40c2-92c5-f184e3aa82df\",\"type\":\"CDSView\"}},\"id\":\"d5be6b04-644c-4932-8e1f-1963fb0e6006\",\"type\":\"GlyphRenderer\"},{\"attributes\":{\"source\":{\"id\":\"1fb469d3-2429-4ae3-9623-2deed31d17bb\",\"type\":\"ColumnDataSource\"}},\"id\":\"c89f695f-f92c-40c2-92c5-f184e3aa82df\",\"type\":\"CDSView\"},{\"attributes\":{\"fill_alpha\":{\"value\":0.1},\"fill_color\":{\"value\":\"#1f77b4\"},\"line_alpha\":{\"value\":0.1},\"line_color\":{\"value\":\"#1f77b4\"},\"xs\":{\"field\":\"xs\"},\"ys\":{\"field\":\"ys\"}},\"id\":\"286305a2-c7e9-4ac2-83f7-998ebcd16eac\",\"type\":\"Patches\"},{\"attributes\":{\"callback\":null,\"column_names\":[\"x\",\"y\"],\"data\":{\"x\":{\"__ndarray__\":\"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\",\"dtype\":\"float64\",\"shape\":[1000]},\"y\":{\"__ndarray__\":\"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\",\"dtype\":\"float64\",\"shape\":[1000]}}},\"id\":\"218db417-5da5-4cf1-a0dc-54536627e263\",\"type\":\"ColumnDataSource\"},{\"attributes\":{\"source\":{\"id\":\"b20aadc3-7cd0-4bef-9e0b-3efd292e47db\",\"type\":\"ColumnDataSource\"}},\"id\":\"690c50f7-7190-4774-a2bf-38cfe32638a4\",\"type\":\"CDSView\"},{\"attributes\":{\"active_drag\":\"auto\",\"active_inspect\":\"auto\",\"active_scroll\":\"auto\",\"active_tap\":\"auto\",\"tools\":[{\"id\":\"22f12b3f-ba84-4304-a1c2-55fa57e57602\",\"type\":\"PanTool\"},{\"id\":\"57877a69-947c-4ba3-9d09-7f154ad700b0\",\"type\":\"WheelZoomTool\"},{\"id\":\"35b1e407-ecb7-44ea-9294-eb649b6ea8c5\",\"type\":\"BoxZoomTool\"},{\"id\":\"a8a1d598-19aa-4b18-98b4-75b10d7c9b62\",\"type\":\"SaveTool\"},{\"id\":\"4126f20a-88bf-4e03-865e-5bab97140968\",\"type\":\"ResetTool\"},{\"id\":\"39672429-06d0-478e-9488-058ded90c16a\",\"type\":\"HelpTool\"}]},\"id\":\"1d3b07bb-8d3d-4c42-b6ee-007556263b5e\",\"type\":\"Toolbar\"},{\"attributes\":{\"callback\":null},\"id\":\"f05ff8d2-8290-4ef5-8c25-6d4716df43c1\",\"type\":\"DataRange1d\"},{\"attributes\":{},\"id\":\"c478f252-4006-43e8-a7f3-d47355947ce4\",\"type\":\"BasicTicker\"}],\"root_ids\":[\"8b77a610-55ee-4049-9641-2376c698e4a3\"]},\"title\":\"Bokeh Application\",\"version\":\"0.12.10\"}};\n",
       "    var render_items = [{\"docid\":\"d1eccb3d-c277-4fe3-a610-a9ec93396962\",\"elementid\":\"8980fc2c-5d82-4b25-9e48-e6e6f1d93742\",\"modelid\":\"8b77a610-55ee-4049-9641-2376c698e4a3\"}];\n",
       "\n",
       "    root.Bokeh.embed.embed_items(docs_json, render_items);\n",
       "  }\n",
       "\n",
       "  if (root.Bokeh !== undefined) {\n",
       "    embed_document(root);\n",
       "  } else {\n",
       "    var attempts = 0;\n",
       "    var timer = setInterval(function(root) {\n",
       "      if (root.Bokeh !== undefined) {\n",
       "        embed_document(root);\n",
       "        clearInterval(timer);\n",
       "      }\n",
       "      attempts++;\n",
       "      if (attempts > 100) {\n",
       "        console.log(\"Bokeh: ERROR: Unable to embed document because BokehJS library is missing\")\n",
       "        clearInterval(timer);\n",
       "      }\n",
       "    }, 10, root)\n",
       "  }\n",
       "})(window);"
      ],
      "application/vnd.bokehjs_exec.v0+json": ""
     },
     "metadata": {
      "application/vnd.bokehjs_exec.v0+json": {
       "id": "8b77a610-55ee-4049-9641-2376c698e4a3"
      }
     },
     "output_type": "display_data"
    }
   ],
   "source": [
    "def f(x):\n",
    "    return np.e**(-x**2)\n",
    "def g(x):\n",
    "    return 1-np.cos(x)\n",
    "\n",
    "x = np.linspace(0,1,1000)\n",
    "\n",
    "p1 = figure()\n",
    "p1 = figure(plot_width = 600, plot_height = 600)\n",
    "\n",
    "p1.line(x, f(x), line_width = 3, color = 'red')\n",
    "p1.line(x, g(x), line_width = 3, color = 'blue')\n",
    "p1.line([0, 0], [0,1.2], line_width=2, color = 'black')\n",
    "\n",
    "p1.patches([x], [f(x)], color = 'green', alpha = 0.5)\n",
    "#p1.patch(f(x),g(x), color = 'yellow', alpha = 0.5)\n",
    "\n",
    "output_notebook()\n",
    "show(p1)"
   ]
  },
  {
   "cell_type": "markdown",
   "metadata": {},
   "source": [
    "#### (a) Find the area of the region R."
   ]
  },
  {
   "cell_type": "code",
   "execution_count": null,
   "metadata": {
    "collapsed": true
   },
   "outputs": [],
   "source": []
  },
  {
   "cell_type": "markdown",
   "metadata": {},
   "source": [
    "#### (b) Find the volume of the solid generated when the region R is revolved about the x-axis."
   ]
  },
  {
   "cell_type": "code",
   "execution_count": null,
   "metadata": {
    "collapsed": true
   },
   "outputs": [],
   "source": []
  },
  {
   "cell_type": "markdown",
   "metadata": {},
   "source": [
    "#### (c) The region R is the base of a solid. For this solid, each cross section perpendicular to the x-axis is a square. Find the volume of the solid."
   ]
  },
  {
   "cell_type": "code",
   "execution_count": null,
   "metadata": {
    "collapsed": true
   },
   "outputs": [],
   "source": []
  },
  {
   "cell_type": "code",
   "execution_count": null,
   "metadata": {
    "collapsed": true
   },
   "outputs": [],
   "source": []
  },
  {
   "cell_type": "markdown",
   "metadata": {},
   "source": [
    "# Cauchy's Definition of the Derivative"
   ]
  },
  {
   "cell_type": "code",
   "execution_count": null,
   "metadata": {
    "collapsed": true
   },
   "outputs": [],
   "source": []
  },
  {
   "cell_type": "code",
   "execution_count": null,
   "metadata": {
    "collapsed": true
   },
   "outputs": [],
   "source": []
  },
  {
   "cell_type": "code",
   "execution_count": null,
   "metadata": {
    "collapsed": true
   },
   "outputs": [],
   "source": []
  },
  {
   "cell_type": "markdown",
   "metadata": {},
   "source": [
    "# Lotka Volterra Predator Prey Model"
   ]
  },
  {
   "cell_type": "code",
   "execution_count": null,
   "metadata": {
    "collapsed": true
   },
   "outputs": [],
   "source": []
  },
  {
   "cell_type": "code",
   "execution_count": null,
   "metadata": {
    "collapsed": true
   },
   "outputs": [],
   "source": []
  },
  {
   "cell_type": "code",
   "execution_count": null,
   "metadata": {
    "collapsed": true
   },
   "outputs": [],
   "source": []
  }
 ],
 "metadata": {
  "kernelspec": {
   "display_name": "Python 3",
   "language": "python",
   "name": "python3"
  },
  "language_info": {
   "codemirror_mode": {
    "name": "ipython",
    "version": 3
   },
   "file_extension": ".py",
   "mimetype": "text/x-python",
   "name": "python",
   "nbconvert_exporter": "python",
   "pygments_lexer": "ipython3",
   "version": "3.6.3"
  }
 },
 "nbformat": 4,
 "nbformat_minor": 2
}
