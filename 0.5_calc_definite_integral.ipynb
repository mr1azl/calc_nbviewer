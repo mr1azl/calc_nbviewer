{
 "cells": [
  {
   "cell_type": "markdown",
   "metadata": {},
   "source": [
    "<script>\n",
    "  (function(i,s,o,g,r,a,m){i['GoogleAnalyticsObject']=r;i[r]=i[r]||function(){\n",
    "  (i[r].q=i[r].q||[]).push(arguments)},i[r].l=1*new Date();a=s.createElement(o),\n",
    "  m=s.getElementsByTagName(o)[0];a.async=1;a.src=g;m.parentNode.insertBefore(a,m)\n",
    "  })(window,document,'script','https://www.google-analytics.com/analytics.js','ga');\n",
    "\n",
    "  ga('create', 'UA-50838873-3', 'auto');\n",
    "  ga('send', 'pageview');\n",
    "\n",
    "</script>"
   ]
  },
  {
   "cell_type": "code",
   "execution_count": 2,
   "metadata": {
    "collapsed": true
   },
   "outputs": [],
   "source": [
    "%matplotlib inline\n",
    "import numpy as np\n",
    "import matplotlib.pyplot as plt\n",
    "import sympy as sy\n",
    "from sympy import oo"
   ]
  },
  {
   "cell_type": "markdown",
   "metadata": {},
   "source": [
    "# Increasing the Number of Rectangles\n",
    "\n",
    "In the past examples, we have used rectangles that were fairly wide.  This notebook seeks to move from the approximate to the exact case.  To do so we relate the idea of summing rectangels to the definition of the definite integral.  The video below introduces the big idea of the Riemann integral, which we can understand as an analogous description.\n",
    "\n",
    "### Definite Integral\n",
    "\n",
    "We can imagine the effect of increasing the number of rectangles to infinity as the ideal way to find the area under the curve.  This will be how we introduce the idea of the **Definite Integral**.  The symbol $\\int_a^b$ is used to represent the integral, and $a$ and $b$ represent the lower and upper limits for integraion.\n",
    "\n",
    "For example, the area under the function $f(x) = x$ from $x = 0 $ to $x = 1$ would be represented by a definite integral as:\n",
    "\n",
    "$$\\int_0^1 x ~dx$$\n",
    "\n",
    "Here, the $\\int_0^1$ tells us we're summing small little rectangles from $x = 0$ to $x=1$.  The $x ~ dx$ represents the area of each rectangle, height $x$ and infinitely small width $dx$.  \n",
    "\n",
    "We can solve these problems easily using `sympy`'s `integrate` function.  The function works as follows:\n",
    "\n",
    "```python\n",
    "sy.integrate(curve, (variable, start, stop))\n",
    "```\n",
    "\n",
    "The example of $\\int_0^1 x ~dx$ would be solved as follows."
   ]
  },
  {
   "cell_type": "code",
   "execution_count": 3,
   "metadata": {},
   "outputs": [
    {
     "data": {
      "text/plain": [
       "1/2"
      ]
     },
     "execution_count": 3,
     "metadata": {},
     "output_type": "execute_result"
    }
   ],
   "source": [
    "x = sy.Symbol('x')\n",
    "sy.integrate(x, (x, 0, 1))"
   ]
  },
  {
   "cell_type": "markdown",
   "metadata": {},
   "source": [
    "Our work to this point is similar to that of a standard definition for an integral from German mathematician Bernhard Riemann.  His work took into consideration subdivisions of different widths, and was framed in a much more rigorous manner.  Later, in your Real Analysis course, you will formalize the definition and proof of the Reimann integral, but for now we want to recognize situations that we would use a sum "
   ]
  },
  {
   "cell_type": "markdown",
   "metadata": {},
   "source": [
    "### More Curves\n",
    "\n",
    "Now, let's suppose that we wanted to find the area under the curve $g(x) = x^2 + x$ from $x = -3$ to $x = 5$.  We would represent this with the definite integral:\n",
    "\n",
    "$$\\int_{-3}^5 x^2 + x ~ dx$$\n",
    "\n",
    "We can use matplotlib to represent this area with the `fill_between` function, and use sympy to evaluate the integral."
   ]
  },
  {
   "cell_type": "code",
   "execution_count": 4,
   "metadata": {
    "collapsed": true
   },
   "outputs": [],
   "source": [
    "def g(x):\n",
    "    return x**2 + x"
   ]
  },
  {
   "cell_type": "code",
   "execution_count": 5,
   "metadata": {},
   "outputs": [
    {
     "data": {
      "text/plain": [
       "<matplotlib.collections.PolyCollection at 0x10d886dd8>"
      ]
     },
     "execution_count": 5,
     "metadata": {},
     "output_type": "execute_result"
    },
    {
     "data": {
      "image/png": "[encoded data removed]",
      "text/plain": [
       "<matplotlib.figure.Figure at 0x10dd87f60>"
      ]
     },
     "metadata": {},
     "output_type": "display_data"
    }
   ],
   "source": [
    "x = np.linspace(-3, 5, 1000)\n",
    "plt.plot(x, g(x))\n",
    "plt.fill_between(x, g(x), alpha = 0.5)"
   ]
  },
  {
   "cell_type": "code",
   "execution_count": 6,
   "metadata": {},
   "outputs": [
    {
     "data": {
      "text/plain": [
       "176/3"
      ]
     },
     "execution_count": 6,
     "metadata": {},
     "output_type": "execute_result"
    }
   ],
   "source": [
    "x = sy.Symbol('x')\n",
    "sy.integrate(g(x), (x, -3, 5))"
   ]
  },
  {
   "cell_type": "markdown",
   "metadata": {
    "collapsed": true
   },
   "source": [
    "#### Example II\n",
    "\n",
    "We want to be comfortable visualizing regions and evaluating the definite integral that represents the area.  Let's represent and find the area under the curve $y = -3x^3 + 2x + 2$ over the interval $[-2, 1]$.\n",
    "\n",
    "First, we will plot the curve using `matplotlib`."
   ]
  },
  {
   "cell_type": "code",
   "execution_count": 8,
   "metadata": {},
   "outputs": [
    {
     "data": {
      "text/plain": [
       "<matplotlib.legend.Legend at 0x1107a8a20>"
      ]
     },
     "execution_count": 8,
     "metadata": {},
     "output_type": "execute_result"
    },
    {
     "data": {
      "image/png": "[encoded data removed]",
      "text/plain": [
       "<matplotlib.figure.Figure at 0x11064be80>"
      ]
     },
     "metadata": {},
     "output_type": "display_data"
    }
   ],
   "source": [
    "x = np.linspace(-2,1,1000) #create 1000 evenly spaced values from -2 to 1\n",
    "y = -3*x**3+2*x+2\n",
    "plt.figure()\n",
    "plt.plot(x, y, label = '$y=-3x^3 + 2x +2$')\n",
    "plt.fill_between(x, y, alpha = 0.3, color = 'red', hatch = '|')\n",
    "plt.legend(frameon=False)"
   ]
  },
  {
   "cell_type": "markdown",
   "metadata": {},
   "source": [
    "Similarly, we can compute the integral using Sympy."
   ]
  },
  {
   "cell_type": "code",
   "execution_count": 11,
   "metadata": {},
   "outputs": [
    {
     "name": "stdout",
     "output_type": "stream",
     "text": [
      "The area is:  57/4\n"
     ]
    }
   ],
   "source": [
    "x, y = sy.symbols('x y')\n",
    "y = -3*x**3 + 2*x + 2\n",
    "area = sy.integrate(y, (x, -2,1))\n",
    "print(\"The area is: \", area)"
   ]
  },
  {
   "cell_type": "markdown",
   "metadata": {},
   "source": [
    "We can verify this by hand applying our power rule as follows:\n",
    "\n",
    "$$\\int_{-2}^1 -3x^3 + 2x + 2 dx$$\n",
    "\n",
    "$$\\frac{-3}{4}x^4 + x^2 + 2x \\Big|_{x = -2}^{x=1}$$\n",
    "\n",
    "$$(\\frac{-3}{4}(1)^4 + 1^2 + 2(1)) - (\\frac{-3}{4}(-2)^4 + (-2)^2 +2(-2))$$\n",
    "\n",
    "$$\\frac{-3}{4} + 3 + 12 - 4 + 4$$\n",
    "\n",
    "$$14\\frac{1}{4}$$"
   ]
  },
  {
   "cell_type": "code",
   "execution_count": 14,
   "metadata": {},
   "outputs": [
    {
     "data": {
      "text/plain": [
       "14.25"
      ]
     },
     "execution_count": 14,
     "metadata": {},
     "output_type": "execute_result"
    }
   ],
   "source": [
    "3 + 12 - 4 + 4 -3/4"
   ]
  }
 ],
 "metadata": {
  "kernelspec": {
   "display_name": "Python 3",
   "language": "python",
   "name": "python3"
  },
  "language_info": {
   "codemirror_mode": {
    "name": "ipython",
    "version": 3
   },
   "file_extension": ".py",
   "mimetype": "text/x-python",
   "name": "python",
   "nbconvert_exporter": "python",
   "pygments_lexer": "ipython3",
   "version": "3.6.3"
  }
 },
 "nbformat": 4,
 "nbformat_minor": 2
}
