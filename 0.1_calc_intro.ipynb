{
 "cells": [
  {
   "cell_type": "markdown",
   "metadata": {},
   "source": [
    "<script>\n",
    "  (function(i,s,o,g,r,a,m){i['GoogleAnalyticsObject']=r;i[r]=i[r]||function(){\n",
    "  (i[r].q=i[r].q||[]).push(arguments)},i[r].l=1*new Date();a=s.createElement(o),\n",
    "  m=s.getElementsByTagName(o)[0];a.async=1;a.src=g;m.parentNode.insertBefore(a,m)\n",
    "  })(window,document,'script','https://www.google-analytics.com/analytics.js','ga');\n",
    "\n",
    "  ga('create', 'UA-50838873-3', 'auto');\n",
    "  ga('send', 'pageview');\n",
    "\n",
    "</script>"
   ]
  },
  {
   "cell_type": "markdown",
   "metadata": {},
   "source": [
    "# Introduction and Review\n",
    "\n",
    "This notebook is meant to introduce the Jupyter notebooks and Python computing language and to show how they make solving many traditional mathematics problems easier.  After getting started with the notebook, we run through some typical operations using python including variables, lists, plots, for loops, and functions.  We demonstrate the use of these tools to solve some review mathematics problems from traditional Calculus textbook reviews.\n",
    "\n"
   ]
  },
  {
   "cell_type": "markdown",
   "metadata": {},
   "source": [
    "### Download and Start Jupyter\n",
    "\n",
    "I recommend downloading and installing the most recent version of Anaconda available [here]().  You should choose the appropriate installation depending on your operating system.  Once downloaded and installed, you can open the application and you should see something like the screen below. \n",
    "\n",
    "![](images/navigator.png)\n",
    "\n",
    "Click on the Jupyter notebook tab and a browser window should open that has a file navigator similar to the image below.\n",
    "\n",
    "![](images/jup_home.png)\n",
    "\n",
    "Add a new folder and rename it **calc_notebooks**.  Now, you can go into this folder, and start a new Python 3 notebook.  \n",
    "\n",
    "### Markdown Cells \n",
    "\n",
    "In your first notebook, you can click on the toolbar at the top and change the cell type.  If you would like to type in a cell, we use a **markdown** cell.  Markdown is a way to format typing with some minimal commands on the computer.  Markdown cells also render many HTML tags, so if you are familiar with HTML you can use this to add effects to your documents.\n",
    "\n",
    "![](images/markdown.png)\n",
    "\n",
    "#### Typing with Markdown\n",
    "\n",
    "We use some simple syntax to create text effects in markdown.  For example, to make a word **bold** we type `**bold**` and *italics* are a single asterisk `*italics*`.  Sections can be denoted with different level headings using the `#` key as follows:\n",
    "\n",
    "    # Header I\n",
    "    ## Header II\n",
    "    ### Header III\n",
    "    \n",
    " \n",
    "\n",
    "#### Images with Markdown and HTML tags\n",
    "\n",
    "Images can be added using simple markdown sytanx.  Two things should be considered with images.  First, I recommend storing them in a folder in the same directory as your notebooks.  For example, I create a subfolder named `images` and place all my images there.  For a larger project I will make image folders for each notebook.\n",
    "\n",
    "The second important thing to remember is to use a continuous filename when saving the file.  This means no spaces, i.e.\n",
    "\n",
    "    \n",
    "`pig_pic.png` *not* `pig pic.png`\n",
    "\n",
    "From here, we use the markdown syntax\n",
    "\n",
    "    ![](images/pig_pic.png)\n",
    "    \n",
    "to refer to an image in the folder images named pig pic.  We can also use HTML image tags to show an image.  Here, we can utilize some additional controls over the height and width of the image displayed. You can use some additional controls including the center and figure command to add a caption and center the figure on the page.  This would be as follows:\n",
    "\n",
    "    <center>\n",
    "    <figure>\n",
    "    <img src = \"pig_pic.png\" height = 10 width = 20 >\n",
    "    <figcaption> This is a pig picture </figcaption>\n",
    "    </figure>\n",
    "    </center>\n",
    "    \n",
    "   \n",
    "### Python and Code Cells\n",
    "\n",
    "To begin, we demonstrate the utility of Python as a calculator within code cells in Jupyter.  The familiar arithmetic operations are as follows:\n",
    "\n",
    "- `+` Addition\n",
    "\n",
    "- `-` Subtraction\n",
    "\n",
    "- `*` Multiplication\n",
    "\n",
    "- `/` Division\n",
    "\n",
    "- `**` Exponentiation\n",
    "\n",
    "To execute the cell, press `shift` + `enter`."
   ]
  },
  {
   "cell_type": "code",
   "execution_count": 1,
   "metadata": {},
   "outputs": [
    {
     "data": {
      "text/plain": [
       "5"
      ]
     },
     "execution_count": 1,
     "metadata": {},
     "output_type": "execute_result"
    }
   ],
   "source": [
    "2 + 3"
   ]
  },
  {
   "cell_type": "code",
   "execution_count": 2,
   "metadata": {},
   "outputs": [
    {
     "data": {
      "text/plain": [
       "-78"
      ]
     },
     "execution_count": 2,
     "metadata": {},
     "output_type": "execute_result"
    }
   ],
   "source": [
    "1 + 3 * 5 * (2-4) - 7**2"
   ]
  },
  {
   "cell_type": "code",
   "execution_count": 3,
   "metadata": {},
   "outputs": [
    {
     "data": {
      "text/plain": [
       "0.5"
      ]
     },
     "execution_count": 3,
     "metadata": {},
     "output_type": "execute_result"
    }
   ],
   "source": [
    "1/2"
   ]
  },
  {
   "cell_type": "markdown",
   "metadata": {},
   "source": [
    "#### Types\n",
    "\n",
    "There are different forms of information that Python understands.  These types depend on the nature of the number or whether the entry is something other than a number like a `string` of symbols.  We can investigate the type of an object using the `type()` function."
   ]
  },
  {
   "cell_type": "code",
   "execution_count": 4,
   "metadata": {},
   "outputs": [
    {
     "data": {
      "text/plain": [
       "(int, float, str)"
      ]
     },
     "execution_count": 4,
     "metadata": {},
     "output_type": "execute_result"
    }
   ],
   "source": [
    "type(1), type(1/3), type(\"steve\")"
   ]
  },
  {
   "cell_type": "code",
   "execution_count": 5,
   "metadata": {
    "collapsed": true
   },
   "outputs": [],
   "source": [
    "a = 5"
   ]
  },
  {
   "cell_type": "code",
   "execution_count": 6,
   "metadata": {},
   "outputs": [
    {
     "data": {
      "text/plain": [
       "int"
      ]
     },
     "execution_count": 6,
     "metadata": {},
     "output_type": "execute_result"
    }
   ],
   "source": [
    "type(a)"
   ]
  },
  {
   "cell_type": "code",
   "execution_count": 7,
   "metadata": {},
   "outputs": [
    {
     "data": {
      "text/plain": [
       "1.6666666666666665"
      ]
     },
     "execution_count": 7,
     "metadata": {},
     "output_type": "execute_result"
    }
   ],
   "source": [
    "a * (1/3)"
   ]
  },
  {
   "cell_type": "code",
   "execution_count": 8,
   "metadata": {},
   "outputs": [
    {
     "data": {
      "text/plain": [
       "5"
      ]
     },
     "execution_count": 8,
     "metadata": {},
     "output_type": "execute_result"
    }
   ],
   "source": [
    "a"
   ]
  },
  {
   "cell_type": "markdown",
   "metadata": {},
   "source": [
    "##### Additional Numbers\n",
    "\n",
    "We are familiar with numbers like $\\pi$ and values for trigonmetric functions.  We will use the `numpy` library for these values.  More on the `numpy` library follows, but for now we demonstrate how to import, abbreviate, and use the `numpy` library to numerate $\\pi$ and some trigonmetric functions as follows."
   ]
  },
  {
   "cell_type": "code",
   "execution_count": 9,
   "metadata": {},
   "outputs": [
    {
     "data": {
      "text/plain": [
       "(3.141592653589793, -0.98803162409286183, 1.0)"
      ]
     },
     "execution_count": 9,
     "metadata": {},
     "output_type": "execute_result"
    }
   ],
   "source": [
    "import numpy as np\n",
    "\n",
    "np.pi, np.sin(30), np.cos(2*np.pi)"
   ]
  },
  {
   "cell_type": "markdown",
   "metadata": {},
   "source": [
    "### Lists\n",
    "\n",
    "The last example demonstrates an important object for us in the form of a `list`.  A list is an indexed list of objects.  For example, the list above is different than that of `[1, 3, 2]` because the order of the objects matters.  We can reference items in a list based on their location.  \n",
    "\n",
    "In Python, lists begin by counting with zero.  This image below demonstrates a simple list **L1**, its entries `np.sin(30), 1,  \"robot\",  2, \"stew\"`, and the corresponding indicies for each entry.\n",
    "\n",
    "![](images/list_index.png)"
   ]
  },
  {
   "cell_type": "code",
   "execution_count": 10,
   "metadata": {
    "collapsed": true
   },
   "outputs": [],
   "source": [
    "L1 = [np.sin(30), 1, \"robot\", 2, \"stew\"]"
   ]
  },
  {
   "cell_type": "code",
   "execution_count": 11,
   "metadata": {},
   "outputs": [
    {
     "data": {
      "text/plain": [
       "list"
      ]
     },
     "execution_count": 11,
     "metadata": {},
     "output_type": "execute_result"
    }
   ],
   "source": [
    "type(L1)"
   ]
  },
  {
   "cell_type": "code",
   "execution_count": 12,
   "metadata": {
    "collapsed": true
   },
   "outputs": [],
   "source": [
    "L1.append(4)"
   ]
  },
  {
   "cell_type": "code",
   "execution_count": 13,
   "metadata": {},
   "outputs": [
    {
     "data": {
      "text/plain": [
       "[-0.98803162409286183, 1, 'robot', 2, 'stew', 4]"
      ]
     },
     "execution_count": 13,
     "metadata": {},
     "output_type": "execute_result"
    }
   ],
   "source": [
    "L1"
   ]
  },
  {
   "cell_type": "code",
   "execution_count": 14,
   "metadata": {},
   "outputs": [
    {
     "data": {
      "text/plain": [
       "[1, 'robot']"
      ]
     },
     "execution_count": 14,
     "metadata": {},
     "output_type": "execute_result"
    }
   ],
   "source": [
    "L1[1:3]"
   ]
  },
  {
   "cell_type": "code",
   "execution_count": 15,
   "metadata": {},
   "outputs": [
    {
     "data": {
      "text/plain": [
       "['robot', 2, 'stew', 4]"
      ]
     },
     "execution_count": 15,
     "metadata": {},
     "output_type": "execute_result"
    }
   ],
   "source": [
    "L1[2:]"
   ]
  },
  {
   "cell_type": "code",
   "execution_count": 16,
   "metadata": {},
   "outputs": [
    {
     "data": {
      "text/plain": [
       "[-0.98803162409286183,\n",
       " 1,\n",
       " 'robot',\n",
       " 2,\n",
       " 'stew',\n",
       " 4,\n",
       " -0.98803162409286183,\n",
       " 1,\n",
       " 'robot',\n",
       " 2,\n",
       " 'stew',\n",
       " 4,\n",
       " -0.98803162409286183,\n",
       " 1,\n",
       " 'robot',\n",
       " 2,\n",
       " 'stew',\n",
       " 4,\n",
       " -0.98803162409286183,\n",
       " 1,\n",
       " 'robot',\n",
       " 2,\n",
       " 'stew',\n",
       " 4,\n",
       " -0.98803162409286183,\n",
       " 1,\n",
       " 'robot',\n",
       " 2,\n",
       " 'stew',\n",
       " 4]"
      ]
     },
     "execution_count": 16,
     "metadata": {},
     "output_type": "execute_result"
    }
   ],
   "source": [
    "L1 * 5"
   ]
  },
  {
   "cell_type": "code",
   "execution_count": 17,
   "metadata": {},
   "outputs": [
    {
     "data": {
      "text/plain": [
       "[-0.98803162409286183,\n",
       " 1,\n",
       " 'robot',\n",
       " 2,\n",
       " 'stew',\n",
       " 4,\n",
       " -0.98803162409286183,\n",
       " 1,\n",
       " 'robot',\n",
       " 2,\n",
       " 'stew',\n",
       " 4]"
      ]
     },
     "execution_count": 17,
     "metadata": {},
     "output_type": "execute_result"
    }
   ],
   "source": [
    "L1 + L1"
   ]
  },
  {
   "cell_type": "markdown",
   "metadata": {},
   "source": [
    "#### Numpy and Arrays\n",
    "\n",
    "Besides offering some basic numerical operations, `numpy` has functions built in to generate lists of values.  We will use this frequently to construct domains for functions we are investigating.  Two functions we will use consistently are the `arange` and `linspace` functions.  Both are shown below.  Remember any NumPy operation will be preceded by `np.`.\n",
    "\n"
   ]
  },
  {
   "cell_type": "code",
   "execution_count": 18,
   "metadata": {
    "collapsed": true
   },
   "outputs": [],
   "source": [
    "np.arange?"
   ]
  },
  {
   "cell_type": "code",
   "execution_count": 19,
   "metadata": {},
   "outputs": [
    {
     "data": {
      "text/plain": [
       "array([0, 1, 2, 3, 4, 5, 6, 7, 8, 9])"
      ]
     },
     "execution_count": 19,
     "metadata": {},
     "output_type": "execute_result"
    }
   ],
   "source": [
    "np.arange(0, 10, 1)"
   ]
  },
  {
   "cell_type": "code",
   "execution_count": 20,
   "metadata": {},
   "outputs": [
    {
     "data": {
      "text/plain": [
       "array([ 0. ,  0.5,  1. ,  1.5,  2. ,  2.5,  3. ,  3.5,  4. ,  4.5,  5. ,\n",
       "        5.5,  6. ,  6.5,  7. ,  7.5,  8. ,  8.5,  9. ,  9.5])"
      ]
     },
     "execution_count": 20,
     "metadata": {},
     "output_type": "execute_result"
    }
   ],
   "source": [
    "np.arange(0, 10, 0.5)"
   ]
  },
  {
   "cell_type": "code",
   "execution_count": 21,
   "metadata": {
    "collapsed": true
   },
   "outputs": [],
   "source": [
    "np.linspace?"
   ]
  },
  {
   "cell_type": "code",
   "execution_count": 22,
   "metadata": {},
   "outputs": [
    {
     "data": {
      "text/plain": [
       "array([  0.,  10.])"
      ]
     },
     "execution_count": 22,
     "metadata": {},
     "output_type": "execute_result"
    }
   ],
   "source": [
    "np.linspace(0, 10, 2)"
   ]
  },
  {
   "cell_type": "code",
   "execution_count": 23,
   "metadata": {},
   "outputs": [
    {
     "data": {
      "text/plain": [
       "array([  0.,   1.,   2.,   3.,   4.,   5.,   6.,   7.,   8.,   9.,  10.])"
      ]
     },
     "execution_count": 23,
     "metadata": {},
     "output_type": "execute_result"
    }
   ],
   "source": [
    "np.linspace(0, 10, 11)"
   ]
  },
  {
   "cell_type": "code",
   "execution_count": 24,
   "metadata": {},
   "outputs": [
    {
     "data": {
      "text/plain": [
       "array([   0.,    1.,    2.,    3.,    4.,    5.,    6.,    7.,    8.,\n",
       "          9.,   10.,   11.,   12.,   13.,   14.,   15.,   16.,   17.,\n",
       "         18.,   19.,   20.,   21.,   22.,   23.,   24.,   25.,   26.,\n",
       "         27.,   28.,   29.,   30.,   31.,   32.,   33.,   34.,   35.,\n",
       "         36.,   37.,   38.,   39.,   40.,   41.,   42.,   43.,   44.,\n",
       "         45.,   46.,   47.,   48.,   49.,   50.,   51.,   52.,   53.,\n",
       "         54.,   55.,   56.,   57.,   58.,   59.,   60.,   61.,   62.,\n",
       "         63.,   64.,   65.,   66.,   67.,   68.,   69.,   70.,   71.,\n",
       "         72.,   73.,   74.,   75.,   76.,   77.,   78.,   79.,   80.,\n",
       "         81.,   82.,   83.,   84.,   85.,   86.,   87.,   88.,   89.,\n",
       "         90.,   91.,   92.,   93.,   94.,   95.,   96.,   97.,   98.,\n",
       "         99.,  100.])"
      ]
     },
     "execution_count": 24,
     "metadata": {},
     "output_type": "execute_result"
    }
   ],
   "source": [
    "np.linspace(0, 100, 101)"
   ]
  },
  {
   "cell_type": "markdown",
   "metadata": {},
   "source": [
    "#### Range\n",
    "\n",
    "The `range()` function can perform a similar function, however we don't get an array of values in return.  Instead, this simply generates the ability to count through a sequence of integers by a given step.  According to the help function, range:\n",
    "\n",
    "    Return an object that produces a sequence of integers from start (inclusive)\n",
    "    to stop (exclusive) by step.  range(i, j) produces i, i+1, i+2, ..., j-1.\n",
    "    start defaults to 0, and stop is omitted!  range(4) produces 0, 1, 2, 3.\n",
    "    These are exactly the valid indices for a list of 4 elements.\n",
    "    When step is given, it specifies the increment (or decrement)."
   ]
  },
  {
   "cell_type": "code",
   "execution_count": 25,
   "metadata": {},
   "outputs": [
    {
     "data": {
      "text/plain": [
       "range(0, 10)"
      ]
     },
     "execution_count": 25,
     "metadata": {},
     "output_type": "execute_result"
    }
   ],
   "source": [
    "range(10)"
   ]
  },
  {
   "cell_type": "code",
   "execution_count": 26,
   "metadata": {},
   "outputs": [
    {
     "data": {
      "text/plain": [
       "range(1, 10, 2)"
      ]
     },
     "execution_count": 26,
     "metadata": {},
     "output_type": "execute_result"
    }
   ],
   "source": [
    "range(1, 10, 2)"
   ]
  },
  {
   "cell_type": "markdown",
   "metadata": {},
   "source": [
    "#### For Loops and Sequences\n",
    "\n",
    "A for loop defines a repeated series of operations to be carried out a finite number of times.  For example, the following code demonstrates the repeated printing of members of `range(5)`.  "
   ]
  },
  {
   "cell_type": "code",
   "execution_count": 27,
   "metadata": {},
   "outputs": [
    {
     "name": "stdout",
     "output_type": "stream",
     "text": [
      "0\n",
      "1\n",
      "2\n",
      "3\n",
      "4\n"
     ]
    }
   ],
   "source": [
    "for i in range(5):\n",
    "    print(i)"
   ]
  },
  {
   "cell_type": "markdown",
   "metadata": {},
   "source": [
    "##### Combining `range`, `for`, and `append`.\n",
    "\n",
    "Together, the for loop, the list, and the ability to add elements to lists with the `append` function allows us to express repeated operations easily.  For example, suppose we want to form a sequence of integers.  We can understand this as starting at 1 and adding 1 to each previous term to get the next.  Symbolically, we would write this as:\n",
    "\n",
    "$$a_{i+1} = a_i + 1$$\n",
    "\n",
    "In Python, we write this as follows."
   ]
  },
  {
   "cell_type": "code",
   "execution_count": 28,
   "metadata": {},
   "outputs": [
    {
     "data": {
      "text/plain": [
       "[1, 2, 3, 4, 5, 6, 7, 8, 9, 10, 11]"
      ]
     },
     "execution_count": 28,
     "metadata": {},
     "output_type": "execute_result"
    }
   ],
   "source": [
    "a = [1]\n",
    "for i in range(10):\n",
    "    next = a[i] + 1\n",
    "    a.append(next)\n",
    "    \n",
    "a"
   ]
  },
  {
   "cell_type": "markdown",
   "metadata": {
    "collapsed": true
   },
   "source": [
    "Note that the second term is the first element generated within the `for` loop.  We create a variable named `next` and define it to be the current term of the sequence + 1.  We then tack this term on to the end of the list, and continue doing so while `i` ticks through the values of `range(10)`.  Essentially, the loop is building the list piece by piece as follows:\n",
    "\n",
    "    [1]\n",
    "    [1, 2]\n",
    "    [1, 2, 3]\n",
    "    [1, 2, 3, 4]\n",
    "    .\n",
    "    .\n",
    "    ."
   ]
  },
  {
   "cell_type": "code",
   "execution_count": 29,
   "metadata": {},
   "outputs": [
    {
     "data": {
      "text/plain": [
       "[1,\n",
       " 0.8414709848078965,\n",
       " 0.14112000805986721,\n",
       " -0.95892427466313845,\n",
       " 0.65698659871878906,\n",
       " 0.41211848524175659]"
      ]
     },
     "execution_count": 29,
     "metadata": {},
     "output_type": "execute_result"
    }
   ],
   "source": [
    "b = [1]\n",
    "for i in range(1, 10, 2):\n",
    "    next = np.sin(i)\n",
    "    b.append(next)\n",
    "\n",
    "b"
   ]
  },
  {
   "cell_type": "code",
   "execution_count": 30,
   "metadata": {
    "collapsed": true
   },
   "outputs": [],
   "source": [
    "c = [300]"
   ]
  },
  {
   "cell_type": "code",
   "execution_count": 31,
   "metadata": {},
   "outputs": [
    {
     "data": {
      "text/plain": [
       "[646.9773802631524,\n",
       " 666.386701671047,\n",
       " 686.3783027211784,\n",
       " 706.9696518028138,\n",
       " 728.1787413568982]"
      ]
     },
     "execution_count": 31,
     "metadata": {},
     "output_type": "execute_result"
    }
   ],
   "source": [
    "for i in range(30):\n",
    "    next = c[i] + 0.03*c[i]\n",
    "    c.append(next)\n",
    "    \n",
    "c[-5:] #the last five values"
   ]
  },
  {
   "cell_type": "markdown",
   "metadata": {},
   "source": [
    "### Functions\n",
    "\n",
    "Most of us have seen functions in high school mathematics.  For example, the function \n",
    "\n",
    "$$f(x) = x^2$$\n",
    "\n",
    "relates every input to its square.  We are quite used to seeing these expressed as plots in a Cartesian coordinate plane.  We will deal more with the intricacies of functions through the class, however it is important to be able to define and use basic mathematical functions.  For example, to define the function above in Python, we will write:\n",
    "\n",
    "```python\n",
    "def f(x):\n",
    "    return x**2\n",
    "```\n",
    "\n",
    "After doing this, if we want to find the associated value with some input, we can evaluate the function using the parenthesis following its name; \n",
    "\n",
    "```python\n",
    "f(3)\n",
    "```\n",
    "\n",
    "We could also evaluate the function for a list of values all at once.  Suppose we want to find the value of the first ten integers squared.  We can make a list of the ten integers and plug this list into the function rather than evaluating each integer individually."
   ]
  },
  {
   "cell_type": "code",
   "execution_count": 32,
   "metadata": {
    "collapsed": true
   },
   "outputs": [],
   "source": [
    "def f(x):\n",
    "    return x**2"
   ]
  },
  {
   "cell_type": "code",
   "execution_count": 33,
   "metadata": {},
   "outputs": [
    {
     "data": {
      "text/plain": [
       "9"
      ]
     },
     "execution_count": 33,
     "metadata": {},
     "output_type": "execute_result"
    }
   ],
   "source": [
    "f(3)"
   ]
  },
  {
   "cell_type": "code",
   "execution_count": 34,
   "metadata": {},
   "outputs": [
    {
     "data": {
      "text/plain": [
       "array([  1,   4,   9,  16,  25,  36,  49,  64,  81, 100])"
      ]
     },
     "execution_count": 34,
     "metadata": {},
     "output_type": "execute_result"
    }
   ],
   "source": [
    "x = np.arange(1, 11, 1) #first ten integers\n",
    "f(x)"
   ]
  },
  {
   "cell_type": "markdown",
   "metadata": {},
   "source": [
    "#### Plotting Functions with Matplotlib\n",
    "\n",
    "Often, we can understand a situation better by visualizing it.  We will constantly be graphing relationships expressed as function defined as a formula and as a process.  Both are demonstrated below using the sequences and functions from above. \n",
    "\n",
    "First, we tell Jupyter to make the graphs in the notebook itself with the magic command `%matplotlib inline`.  We also import and abbreviate the plotting library PyPlot as `plt`.  Whenever we call something from this library, we preface it with `plt.`.\n",
    "\n",
    "First, we walk through a basic plot of the function $f(x) = x^2$.  We define the function, the $x$ values we will evaluate it at, and then call the plot with the input and output variables as\n",
    "\n",
    "```python\n",
    "plt.plot(x, f(x))\n",
    "```\n",
    "\n"
   ]
  },
  {
   "cell_type": "code",
   "execution_count": 35,
   "metadata": {
    "collapsed": true
   },
   "outputs": [],
   "source": [
    "%matplotlib inline\n",
    "import matplotlib.pyplot as plt"
   ]
  },
  {
   "cell_type": "code",
   "execution_count": 36,
   "metadata": {
    "collapsed": true
   },
   "outputs": [],
   "source": [
    "x = np.arange(1, 11, 1)\n",
    "\n",
    "def f(x):\n",
    "    return x**2 "
   ]
  },
  {
   "cell_type": "code",
   "execution_count": 37,
   "metadata": {},
   "outputs": [
    {
     "data": {
      "text/plain": [
       "array([  1,   4,   9,  16,  25,  36,  49,  64,  81, 100])"
      ]
     },
     "execution_count": 37,
     "metadata": {},
     "output_type": "execute_result"
    }
   ],
   "source": [
    "f(x)"
   ]
  },
  {
   "cell_type": "code",
   "execution_count": 38,
   "metadata": {},
   "outputs": [
    {
     "data": {
      "text/plain": [
       "[<matplotlib.lines.Line2D at 0x114f46fd0>]"
      ]
     },
     "execution_count": 38,
     "metadata": {},
     "output_type": "execute_result"
    },
    {
     "data": {
      "image/png": "[encoded data removed]",
      "text/plain": [
       "<matplotlib.figure.Figure at 0x112baaf60>"
      ]
     },
     "metadata": {},
     "output_type": "display_data"
    }
   ],
   "source": [
    "plt.plot(x, f(x))"
   ]
  },
  {
   "cell_type": "markdown",
   "metadata": {},
   "source": [
    "#### Plotting Sequences with Matplotlib\n",
    "\n",
    "In a similar way, we can generate the plot for a sequence.  Because we are interested in the discrete points of the sequence, we will add the marker key `o` which tells matplotlib to draw circles at each point.  The plots can be customized easily, and we then demonstrate altering the size and appearance of the markers as well as how to add titles, labels, and a legend to a plot."
   ]
  },
  {
   "cell_type": "code",
   "execution_count": 39,
   "metadata": {},
   "outputs": [
    {
     "data": {
      "text/plain": [
       "[1, 4, 9, 16, 25, 36, 49, 64, 81, 100]"
      ]
     },
     "execution_count": 39,
     "metadata": {},
     "output_type": "execute_result"
    }
   ],
   "source": [
    "seq = []\n",
    "for i in range(1,11):\n",
    "    next = i**2\n",
    "    seq.append(next)      \n",
    "    \n",
    "seq"
   ]
  },
  {
   "cell_type": "code",
   "execution_count": 40,
   "metadata": {},
   "outputs": [
    {
     "data": {
      "text/plain": [
       "[<matplotlib.lines.Line2D at 0x11555f860>]"
      ]
     },
     "execution_count": 40,
     "metadata": {},
     "output_type": "execute_result"
    },
    {
     "data": {
      "image/png": "[encoded data removed]",
      "text/plain": [
       "<matplotlib.figure.Figure at 0x1150846d8>"
      ]
     },
     "metadata": {},
     "output_type": "display_data"
    }
   ],
   "source": [
    "plt.plot(seq, 'o')"
   ]
  },
  {
   "cell_type": "code",
   "execution_count": 41,
   "metadata": {},
   "outputs": [
    {
     "data": {
      "text/plain": [
       "[<matplotlib.lines.Line2D at 0x11568b828>]"
      ]
     },
     "execution_count": 41,
     "metadata": {},
     "output_type": "execute_result"
    },
    {
     "data": {
      "image/png": "[encoded data removed]",
      "text/plain": [
       "<matplotlib.figure.Figure at 0x115577048>"
      ]
     },
     "metadata": {},
     "output_type": "display_data"
    }
   ],
   "source": [
    "plt.plot(seq, 'o', c = 'lightblue', markersize = 12, alpha = 0.4)"
   ]
  },
  {
   "cell_type": "code",
   "execution_count": 42,
   "metadata": {},
   "outputs": [
    {
     "data": {
      "text/plain": [
       "<matplotlib.legend.Legend at 0x1157afa90>"
      ]
     },
     "execution_count": 42,
     "metadata": {},
     "output_type": "execute_result"
    },
    {
     "data": {
      "image/png": "[encoded data removed]",
      "text/plain": [
       "<matplotlib.figure.Figure at 0x115696f28>"
      ]
     },
     "metadata": {},
     "output_type": "display_data"
    }
   ],
   "source": [
    "plt.plot(seq, '^', c = 'lightpink', markersize = 12, alpha = 0.7, label = \"Sequence I\")\n",
    "plt.title(\"Adding Elements to the Plot\")\n",
    "plt.xlabel(\"Index of Term\")\n",
    "plt.ylabel(\"Value of Term\")\n",
    "plt.legend(loc = \"best\", frameon = False)"
   ]
  },
  {
   "cell_type": "markdown",
   "metadata": {
    "collapsed": true
   },
   "source": [
    "#### Sequences and Functions of Import\n",
    "\n",
    "We want to focus on four primary kinds of functions to begin-- **Linear, Quadratic, Exponential**, and **Trigonometric**.  We want to be able to recognize situations that can be modeled by these functions as well as understand the differences between them when expressed as **words, numbers, tables**, and **plots**.  \n",
    "\n",
    "We define and plot each as closed functions and as sequences.  We introduce the `subplot` function to place plots side by side.  The idea of the `subplot` function is to declare the number of `rows` and `columns` of the figure.  For each of these examples we want one row with two columns.  Finally, our third value indicates the place of the figure.  \n",
    "\n",
    "```python\n",
    "plt.subplot(1, 2, 1)\n",
    "```\n",
    "\n",
    "Means 1 row, 2 columns, and place this plot as the first of the two.  It should be accompanied by another subplot:\n",
    "\n",
    "```python\n",
    "plt.subplot(1, 2, 2)\n",
    "```"
   ]
  },
  {
   "cell_type": "code",
   "execution_count": 43,
   "metadata": {
    "collapsed": true
   },
   "outputs": [],
   "source": [
    "x = np.linspace(1, 10, 11)\n",
    "def l(x):\n",
    "    return x"
   ]
  },
  {
   "cell_type": "code",
   "execution_count": 44,
   "metadata": {
    "collapsed": true
   },
   "outputs": [],
   "source": [
    "arith = [1]\n",
    "for i in range(9):\n",
    "    next = arith[i] + 1\n",
    "    arith.append(next)"
   ]
  },
  {
   "cell_type": "code",
   "execution_count": 45,
   "metadata": {},
   "outputs": [
    {
     "data": {
      "text/plain": [
       "<matplotlib.legend.Legend at 0x115804630>"
      ]
     },
     "execution_count": 45,
     "metadata": {},
     "output_type": "execute_result"
    },
    {
     "data": {
      "image/png": "[encoded data removed]",
      "text/plain": [
       "<matplotlib.figure.Figure at 0x1156c7128>"
      ]
     },
     "metadata": {},
     "output_type": "display_data"
    }
   ],
   "source": [
    "plt.figure(figsize = (12, 6))\n",
    "plt.subplot(1, 2, 1)\n",
    "plt.plot(x, l(x), label = \"Linear Function\")\n",
    "plt.title(\"A Linear function $f(x) = x$\")\n",
    "plt.legend(loc = \"best\", frameon = False)\n",
    "\n",
    "plt.subplot(1, 2, 2)\n",
    "plt.plot(arith, 'o', label = \"Arithmetic Sequence\")\n",
    "plt.title(\"An Arithmetic Sequence $a_n = a_{n-1} + 1$\")\n",
    "plt.legend(loc = \"best\", frameon = False)"
   ]
  }
 ],
 "metadata": {
  "kernelspec": {
   "display_name": "Python [default]",
   "language": "python",
   "name": "python3"
  },
  "language_info": {
   "codemirror_mode": {
    "name": "ipython",
    "version": 3
   },
   "file_extension": ".py",
   "mimetype": "text/x-python",
   "name": "python",
   "nbconvert_exporter": "python",
   "pygments_lexer": "ipython3",
   "version": "3.5.3"
  }
 },
 "nbformat": 4,
 "nbformat_minor": 2
}
