{
 "cells": [
  {
   "cell_type": "markdown",
   "metadata": {},
   "source": [
    "**Problem**\n",
    "\n",
    "Consider $f(x) = x^3 - x$.  \n",
    "\n",
    "a. Argue that if $x_0 > \\frac{1}{\\sqrt{3}}$, then Newton's Method will converge to the solution 1.  Therefore, by symmetry, if $x_0 < \\frac{-1}{\\sqrt{3}}$, Newton's Method will converge to the solution $-1$. \n",
    "\n",
    "b. What happens when $x_0 = 1/\\sqrt{3}$?\n",
    "\n",
    "c. Demonstrate Algebraically and with the computer that if we start with $x_0 = 1/\\sqrt{5}$, we do not converge to a solution.\n",
    "\n",
    "d. Some interesting behavior occurs between $1/\\sqrt{5} < x_0 < 1/\\sqrt{3}$.  Fill in the following table and discuss the consequences of your observation.\n",
    "\n",
    "<table style=\"width:100%\">\n",
    "  <tr>\n",
    "    <th>$x_0$</th>\n",
    "    <th>Solution Found</th> \n",
    "  </tr>\n",
    "  <tr>\n",
    "    <td>0.577</td>\n",
    "    <td></td> \n",
    "  </tr>\n",
    "  <tr>\n",
    "    <td>0.578</td>\n",
    "    <td></td> \n",
    "  </tr>\n",
    "  <tr>\n",
    "    <td>0.460</td>\n",
    "    <td></td> \n",
    "  </tr>\n",
    "  <tr>\n",
    "    <td>0.466</td>\n",
    "    <td></td> \n",
    "  </tr>\n",
    "  <tr>\n",
    "    <td>0.44722</td>\n",
    "    <td></td> \n",
    "  </tr>\n",
    "  <tr>\n",
    "    <td>0.44723</td>\n",
    "    <td></td> \n",
    "  </tr>\n",
    "</table>"
   ]
  },
  {
   "cell_type": "markdown",
   "metadata": {},
   "source": [
    "### Problem\n",
    "\n",
    "Consider a function whose derivative is given as $P'(t) = 2t + 3$.\n",
    "\n",
    "a. Find an original function $P$ that has derivative $P'(t)$.\n",
    "\n",
    "b. Find another function $P_2$ with derivative $P'(t)$.\n",
    "\n",
    "c. Can you find a function with derivative $P'(t)$ that passes through the point $(2, 4)$?"
   ]
  },
  {
   "cell_type": "markdown",
   "metadata": {},
   "source": [
    "### Problem\n",
    "---\n",
    "\n",
    "Consider the **logistic differential equation** given below:\n",
    "\n",
    "$$\\frac{dP}{dt} = rP(1 - \\frac{P}{A})$$\n",
    "\n",
    "Here, we have\n",
    "\n",
    "- $P$ is the population\n",
    "\n",
    "- $t$ is time in years\n",
    "\n",
    "- $r$ is a positive constant \n",
    "\n",
    "- $A$ is the carrying capacity, the total population that can be supported\n",
    "\n",
    "----\n",
    "\n",
    "1. Consider the situation where $P = 50$ and $r = 0.4$, and $A = 100$.  Is the population increasing or decreasing at this instant?\n",
    "\n",
    "2. Using the equation \n",
    "$$\\frac{dP}{dt} = 0.4 P (1 - \\frac{P}{100})$$\n",
    "\n",
    "can you determine a value for $P$ that makes $\\frac{dP}{dt} = 0$?\n",
    "\n",
    "3. If $P$ is less than the carrying capacity of 100 but greater than 0, what is the sign of $\\frac{dP}{dt}$?  Use the equation from the problem above to answer this.\n",
    "\n",
    "4. If $P$ is more than 100, what is the sign of $\\frac{dP}{dt}$?  Use the equation from problem 2 above to answer this.  Does this make sense?\n",
    "\n",
    "5. Suppose that the starting population $P_0$ (the initial condition) is large enough to reproduce but much much less than 100, so that $P_0 / 100$ is almost 0. What behavior would you expect from P(t) in this case?"
   ]
  },
  {
   "cell_type": "markdown",
   "metadata": {},
   "source": [
    "### Problem\n",
    "\n",
    "---\n",
    "\n",
    "The solution to the logistic differential equation is given by:\n",
    "\n",
    "$$P(t) = \\frac{A}{1 - e^{-rt}/C}$$\n",
    "\n",
    "where $C = \\frac{P_0}{P_0 - A}$.\n",
    "\n",
    "---\n",
    "\n",
    "1. Suppose a 10,000 acre forest has a carrying capacity of 1,000 deer.  Assume that the deer population grows logistically with growth constant $r = 0.4$ yr.  \n",
    "\n",
    "- Find the deer population $P(t)$ if the initial population is $P_0 = 100$.\n",
    "\n",
    "- How long does it take for the deer population to reach 500?"
   ]
  },
  {
   "cell_type": "markdown",
   "metadata": {},
   "source": [
    "**RUMOR PROBLEM**\n",
    "\n",
    "A rumor spreads throug a small town.  Let $y(t)$be the fraction of the population that has heard the rumor at time $t$ and assume that the rate at which the rumor spreads is propportional to the product of the fraction $y$ of the population that has heard the rumor and the fraction $1-y$ that has not yet heard the rumor.\n",
    "\n",
    "- Write down the differential equation satisfied by $y$ in terms of a proportionality factor $r$.\n",
    "\n",
    "- Find $r$ assuming that 10% of the population knows the rumor at $t=0$ and 40% konws it at $t = $2 days.\n",
    "\n",
    "- Using these assumptions, when will 75% of the population know the rumor?"
   ]
  },
  {
   "cell_type": "markdown",
   "metadata": {},
   "source": [
    "### Representative Problems\n",
    "\n",
    "Find the general *anti - derivative* of the function $f$ and check your answer by differentiating.\n",
    "\n",
    "1. $f(x) = 12x$\n",
    "\n",
    "2. $f(x) = x^2 + 1$\n",
    "\n",
    "3. $f(x) = 5e^x + x^2$\n",
    "\n",
    "4. $f(x) = 3x^3 + \\frac{4}{x}$\n",
    "\n",
    "Solve the differential equation with given initial conditions:\n",
    "\n",
    "5. $\\frac{dy}{dx} = \\cos(2x), y(0) = 3$\n",
    "\n",
    "6. $\\frac{dy}{dt} = 5 - 2t^2, y(1) = 2$\n",
    "\n",
    "First find $f'$ then $f$.\n",
    "\n",
    "7. $f''(x) = x$, $f'(0) = 1$, $f(0) = 0$\n",
    "\n",
    "8. A particle moves along the $x$-axis with velocity $v(t) = 25t - t^2$ ft/sec.  Let $s(t)$ be the position at time $t$.\n",
    "\n",
    "- Find $s(t)$, assuming that the particle is located at $x = 4$ at time $t = 0$.\n",
    "\n",
    "- Answer the same question as above with $x = 4$ at $t = 2$.\n",
    "\n"
   ]
  },
  {
   "cell_type": "markdown",
   "metadata": {},
   "source": [
    "### Predator Prey Data\n",
    "\n",
    "Here is D'Ancona's data on predator and prey fish in the net catches in Fiume, Italy for the years between 1914 and 1923. Use this data to answer the next 3 questions.\n",
    "\n",
    "Let’s look more closely at the biological phenomenon that D’Ancona observed when looking at fish populations in the Adriatic sea during World War I.\n",
    "\n",
    "**Note**: 'Total catch' is the number of predator fish and the number of prey fish caught."
   ]
  },
  {
   "cell_type": "markdown",
   "metadata": {},
   "source": [
    "| Year\t| 1914 | 1915 |\t1916\t| 1917\t| 1918\t| 1919 |\t1920\t| 1921 |\t1922 |\t1923 |\n",
    "| ----- | -----| ----- |---- |   ------ | ----- | ----- | --------- | ---- | ------ | ----- |\n",
    "| % of predator fish in the total catch |\t11.9\t| 21.4\t| 22.1\t| 21.2\t| 36.4\t| 27.3 |\t16.0\t|15.9|\t14.8\t|10.7|"
   ]
  },
  {
   "cell_type": "markdown",
   "metadata": {},
   "source": [
    "Italian biologist D'Ancona studied fluctuations in fish populations. Here fishermen used nets and would catch both prey fish (like sardines) and predators (like marlin) in their nets.\n",
    "\n",
    "During the years 1914-1918 (World War I), would you say the percent of predator fish in the total catch tended to increase, decrease or remain about the same?"
   ]
  },
  {
   "cell_type": "markdown",
   "metadata": {},
   "source": [
    "What happened to the percent of prey fish in the total catches during the years 1914 to 1918?"
   ]
  },
  {
   "cell_type": "markdown",
   "metadata": {},
   "source": [
    "As you may have noticed, there was a large increase in the percentage of predators in the total catches from 1914 to 1918. This is roughly the period of World War I (1914 to 1918).\n",
    "\n",
    "At first, D’Ancona explained this by the following argument: There was less fishing because more fishermen were at war, and less fishing by humans meant more prey for the predators to eat. Thus the predators were able to thrive and reproduce more so their population increased.\n",
    "\n",
    "Does this argument explain why the percent of predator fish in total catches increased? Why or why not?"
   ]
  },
  {
   "cell_type": "markdown",
   "metadata": {},
   "source": [
    "Before we look at what this system predicts, let's recap the Lotka-Volterra predator-prey model.\n",
    "\n",
    "Note: We know Volterra, but you might be wondering: who is the Lotka of the Lotka-Volterra predator-prey model? Alfred Lotka (1880-1949) is a scientist who studied chemistry, physics and statistics working for many government organizations and private companies. Independently from Volterra, Lotka came up with the same model in the context of chemical reactions, published in 1910 as Contribution to the Theory of Periodic Reaction. His work focused on physical and life sciences but is considered a precursor to some ecology and economic theories.\n",
    "\n",
    "Source: Alfred J. Lotka article from Wikipedia.\n",
    "\n",
    "Here is the model in the case of sardine as prey and marlin as predator.\n",
    "\n",
    "dS\n",
    "dt\n",
    " \n",
    "=aS−bSM,\n",
    "dM\n",
    "dt\n",
    " \n",
    "=−cM+dSM.\n",
    "\n",
    "Let's sort through the variables, parameters and constants of this model.\n",
    "\n",
    "t is the independent variable;\n",
    "\n",
    "S and M are functions which depend on time (so when we write S we really mean S(t));\n",
    "\n",
    "a, b, c, and d are parameters of the model. Recall that a parameter is a quantity that influences the behavior of a graph or equation or system. It is fixed within a particular context (for a particular predator-prey relationship), but the parameter can vary from context to context (for example, a,b,c and d will be different for different species).\n",
    "\n",
    "(For more on parameters, look back to the first section of the course: What Makes a Good Test Question?)\n",
    "\n",
    "How do we interpret the parameters?\n",
    "\n",
    "We assume that without marlin present, the rate of reproduction of sardines is proportional to the size of the population of sardines (exponential growth). This is what the aS term represents; the parameter a reflects the growth rate of the sardines.\n",
    "\n",
    "We assume without sardines present to eat, the marlin population will die off proportionally to the size of the population (exponential decay). This is what the −cM term represents; the parameter −c reflects the natural death rate of the marlin.\n",
    "\n",
    "The product SM represents the effect of the interaction of the two species -- marlin eat sardines. The effect on the sardines is proportional to the number of sardine-marlin interactions. The constant of proportionality is the parameter b, which represents the rate of predation. Thus the differential equation for S includes the negative term −bSM.\n",
    "\n",
    "For the marlin, the positive effect of eating sardine is also proportional to the number of sardine-marlin interactions. The constant of proportionality is the parameter d, which represents the synthesis rate (how the population of marlin will grow because they eat sardines). Thus the differential equation for M includes the positive term dSM."
   ]
  },
  {
   "cell_type": "code",
   "execution_count": 1,
   "metadata": {
    "collapsed": true
   },
   "outputs": [],
   "source": [
    "import pandas as pd"
   ]
  },
  {
   "cell_type": "code",
   "execution_count": 2,
   "metadata": {},
   "outputs": [
    {
     "name": "stderr",
     "output_type": "stream",
     "text": [
      "/Users/NYCMath/anaconda3/lib/python3.6/site-packages/IPython/core/interactiveshell.py:2698: DtypeWarning: Columns (5) have mixed types. Specify dtype option on import or set low_memory=False.\n",
      "  interactivity=interactivity, compiler=compiler, result=result)\n"
     ]
    }
   ],
   "source": [
    "df = pd.read_csv('data/ufo_complete.csv')"
   ]
  },
  {
   "cell_type": "code",
   "execution_count": 3,
   "metadata": {},
   "outputs": [
    {
     "data": {
      "text/html": [
       "<div>\n",
       "<style>\n",
       "    .dataframe thead tr:only-child th {\n",
       "        text-align: right;\n",
       "    }\n",
       "\n",
       "    .dataframe thead th {\n",
       "        text-align: left;\n",
       "    }\n",
       "\n",
       "    .dataframe tbody tr th {\n",
       "        vertical-align: top;\n",
       "    }\n",
       "</style>\n",
       "<table border=\"1\" class=\"dataframe\">\n",
       "  <thead>\n",
       "    <tr style=\"text-align: right;\">\n",
       "      <th></th>\n",
       "      <th>datetime</th>\n",
       "      <th>city</th>\n",
       "      <th>state</th>\n",
       "      <th>country</th>\n",
       "      <th>shape</th>\n",
       "      <th>duration (seconds)</th>\n",
       "      <th>duration (hours/min)</th>\n",
       "      <th>comments</th>\n",
       "      <th>date posted</th>\n",
       "      <th>latitude</th>\n",
       "      <th>longitude</th>\n",
       "      <th>Unnamed: 11</th>\n",
       "    </tr>\n",
       "  </thead>\n",
       "  <tbody>\n",
       "    <tr>\n",
       "      <th>0</th>\n",
       "      <td>10/10/49</td>\n",
       "      <td>san marcos</td>\n",
       "      <td>tx</td>\n",
       "      <td>us</td>\n",
       "      <td>cylinder</td>\n",
       "      <td>2700</td>\n",
       "      <td>45 minutes</td>\n",
       "      <td>This event took place in early fall around 194...</td>\n",
       "      <td>4/27/04</td>\n",
       "      <td>29.8830556</td>\n",
       "      <td>-97.941111</td>\n",
       "      <td>NaN</td>\n",
       "    </tr>\n",
       "    <tr>\n",
       "      <th>1</th>\n",
       "      <td>10/10/49</td>\n",
       "      <td>lackland afb</td>\n",
       "      <td>tx</td>\n",
       "      <td>NaN</td>\n",
       "      <td>light</td>\n",
       "      <td>7200</td>\n",
       "      <td>1-2 hrs</td>\n",
       "      <td>1949 Lackland AFB&amp;#44 TX.  Lights racing acros...</td>\n",
       "      <td>12/16/05</td>\n",
       "      <td>29.38421</td>\n",
       "      <td>-98.581082</td>\n",
       "      <td>NaN</td>\n",
       "    </tr>\n",
       "    <tr>\n",
       "      <th>2</th>\n",
       "      <td>10/10/55</td>\n",
       "      <td>chester (uk/england)</td>\n",
       "      <td>NaN</td>\n",
       "      <td>gb</td>\n",
       "      <td>circle</td>\n",
       "      <td>20</td>\n",
       "      <td>20 seconds</td>\n",
       "      <td>Green/Orange circular disc over Chester&amp;#44 En...</td>\n",
       "      <td>1/21/08</td>\n",
       "      <td>53.2</td>\n",
       "      <td>-2.916667</td>\n",
       "      <td>NaN</td>\n",
       "    </tr>\n",
       "    <tr>\n",
       "      <th>3</th>\n",
       "      <td>10/10/56</td>\n",
       "      <td>edna</td>\n",
       "      <td>tx</td>\n",
       "      <td>us</td>\n",
       "      <td>circle</td>\n",
       "      <td>20</td>\n",
       "      <td>1/2 hour</td>\n",
       "      <td>My older brother and twin sister were leaving ...</td>\n",
       "      <td>1/17/04</td>\n",
       "      <td>28.9783333</td>\n",
       "      <td>-96.645833</td>\n",
       "      <td>NaN</td>\n",
       "    </tr>\n",
       "    <tr>\n",
       "      <th>4</th>\n",
       "      <td>10/10/60</td>\n",
       "      <td>kaneohe</td>\n",
       "      <td>hi</td>\n",
       "      <td>us</td>\n",
       "      <td>light</td>\n",
       "      <td>900</td>\n",
       "      <td>15 minutes</td>\n",
       "      <td>AS a Marine 1st Lt. flying an FJ4B fighter/att...</td>\n",
       "      <td>1/22/04</td>\n",
       "      <td>21.4180556</td>\n",
       "      <td>-157.803611</td>\n",
       "      <td>NaN</td>\n",
       "    </tr>\n",
       "  </tbody>\n",
       "</table>\n",
       "</div>"
      ],
      "text/plain": [
       "   datetime                  city state country     shape duration (seconds)  \\\n",
       "0  10/10/49            san marcos    tx      us  cylinder               2700   \n",
       "1  10/10/49          lackland afb    tx     NaN     light               7200   \n",
       "2  10/10/55  chester (uk/england)   NaN      gb    circle                 20   \n",
       "3  10/10/56                  edna    tx      us    circle                 20   \n",
       "4  10/10/60               kaneohe    hi      us     light                900   \n",
       "\n",
       "  duration (hours/min)                                           comments  \\\n",
       "0           45 minutes  This event took place in early fall around 194...   \n",
       "1              1-2 hrs  1949 Lackland AFB&#44 TX.  Lights racing acros...   \n",
       "2           20 seconds  Green/Orange circular disc over Chester&#44 En...   \n",
       "3             1/2 hour  My older brother and twin sister were leaving ...   \n",
       "4           15 minutes  AS a Marine 1st Lt. flying an FJ4B fighter/att...   \n",
       "\n",
       "  date posted    latitude   longitude  Unnamed: 11  \n",
       "0     4/27/04  29.8830556  -97.941111          NaN  \n",
       "1    12/16/05    29.38421  -98.581082          NaN  \n",
       "2     1/21/08        53.2   -2.916667          NaN  \n",
       "3     1/17/04  28.9783333  -96.645833          NaN  \n",
       "4     1/22/04  21.4180556 -157.803611          NaN  "
      ]
     },
     "execution_count": 3,
     "metadata": {},
     "output_type": "execute_result"
    }
   ],
   "source": [
    "df.head()"
   ]
  },
  {
   "cell_type": "code",
   "execution_count": 4,
   "metadata": {},
   "outputs": [
    {
     "ename": "ModuleNotFoundError",
     "evalue": "No module named 'ggplot'",
     "output_type": "error",
     "traceback": [
      "\u001b[0;31m---------------------------------------------------------------------------\u001b[0m",
      "\u001b[0;31mModuleNotFoundError\u001b[0m                       Traceback (most recent call last)",
      "\u001b[0;32m<ipython-input-4-0c5751bff2ea>\u001b[0m in \u001b[0;36m<module>\u001b[0;34m()\u001b[0m\n\u001b[0;32m----> 1\u001b[0;31m \u001b[0;32mimport\u001b[0m \u001b[0mggplot\u001b[0m \u001b[0;32mas\u001b[0m \u001b[0mgplot\u001b[0m\u001b[0;34m\u001b[0m\u001b[0m\n\u001b[0m",
      "\u001b[0;31mModuleNotFoundError\u001b[0m: No module named 'ggplot'"
     ]
    }
   ],
   "source": [
    "import ggplot as gplot"
   ]
  },
  {
   "cell_type": "code",
   "execution_count": null,
   "metadata": {
    "collapsed": true
   },
   "outputs": [],
   "source": []
  }
 ],
 "metadata": {
  "kernelspec": {
   "display_name": "Python 3",
   "language": "python",
   "name": "python3"
  },
  "language_info": {
   "codemirror_mode": {
    "name": "ipython",
    "version": 3
   },
   "file_extension": ".py",
   "mimetype": "text/x-python",
   "name": "python",
   "nbconvert_exporter": "python",
   "pygments_lexer": "ipython3",
   "version": "3.6.3"
  }
 },
 "nbformat": 4,
 "nbformat_minor": 2
}
