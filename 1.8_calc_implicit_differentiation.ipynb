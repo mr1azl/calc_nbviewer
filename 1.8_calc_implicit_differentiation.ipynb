{
 "cells": [
  {
   "cell_type": "markdown",
   "metadata": {},
   "source": [
    "<script>\n",
    "  (function(i,s,o,g,r,a,m){i['GoogleAnalyticsObject']=r;i[r]=i[r]||function(){\n",
    "  (i[r].q=i[r].q||[]).push(arguments)},i[r].l=1*new Date();a=s.createElement(o),\n",
    "  m=s.getElementsByTagName(o)[0];a.async=1;a.src=g;m.parentNode.insertBefore(a,m)\n",
    "  })(window,document,'script','https://www.google-analytics.com/analytics.js','ga');\n",
    "\n",
    "  ga('create', 'UA-50838873-3', 'auto');\n",
    "  ga('send', 'pageview');\n",
    "\n",
    "</script>"
   ]
  },
  {
   "cell_type": "code",
   "execution_count": 1,
   "metadata": {
    "collapsed": true,
    "deletable": true,
    "editable": true
   },
   "outputs": [],
   "source": [
    "%matplotlib inline\n",
    "import matplotlib.pyplot as plt\n",
    "import numpy as np\n",
    "import sympy as sy"
   ]
  },
  {
   "cell_type": "markdown",
   "metadata": {
    "deletable": true,
    "editable": true
   },
   "source": [
    "# Composition and the Chain Rule\n",
    "\n",
    "As you may have guessed, once we apply the idea of differentiation to simple curves, we'd like to use this method in more and more general situations.  This notebook explores the use of differentiation and derivatives to explore functions formed by composition, and to use these results to differentiate implicitly defined functions.\n",
    "\n",
    "**GOALS**: \n",
    "\n",
    "- Identify situations where chain rule is of use\n",
    "\n",
    "- Define and Use Chain Rule\n",
    "\n",
    "- Use Chain Rule to differentiate implicitly defined functions\n",
    "\n",
    "- Use Descartes algorithm to explore alternative approach to differentation\n",
    "\n",
    "## Composition of Functions\n",
    "\n",
    "Functions can be formed by combining other functions through famililar operations.  For example, we can consider the polynomial $h(x) = x^3 + x^2$ as formed by two simpler polynomials $f(x) = x^3$ and $g(x) = x^2$ combined through addition.  So far, we have not had to worry about this, as differentiation and integration are linear operators that work across addition and subtraction.\n",
    "\n",
    "If we instead have a function $h$ given by:\n",
    "\n",
    "$$h(x) = \\sqrt{x^3 + x^2}$$\n",
    "\n",
    "we may recognize the square root function and the polynomial inside of it.  This was not formed by addition, subtraction, multiplication, or division of simpler functions however.  Instead, we can understand the function $h$ as formed by **composing** two functions $f$ and $g$ where:\n",
    "\n",
    "$$h(x) = \\sqrt{x^3 + x^2} \\quad f(u) = \\sqrt(u) \\quad g(x) = x^3 + x^2$$\n",
    "\n",
    "The operation of composition means we apply the function $f$ to the function $g$.  We would write this as\n",
    "\n",
    "$$f(g(x)) = \\sqrt{(g(x))} = \\sqrt{x^3 + x^2}$$\n",
    "\n",
    "We can use SymPy to explore a few examples and determine a general rule for differentiating functions formed by compositions.  We begin with trying to generalize the situation above, where we compose some function $g$ into a function $f$ of the form\n",
    "\n",
    "$$f(x) = (g(x))^n$$\n",
    "\n",
    "It seems reasonable to expect that \n",
    "\n",
    "$$f'(x) = n(g(x))^{n-1}$$\n",
    "\n",
    "You need to adjust this statement to make it true.  Consider the following examples, use sympy to differentiate them and determine the remaining terms.\n",
    "\n",
    "1. $(x^2 - 3x)^2$\n",
    "\n",
    "2. $(x^2 - 3x)^3$\n",
    "\n",
    "3. $\\sqrt{x^2 - 3x}$"
   ]
  },
  {
   "cell_type": "code",
   "execution_count": 2,
   "metadata": {
    "collapsed": true,
    "deletable": true,
    "editable": true
   },
   "outputs": [],
   "source": [
    "x = sy.Symbol('x')\n",
    "y1 = (x**2 - 3*x)**2\n",
    "y2 = (x**2 - 3*x)**3\n",
    "y3 = (x**2 - 3*x)**(1/2)"
   ]
  },
  {
   "cell_type": "code",
   "execution_count": 3,
   "metadata": {
    "collapsed": false,
    "deletable": true,
    "editable": true
   },
   "outputs": [
    {
     "data": {
      "text/plain": [
       "2*x*(x - 3)*(2*x - 3)"
      ]
     },
     "execution_count": 3,
     "metadata": {},
     "output_type": "execute_result"
    }
   ],
   "source": [
    "dy1 = sy.diff(y1, x)\n",
    "sy.factor(dy1)"
   ]
  },
  {
   "cell_type": "code",
   "execution_count": 4,
   "metadata": {
    "collapsed": false,
    "deletable": true,
    "editable": true
   },
   "outputs": [
    {
     "data": {
      "text/plain": [
       "3*x**2*(x - 3)**2*(2*x - 3)"
      ]
     },
     "execution_count": 4,
     "metadata": {},
     "output_type": "execute_result"
    }
   ],
   "source": [
    "dy2 = sy.diff(y2, x)\n",
    "sy.factor(dy2)"
   ]
  },
  {
   "cell_type": "code",
   "execution_count": 5,
   "metadata": {
    "collapsed": false,
    "deletable": true,
    "editable": true
   },
   "outputs": [
    {
     "data": {
      "text/plain": [
       "(1.0*x - 1.5)*(x**2 - 3*x)**(-0.5)"
      ]
     },
     "execution_count": 5,
     "metadata": {},
     "output_type": "execute_result"
    }
   ],
   "source": [
    "dy3 = sy.diff(y3, x)\n",
    "dy3"
   ]
  },
  {
   "cell_type": "markdown",
   "metadata": {
    "deletable": true,
    "editable": true
   },
   "source": [
    "Now consider the examples for $f(x) = \\sin(g(x))$:\n",
    "\n",
    "1. $\\sin{2x}$\n",
    "\n",
    "2. $\\sin{(\\frac{1}{2}x + 3)}$\n",
    "\n",
    "3. $\\sin{(x^2)}$"
   ]
  },
  {
   "cell_type": "markdown",
   "metadata": {
    "deletable": true,
    "editable": true
   },
   "source": [
    "# Implicitly Defined Functions\n",
    "\n",
    "Rather than being given a relationship that can be expressed in terms of a single variable, we can also apply the technique of differentiation to implicitly defined curves.  For example, consider the equation for a circle centered at the origin with radius 5, i.e.:\n",
    "\n",
    "$$x^2 + y^2 = 25$$\n",
    "\n",
    "We are unable to express $y$ in terms of $x$ with a single equation.  We should still be able to understand things like tangent lines however, and apply the idea of differentiation to the expression.  We can plot implicitly defined functions with Sympy as shown below.  These should look familiar to our parametric plots, and we could introduce parameters into these equations to describe the curves parametrically.  \n",
    "\n"
   ]
  },
  {
   "cell_type": "code",
   "execution_count": 6,
   "metadata": {
    "collapsed": false,
    "deletable": true,
    "editable": true
   },
   "outputs": [],
   "source": [
    "x, y = sy.symbols('x y')"
   ]
  },
  {
   "cell_type": "code",
   "execution_count": 7,
   "metadata": {
    "collapsed": false,
    "deletable": true,
    "editable": true
   },
   "outputs": [
    {
     "data": {
      "image/png": "[encoded data removed]",
      "text/plain": [
       "<matplotlib.figure.Figure at 0x1144b07f0>"
      ]
     },
     "metadata": {},
     "output_type": "display_data"
    },
    {
     "data": {
      "text/plain": [
       "<sympy.plotting.plot.Plot at 0x1144b0780>"
      ]
     },
     "execution_count": 7,
     "metadata": {},
     "output_type": "execute_result"
    }
   ],
   "source": [
    "y1 = sy.Eq(x**2 + y**2, 25)\n",
    "sy.plot_implicit(y1)\n"
   ]
  },
  {
   "cell_type": "code",
   "execution_count": 8,
   "metadata": {
    "collapsed": false,
    "deletable": true,
    "editable": true
   },
   "outputs": [
    {
     "data": {
      "image/png": "[encoded data removed]",
      "text/plain": [
       "<matplotlib.figure.Figure at 0x1168e7eb8>"
      ]
     },
     "metadata": {},
     "output_type": "display_data"
    },
    {
     "data": {
      "text/plain": [
       "<sympy.plotting.plot.Plot at 0x1168e74a8>"
      ]
     },
     "execution_count": 8,
     "metadata": {},
     "output_type": "execute_result"
    }
   ],
   "source": [
    "y2 = sy.Eq(x**3 + y**3, (9/2)*x*y)\n",
    "sy.plot_implicit(y2)"
   ]
  },
  {
   "cell_type": "code",
   "execution_count": 9,
   "metadata": {
    "collapsed": false,
    "deletable": true,
    "editable": true
   },
   "outputs": [
    {
     "data": {
      "image/png": "[encoded data removed]",
      "text/plain": [
       "<matplotlib.figure.Figure at 0x1169b3080>"
      ]
     },
     "metadata": {},
     "output_type": "display_data"
    },
    {
     "data": {
      "text/plain": [
       "<sympy.plotting.plot.Plot at 0x1169b3908>"
      ]
     },
     "execution_count": 9,
     "metadata": {},
     "output_type": "execute_result"
    }
   ],
   "source": [
    "y3 = sy.Eq(sy.sin(x + y), y**2*sy.cos(x))\n",
    "sy.plot_implicit(y3)"
   ]
  },
  {
   "cell_type": "code",
   "execution_count": 10,
   "metadata": {
    "collapsed": false,
    "deletable": true,
    "editable": true
   },
   "outputs": [
    {
     "data": {
      "image/png": "[encoded data removed]",
      "text/plain": [
       "<matplotlib.figure.Figure at 0x1169f5d30>"
      ]
     },
     "metadata": {},
     "output_type": "display_data"
    },
    {
     "data": {
      "text/plain": [
       "<sympy.plotting.plot.Plot at 0x116a4cef0>"
      ]
     },
     "execution_count": 10,
     "metadata": {},
     "output_type": "execute_result"
    }
   ],
   "source": [
    "y4 = sy.Eq(y*sy.sin(3*x), x*sy.cos(3*y))\n",
    "sy.plot_implicit(y4)"
   ]
  },
  {
   "cell_type": "markdown",
   "metadata": {
    "deletable": true,
    "editable": true
   },
   "source": [
    "## Algorithmic Implicit Differentiation\n",
    "\n",
    "Hopefully, you recognize the problem.  There are many tangents at a given value of $x$.  However, we can determine a point on the graph and recall what we know about equations of lines.  Take the second example, called the **Folium of Descartes**, defined as:\n",
    "\n",
    "$$x^3 + y^3 = \\frac{9}{2}xy$$\n",
    "\n",
    "We know the point $(2, 1)$ is on the graph.  Also, we know that if we have a tangent line at this point, it would be a linear equation with some slope $m$ that passes through $(2, 1)$.  This means\n",
    "\n",
    "$$y = m(x - 2) + 1$$\n",
    "\n",
    "These equations agree at $(2,1)$ so we can substitute the second into the first for $y$\n",
    "\n",
    "$$x^3 + (m(x-2) + 1)^3 = \\frac{9}{2}x(m(x-2) + 1)$$\n",
    "\n",
    "There is some algebra involved here that we will call on Sympy to help us with.  Here's the idea.  From the picture, we see there will be two tangent lines at $x = 2$.  This means our equation has a double root there, or that $(x-2)^2$ is a factor of this.  We can eliminate one of these roots by dividing the expression by $x-2$, then substituting $x=2$ into the remaining expression and solve for the slope $m$."
   ]
  },
  {
   "cell_type": "code",
   "execution_count": 24,
   "metadata": {
    "collapsed": false,
    "deletable": true,
    "editable": true
   },
   "outputs": [],
   "source": [
    "x, y, m = sy.symbols('x y m')\n",
    "expr = x**3 + y**3 -(9/2)*x*y\n",
    "tan = m*(x-2) + 1"
   ]
  },
  {
   "cell_type": "code",
   "execution_count": 25,
   "metadata": {
    "collapsed": false,
    "deletable": true,
    "editable": true
   },
   "outputs": [
    {
     "name": "stdout",
     "output_type": "stream",
     "text": [
      " 3                                          3\n",
      "x  - 4.5⋅x⋅(m⋅(x - 2) + 1) + (m⋅(x - 2) + 1) \n"
     ]
    }
   ],
   "source": [
    "expr = expr.subs(y, tan)\n",
    "sy.pprint(expr)"
   ]
  },
  {
   "cell_type": "code",
   "execution_count": 26,
   "metadata": {
    "collapsed": false,
    "deletable": true,
    "editable": true
   },
   "outputs": [
    {
     "data": {
      "text/plain": [
       "x**3 - 4.5*x*(m*(x - 2) + 1) + (m*(x - 2) + 1)**3"
      ]
     },
     "execution_count": 26,
     "metadata": {},
     "output_type": "execute_result"
    }
   ],
   "source": [
    "expr"
   ]
  },
  {
   "cell_type": "code",
   "execution_count": 31,
   "metadata": {
    "collapsed": false,
    "deletable": true,
    "editable": true
   },
   "outputs": [],
   "source": [
    "now = sy.quo(expr, x-2)\n",
    "now = now.subs(x, 2)"
   ]
  },
  {
   "cell_type": "code",
   "execution_count": 32,
   "metadata": {
    "collapsed": false,
    "deletable": true,
    "editable": true
   },
   "outputs": [
    {
     "data": {
      "text/plain": [
       "[1.25000000000000]"
      ]
     },
     "execution_count": 32,
     "metadata": {},
     "output_type": "execute_result"
    }
   ],
   "source": [
    "sy.solve(now, m)"
   ]
  },
  {
   "cell_type": "markdown",
   "metadata": {
    "deletable": true,
    "editable": true
   },
   "source": [
    "## Textbook Approach\n",
    "\n",
    "If we want to work directly on the expression, we can recall that $y$ can be considered as a function of $x$, $y=f(x)$.  When we do express things this way, the equation for the Folium above becomes\n",
    "\n",
    "$$x^3 + (f(x))^3 = 6x(f(x))$$\n",
    "\n",
    "The left hand side of the equation has the term $x^3$, whose derivative with respect to $x$ is $3x^2$ from our familiar rules, and then our second term, $(f(x))^3$ makes use of the chain rule and we would get:\n",
    "\n",
    "$$\\frac{d}{dx}(f(x))^3 = 3~(f(x))^2 ~f'(x)$$\n",
    "\n",
    "We treat the other elements of the expression similarly, and solve for the term $f'$.  We can use Sympy to simplify these computations and verify the result above.  The `idiff` function from sympy takes the implicit derivative with respect to the second variable.  We can then evaluate the generale derivative at our point $(2, 1)$."
   ]
  },
  {
   "cell_type": "code",
   "execution_count": 85,
   "metadata": {
    "collapsed": false,
    "deletable": true,
    "editable": true
   },
   "outputs": [],
   "source": [
    "x, y = sy.symbols('x y')\n",
    "foli = x**3 + y**3 - (9/2)*x*y\n",
    "dx_foli = sy.idiff(foli, y, x)"
   ]
  },
  {
   "cell_type": "code",
   "execution_count": 86,
   "metadata": {
    "collapsed": false,
    "deletable": true,
    "editable": true
   },
   "outputs": [
    {
     "data": {
      "text/plain": [
       "1.25000000000000"
      ]
     },
     "execution_count": 86,
     "metadata": {},
     "output_type": "execute_result"
    }
   ],
   "source": [
    "dx_foli.subs(x, 2).subs(y, 1)"
   ]
  },
  {
   "cell_type": "markdown",
   "metadata": {
    "deletable": true,
    "editable": true
   },
   "source": [
    "## Problems"
   ]
  },
  {
   "cell_type": "code",
   "execution_count": null,
   "metadata": {
    "collapsed": true,
    "deletable": true,
    "editable": true
   },
   "outputs": [],
   "source": []
  }
 ],
 "metadata": {
  "kernelspec": {
   "display_name": "Python 3",
   "language": "python",
   "name": "python3"
  },
  "language_info": {
   "codemirror_mode": {
    "name": "ipython",
    "version": 3
   },
   "file_extension": ".py",
   "mimetype": "text/x-python",
   "name": "python",
   "nbconvert_exporter": "python",
   "pygments_lexer": "ipython3",
   "version": "3.5.3"
  }
 },
 "nbformat": 4,
 "nbformat_minor": 2
}
