{
 "cells": [
  {
   "cell_type": "code",
   "execution_count": 1,
   "metadata": {
    "collapsed": true
   },
   "outputs": [],
   "source": [
    "%matplotlib notebook\n",
    "import matplotlib.pyplot as plt\n",
    "import numpy as np\n",
    "import sympy as sy"
   ]
  },
  {
   "cell_type": "markdown",
   "metadata": {},
   "source": [
    "### Big Picture: Interpolation\n",
    "\n",
    "Suppose we have three points located at three equally spaced points $x = p, \\frac{p+q}{2}, q$.  We would like a method for finding an equation through these points.  To do so, let's start with our example of getting a quadratic through the points:\n",
    "\n",
    "$$(-1,0), (0, 1), ~\\text{and} ~(1, 0)$$\n",
    "\n",
    "Recall that a quadratic looks like $f(x) = ax^2 + bx + c$.  \n",
    "\n",
    "1. Set up three equations using the general form of the quadratic (i.e. $f(-1) = a(-1)^2 + b(-1) + c$).\n",
    "\n",
    "2. Solve the first two of these equations simultaneously to eliminate $c$.\n",
    "\n",
    "3. Repeat for the second and third equation.\n",
    "\n",
    "4. Solve the resulting two equations together, to find values for $a$ and $b$.\n",
    "\n",
    "5. Use $a$ and $b$ to find $c$, get your quadratic and check that it passes through the three points."
   ]
  },
  {
   "cell_type": "code",
   "execution_count": null,
   "metadata": {
    "collapsed": true
   },
   "outputs": [],
   "source": []
  }
 ],
 "metadata": {
  "kernelspec": {
   "display_name": "Python 3",
   "language": "python",
   "name": "python3"
  },
  "language_info": {
   "codemirror_mode": {
    "name": "ipython",
    "version": 3
   },
   "file_extension": ".py",
   "mimetype": "text/x-python",
   "name": "python",
   "nbconvert_exporter": "python",
   "pygments_lexer": "ipython3",
   "version": "3.6.3"
  }
 },
 "nbformat": 4,
 "nbformat_minor": 2
}
