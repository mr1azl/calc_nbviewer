{
 "cells": [
  {
   "cell_type": "markdown",
   "metadata": {},
   "source": [
    "<script>\n",
    "  (function(i,s,o,g,r,a,m){i['GoogleAnalyticsObject']=r;i[r]=i[r]||function(){\n",
    "  (i[r].q=i[r].q||[]).push(arguments)},i[r].l=1*new Date();a=s.createElement(o),\n",
    "  m=s.getElementsByTagName(o)[0];a.async=1;a.src=g;m.parentNode.insertBefore(a,m)\n",
    "  })(window,document,'script','https://www.google-analytics.com/analytics.js','ga');\n",
    "\n",
    "  ga('create', 'UA-50838873-3', 'auto');\n",
    "  ga('send', 'pageview');\n",
    "\n",
    "</script>"
   ]
  },
  {
   "cell_type": "code",
   "execution_count": 1,
   "metadata": {
    "collapsed": true
   },
   "outputs": [],
   "source": [
    "%matplotlib inline\n",
    "import matplotlib.pyplot as plt\n",
    "import numpy as np\n",
    "import sympy as sy\n",
    "from scipy.integrate import odeint"
   ]
  },
  {
   "cell_type": "markdown",
   "metadata": {},
   "source": [
    "# Anti-derivatives, Inverse Tangents, and Differential Equations\n",
    "\n",
    "Many of the important early problems surrounding the mathematical circles of Leibniz and Newton involved what we now call differential equations and what they called the inverse tangent problem.  For example, we can write the equation\n",
    "\n",
    "$$\\frac{dy}{dx} = 2x + 3$$\n",
    "\n",
    "This equation is giving us information about the tangent lines of a relationship.  Whatever this relationship is, we know the slope of the tangent line at any point $(x,y)$ is simply $2x +3$.  \n",
    "\n",
    "What we want, is to determine a relationship that satisfies these requirements.  The example above is easy enough to see that a possible solution is \n",
    "\n",
    "$$y = x^2 + 3x$$"
   ]
  },
  {
   "cell_type": "code",
   "execution_count": 2,
   "metadata": {},
   "outputs": [
    {
     "name": "stdout",
     "output_type": "stream",
     "text": [
      " 2      \n",
      "x  + 3⋅x\n"
     ]
    }
   ],
   "source": [
    "def dy(x):\n",
    "    return 2*x + 3\n",
    "\n",
    "x = sy.Symbol('x')\n",
    "anti_d = sy.integrate(2*x+3, x)\n",
    "sy.pprint(anti_d)"
   ]
  },
  {
   "cell_type": "markdown",
   "metadata": {},
   "source": [
    "We can check the work by seeing that the derivative of our antiderivative is what we started with."
   ]
  },
  {
   "cell_type": "code",
   "execution_count": 3,
   "metadata": {},
   "outputs": [
    {
     "data": {
      "text/plain": [
       "2*x + 3"
      ]
     },
     "execution_count": 3,
     "metadata": {},
     "output_type": "execute_result"
    }
   ],
   "source": [
    "sy.diff(anti_d, x)"
   ]
  },
  {
   "cell_type": "code",
   "execution_count": 4,
   "metadata": {},
   "outputs": [
    {
     "data": {
      "image/png": "[encoded data removed]",
      "text/plain": [
       "<matplotlib.figure.Figure at 0x115779518>"
      ]
     },
     "metadata": {},
     "output_type": "display_data"
    },
    {
     "data": {
      "text/plain": [
       "<sympy.plotting.plot.Plot at 0x1154f7cf8>"
      ]
     },
     "execution_count": 4,
     "metadata": {},
     "output_type": "execute_result"
    }
   ],
   "source": [
    "sy.plot(x**2 + 3, 2*x + 3)"
   ]
  },
  {
   "cell_type": "markdown",
   "metadata": {},
   "source": [
    "## Familiar Examples\n",
    "\n",
    "We can frame a few familiar examples in terms of differential equations.  In doing so, we express a relationship involving a rate of change.  The above example could be interpreted as asking for a relationship whose rate of change is a linear function with a rate of change of 1 unit of $x$.  We can similarly consider some sequence whose differences are changing in a linear fashion. \n",
    "\n",
    "### Compound Interest\n",
    "\n",
    "In compound interest, we know that each compounding period $t$ results in multiplying the amount in the account $A$ by the interest rate $r$.  In terms of differential equations, we would have that the rate of change of the investment $A$ is proportional to the amount present.  \n",
    "\n",
    "$$\\frac{dA}{dt} = rA$$\n",
    "\n",
    "We can use SymPy to find a solution to this, which should verify our existing knowledge of the solution."
   ]
  },
  {
   "cell_type": "code",
   "execution_count": 5,
   "metadata": {
    "collapsed": true
   },
   "outputs": [],
   "source": [
    "t, A, r, P = sy.symbols('t A r P')"
   ]
  },
  {
   "cell_type": "code",
   "execution_count": 6,
   "metadata": {
    "collapsed": true
   },
   "outputs": [],
   "source": [
    "A = sy.Function(\"A\")(t)\n",
    "A_ = sy.Derivative(A, t)\n",
    "P = sy.Symbol('P')"
   ]
  },
  {
   "cell_type": "code",
   "execution_count": 7,
   "metadata": {
    "collapsed": true
   },
   "outputs": [],
   "source": [
    "b = sy.Eq(A_, r*A)"
   ]
  },
  {
   "cell_type": "code",
   "execution_count": 8,
   "metadata": {},
   "outputs": [
    {
     "name": "stdout",
     "output_type": "stream",
     "text": [
      "           r⋅t\n",
      "A(t) = C₁⋅ℯ   \n"
     ]
    }
   ],
   "source": [
    "soln = sy.dsolve(b)\n",
    "sy.pprint(soln)"
   ]
  },
  {
   "cell_type": "markdown",
   "metadata": {},
   "source": [
    "We find that we are given the solution with some other constant $C_1$.  We will examine this in more detail in just a second, but for now let's visit some familiar examples to get used to solving the differential equations in SymPy."
   ]
  },
  {
   "cell_type": "markdown",
   "metadata": {},
   "source": [
    "### Introductory Examples\n",
    "\n",
    "Solve the differential equation with Sympy:\n",
    "\n",
    "- $\\frac{dy}{dx} = y^2$\n",
    "\n",
    "\n",
    "- $4x^2\\frac{d^2y}{dx^2} + y = 0$\n",
    "\n",
    "- $y' + 2xy^2 = 0$\n",
    "\n",
    "- $y' = y + 2e^{-x}$"
   ]
  },
  {
   "cell_type": "markdown",
   "metadata": {},
   "source": [
    "## Families of AntiDerivatives\n",
    "\n",
    "One of the issues with antiderivatives is that they are not unique.  For example, our first differential equation actually has an infinite number of solutions of the form\n",
    "\n",
    "$$y = \\frac{x^2}{2} + 2x + c$$\n",
    "\n",
    "where $c$ is any real number.  We can see this by checking some values of $c$."
   ]
  },
  {
   "cell_type": "code",
   "execution_count": 9,
   "metadata": {
    "collapsed": true
   },
   "outputs": [],
   "source": [
    "y2 = x**2 + 3*x - 1\n",
    "y3 = x**2 + 3*x -2\n",
    "y4 = x**2 + 3*x + 1\n",
    "y5 = x**2 + 3*x + 2"
   ]
  },
  {
   "cell_type": "code",
   "execution_count": 10,
   "metadata": {
    "collapsed": true
   },
   "outputs": [],
   "source": [
    "dy2 = sy.diff(y2, x)\n",
    "dy3 = sy.diff(y3, x)\n",
    "dy4 = sy.diff(y4, x)\n",
    "dy5 = sy.diff(y5, x)"
   ]
  },
  {
   "cell_type": "code",
   "execution_count": 11,
   "metadata": {},
   "outputs": [
    {
     "data": {
      "text/plain": [
       "(2*x + 3, 2*x + 3, 2*x + 3, 2*x + 3)"
      ]
     },
     "execution_count": 11,
     "metadata": {},
     "output_type": "execute_result"
    }
   ],
   "source": [
    "dy2, dy3, dy4, dy5"
   ]
  },
  {
   "cell_type": "markdown",
   "metadata": {},
   "source": [
    "If we look at the plots of these different solutions, we see some similarities and differences."
   ]
  },
  {
   "cell_type": "code",
   "execution_count": 12,
   "metadata": {},
   "outputs": [
    {
     "data": {
      "image/png": "[encoded data removed]",
      "text/plain": [
       "<matplotlib.figure.Figure at 0x1180c6a58>"
      ]
     },
     "metadata": {},
     "output_type": "display_data"
    },
    {
     "data": {
      "text/plain": [
       "<sympy.plotting.plot.Plot at 0x1180c6e48>"
      ]
     },
     "execution_count": 12,
     "metadata": {},
     "output_type": "execute_result"
    }
   ],
   "source": [
    "sy.plot(y2, y3, y4, y5, (x, -6,4))"
   ]
  },
  {
   "cell_type": "markdown",
   "metadata": {},
   "source": [
    "In a similar manner, explore alternative values for the constants of integration and plot the solutions to your earlier problems."
   ]
  },
  {
   "cell_type": "code",
   "execution_count": null,
   "metadata": {
    "collapsed": true
   },
   "outputs": [],
   "source": []
  },
  {
   "cell_type": "markdown",
   "metadata": {},
   "source": [
    "## Initial Value Problems\n",
    "\n",
    "Now, we will suppose that we know a certain point on the curve that the solution passes through.  For example, or early example began with the differential equation \n",
    "\n",
    "$$\\frac{dy}{dx} = 2x+3$$\n",
    "\n",
    "We found that the solutions to this equation take the form\n",
    "\n",
    "$$y = x^2 + 3x + C$$\n",
    "\n",
    "where $C$ is some constant.  "
   ]
  },
  {
   "cell_type": "code",
   "execution_count": 13,
   "metadata": {},
   "outputs": [
    {
     "name": "stdout",
     "output_type": "stream",
     "text": [
      "             2      \n",
      "y(x) = C₁ + x  + 3⋅x\n"
     ]
    }
   ],
   "source": [
    "y = sy.Function(\"y\")(x)\n",
    "dy = sy.Derivative(y, x)\n",
    "diff_eq = sy.Eq(dy, 2*x + 3)\n",
    "soln = sy.dsolve(diff_eq)\n",
    "sy.pprint(soln)"
   ]
  },
  {
   "cell_type": "markdown",
   "metadata": {},
   "source": [
    "We may know some additional information however.  Suppose we knew that the solution that we wanted passed through the point $(1, 2)$.  This would mean that if we substitute for each of these values, we should get a true statement.  We can find a value for $C_1$ then, that would make this true."
   ]
  },
  {
   "cell_type": "code",
   "execution_count": 14,
   "metadata": {},
   "outputs": [
    {
     "data": {
      "text/plain": [
       "[-2]"
      ]
     },
     "execution_count": 14,
     "metadata": {},
     "output_type": "execute_result"
    }
   ],
   "source": [
    "c = sy.Symbol('c')\n",
    "initial_value = sy.Eq(2, 1**2 + 3*1 + c)\n",
    "sy.solve(initial_value, c)"
   ]
  },
  {
   "cell_type": "markdown",
   "metadata": {},
   "source": [
    "Hence, we have that\n",
    "\n",
    "$$y = x^2 + 3x -2$$\n",
    "\n",
    "We find a more general solution for our compound interest problem in a similar manner where we have the initial investment $P$ at time $t=0$."
   ]
  },
  {
   "cell_type": "code",
   "execution_count": 15,
   "metadata": {},
   "outputs": [
    {
     "data": {
      "text/plain": [
       "[P]"
      ]
     },
     "execution_count": 15,
     "metadata": {},
     "output_type": "execute_result"
    }
   ],
   "source": [
    "P = sy.Symbol('P')\n",
    "initial_value = sy.Eq(P, c*sy.exp(r*0))\n",
    "sy.solve(initial_value, c)"
   ]
  },
  {
   "cell_type": "markdown",
   "metadata": {},
   "source": [
    "Hence, we have our solution as\n",
    "\n",
    "$$y = Pe^{rt}$$"
   ]
  },
  {
   "cell_type": "markdown",
   "metadata": {},
   "source": [
    "## Motion as Differential Equation\n",
    "\n",
    "Before, we investigated the relationships between *displacement, velocity,* and *acceleration*.  In the language of differential equations, we can phrase this as\n",
    "\n",
    "$$a = \\frac{dv}{dt} = \\frac{d^2x}{dt^2}$$\n",
    "\n",
    "where we have\n",
    "\n",
    "$x = f(t)$\n",
    "\n",
    "for the motion of some particle along the $x$-axis."
   ]
  },
  {
   "cell_type": "code",
   "execution_count": 16,
   "metadata": {},
   "outputs": [
    {
     "name": "stdout",
     "output_type": "stream",
     "text": [
      "v(t) = C₁ + a⋅t\n"
     ]
    }
   ],
   "source": [
    "a = sy.Symbol('a')\n",
    "v = sy.Function(\"v\")(t)\n",
    "dv = sy.Derivative(v, t)\n",
    "diff_eq = sy.Eq(dv, a)\n",
    "soln = sy.dsolve(diff_eq)\n",
    "sy.pprint(soln)"
   ]
  },
  {
   "cell_type": "code",
   "execution_count": 17,
   "metadata": {},
   "outputs": [
    {
     "data": {
      "text/plain": [
       "[v0]"
      ]
     },
     "execution_count": 17,
     "metadata": {},
     "output_type": "execute_result"
    }
   ],
   "source": [
    "v0 = sy.Symbol('v0')\n",
    "initial_value = sy.Eq(c + a*0, v0)\n",
    "sy.solve(initial_value, c)"
   ]
  },
  {
   "cell_type": "code",
   "execution_count": 18,
   "metadata": {},
   "outputs": [
    {
     "name": "stdout",
     "output_type": "stream",
     "text": [
      "               2       \n",
      "            a⋅t        \n",
      "x(t) = C₁ + ──── + t⋅v₀\n",
      "             2         \n"
     ]
    }
   ],
   "source": [
    "x = sy.Function(\"x\")(t)\n",
    "dx = sy.Derivative(x, t)\n",
    "diff_eq = sy.Eq(dx, v0 + a*t)\n",
    "soln2 = sy.dsolve(diff_eq)\n",
    "sy.pprint(soln2)"
   ]
  },
  {
   "cell_type": "markdown",
   "metadata": {},
   "source": [
    "Thus we have\n",
    "\n",
    "$$v(t) = at + v_0$$\n",
    "\n",
    "and\n",
    "\n",
    "$$x(t) = \\frac{1}{2}at^2 + v_0 t + x_0$$\n",
    "\n",
    "### Problems\n",
    "\n",
    "Fintd the position function $x(t)$ for some particle given the information about the constant acceleration $a$, the initial velocity $v_0$, and initial position $x_0$.\n",
    "\n",
    "- $a(t) = 40, v_0 = 5, x_0 = 10$\n",
    "\n",
    "- $a(t) = -2, v_0 = 20, x_0 = 34$\n",
    "\n",
    "- $a(t) = 3t, v_0 = 2, x_0 = 4$\n",
    "\n"
   ]
  },
  {
   "cell_type": "code",
   "execution_count": null,
   "metadata": {
    "collapsed": true
   },
   "outputs": [],
   "source": []
  },
  {
   "cell_type": "markdown",
   "metadata": {},
   "source": [
    "## Force and Gravitational Acceleration\n",
    "\n",
    "One of the accomplishments of Newton's *Principia* was to set down laws of motion that were developed by assuming a universal force of gravity acting on all bodies.  The acceleration due to the Earth's gravity is approximated by 9.8 $m/s^2$.  Further, we can define the *weight* of a body as the force exerted by gravity on a body.  Newton's second law states that the Force on any body is equal to its mass times acceleration.  We call the unit of force required to move impart an acceleration of 1 $m/s^2$ to a mass of 1 kg a Newton.\n",
    "\n",
    "Thus, we have that $W = mg$.  \n",
    "\n",
    "Returning to our problems with motion, we note that we view the action on bodies on Earth as an acceleration due to gravity $g$, hence we have \n",
    "\n",
    "$$a = \\frac{dv}{dt}$$\n",
    "\n",
    "$$v(t) = -gt + v_0$$\n",
    "\n",
    "$$y(t) = \\frac{-1}{2}gt^2 + v_0t + y_0$$\n",
    "\n",
    "and can use these equations to solve some basic problems dealing with bodies in motion on Earth.  For example, suppose we throw a ball straight up from the ground with an initial velocity $v_0 = 90$ ft/sec, hence it reaches its maximum height when the velocity is zero, or\n",
    "\n",
    "$$v(t) = -32t +96 = 0$$\n",
    "\n",
    "or \n",
    "\n",
    "$$t = 3$$\n",
    "\n",
    "so we have a maximum height of \n",
    "\n",
    "$$y(3) = -1/2(32)(3^2) + 96(3) + 0 = 144ft$$\n",
    "\n",
    "\n",
    "### Problems\n",
    "\n",
    "\n",
    "- A projectile is fired straight up from the top of a building 30m high, with initial velocity of 40m/s.  Find its maximum height above the ground, when it passes the top of the building and its time in the air.\n",
    "\n",
    "- A bomb is dropped from a helicopter hovering at an altitude of 800 feet above the ground.  From the ground directly beneath the helicopter, a projectile is fired straight upward toward the bomb, exacly 2 seconds after the bomb is released.  With waht initial velocity should the projectile be fired, in order to hit the bomb at nan altitude of exacly 400 feet?"
   ]
  },
  {
   "cell_type": "code",
   "execution_count": null,
   "metadata": {
    "collapsed": true
   },
   "outputs": [],
   "source": []
  }
 ],
 "metadata": {
  "kernelspec": {
   "display_name": "Python 3",
   "language": "python",
   "name": "python3"
  },
  "language_info": {
   "codemirror_mode": {
    "name": "ipython",
    "version": 3
   },
   "file_extension": ".py",
   "mimetype": "text/x-python",
   "name": "python",
   "nbconvert_exporter": "python",
   "pygments_lexer": "ipython3",
   "version": "3.6.3"
  }
 },
 "nbformat": 4,
 "nbformat_minor": 2
}
