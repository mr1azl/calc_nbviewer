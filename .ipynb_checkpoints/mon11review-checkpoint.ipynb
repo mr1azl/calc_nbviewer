{
 "cells": [
  {
   "cell_type": "code",
   "execution_count": 1,
   "metadata": {},
   "outputs": [],
   "source": [
    "%matplotlib notebook\n",
    "import matplotlib.pyplot as plt\n",
    "import numpy as np\n",
    "import sympy as sy"
   ]
  },
  {
   "cell_type": "markdown",
   "metadata": {},
   "source": [
    "**PROBLEM I**\n",
    "\n",
    "![](images/mon-11/p1.png)"
   ]
  },
  {
   "cell_type": "markdown",
   "metadata": {},
   "source": [
    "**PROBLEM II**\n",
    "\n",
    "![](images/mon-11/p2.png)"
   ]
  },
  {
   "cell_type": "markdown",
   "metadata": {},
   "source": [
    "**PROBLEM III**\n",
    "\n",
    "![](images/mon-11/p3.png)"
   ]
  },
  {
   "cell_type": "markdown",
   "metadata": {},
   "source": [
    "**PROBLEM IV**\n",
    "\n",
    "![](images/mon-11/p4.png)"
   ]
  },
  {
   "cell_type": "markdown",
   "metadata": {},
   "source": [
    "### Writing\n",
    "\n",
    "**Classicists**\n",
    "\n",
    "1. Connect sums to volume of paraboloid?  Worked out completely?\n",
    "2. Cauchy's definition of the derivative.  Can you show how he used it to prove rules about differentiation?\n",
    "\n",
    "**Statisticians**\n",
    "\n",
    "1. Have you completed your experiment with different models?  Which is the best and why?\n",
    "2. Can you describe the distribution of each individual variable?  Does this mirror another distribution?\n",
    "\n",
    "**Visualizers**\n",
    "\n",
    "1. Riemann Sum plot completed?  \n",
    "2. Can you implement and use sliders?  (Check bokeh sin curve example)\n",
    "\n",
    "**Gender**\n",
    "\n",
    "1. Direction, structure, outline?\n",
    "2. Data or mathematical example?"
   ]
  }
 ],
 "metadata": {
  "kernelspec": {
   "display_name": "Python 3",
   "language": "python",
   "name": "python3"
  },
  "language_info": {
   "codemirror_mode": {
    "name": "ipython",
    "version": 3
   },
   "file_extension": ".py",
   "mimetype": "text/x-python",
   "name": "python",
   "nbconvert_exporter": "python",
   "pygments_lexer": "ipython3",
   "version": "3.6.3"
  }
 },
 "nbformat": 4,
 "nbformat_minor": 2
}
