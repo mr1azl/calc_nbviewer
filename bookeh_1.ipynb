{
 "cells": [
  {
   "cell_type": "markdown",
   "metadata": {},
   "source": [
    "# Introduction\n",
    "\n",
    "Plotting with Bokeh is similar to what we've been doing with `matplotlib`.  \n",
    "\n",
    "A simple start involves importing the `figure, ouput_notebook,` and `show` methods.  \n",
    "\n",
    "Next, we create a figure object, and add circular **glyphs** to this figure.  \n",
    "\n",
    "Finally, we ask the notebook to show the plot."
   ]
  },
  {
   "cell_type": "code",
   "execution_count": 19,
   "metadata": {},
   "outputs": [],
   "source": [
    "#import figure, output_notebook, and show\n",
    "#from bokeh plotting\n",
    "from bokeh.plotting import figure, output_notebook, show\n",
    "import numpy as np"
   ]
  },
  {
   "cell_type": "code",
   "execution_count": 8,
   "metadata": {
    "collapsed": true
   },
   "outputs": [],
   "source": [
    "#create a figure called p\n",
    "p = figure()"
   ]
  },
  {
   "cell_type": "code",
   "execution_count": 9,
   "metadata": {},
   "outputs": [
    {
     "data": {
      "text/html": [
       "<div style=\"display: table;\"><div style=\"display: table-row;\"><div style=\"display: table-cell;\"><b title=\"bokeh.models.renderers.GlyphRenderer\">GlyphRenderer</b>(</div><div style=\"display: table-cell;\">id&nbsp;=&nbsp;'64b6f658-6729-40dc-af79-230336b95569', <span id=\"6bcbd24b-06dd-4cab-9137-305c57054070\" style=\"cursor: pointer;\">&hellip;)</span></div></div><div class=\"3762307c-6160-4c2f-9968-ef2f96e6f041\" style=\"display: none;\"><div style=\"display: table-cell;\"></div><div style=\"display: table-cell;\">data_source&nbsp;=&nbsp;ColumnDataSource(id='066950ad-565a-462b-acf5-e828cff94ebb', ...),</div></div><div class=\"3762307c-6160-4c2f-9968-ef2f96e6f041\" style=\"display: none;\"><div style=\"display: table-cell;\"></div><div style=\"display: table-cell;\">glyph&nbsp;=&nbsp;Circle(id='191c31a5-110e-4f9e-8a9a-93c1f133d923', ...),</div></div><div class=\"3762307c-6160-4c2f-9968-ef2f96e6f041\" style=\"display: none;\"><div style=\"display: table-cell;\"></div><div style=\"display: table-cell;\">hover_glyph&nbsp;=&nbsp;None,</div></div><div class=\"3762307c-6160-4c2f-9968-ef2f96e6f041\" style=\"display: none;\"><div style=\"display: table-cell;\"></div><div style=\"display: table-cell;\">js_event_callbacks&nbsp;=&nbsp;{},</div></div><div class=\"3762307c-6160-4c2f-9968-ef2f96e6f041\" style=\"display: none;\"><div style=\"display: table-cell;\"></div><div style=\"display: table-cell;\">js_property_callbacks&nbsp;=&nbsp;{},</div></div><div class=\"3762307c-6160-4c2f-9968-ef2f96e6f041\" style=\"display: none;\"><div style=\"display: table-cell;\"></div><div style=\"display: table-cell;\">level&nbsp;=&nbsp;'glyph',</div></div><div class=\"3762307c-6160-4c2f-9968-ef2f96e6f041\" style=\"display: none;\"><div style=\"display: table-cell;\"></div><div style=\"display: table-cell;\">muted&nbsp;=&nbsp;False,</div></div><div class=\"3762307c-6160-4c2f-9968-ef2f96e6f041\" style=\"display: none;\"><div style=\"display: table-cell;\"></div><div style=\"display: table-cell;\">muted_glyph&nbsp;=&nbsp;None,</div></div><div class=\"3762307c-6160-4c2f-9968-ef2f96e6f041\" style=\"display: none;\"><div style=\"display: table-cell;\"></div><div style=\"display: table-cell;\">name&nbsp;=&nbsp;None,</div></div><div class=\"3762307c-6160-4c2f-9968-ef2f96e6f041\" style=\"display: none;\"><div style=\"display: table-cell;\"></div><div style=\"display: table-cell;\">nonselection_glyph&nbsp;=&nbsp;Circle(id='7396c53a-e725-4abe-8e6c-1130246076a9', ...),</div></div><div class=\"3762307c-6160-4c2f-9968-ef2f96e6f041\" style=\"display: none;\"><div style=\"display: table-cell;\"></div><div style=\"display: table-cell;\">selection_glyph&nbsp;=&nbsp;None,</div></div><div class=\"3762307c-6160-4c2f-9968-ef2f96e6f041\" style=\"display: none;\"><div style=\"display: table-cell;\"></div><div style=\"display: table-cell;\">subscribed_events&nbsp;=&nbsp;[],</div></div><div class=\"3762307c-6160-4c2f-9968-ef2f96e6f041\" style=\"display: none;\"><div style=\"display: table-cell;\"></div><div style=\"display: table-cell;\">tags&nbsp;=&nbsp;[],</div></div><div class=\"3762307c-6160-4c2f-9968-ef2f96e6f041\" style=\"display: none;\"><div style=\"display: table-cell;\"></div><div style=\"display: table-cell;\">view&nbsp;=&nbsp;CDSView(id='845b9b80-4d17-437b-b495-c80a8bd8f55a', ...),</div></div><div class=\"3762307c-6160-4c2f-9968-ef2f96e6f041\" style=\"display: none;\"><div style=\"display: table-cell;\"></div><div style=\"display: table-cell;\">visible&nbsp;=&nbsp;True,</div></div><div class=\"3762307c-6160-4c2f-9968-ef2f96e6f041\" style=\"display: none;\"><div style=\"display: table-cell;\"></div><div style=\"display: table-cell;\">x_range_name&nbsp;=&nbsp;'default',</div></div><div class=\"3762307c-6160-4c2f-9968-ef2f96e6f041\" style=\"display: none;\"><div style=\"display: table-cell;\"></div><div style=\"display: table-cell;\">y_range_name&nbsp;=&nbsp;'default')</div></div></div>\n",
       "<script>\n",
       "(function() {\n",
       "  var expanded = false;\n",
       "  var ellipsis = document.getElementById(\"6bcbd24b-06dd-4cab-9137-305c57054070\");\n",
       "  ellipsis.addEventListener(\"click\", function() {\n",
       "    var rows = document.getElementsByClassName(\"3762307c-6160-4c2f-9968-ef2f96e6f041\");\n",
       "    for (var i = 0; i < rows.length; i++) {\n",
       "      var el = rows[i];\n",
       "      el.style.display = expanded ? \"none\" : \"table-row\";\n",
       "    }\n",
       "    ellipsis.innerHTML = expanded ? \"&hellip;)\" : \"&lsaquo;&lsaquo;&lsaquo;\";\n",
       "    expanded = !expanded;\n",
       "  });\n",
       "})();\n",
       "</script>\n"
      ],
      "text/plain": [
       "GlyphRenderer(id='64b6f658-6729-40dc-af79-230336b95569', ...)"
      ]
     },
     "execution_count": 9,
     "metadata": {},
     "output_type": "execute_result"
    }
   ],
   "source": [
    "#create three circles at points (2,2), (4, 4), and (6, 6)\n",
    "p.circle([2, 4, 6], [2, 4, 6])"
   ]
  },
  {
   "cell_type": "code",
   "execution_count": 10,
   "metadata": {},
   "outputs": [
    {
     "data": {
      "text/html": [
       "\n",
       "    <div class=\"bk-root\">\n",
       "        <a href=\"https://bokeh.pydata.org\" target=\"_blank\" class=\"bk-logo bk-logo-small bk-logo-notebook\"></a>\n",
       "        <span id=\"0286c8db-4aa1-48cd-a751-110df75ae4ae\">Loading BokehJS ...</span>\n",
       "    </div>"
      ]
     },
     "metadata": {},
     "output_type": "display_data"
    },
    {
     "data": {
      "application/javascript": [
       "\n",
       "(function(root) {\n",
       "  function now() {\n",
       "    return new Date();\n",
       "  }\n",
       "\n",
       "  var force = true;\n",
       "\n",
       "  if (typeof (root._bokeh_onload_callbacks) === \"undefined\" || force === true) {\n",
       "    root._bokeh_onload_callbacks = [];\n",
       "    root._bokeh_is_loading = undefined;\n",
       "  }\n",
       "\n",
       "  var JS_MIME_TYPE = 'application/javascript';\n",
       "  var HTML_MIME_TYPE = 'text/html';\n",
       "  var EXEC_MIME_TYPE = 'application/vnd.bokehjs_exec.v0+json';\n",
       "  var CLASS_NAME = 'output_bokeh rendered_html';\n",
       "\n",
       "  /**\n",
       "   * Render data to the DOM node\n",
       "   */\n",
       "  function render(props, node) {\n",
       "    var script = document.createElement(\"script\");\n",
       "    node.appendChild(script);\n",
       "  }\n",
       "\n",
       "  /**\n",
       "   * Handle when an output is cleared or removed\n",
       "   */\n",
       "  function handleClearOutput(event, handle) {\n",
       "    var cell = handle.cell;\n",
       "\n",
       "    var id = cell.output_area._bokeh_element_id;\n",
       "    var server_id = cell.output_area._bokeh_server_id;\n",
       "    // Clean up Bokeh references\n",
       "    if (id !== undefined) {\n",
       "      Bokeh.index[id].model.document.clear();\n",
       "      delete Bokeh.index[id];\n",
       "    }\n",
       "\n",
       "    if (server_id !== undefined) {\n",
       "      // Clean up Bokeh references\n",
       "      var cmd = \"from bokeh.io.state import curstate; print(curstate().uuid_to_server['\" + server_id + \"'].get_sessions()[0].document.roots[0]._id)\";\n",
       "      cell.notebook.kernel.execute(cmd, {\n",
       "        iopub: {\n",
       "          output: function(msg) {\n",
       "            var element_id = msg.content.text.trim();\n",
       "            Bokeh.index[element_id].model.document.clear();\n",
       "            delete Bokeh.index[element_id];\n",
       "          }\n",
       "        }\n",
       "      });\n",
       "      // Destroy server and session\n",
       "      var cmd = \"import bokeh.io.notebook as ion; ion.destroy_server('\" + server_id + \"')\";\n",
       "      cell.notebook.kernel.execute(cmd);\n",
       "    }\n",
       "  }\n",
       "\n",
       "  /**\n",
       "   * Handle when a new output is added\n",
       "   */\n",
       "  function handleAddOutput(event, handle) {\n",
       "    var output_area = handle.output_area;\n",
       "    var output = handle.output;\n",
       "\n",
       "    // limit handleAddOutput to display_data with EXEC_MIME_TYPE content only\n",
       "    if ((output.output_type != \"display_data\") || (!output.data.hasOwnProperty(EXEC_MIME_TYPE))) {\n",
       "      return\n",
       "    }\n",
       "\n",
       "    var toinsert = output_area.element.find(`.${CLASS_NAME.split(' ')[0]}`);\n",
       "\n",
       "    if (output.metadata[EXEC_MIME_TYPE][\"id\"] !== undefined) {\n",
       "      toinsert[0].firstChild.textContent = output.data[JS_MIME_TYPE];\n",
       "      // store reference to embed id on output_area\n",
       "      output_area._bokeh_element_id = output.metadata[EXEC_MIME_TYPE][\"id\"];\n",
       "    }\n",
       "    if (output.metadata[EXEC_MIME_TYPE][\"server_id\"] !== undefined) {\n",
       "      var bk_div = document.createElement(\"div\");\n",
       "      bk_div.innerHTML = output.data[HTML_MIME_TYPE];\n",
       "      var script_attrs = bk_div.children[0].attributes;\n",
       "      for (var i = 0; i < script_attrs.length; i++) {\n",
       "        toinsert[0].firstChild.setAttribute(script_attrs[i].name, script_attrs[i].value);\n",
       "      }\n",
       "      // store reference to server id on output_area\n",
       "      output_area._bokeh_server_id = output.metadata[EXEC_MIME_TYPE][\"server_id\"];\n",
       "    }\n",
       "  }\n",
       "\n",
       "  function register_renderer(events, OutputArea) {\n",
       "\n",
       "    function append_mime(data, metadata, element) {\n",
       "      // create a DOM node to render to\n",
       "      var toinsert = this.create_output_subarea(\n",
       "        metadata,\n",
       "        CLASS_NAME,\n",
       "        EXEC_MIME_TYPE\n",
       "      );\n",
       "      this.keyboard_manager.register_events(toinsert);\n",
       "      // Render to node\n",
       "      var props = {data: data, metadata: metadata[EXEC_MIME_TYPE]};\n",
       "      render(props, toinsert[0]);\n",
       "      element.append(toinsert);\n",
       "      return toinsert\n",
       "    }\n",
       "\n",
       "    /* Handle when an output is cleared or removed */\n",
       "    events.on('clear_output.CodeCell', handleClearOutput);\n",
       "    events.on('delete.Cell', handleClearOutput);\n",
       "\n",
       "    /* Handle when a new output is added */\n",
       "    events.on('output_added.OutputArea', handleAddOutput);\n",
       "\n",
       "    /**\n",
       "     * Register the mime type and append_mime function with output_area\n",
       "     */\n",
       "    OutputArea.prototype.register_mime_type(EXEC_MIME_TYPE, append_mime, {\n",
       "      /* Is output safe? */\n",
       "      safe: true,\n",
       "      /* Index of renderer in `output_area.display_order` */\n",
       "      index: 0\n",
       "    });\n",
       "  }\n",
       "\n",
       "  // register the mime type if in Jupyter Notebook environment and previously unregistered\n",
       "  if (root.Jupyter !== undefined) {\n",
       "    var events = require('base/js/events');\n",
       "    var OutputArea = require('notebook/js/outputarea').OutputArea;\n",
       "\n",
       "    if (OutputArea.prototype.mime_types().indexOf(EXEC_MIME_TYPE) == -1) {\n",
       "      register_renderer(events, OutputArea);\n",
       "    }\n",
       "  }\n",
       "\n",
       "  \n",
       "  if (typeof (root._bokeh_timeout) === \"undefined\" || force === true) {\n",
       "    root._bokeh_timeout = Date.now() + 5000;\n",
       "    root._bokeh_failed_load = false;\n",
       "  }\n",
       "\n",
       "  var NB_LOAD_WARNING = {'data': {'text/html':\n",
       "     \"<div style='background-color: #fdd'>\\n\"+\n",
       "     \"<p>\\n\"+\n",
       "     \"BokehJS does not appear to have successfully loaded. If loading BokehJS from CDN, this \\n\"+\n",
       "     \"may be due to a slow or bad network connection. Possible fixes:\\n\"+\n",
       "     \"</p>\\n\"+\n",
       "     \"<ul>\\n\"+\n",
       "     \"<li>re-rerun `output_notebook()` to attempt to load from CDN again, or</li>\\n\"+\n",
       "     \"<li>use INLINE resources instead, as so:</li>\\n\"+\n",
       "     \"</ul>\\n\"+\n",
       "     \"<code>\\n\"+\n",
       "     \"from bokeh.resources import INLINE\\n\"+\n",
       "     \"output_notebook(resources=INLINE)\\n\"+\n",
       "     \"</code>\\n\"+\n",
       "     \"</div>\"}};\n",
       "\n",
       "  function display_loaded() {\n",
       "    var el = document.getElementById(\"0286c8db-4aa1-48cd-a751-110df75ae4ae\");\n",
       "    if (el != null) {\n",
       "      el.textContent = \"BokehJS is loading...\";\n",
       "    }\n",
       "    if (root.Bokeh !== undefined) {\n",
       "      if (el != null) {\n",
       "        el.textContent = \"BokehJS \" + root.Bokeh.version + \" successfully loaded.\";\n",
       "      }\n",
       "    } else if (Date.now() < root._bokeh_timeout) {\n",
       "      setTimeout(display_loaded, 100)\n",
       "    }\n",
       "  }\n",
       "\n",
       "\n",
       "  function run_callbacks() {\n",
       "    try {\n",
       "      root._bokeh_onload_callbacks.forEach(function(callback) { callback() });\n",
       "    }\n",
       "    finally {\n",
       "      delete root._bokeh_onload_callbacks\n",
       "    }\n",
       "    console.info(\"Bokeh: all callbacks have finished\");\n",
       "  }\n",
       "\n",
       "  function load_libs(js_urls, callback) {\n",
       "    root._bokeh_onload_callbacks.push(callback);\n",
       "    if (root._bokeh_is_loading > 0) {\n",
       "      console.log(\"Bokeh: BokehJS is being loaded, scheduling callback at\", now());\n",
       "      return null;\n",
       "    }\n",
       "    if (js_urls == null || js_urls.length === 0) {\n",
       "      run_callbacks();\n",
       "      return null;\n",
       "    }\n",
       "    console.log(\"Bokeh: BokehJS not loaded, scheduling load and callback at\", now());\n",
       "    root._bokeh_is_loading = js_urls.length;\n",
       "    for (var i = 0; i < js_urls.length; i++) {\n",
       "      var url = js_urls[i];\n",
       "      var s = document.createElement('script');\n",
       "      s.src = url;\n",
       "      s.async = false;\n",
       "      s.onreadystatechange = s.onload = function() {\n",
       "        root._bokeh_is_loading--;\n",
       "        if (root._bokeh_is_loading === 0) {\n",
       "          console.log(\"Bokeh: all BokehJS libraries loaded\");\n",
       "          run_callbacks()\n",
       "        }\n",
       "      };\n",
       "      s.onerror = function() {\n",
       "        console.warn(\"failed to load library \" + url);\n",
       "      };\n",
       "      console.log(\"Bokeh: injecting script tag for BokehJS library: \", url);\n",
       "      document.getElementsByTagName(\"head\")[0].appendChild(s);\n",
       "    }\n",
       "  };var element = document.getElementById(\"0286c8db-4aa1-48cd-a751-110df75ae4ae\");\n",
       "  if (element == null) {\n",
       "    console.log(\"Bokeh: ERROR: autoload.js configured with elementid '0286c8db-4aa1-48cd-a751-110df75ae4ae' but no matching script tag was found. \")\n",
       "    return false;\n",
       "  }\n",
       "\n",
       "  var js_urls = [\"https://cdn.pydata.org/bokeh/release/bokeh-0.12.10.min.js\", \"https://cdn.pydata.org/bokeh/release/bokeh-widgets-0.12.10.min.js\", \"https://cdn.pydata.org/bokeh/release/bokeh-tables-0.12.10.min.js\", \"https://cdn.pydata.org/bokeh/release/bokeh-gl-0.12.10.min.js\"];\n",
       "\n",
       "  var inline_js = [\n",
       "    function(Bokeh) {\n",
       "      Bokeh.set_log_level(\"info\");\n",
       "    },\n",
       "    \n",
       "    function(Bokeh) {\n",
       "      \n",
       "    },\n",
       "    function(Bokeh) {\n",
       "      console.log(\"Bokeh: injecting CSS: https://cdn.pydata.org/bokeh/release/bokeh-0.12.10.min.css\");\n",
       "      Bokeh.embed.inject_css(\"https://cdn.pydata.org/bokeh/release/bokeh-0.12.10.min.css\");\n",
       "      console.log(\"Bokeh: injecting CSS: https://cdn.pydata.org/bokeh/release/bokeh-widgets-0.12.10.min.css\");\n",
       "      Bokeh.embed.inject_css(\"https://cdn.pydata.org/bokeh/release/bokeh-widgets-0.12.10.min.css\");\n",
       "      console.log(\"Bokeh: injecting CSS: https://cdn.pydata.org/bokeh/release/bokeh-tables-0.12.10.min.css\");\n",
       "      Bokeh.embed.inject_css(\"https://cdn.pydata.org/bokeh/release/bokeh-tables-0.12.10.min.css\");\n",
       "    }\n",
       "  ];\n",
       "\n",
       "  function run_inline_js() {\n",
       "    \n",
       "    if ((root.Bokeh !== undefined) || (force === true)) {\n",
       "      for (var i = 0; i < inline_js.length; i++) {\n",
       "        inline_js[i].call(root, root.Bokeh);\n",
       "      }if (force === true) {\n",
       "        display_loaded();\n",
       "      }} else if (Date.now() < root._bokeh_timeout) {\n",
       "      setTimeout(run_inline_js, 100);\n",
       "    } else if (!root._bokeh_failed_load) {\n",
       "      console.log(\"Bokeh: BokehJS failed to load within specified timeout.\");\n",
       "      root._bokeh_failed_load = true;\n",
       "    } else if (force !== true) {\n",
       "      var cell = $(document.getElementById(\"0286c8db-4aa1-48cd-a751-110df75ae4ae\")).parents('.cell').data().cell;\n",
       "      cell.output_area.append_execute_result(NB_LOAD_WARNING)\n",
       "    }\n",
       "\n",
       "  }\n",
       "\n",
       "  if (root._bokeh_is_loading === 0) {\n",
       "    console.log(\"Bokeh: BokehJS loaded, going straight to plotting\");\n",
       "    run_inline_js();\n",
       "  } else {\n",
       "    load_libs(js_urls, function() {\n",
       "      console.log(\"Bokeh: BokehJS plotting callback run at\", now());\n",
       "      run_inline_js();\n",
       "    });\n",
       "  }\n",
       "}(window));"
      ],
      "application/vnd.bokehjs_load.v0+json": "\n(function(root) {\n  function now() {\n    return new Date();\n  }\n\n  var force = true;\n\n  if (typeof (root._bokeh_onload_callbacks) === \"undefined\" || force === true) {\n    root._bokeh_onload_callbacks = [];\n    root._bokeh_is_loading = undefined;\n  }\n\n  \n\n  \n  if (typeof (root._bokeh_timeout) === \"undefined\" || force === true) {\n    root._bokeh_timeout = Date.now() + 5000;\n    root._bokeh_failed_load = false;\n  }\n\n  var NB_LOAD_WARNING = {'data': {'text/html':\n     \"<div style='background-color: #fdd'>\\n\"+\n     \"<p>\\n\"+\n     \"BokehJS does not appear to have successfully loaded. If loading BokehJS from CDN, this \\n\"+\n     \"may be due to a slow or bad network connection. Possible fixes:\\n\"+\n     \"</p>\\n\"+\n     \"<ul>\\n\"+\n     \"<li>re-rerun `output_notebook()` to attempt to load from CDN again, or</li>\\n\"+\n     \"<li>use INLINE resources instead, as so:</li>\\n\"+\n     \"</ul>\\n\"+\n     \"<code>\\n\"+\n     \"from bokeh.resources import INLINE\\n\"+\n     \"output_notebook(resources=INLINE)\\n\"+\n     \"</code>\\n\"+\n     \"</div>\"}};\n\n  function display_loaded() {\n    var el = document.getElementById(\"0286c8db-4aa1-48cd-a751-110df75ae4ae\");\n    if (el != null) {\n      el.textContent = \"BokehJS is loading...\";\n    }\n    if (root.Bokeh !== undefined) {\n      if (el != null) {\n        el.textContent = \"BokehJS \" + root.Bokeh.version + \" successfully loaded.\";\n      }\n    } else if (Date.now() < root._bokeh_timeout) {\n      setTimeout(display_loaded, 100)\n    }\n  }\n\n\n  function run_callbacks() {\n    try {\n      root._bokeh_onload_callbacks.forEach(function(callback) { callback() });\n    }\n    finally {\n      delete root._bokeh_onload_callbacks\n    }\n    console.info(\"Bokeh: all callbacks have finished\");\n  }\n\n  function load_libs(js_urls, callback) {\n    root._bokeh_onload_callbacks.push(callback);\n    if (root._bokeh_is_loading > 0) {\n      console.log(\"Bokeh: BokehJS is being loaded, scheduling callback at\", now());\n      return null;\n    }\n    if (js_urls == null || js_urls.length === 0) {\n      run_callbacks();\n      return null;\n    }\n    console.log(\"Bokeh: BokehJS not loaded, scheduling load and callback at\", now());\n    root._bokeh_is_loading = js_urls.length;\n    for (var i = 0; i < js_urls.length; i++) {\n      var url = js_urls[i];\n      var s = document.createElement('script');\n      s.src = url;\n      s.async = false;\n      s.onreadystatechange = s.onload = function() {\n        root._bokeh_is_loading--;\n        if (root._bokeh_is_loading === 0) {\n          console.log(\"Bokeh: all BokehJS libraries loaded\");\n          run_callbacks()\n        }\n      };\n      s.onerror = function() {\n        console.warn(\"failed to load library \" + url);\n      };\n      console.log(\"Bokeh: injecting script tag for BokehJS library: \", url);\n      document.getElementsByTagName(\"head\")[0].appendChild(s);\n    }\n  };var element = document.getElementById(\"0286c8db-4aa1-48cd-a751-110df75ae4ae\");\n  if (element == null) {\n    console.log(\"Bokeh: ERROR: autoload.js configured with elementid '0286c8db-4aa1-48cd-a751-110df75ae4ae' but no matching script tag was found. \")\n    return false;\n  }\n\n  var js_urls = [\"https://cdn.pydata.org/bokeh/release/bokeh-0.12.10.min.js\", \"https://cdn.pydata.org/bokeh/release/bokeh-widgets-0.12.10.min.js\", \"https://cdn.pydata.org/bokeh/release/bokeh-tables-0.12.10.min.js\", \"https://cdn.pydata.org/bokeh/release/bokeh-gl-0.12.10.min.js\"];\n\n  var inline_js = [\n    function(Bokeh) {\n      Bokeh.set_log_level(\"info\");\n    },\n    \n    function(Bokeh) {\n      \n    },\n    function(Bokeh) {\n      console.log(\"Bokeh: injecting CSS: https://cdn.pydata.org/bokeh/release/bokeh-0.12.10.min.css\");\n      Bokeh.embed.inject_css(\"https://cdn.pydata.org/bokeh/release/bokeh-0.12.10.min.css\");\n      console.log(\"Bokeh: injecting CSS: https://cdn.pydata.org/bokeh/release/bokeh-widgets-0.12.10.min.css\");\n      Bokeh.embed.inject_css(\"https://cdn.pydata.org/bokeh/release/bokeh-widgets-0.12.10.min.css\");\n      console.log(\"Bokeh: injecting CSS: https://cdn.pydata.org/bokeh/release/bokeh-tables-0.12.10.min.css\");\n      Bokeh.embed.inject_css(\"https://cdn.pydata.org/bokeh/release/bokeh-tables-0.12.10.min.css\");\n    }\n  ];\n\n  function run_inline_js() {\n    \n    if ((root.Bokeh !== undefined) || (force === true)) {\n      for (var i = 0; i < inline_js.length; i++) {\n        inline_js[i].call(root, root.Bokeh);\n      }if (force === true) {\n        display_loaded();\n      }} else if (Date.now() < root._bokeh_timeout) {\n      setTimeout(run_inline_js, 100);\n    } else if (!root._bokeh_failed_load) {\n      console.log(\"Bokeh: BokehJS failed to load within specified timeout.\");\n      root._bokeh_failed_load = true;\n    } else if (force !== true) {\n      var cell = $(document.getElementById(\"0286c8db-4aa1-48cd-a751-110df75ae4ae\")).parents('.cell').data().cell;\n      cell.output_area.append_execute_result(NB_LOAD_WARNING)\n    }\n\n  }\n\n  if (root._bokeh_is_loading === 0) {\n    console.log(\"Bokeh: BokehJS loaded, going straight to plotting\");\n    run_inline_js();\n  } else {\n    load_libs(js_urls, function() {\n      console.log(\"Bokeh: BokehJS plotting callback run at\", now());\n      run_inline_js();\n    });\n  }\n}(window));"
     },
     "metadata": {},
     "output_type": "display_data"
    }
   ],
   "source": [
    "#make plot appear in notebook\n",
    "output_notebook()"
   ]
  },
  {
   "cell_type": "code",
   "execution_count": 11,
   "metadata": {},
   "outputs": [
    {
     "data": {
      "text/html": [
       "\n",
       "<div class=\"bk-root\">\n",
       "    <div class=\"bk-plotdiv\" id=\"5e276d1b-2701-4d4a-95f2-5d2adf2c0131\"></div>\n",
       "</div>"
      ]
     },
     "metadata": {},
     "output_type": "display_data"
    },
    {
     "data": {
      "application/javascript": [
       "(function(root) {\n",
       "  function embed_document(root) {\n",
       "    var docs_json = {\"e2b3b60e-9db8-49de-b3ec-d438f3a5072f\":{\"roots\":{\"references\":[{\"attributes\":{},\"id\":\"0b96057b-93f9-40ec-8a4b-0e3aeb0f2572\",\"type\":\"ResetTool\"},{\"attributes\":{\"callback\":null,\"column_names\":[\"x\",\"y\"],\"data\":{\"x\":[2,4,6],\"y\":[2,4,6]}},\"id\":\"066950ad-565a-462b-acf5-e828cff94ebb\",\"type\":\"ColumnDataSource\"},{\"attributes\":{},\"id\":\"b4336c49-2d71-491a-b6b4-f61524fc3533\",\"type\":\"BasicTicker\"},{\"attributes\":{},\"id\":\"602b0126-1ea5-4de3-99c7-d964a0112dd8\",\"type\":\"BasicTickFormatter\"},{\"attributes\":{\"formatter\":{\"id\":\"602b0126-1ea5-4de3-99c7-d964a0112dd8\",\"type\":\"BasicTickFormatter\"},\"plot\":{\"id\":\"d30cadb6-6821-4f81-ba21-701d352b0ee8\",\"subtype\":\"Figure\",\"type\":\"Plot\"},\"ticker\":{\"id\":\"b4336c49-2d71-491a-b6b4-f61524fc3533\",\"type\":\"BasicTicker\"}},\"id\":\"67880e85-4590-4ca6-bb4a-59af99c52081\",\"type\":\"LinearAxis\"},{\"attributes\":{\"fill_alpha\":{\"value\":0.1},\"fill_color\":{\"value\":\"#1f77b4\"},\"line_alpha\":{\"value\":0.1},\"line_color\":{\"value\":\"#1f77b4\"},\"x\":{\"field\":\"x\"},\"y\":{\"field\":\"y\"}},\"id\":\"7396c53a-e725-4abe-8e6c-1130246076a9\",\"type\":\"Circle\"},{\"attributes\":{},\"id\":\"a9d586fc-fe8f-4601-bd37-c5d2d7039d67\",\"type\":\"BasicTicker\"},{\"attributes\":{\"bottom_units\":\"screen\",\"fill_alpha\":{\"value\":0.5},\"fill_color\":{\"value\":\"lightgrey\"},\"left_units\":\"screen\",\"level\":\"overlay\",\"line_alpha\":{\"value\":1.0},\"line_color\":{\"value\":\"black\"},\"line_dash\":[4,4],\"line_width\":{\"value\":2},\"plot\":null,\"render_mode\":\"css\",\"right_units\":\"screen\",\"top_units\":\"screen\"},\"id\":\"99ec18ab-cc3d-4a22-9d3c-554f61b74490\",\"type\":\"BoxAnnotation\"},{\"attributes\":{\"plot\":{\"id\":\"d30cadb6-6821-4f81-ba21-701d352b0ee8\",\"subtype\":\"Figure\",\"type\":\"Plot\"},\"ticker\":{\"id\":\"a9d586fc-fe8f-4601-bd37-c5d2d7039d67\",\"type\":\"BasicTicker\"}},\"id\":\"e4d4bcd1-f2fa-4b5e-8a3d-fcded54895ff\",\"type\":\"Grid\"},{\"attributes\":{\"source\":{\"id\":\"066950ad-565a-462b-acf5-e828cff94ebb\",\"type\":\"ColumnDataSource\"}},\"id\":\"845b9b80-4d17-437b-b495-c80a8bd8f55a\",\"type\":\"CDSView\"},{\"attributes\":{},\"id\":\"24c7e32e-339c-4fb0-84a7-2507a1e69f93\",\"type\":\"SaveTool\"},{\"attributes\":{},\"id\":\"7c703154-bb2e-4f39-805b-fd25a290927a\",\"type\":\"LinearScale\"},{\"attributes\":{\"below\":[{\"id\":\"1a51510e-7c83-48c0-8c73-3e6b87d8f5d6\",\"type\":\"LinearAxis\"}],\"left\":[{\"id\":\"67880e85-4590-4ca6-bb4a-59af99c52081\",\"type\":\"LinearAxis\"}],\"renderers\":[{\"id\":\"1a51510e-7c83-48c0-8c73-3e6b87d8f5d6\",\"type\":\"LinearAxis\"},{\"id\":\"e4d4bcd1-f2fa-4b5e-8a3d-fcded54895ff\",\"type\":\"Grid\"},{\"id\":\"67880e85-4590-4ca6-bb4a-59af99c52081\",\"type\":\"LinearAxis\"},{\"id\":\"ad5a092c-7f49-4b99-812d-93ee06866b65\",\"type\":\"Grid\"},{\"id\":\"99ec18ab-cc3d-4a22-9d3c-554f61b74490\",\"type\":\"BoxAnnotation\"},{\"id\":\"64b6f658-6729-40dc-af79-230336b95569\",\"type\":\"GlyphRenderer\"}],\"title\":{\"id\":\"59072fbc-f571-456c-9360-94dba025b379\",\"type\":\"Title\"},\"toolbar\":{\"id\":\"dbde7037-7cb3-41bb-9e33-312fae72d47a\",\"type\":\"Toolbar\"},\"x_range\":{\"id\":\"3349e498-8643-4fdb-ac41-19ca458c85d2\",\"type\":\"DataRange1d\"},\"x_scale\":{\"id\":\"30374988-2590-4f16-9a98-16f20753871c\",\"type\":\"LinearScale\"},\"y_range\":{\"id\":\"778631a8-a255-4cd1-8b3e-62d566dd8af7\",\"type\":\"DataRange1d\"},\"y_scale\":{\"id\":\"7c703154-bb2e-4f39-805b-fd25a290927a\",\"type\":\"LinearScale\"}},\"id\":\"d30cadb6-6821-4f81-ba21-701d352b0ee8\",\"subtype\":\"Figure\",\"type\":\"Plot\"},{\"attributes\":{\"formatter\":{\"id\":\"00e28d1e-3951-49d1-a215-fb311a9cc467\",\"type\":\"BasicTickFormatter\"},\"plot\":{\"id\":\"d30cadb6-6821-4f81-ba21-701d352b0ee8\",\"subtype\":\"Figure\",\"type\":\"Plot\"},\"ticker\":{\"id\":\"a9d586fc-fe8f-4601-bd37-c5d2d7039d67\",\"type\":\"BasicTicker\"}},\"id\":\"1a51510e-7c83-48c0-8c73-3e6b87d8f5d6\",\"type\":\"LinearAxis\"},{\"attributes\":{\"fill_color\":{\"value\":\"#1f77b4\"},\"line_color\":{\"value\":\"#1f77b4\"},\"x\":{\"field\":\"x\"},\"y\":{\"field\":\"y\"}},\"id\":\"191c31a5-110e-4f9e-8a9a-93c1f133d923\",\"type\":\"Circle\"},{\"attributes\":{\"plot\":null,\"text\":\"\"},\"id\":\"59072fbc-f571-456c-9360-94dba025b379\",\"type\":\"Title\"},{\"attributes\":{},\"id\":\"30374988-2590-4f16-9a98-16f20753871c\",\"type\":\"LinearScale\"},{\"attributes\":{\"callback\":null},\"id\":\"778631a8-a255-4cd1-8b3e-62d566dd8af7\",\"type\":\"DataRange1d\"},{\"attributes\":{},\"id\":\"00e28d1e-3951-49d1-a215-fb311a9cc467\",\"type\":\"BasicTickFormatter\"},{\"attributes\":{\"callback\":null},\"id\":\"3349e498-8643-4fdb-ac41-19ca458c85d2\",\"type\":\"DataRange1d\"},{\"attributes\":{\"overlay\":{\"id\":\"99ec18ab-cc3d-4a22-9d3c-554f61b74490\",\"type\":\"BoxAnnotation\"}},\"id\":\"4dc254e6-1785-44f0-a67a-82047d6c0b20\",\"type\":\"BoxZoomTool\"},{\"attributes\":{\"data_source\":{\"id\":\"066950ad-565a-462b-acf5-e828cff94ebb\",\"type\":\"ColumnDataSource\"},\"glyph\":{\"id\":\"191c31a5-110e-4f9e-8a9a-93c1f133d923\",\"type\":\"Circle\"},\"hover_glyph\":null,\"muted_glyph\":null,\"nonselection_glyph\":{\"id\":\"7396c53a-e725-4abe-8e6c-1130246076a9\",\"type\":\"Circle\"},\"selection_glyph\":null,\"view\":{\"id\":\"845b9b80-4d17-437b-b495-c80a8bd8f55a\",\"type\":\"CDSView\"}},\"id\":\"64b6f658-6729-40dc-af79-230336b95569\",\"type\":\"GlyphRenderer\"},{\"attributes\":{\"dimension\":1,\"plot\":{\"id\":\"d30cadb6-6821-4f81-ba21-701d352b0ee8\",\"subtype\":\"Figure\",\"type\":\"Plot\"},\"ticker\":{\"id\":\"b4336c49-2d71-491a-b6b4-f61524fc3533\",\"type\":\"BasicTicker\"}},\"id\":\"ad5a092c-7f49-4b99-812d-93ee06866b65\",\"type\":\"Grid\"},{\"attributes\":{},\"id\":\"ca03f4e2-b020-4f5d-9872-fb7665dbcac9\",\"type\":\"WheelZoomTool\"},{\"attributes\":{},\"id\":\"a5a462a4-0636-4182-8a1a-41fa62313c6e\",\"type\":\"HelpTool\"},{\"attributes\":{\"active_drag\":\"auto\",\"active_inspect\":\"auto\",\"active_scroll\":\"auto\",\"active_tap\":\"auto\",\"tools\":[{\"id\":\"c8feba53-7f41-4d81-95a5-bb4ba01e81dc\",\"type\":\"PanTool\"},{\"id\":\"ca03f4e2-b020-4f5d-9872-fb7665dbcac9\",\"type\":\"WheelZoomTool\"},{\"id\":\"4dc254e6-1785-44f0-a67a-82047d6c0b20\",\"type\":\"BoxZoomTool\"},{\"id\":\"24c7e32e-339c-4fb0-84a7-2507a1e69f93\",\"type\":\"SaveTool\"},{\"id\":\"0b96057b-93f9-40ec-8a4b-0e3aeb0f2572\",\"type\":\"ResetTool\"},{\"id\":\"a5a462a4-0636-4182-8a1a-41fa62313c6e\",\"type\":\"HelpTool\"}]},\"id\":\"dbde7037-7cb3-41bb-9e33-312fae72d47a\",\"type\":\"Toolbar\"},{\"attributes\":{},\"id\":\"c8feba53-7f41-4d81-95a5-bb4ba01e81dc\",\"type\":\"PanTool\"}],\"root_ids\":[\"d30cadb6-6821-4f81-ba21-701d352b0ee8\"]},\"title\":\"Bokeh Application\",\"version\":\"0.12.10\"}};\n",
       "    var render_items = [{\"docid\":\"e2b3b60e-9db8-49de-b3ec-d438f3a5072f\",\"elementid\":\"5e276d1b-2701-4d4a-95f2-5d2adf2c0131\",\"modelid\":\"d30cadb6-6821-4f81-ba21-701d352b0ee8\"}];\n",
       "\n",
       "    root.Bokeh.embed.embed_items(docs_json, render_items);\n",
       "  }\n",
       "\n",
       "  if (root.Bokeh !== undefined) {\n",
       "    embed_document(root);\n",
       "  } else {\n",
       "    var attempts = 0;\n",
       "    var timer = setInterval(function(root) {\n",
       "      if (root.Bokeh !== undefined) {\n",
       "        embed_document(root);\n",
       "        clearInterval(timer);\n",
       "      }\n",
       "      attempts++;\n",
       "      if (attempts > 100) {\n",
       "        console.log(\"Bokeh: ERROR: Unable to embed document because BokehJS library is missing\")\n",
       "        clearInterval(timer);\n",
       "      }\n",
       "    }, 10, root)\n",
       "  }\n",
       "})(window);"
      ],
      "application/vnd.bokehjs_exec.v0+json": ""
     },
     "metadata": {
      "application/vnd.bokehjs_exec.v0+json": {
       "id": "d30cadb6-6821-4f81-ba21-701d352b0ee8"
      }
     },
     "output_type": "display_data"
    }
   ],
   "source": [
    "#show the plot\n",
    "show(p)"
   ]
  },
  {
   "cell_type": "markdown",
   "metadata": {},
   "source": [
    "We can customize the `size`, `color`, and `alpha` parameters of the circle."
   ]
  },
  {
   "cell_type": "code",
   "execution_count": 16,
   "metadata": {},
   "outputs": [
    {
     "data": {
      "text/html": [
       "<div style=\"display: table;\"><div style=\"display: table-row;\"><div style=\"display: table-cell;\"><b title=\"bokeh.models.renderers.GlyphRenderer\">GlyphRenderer</b>(</div><div style=\"display: table-cell;\">id&nbsp;=&nbsp;'04016a2b-0f8d-4dcc-a3c2-2c8cd932b02e', <span id=\"b2f68ac5-f3ec-4f99-9843-0bfd3f8389bc\" style=\"cursor: pointer;\">&hellip;)</span></div></div><div class=\"e68221ef-6835-42a6-995a-90ad8359695b\" style=\"display: none;\"><div style=\"display: table-cell;\"></div><div style=\"display: table-cell;\">data_source&nbsp;=&nbsp;ColumnDataSource(id='31899273-e211-4dac-a931-772b68709479', ...),</div></div><div class=\"e68221ef-6835-42a6-995a-90ad8359695b\" style=\"display: none;\"><div style=\"display: table-cell;\"></div><div style=\"display: table-cell;\">glyph&nbsp;=&nbsp;Circle(id='f965b589-8811-4fcc-95b9-82d2c174869b', ...),</div></div><div class=\"e68221ef-6835-42a6-995a-90ad8359695b\" style=\"display: none;\"><div style=\"display: table-cell;\"></div><div style=\"display: table-cell;\">hover_glyph&nbsp;=&nbsp;None,</div></div><div class=\"e68221ef-6835-42a6-995a-90ad8359695b\" style=\"display: none;\"><div style=\"display: table-cell;\"></div><div style=\"display: table-cell;\">js_event_callbacks&nbsp;=&nbsp;{},</div></div><div class=\"e68221ef-6835-42a6-995a-90ad8359695b\" style=\"display: none;\"><div style=\"display: table-cell;\"></div><div style=\"display: table-cell;\">js_property_callbacks&nbsp;=&nbsp;{},</div></div><div class=\"e68221ef-6835-42a6-995a-90ad8359695b\" style=\"display: none;\"><div style=\"display: table-cell;\"></div><div style=\"display: table-cell;\">level&nbsp;=&nbsp;'glyph',</div></div><div class=\"e68221ef-6835-42a6-995a-90ad8359695b\" style=\"display: none;\"><div style=\"display: table-cell;\"></div><div style=\"display: table-cell;\">muted&nbsp;=&nbsp;False,</div></div><div class=\"e68221ef-6835-42a6-995a-90ad8359695b\" style=\"display: none;\"><div style=\"display: table-cell;\"></div><div style=\"display: table-cell;\">muted_glyph&nbsp;=&nbsp;None,</div></div><div class=\"e68221ef-6835-42a6-995a-90ad8359695b\" style=\"display: none;\"><div style=\"display: table-cell;\"></div><div style=\"display: table-cell;\">name&nbsp;=&nbsp;None,</div></div><div class=\"e68221ef-6835-42a6-995a-90ad8359695b\" style=\"display: none;\"><div style=\"display: table-cell;\"></div><div style=\"display: table-cell;\">nonselection_glyph&nbsp;=&nbsp;Circle(id='0fdbeab1-07bb-42a1-a1d8-803b4a0c5f1f', ...),</div></div><div class=\"e68221ef-6835-42a6-995a-90ad8359695b\" style=\"display: none;\"><div style=\"display: table-cell;\"></div><div style=\"display: table-cell;\">selection_glyph&nbsp;=&nbsp;None,</div></div><div class=\"e68221ef-6835-42a6-995a-90ad8359695b\" style=\"display: none;\"><div style=\"display: table-cell;\"></div><div style=\"display: table-cell;\">subscribed_events&nbsp;=&nbsp;[],</div></div><div class=\"e68221ef-6835-42a6-995a-90ad8359695b\" style=\"display: none;\"><div style=\"display: table-cell;\"></div><div style=\"display: table-cell;\">tags&nbsp;=&nbsp;[],</div></div><div class=\"e68221ef-6835-42a6-995a-90ad8359695b\" style=\"display: none;\"><div style=\"display: table-cell;\"></div><div style=\"display: table-cell;\">view&nbsp;=&nbsp;CDSView(id='daa3e451-e2e2-4156-9b42-326c33f20958', ...),</div></div><div class=\"e68221ef-6835-42a6-995a-90ad8359695b\" style=\"display: none;\"><div style=\"display: table-cell;\"></div><div style=\"display: table-cell;\">visible&nbsp;=&nbsp;True,</div></div><div class=\"e68221ef-6835-42a6-995a-90ad8359695b\" style=\"display: none;\"><div style=\"display: table-cell;\"></div><div style=\"display: table-cell;\">x_range_name&nbsp;=&nbsp;'default',</div></div><div class=\"e68221ef-6835-42a6-995a-90ad8359695b\" style=\"display: none;\"><div style=\"display: table-cell;\"></div><div style=\"display: table-cell;\">y_range_name&nbsp;=&nbsp;'default')</div></div></div>\n",
       "<script>\n",
       "(function() {\n",
       "  var expanded = false;\n",
       "  var ellipsis = document.getElementById(\"b2f68ac5-f3ec-4f99-9843-0bfd3f8389bc\");\n",
       "  ellipsis.addEventListener(\"click\", function() {\n",
       "    var rows = document.getElementsByClassName(\"e68221ef-6835-42a6-995a-90ad8359695b\");\n",
       "    for (var i = 0; i < rows.length; i++) {\n",
       "      var el = rows[i];\n",
       "      el.style.display = expanded ? \"none\" : \"table-row\";\n",
       "    }\n",
       "    ellipsis.innerHTML = expanded ? \"&hellip;)\" : \"&lsaquo;&lsaquo;&lsaquo;\";\n",
       "    expanded = !expanded;\n",
       "  });\n",
       "})();\n",
       "</script>\n"
      ],
      "text/plain": [
       "GlyphRenderer(id='04016a2b-0f8d-4dcc-a3c2-2c8cd932b02e', ...)"
      ]
     },
     "execution_count": 16,
     "metadata": {},
     "output_type": "execute_result"
    }
   ],
   "source": [
    "p.circle([2, 4, 6], [2, 4, 6], size = 16, color = 'orange', alpha = 0.7)"
   ]
  },
  {
   "cell_type": "code",
   "execution_count": 15,
   "metadata": {},
   "outputs": [
    {
     "data": {
      "text/html": [
       "\n",
       "<div class=\"bk-root\">\n",
       "    <div class=\"bk-plotdiv\" id=\"1fbeb8ff-7c3e-4ea2-bac7-7be054011d64\"></div>\n",
       "</div>"
      ]
     },
     "metadata": {},
     "output_type": "display_data"
    },
    {
     "data": {
      "application/javascript": [
       "(function(root) {\n",
       "  function embed_document(root) {\n",
       "    var docs_json = {\"fd0c697a-bc8d-480e-990d-44f1489793e7\":{\"roots\":{\"references\":[{\"attributes\":{},\"id\":\"0b96057b-93f9-40ec-8a4b-0e3aeb0f2572\",\"type\":\"ResetTool\"},{\"attributes\":{\"bottom_units\":\"screen\",\"fill_alpha\":{\"value\":0.5},\"fill_color\":{\"value\":\"lightgrey\"},\"left_units\":\"screen\",\"level\":\"overlay\",\"line_alpha\":{\"value\":1.0},\"line_color\":{\"value\":\"black\"},\"line_dash\":[4,4],\"line_width\":{\"value\":2},\"plot\":null,\"render_mode\":\"css\",\"right_units\":\"screen\",\"top_units\":\"screen\"},\"id\":\"99ec18ab-cc3d-4a22-9d3c-554f61b74490\",\"type\":\"BoxAnnotation\"},{\"attributes\":{\"data_source\":{\"id\":\"ecfe9ff8-f06e-45b5-a599-f57c4fa3f421\",\"type\":\"ColumnDataSource\"},\"glyph\":{\"id\":\"0861c4f1-13d3-457d-8043-2927f6eabc36\",\"type\":\"Circle\"},\"hover_glyph\":null,\"muted_glyph\":null,\"nonselection_glyph\":{\"id\":\"a58fa334-5b11-44dc-9442-3b1aa95d6545\",\"type\":\"Circle\"},\"selection_glyph\":null,\"view\":{\"id\":\"ae2ce82d-a602-4013-a6a5-9cb08c7f8d69\",\"type\":\"CDSView\"}},\"id\":\"45ec3088-eb8f-496a-8ff5-7f29503e72b3\",\"type\":\"GlyphRenderer\"},{\"attributes\":{\"below\":[{\"id\":\"1a51510e-7c83-48c0-8c73-3e6b87d8f5d6\",\"type\":\"LinearAxis\"}],\"left\":[{\"id\":\"67880e85-4590-4ca6-bb4a-59af99c52081\",\"type\":\"LinearAxis\"}],\"renderers\":[{\"id\":\"1a51510e-7c83-48c0-8c73-3e6b87d8f5d6\",\"type\":\"LinearAxis\"},{\"id\":\"e4d4bcd1-f2fa-4b5e-8a3d-fcded54895ff\",\"type\":\"Grid\"},{\"id\":\"67880e85-4590-4ca6-bb4a-59af99c52081\",\"type\":\"LinearAxis\"},{\"id\":\"ad5a092c-7f49-4b99-812d-93ee06866b65\",\"type\":\"Grid\"},{\"id\":\"99ec18ab-cc3d-4a22-9d3c-554f61b74490\",\"type\":\"BoxAnnotation\"},{\"id\":\"64b6f658-6729-40dc-af79-230336b95569\",\"type\":\"GlyphRenderer\"},{\"id\":\"47703645-8c0d-48ce-9470-2d3a4b0d139d\",\"type\":\"GlyphRenderer\"},{\"id\":\"45ec3088-eb8f-496a-8ff5-7f29503e72b3\",\"type\":\"GlyphRenderer\"}],\"title\":{\"id\":\"59072fbc-f571-456c-9360-94dba025b379\",\"type\":\"Title\"},\"toolbar\":{\"id\":\"dbde7037-7cb3-41bb-9e33-312fae72d47a\",\"type\":\"Toolbar\"},\"x_range\":{\"id\":\"3349e498-8643-4fdb-ac41-19ca458c85d2\",\"type\":\"DataRange1d\"},\"x_scale\":{\"id\":\"30374988-2590-4f16-9a98-16f20753871c\",\"type\":\"LinearScale\"},\"y_range\":{\"id\":\"778631a8-a255-4cd1-8b3e-62d566dd8af7\",\"type\":\"DataRange1d\"},\"y_scale\":{\"id\":\"7c703154-bb2e-4f39-805b-fd25a290927a\",\"type\":\"LinearScale\"}},\"id\":\"d30cadb6-6821-4f81-ba21-701d352b0ee8\",\"subtype\":\"Figure\",\"type\":\"Plot\"},{\"attributes\":{\"plot\":null,\"text\":\"\"},\"id\":\"59072fbc-f571-456c-9360-94dba025b379\",\"type\":\"Title\"},{\"attributes\":{},\"id\":\"30374988-2590-4f16-9a98-16f20753871c\",\"type\":\"LinearScale\"},{\"attributes\":{\"callback\":null,\"column_names\":[\"x\",\"y\"],\"data\":{\"x\":[2,4,6],\"y\":[2,4,6]}},\"id\":\"2b61b36c-8653-46e1-a0e1-a369c7a8486e\",\"type\":\"ColumnDataSource\"},{\"attributes\":{\"callback\":null},\"id\":\"3349e498-8643-4fdb-ac41-19ca458c85d2\",\"type\":\"DataRange1d\"},{\"attributes\":{\"fill_alpha\":{\"value\":0.1},\"fill_color\":{\"value\":\"#1f77b4\"},\"line_alpha\":{\"value\":0.1},\"line_color\":{\"value\":\"#1f77b4\"},\"size\":{\"units\":\"screen\",\"value\":16},\"x\":{\"field\":\"x\"},\"y\":{\"field\":\"y\"}},\"id\":\"ba7781f4-aa79-4fbe-b998-1afc581bfe38\",\"type\":\"Circle\"},{\"attributes\":{\"fill_alpha\":{\"value\":0.4},\"fill_color\":{\"value\":\"pink\"},\"line_alpha\":{\"value\":0.4},\"line_color\":{\"value\":\"pink\"},\"size\":{\"units\":\"screen\",\"value\":16},\"x\":{\"field\":\"x\"},\"y\":{\"field\":\"y\"}},\"id\":\"6ecf8a64-929d-4c51-9d03-3b7f6eca660e\",\"type\":\"Circle\"},{\"attributes\":{\"callback\":null,\"column_names\":[\"x\",\"y\"],\"data\":{\"x\":[2,4,6],\"y\":[2,4,6]}},\"id\":\"066950ad-565a-462b-acf5-e828cff94ebb\",\"type\":\"ColumnDataSource\"},{\"attributes\":{},\"id\":\"b4336c49-2d71-491a-b6b4-f61524fc3533\",\"type\":\"BasicTicker\"},{\"attributes\":{},\"id\":\"602b0126-1ea5-4de3-99c7-d964a0112dd8\",\"type\":\"BasicTickFormatter\"},{\"attributes\":{\"formatter\":{\"id\":\"602b0126-1ea5-4de3-99c7-d964a0112dd8\",\"type\":\"BasicTickFormatter\"},\"plot\":{\"id\":\"d30cadb6-6821-4f81-ba21-701d352b0ee8\",\"subtype\":\"Figure\",\"type\":\"Plot\"},\"ticker\":{\"id\":\"b4336c49-2d71-491a-b6b4-f61524fc3533\",\"type\":\"BasicTicker\"}},\"id\":\"67880e85-4590-4ca6-bb4a-59af99c52081\",\"type\":\"LinearAxis\"},{\"attributes\":{\"fill_alpha\":{\"value\":0.1},\"fill_color\":{\"value\":\"#1f77b4\"},\"line_alpha\":{\"value\":0.1},\"line_color\":{\"value\":\"#1f77b4\"},\"x\":{\"field\":\"x\"},\"y\":{\"field\":\"y\"}},\"id\":\"7396c53a-e725-4abe-8e6c-1130246076a9\",\"type\":\"Circle\"},{\"attributes\":{},\"id\":\"a9d586fc-fe8f-4601-bd37-c5d2d7039d67\",\"type\":\"BasicTicker\"},{\"attributes\":{\"plot\":{\"id\":\"d30cadb6-6821-4f81-ba21-701d352b0ee8\",\"subtype\":\"Figure\",\"type\":\"Plot\"},\"ticker\":{\"id\":\"a9d586fc-fe8f-4601-bd37-c5d2d7039d67\",\"type\":\"BasicTicker\"}},\"id\":\"e4d4bcd1-f2fa-4b5e-8a3d-fcded54895ff\",\"type\":\"Grid\"},{\"attributes\":{\"data_source\":{\"id\":\"2b61b36c-8653-46e1-a0e1-a369c7a8486e\",\"type\":\"ColumnDataSource\"},\"glyph\":{\"id\":\"6ecf8a64-929d-4c51-9d03-3b7f6eca660e\",\"type\":\"Circle\"},\"hover_glyph\":null,\"muted_glyph\":null,\"nonselection_glyph\":{\"id\":\"ba7781f4-aa79-4fbe-b998-1afc581bfe38\",\"type\":\"Circle\"},\"selection_glyph\":null,\"view\":{\"id\":\"abf60a80-b7b9-4371-80bd-92b93da6f33f\",\"type\":\"CDSView\"}},\"id\":\"47703645-8c0d-48ce-9470-2d3a4b0d139d\",\"type\":\"GlyphRenderer\"},{\"attributes\":{\"source\":{\"id\":\"066950ad-565a-462b-acf5-e828cff94ebb\",\"type\":\"ColumnDataSource\"}},\"id\":\"845b9b80-4d17-437b-b495-c80a8bd8f55a\",\"type\":\"CDSView\"},{\"attributes\":{\"callback\":null,\"column_names\":[\"x\",\"y\"],\"data\":{\"x\":[2,4,6],\"y\":[2,4,6]}},\"id\":\"ecfe9ff8-f06e-45b5-a599-f57c4fa3f421\",\"type\":\"ColumnDataSource\"},{\"attributes\":{},\"id\":\"24c7e32e-339c-4fb0-84a7-2507a1e69f93\",\"type\":\"SaveTool\"},{\"attributes\":{},\"id\":\"7c703154-bb2e-4f39-805b-fd25a290927a\",\"type\":\"LinearScale\"},{\"attributes\":{\"formatter\":{\"id\":\"00e28d1e-3951-49d1-a215-fb311a9cc467\",\"type\":\"BasicTickFormatter\"},\"plot\":{\"id\":\"d30cadb6-6821-4f81-ba21-701d352b0ee8\",\"subtype\":\"Figure\",\"type\":\"Plot\"},\"ticker\":{\"id\":\"a9d586fc-fe8f-4601-bd37-c5d2d7039d67\",\"type\":\"BasicTicker\"}},\"id\":\"1a51510e-7c83-48c0-8c73-3e6b87d8f5d6\",\"type\":\"LinearAxis\"},{\"attributes\":{\"source\":{\"id\":\"ecfe9ff8-f06e-45b5-a599-f57c4fa3f421\",\"type\":\"ColumnDataSource\"}},\"id\":\"ae2ce82d-a602-4013-a6a5-9cb08c7f8d69\",\"type\":\"CDSView\"},{\"attributes\":{\"fill_color\":{\"value\":\"#1f77b4\"},\"line_color\":{\"value\":\"#1f77b4\"},\"x\":{\"field\":\"x\"},\"y\":{\"field\":\"y\"}},\"id\":\"191c31a5-110e-4f9e-8a9a-93c1f133d923\",\"type\":\"Circle\"},{\"attributes\":{\"callback\":null},\"id\":\"778631a8-a255-4cd1-8b3e-62d566dd8af7\",\"type\":\"DataRange1d\"},{\"attributes\":{\"fill_alpha\":{\"value\":0.4},\"fill_color\":{\"value\":\"orange\"},\"line_alpha\":{\"value\":0.4},\"line_color\":{\"value\":\"orange\"},\"size\":{\"units\":\"screen\",\"value\":16},\"x\":{\"field\":\"x\"},\"y\":{\"field\":\"y\"}},\"id\":\"0861c4f1-13d3-457d-8043-2927f6eabc36\",\"type\":\"Circle\"},{\"attributes\":{},\"id\":\"00e28d1e-3951-49d1-a215-fb311a9cc467\",\"type\":\"BasicTickFormatter\"},{\"attributes\":{\"overlay\":{\"id\":\"99ec18ab-cc3d-4a22-9d3c-554f61b74490\",\"type\":\"BoxAnnotation\"}},\"id\":\"4dc254e6-1785-44f0-a67a-82047d6c0b20\",\"type\":\"BoxZoomTool\"},{\"attributes\":{\"data_source\":{\"id\":\"066950ad-565a-462b-acf5-e828cff94ebb\",\"type\":\"ColumnDataSource\"},\"glyph\":{\"id\":\"191c31a5-110e-4f9e-8a9a-93c1f133d923\",\"type\":\"Circle\"},\"hover_glyph\":null,\"muted_glyph\":null,\"nonselection_glyph\":{\"id\":\"7396c53a-e725-4abe-8e6c-1130246076a9\",\"type\":\"Circle\"},\"selection_glyph\":null,\"view\":{\"id\":\"845b9b80-4d17-437b-b495-c80a8bd8f55a\",\"type\":\"CDSView\"}},\"id\":\"64b6f658-6729-40dc-af79-230336b95569\",\"type\":\"GlyphRenderer\"},{\"attributes\":{\"dimension\":1,\"plot\":{\"id\":\"d30cadb6-6821-4f81-ba21-701d352b0ee8\",\"subtype\":\"Figure\",\"type\":\"Plot\"},\"ticker\":{\"id\":\"b4336c49-2d71-491a-b6b4-f61524fc3533\",\"type\":\"BasicTicker\"}},\"id\":\"ad5a092c-7f49-4b99-812d-93ee06866b65\",\"type\":\"Grid\"},{\"attributes\":{\"source\":{\"id\":\"2b61b36c-8653-46e1-a0e1-a369c7a8486e\",\"type\":\"ColumnDataSource\"}},\"id\":\"abf60a80-b7b9-4371-80bd-92b93da6f33f\",\"type\":\"CDSView\"},{\"attributes\":{\"fill_alpha\":{\"value\":0.1},\"fill_color\":{\"value\":\"#1f77b4\"},\"line_alpha\":{\"value\":0.1},\"line_color\":{\"value\":\"#1f77b4\"},\"size\":{\"units\":\"screen\",\"value\":16},\"x\":{\"field\":\"x\"},\"y\":{\"field\":\"y\"}},\"id\":\"a58fa334-5b11-44dc-9442-3b1aa95d6545\",\"type\":\"Circle\"},{\"attributes\":{},\"id\":\"ca03f4e2-b020-4f5d-9872-fb7665dbcac9\",\"type\":\"WheelZoomTool\"},{\"attributes\":{},\"id\":\"a5a462a4-0636-4182-8a1a-41fa62313c6e\",\"type\":\"HelpTool\"},{\"attributes\":{\"active_drag\":\"auto\",\"active_inspect\":\"auto\",\"active_scroll\":\"auto\",\"active_tap\":\"auto\",\"tools\":[{\"id\":\"c8feba53-7f41-4d81-95a5-bb4ba01e81dc\",\"type\":\"PanTool\"},{\"id\":\"ca03f4e2-b020-4f5d-9872-fb7665dbcac9\",\"type\":\"WheelZoomTool\"},{\"id\":\"4dc254e6-1785-44f0-a67a-82047d6c0b20\",\"type\":\"BoxZoomTool\"},{\"id\":\"24c7e32e-339c-4fb0-84a7-2507a1e69f93\",\"type\":\"SaveTool\"},{\"id\":\"0b96057b-93f9-40ec-8a4b-0e3aeb0f2572\",\"type\":\"ResetTool\"},{\"id\":\"a5a462a4-0636-4182-8a1a-41fa62313c6e\",\"type\":\"HelpTool\"}]},\"id\":\"dbde7037-7cb3-41bb-9e33-312fae72d47a\",\"type\":\"Toolbar\"},{\"attributes\":{},\"id\":\"c8feba53-7f41-4d81-95a5-bb4ba01e81dc\",\"type\":\"PanTool\"}],\"root_ids\":[\"d30cadb6-6821-4f81-ba21-701d352b0ee8\"]},\"title\":\"Bokeh Application\",\"version\":\"0.12.10\"}};\n",
       "    var render_items = [{\"docid\":\"fd0c697a-bc8d-480e-990d-44f1489793e7\",\"elementid\":\"1fbeb8ff-7c3e-4ea2-bac7-7be054011d64\",\"modelid\":\"d30cadb6-6821-4f81-ba21-701d352b0ee8\"}];\n",
       "\n",
       "    root.Bokeh.embed.embed_items(docs_json, render_items);\n",
       "  }\n",
       "\n",
       "  if (root.Bokeh !== undefined) {\n",
       "    embed_document(root);\n",
       "  } else {\n",
       "    var attempts = 0;\n",
       "    var timer = setInterval(function(root) {\n",
       "      if (root.Bokeh !== undefined) {\n",
       "        embed_document(root);\n",
       "        clearInterval(timer);\n",
       "      }\n",
       "      attempts++;\n",
       "      if (attempts > 100) {\n",
       "        console.log(\"Bokeh: ERROR: Unable to embed document because BokehJS library is missing\")\n",
       "        clearInterval(timer);\n",
       "      }\n",
       "    }, 10, root)\n",
       "  }\n",
       "})(window);"
      ],
      "application/vnd.bokehjs_exec.v0+json": ""
     },
     "metadata": {
      "application/vnd.bokehjs_exec.v0+json": {
       "id": "d30cadb6-6821-4f81-ba21-701d352b0ee8"
      }
     },
     "output_type": "display_data"
    }
   ],
   "source": [
    "show(p)"
   ]
  },
  {
   "cell_type": "markdown",
   "metadata": {},
   "source": [
    "Notice that we overlayed a series of larger points colored orange to our earlier points.  This is a little bit different behavior than what we saw with `matplotlib`.  Let's explore some different geometries.\n",
    "\n",
    "### Problem\n",
    "\n",
    "Make a plot using any of four different geometries from the options below:\n",
    "\n",
    "    asterisk()\n",
    "    circle()\n",
    "    circle_cross()\n",
    "    circle_x()\n",
    "    cross()\n",
    "    diamond()\n",
    "    diamond_cross()\n",
    "    inverted_triangle()\n",
    "    square()\n",
    "    square_cross()\n",
    "    square_x()\n",
    "    triangle()\n",
    "    x()"
   ]
  },
  {
   "cell_type": "code",
   "execution_count": null,
   "metadata": {
    "collapsed": true
   },
   "outputs": [],
   "source": []
  },
  {
   "cell_type": "code",
   "execution_count": null,
   "metadata": {
    "collapsed": true
   },
   "outputs": [],
   "source": []
  },
  {
   "cell_type": "code",
   "execution_count": null,
   "metadata": {
    "collapsed": true
   },
   "outputs": [],
   "source": []
  },
  {
   "cell_type": "code",
   "execution_count": null,
   "metadata": {
    "collapsed": true
   },
   "outputs": [],
   "source": []
  },
  {
   "cell_type": "markdown",
   "metadata": {},
   "source": [
    "# Lines\n",
    "\n",
    "We can input a sequence of points and trace a line between them in much a similar way as we've done with matplotlib."
   ]
  },
  {
   "cell_type": "code",
   "execution_count": 17,
   "metadata": {},
   "outputs": [
    {
     "data": {
      "text/html": [
       "\n",
       "    <div class=\"bk-root\">\n",
       "        <a href=\"https://bokeh.pydata.org\" target=\"_blank\" class=\"bk-logo bk-logo-small bk-logo-notebook\"></a>\n",
       "        <span id=\"25901c9f-8253-4bfc-8cf1-a10f2bf1ffb5\">Loading BokehJS ...</span>\n",
       "    </div>"
      ]
     },
     "metadata": {},
     "output_type": "display_data"
    },
    {
     "data": {
      "application/javascript": [
       "\n",
       "(function(root) {\n",
       "  function now() {\n",
       "    return new Date();\n",
       "  }\n",
       "\n",
       "  var force = true;\n",
       "\n",
       "  if (typeof (root._bokeh_onload_callbacks) === \"undefined\" || force === true) {\n",
       "    root._bokeh_onload_callbacks = [];\n",
       "    root._bokeh_is_loading = undefined;\n",
       "  }\n",
       "\n",
       "  var JS_MIME_TYPE = 'application/javascript';\n",
       "  var HTML_MIME_TYPE = 'text/html';\n",
       "  var EXEC_MIME_TYPE = 'application/vnd.bokehjs_exec.v0+json';\n",
       "  var CLASS_NAME = 'output_bokeh rendered_html';\n",
       "\n",
       "  /**\n",
       "   * Render data to the DOM node\n",
       "   */\n",
       "  function render(props, node) {\n",
       "    var script = document.createElement(\"script\");\n",
       "    node.appendChild(script);\n",
       "  }\n",
       "\n",
       "  /**\n",
       "   * Handle when an output is cleared or removed\n",
       "   */\n",
       "  function handleClearOutput(event, handle) {\n",
       "    var cell = handle.cell;\n",
       "\n",
       "    var id = cell.output_area._bokeh_element_id;\n",
       "    var server_id = cell.output_area._bokeh_server_id;\n",
       "    // Clean up Bokeh references\n",
       "    if (id !== undefined) {\n",
       "      Bokeh.index[id].model.document.clear();\n",
       "      delete Bokeh.index[id];\n",
       "    }\n",
       "\n",
       "    if (server_id !== undefined) {\n",
       "      // Clean up Bokeh references\n",
       "      var cmd = \"from bokeh.io.state import curstate; print(curstate().uuid_to_server['\" + server_id + \"'].get_sessions()[0].document.roots[0]._id)\";\n",
       "      cell.notebook.kernel.execute(cmd, {\n",
       "        iopub: {\n",
       "          output: function(msg) {\n",
       "            var element_id = msg.content.text.trim();\n",
       "            Bokeh.index[element_id].model.document.clear();\n",
       "            delete Bokeh.index[element_id];\n",
       "          }\n",
       "        }\n",
       "      });\n",
       "      // Destroy server and session\n",
       "      var cmd = \"import bokeh.io.notebook as ion; ion.destroy_server('\" + server_id + \"')\";\n",
       "      cell.notebook.kernel.execute(cmd);\n",
       "    }\n",
       "  }\n",
       "\n",
       "  /**\n",
       "   * Handle when a new output is added\n",
       "   */\n",
       "  function handleAddOutput(event, handle) {\n",
       "    var output_area = handle.output_area;\n",
       "    var output = handle.output;\n",
       "\n",
       "    // limit handleAddOutput to display_data with EXEC_MIME_TYPE content only\n",
       "    if ((output.output_type != \"display_data\") || (!output.data.hasOwnProperty(EXEC_MIME_TYPE))) {\n",
       "      return\n",
       "    }\n",
       "\n",
       "    var toinsert = output_area.element.find(`.${CLASS_NAME.split(' ')[0]}`);\n",
       "\n",
       "    if (output.metadata[EXEC_MIME_TYPE][\"id\"] !== undefined) {\n",
       "      toinsert[0].firstChild.textContent = output.data[JS_MIME_TYPE];\n",
       "      // store reference to embed id on output_area\n",
       "      output_area._bokeh_element_id = output.metadata[EXEC_MIME_TYPE][\"id\"];\n",
       "    }\n",
       "    if (output.metadata[EXEC_MIME_TYPE][\"server_id\"] !== undefined) {\n",
       "      var bk_div = document.createElement(\"div\");\n",
       "      bk_div.innerHTML = output.data[HTML_MIME_TYPE];\n",
       "      var script_attrs = bk_div.children[0].attributes;\n",
       "      for (var i = 0; i < script_attrs.length; i++) {\n",
       "        toinsert[0].firstChild.setAttribute(script_attrs[i].name, script_attrs[i].value);\n",
       "      }\n",
       "      // store reference to server id on output_area\n",
       "      output_area._bokeh_server_id = output.metadata[EXEC_MIME_TYPE][\"server_id\"];\n",
       "    }\n",
       "  }\n",
       "\n",
       "  function register_renderer(events, OutputArea) {\n",
       "\n",
       "    function append_mime(data, metadata, element) {\n",
       "      // create a DOM node to render to\n",
       "      var toinsert = this.create_output_subarea(\n",
       "        metadata,\n",
       "        CLASS_NAME,\n",
       "        EXEC_MIME_TYPE\n",
       "      );\n",
       "      this.keyboard_manager.register_events(toinsert);\n",
       "      // Render to node\n",
       "      var props = {data: data, metadata: metadata[EXEC_MIME_TYPE]};\n",
       "      render(props, toinsert[0]);\n",
       "      element.append(toinsert);\n",
       "      return toinsert\n",
       "    }\n",
       "\n",
       "    /* Handle when an output is cleared or removed */\n",
       "    events.on('clear_output.CodeCell', handleClearOutput);\n",
       "    events.on('delete.Cell', handleClearOutput);\n",
       "\n",
       "    /* Handle when a new output is added */\n",
       "    events.on('output_added.OutputArea', handleAddOutput);\n",
       "\n",
       "    /**\n",
       "     * Register the mime type and append_mime function with output_area\n",
       "     */\n",
       "    OutputArea.prototype.register_mime_type(EXEC_MIME_TYPE, append_mime, {\n",
       "      /* Is output safe? */\n",
       "      safe: true,\n",
       "      /* Index of renderer in `output_area.display_order` */\n",
       "      index: 0\n",
       "    });\n",
       "  }\n",
       "\n",
       "  // register the mime type if in Jupyter Notebook environment and previously unregistered\n",
       "  if (root.Jupyter !== undefined) {\n",
       "    var events = require('base/js/events');\n",
       "    var OutputArea = require('notebook/js/outputarea').OutputArea;\n",
       "\n",
       "    if (OutputArea.prototype.mime_types().indexOf(EXEC_MIME_TYPE) == -1) {\n",
       "      register_renderer(events, OutputArea);\n",
       "    }\n",
       "  }\n",
       "\n",
       "  \n",
       "  if (typeof (root._bokeh_timeout) === \"undefined\" || force === true) {\n",
       "    root._bokeh_timeout = Date.now() + 5000;\n",
       "    root._bokeh_failed_load = false;\n",
       "  }\n",
       "\n",
       "  var NB_LOAD_WARNING = {'data': {'text/html':\n",
       "     \"<div style='background-color: #fdd'>\\n\"+\n",
       "     \"<p>\\n\"+\n",
       "     \"BokehJS does not appear to have successfully loaded. If loading BokehJS from CDN, this \\n\"+\n",
       "     \"may be due to a slow or bad network connection. Possible fixes:\\n\"+\n",
       "     \"</p>\\n\"+\n",
       "     \"<ul>\\n\"+\n",
       "     \"<li>re-rerun `output_notebook()` to attempt to load from CDN again, or</li>\\n\"+\n",
       "     \"<li>use INLINE resources instead, as so:</li>\\n\"+\n",
       "     \"</ul>\\n\"+\n",
       "     \"<code>\\n\"+\n",
       "     \"from bokeh.resources import INLINE\\n\"+\n",
       "     \"output_notebook(resources=INLINE)\\n\"+\n",
       "     \"</code>\\n\"+\n",
       "     \"</div>\"}};\n",
       "\n",
       "  function display_loaded() {\n",
       "    var el = document.getElementById(\"25901c9f-8253-4bfc-8cf1-a10f2bf1ffb5\");\n",
       "    if (el != null) {\n",
       "      el.textContent = \"BokehJS is loading...\";\n",
       "    }\n",
       "    if (root.Bokeh !== undefined) {\n",
       "      if (el != null) {\n",
       "        el.textContent = \"BokehJS \" + root.Bokeh.version + \" successfully loaded.\";\n",
       "      }\n",
       "    } else if (Date.now() < root._bokeh_timeout) {\n",
       "      setTimeout(display_loaded, 100)\n",
       "    }\n",
       "  }\n",
       "\n",
       "\n",
       "  function run_callbacks() {\n",
       "    try {\n",
       "      root._bokeh_onload_callbacks.forEach(function(callback) { callback() });\n",
       "    }\n",
       "    finally {\n",
       "      delete root._bokeh_onload_callbacks\n",
       "    }\n",
       "    console.info(\"Bokeh: all callbacks have finished\");\n",
       "  }\n",
       "\n",
       "  function load_libs(js_urls, callback) {\n",
       "    root._bokeh_onload_callbacks.push(callback);\n",
       "    if (root._bokeh_is_loading > 0) {\n",
       "      console.log(\"Bokeh: BokehJS is being loaded, scheduling callback at\", now());\n",
       "      return null;\n",
       "    }\n",
       "    if (js_urls == null || js_urls.length === 0) {\n",
       "      run_callbacks();\n",
       "      return null;\n",
       "    }\n",
       "    console.log(\"Bokeh: BokehJS not loaded, scheduling load and callback at\", now());\n",
       "    root._bokeh_is_loading = js_urls.length;\n",
       "    for (var i = 0; i < js_urls.length; i++) {\n",
       "      var url = js_urls[i];\n",
       "      var s = document.createElement('script');\n",
       "      s.src = url;\n",
       "      s.async = false;\n",
       "      s.onreadystatechange = s.onload = function() {\n",
       "        root._bokeh_is_loading--;\n",
       "        if (root._bokeh_is_loading === 0) {\n",
       "          console.log(\"Bokeh: all BokehJS libraries loaded\");\n",
       "          run_callbacks()\n",
       "        }\n",
       "      };\n",
       "      s.onerror = function() {\n",
       "        console.warn(\"failed to load library \" + url);\n",
       "      };\n",
       "      console.log(\"Bokeh: injecting script tag for BokehJS library: \", url);\n",
       "      document.getElementsByTagName(\"head\")[0].appendChild(s);\n",
       "    }\n",
       "  };var element = document.getElementById(\"25901c9f-8253-4bfc-8cf1-a10f2bf1ffb5\");\n",
       "  if (element == null) {\n",
       "    console.log(\"Bokeh: ERROR: autoload.js configured with elementid '25901c9f-8253-4bfc-8cf1-a10f2bf1ffb5' but no matching script tag was found. \")\n",
       "    return false;\n",
       "  }\n",
       "\n",
       "  var js_urls = [\"https://cdn.pydata.org/bokeh/release/bokeh-0.12.10.min.js\", \"https://cdn.pydata.org/bokeh/release/bokeh-widgets-0.12.10.min.js\", \"https://cdn.pydata.org/bokeh/release/bokeh-tables-0.12.10.min.js\", \"https://cdn.pydata.org/bokeh/release/bokeh-gl-0.12.10.min.js\"];\n",
       "\n",
       "  var inline_js = [\n",
       "    function(Bokeh) {\n",
       "      Bokeh.set_log_level(\"info\");\n",
       "    },\n",
       "    \n",
       "    function(Bokeh) {\n",
       "      \n",
       "    },\n",
       "    function(Bokeh) {\n",
       "      console.log(\"Bokeh: injecting CSS: https://cdn.pydata.org/bokeh/release/bokeh-0.12.10.min.css\");\n",
       "      Bokeh.embed.inject_css(\"https://cdn.pydata.org/bokeh/release/bokeh-0.12.10.min.css\");\n",
       "      console.log(\"Bokeh: injecting CSS: https://cdn.pydata.org/bokeh/release/bokeh-widgets-0.12.10.min.css\");\n",
       "      Bokeh.embed.inject_css(\"https://cdn.pydata.org/bokeh/release/bokeh-widgets-0.12.10.min.css\");\n",
       "      console.log(\"Bokeh: injecting CSS: https://cdn.pydata.org/bokeh/release/bokeh-tables-0.12.10.min.css\");\n",
       "      Bokeh.embed.inject_css(\"https://cdn.pydata.org/bokeh/release/bokeh-tables-0.12.10.min.css\");\n",
       "    }\n",
       "  ];\n",
       "\n",
       "  function run_inline_js() {\n",
       "    \n",
       "    if ((root.Bokeh !== undefined) || (force === true)) {\n",
       "      for (var i = 0; i < inline_js.length; i++) {\n",
       "        inline_js[i].call(root, root.Bokeh);\n",
       "      }if (force === true) {\n",
       "        display_loaded();\n",
       "      }} else if (Date.now() < root._bokeh_timeout) {\n",
       "      setTimeout(run_inline_js, 100);\n",
       "    } else if (!root._bokeh_failed_load) {\n",
       "      console.log(\"Bokeh: BokehJS failed to load within specified timeout.\");\n",
       "      root._bokeh_failed_load = true;\n",
       "    } else if (force !== true) {\n",
       "      var cell = $(document.getElementById(\"25901c9f-8253-4bfc-8cf1-a10f2bf1ffb5\")).parents('.cell').data().cell;\n",
       "      cell.output_area.append_execute_result(NB_LOAD_WARNING)\n",
       "    }\n",
       "\n",
       "  }\n",
       "\n",
       "  if (root._bokeh_is_loading === 0) {\n",
       "    console.log(\"Bokeh: BokehJS loaded, going straight to plotting\");\n",
       "    run_inline_js();\n",
       "  } else {\n",
       "    load_libs(js_urls, function() {\n",
       "      console.log(\"Bokeh: BokehJS plotting callback run at\", now());\n",
       "      run_inline_js();\n",
       "    });\n",
       "  }\n",
       "}(window));"
      ],
      "application/vnd.bokehjs_load.v0+json": "\n(function(root) {\n  function now() {\n    return new Date();\n  }\n\n  var force = true;\n\n  if (typeof (root._bokeh_onload_callbacks) === \"undefined\" || force === true) {\n    root._bokeh_onload_callbacks = [];\n    root._bokeh_is_loading = undefined;\n  }\n\n  \n\n  \n  if (typeof (root._bokeh_timeout) === \"undefined\" || force === true) {\n    root._bokeh_timeout = Date.now() + 5000;\n    root._bokeh_failed_load = false;\n  }\n\n  var NB_LOAD_WARNING = {'data': {'text/html':\n     \"<div style='background-color: #fdd'>\\n\"+\n     \"<p>\\n\"+\n     \"BokehJS does not appear to have successfully loaded. If loading BokehJS from CDN, this \\n\"+\n     \"may be due to a slow or bad network connection. Possible fixes:\\n\"+\n     \"</p>\\n\"+\n     \"<ul>\\n\"+\n     \"<li>re-rerun `output_notebook()` to attempt to load from CDN again, or</li>\\n\"+\n     \"<li>use INLINE resources instead, as so:</li>\\n\"+\n     \"</ul>\\n\"+\n     \"<code>\\n\"+\n     \"from bokeh.resources import INLINE\\n\"+\n     \"output_notebook(resources=INLINE)\\n\"+\n     \"</code>\\n\"+\n     \"</div>\"}};\n\n  function display_loaded() {\n    var el = document.getElementById(\"25901c9f-8253-4bfc-8cf1-a10f2bf1ffb5\");\n    if (el != null) {\n      el.textContent = \"BokehJS is loading...\";\n    }\n    if (root.Bokeh !== undefined) {\n      if (el != null) {\n        el.textContent = \"BokehJS \" + root.Bokeh.version + \" successfully loaded.\";\n      }\n    } else if (Date.now() < root._bokeh_timeout) {\n      setTimeout(display_loaded, 100)\n    }\n  }\n\n\n  function run_callbacks() {\n    try {\n      root._bokeh_onload_callbacks.forEach(function(callback) { callback() });\n    }\n    finally {\n      delete root._bokeh_onload_callbacks\n    }\n    console.info(\"Bokeh: all callbacks have finished\");\n  }\n\n  function load_libs(js_urls, callback) {\n    root._bokeh_onload_callbacks.push(callback);\n    if (root._bokeh_is_loading > 0) {\n      console.log(\"Bokeh: BokehJS is being loaded, scheduling callback at\", now());\n      return null;\n    }\n    if (js_urls == null || js_urls.length === 0) {\n      run_callbacks();\n      return null;\n    }\n    console.log(\"Bokeh: BokehJS not loaded, scheduling load and callback at\", now());\n    root._bokeh_is_loading = js_urls.length;\n    for (var i = 0; i < js_urls.length; i++) {\n      var url = js_urls[i];\n      var s = document.createElement('script');\n      s.src = url;\n      s.async = false;\n      s.onreadystatechange = s.onload = function() {\n        root._bokeh_is_loading--;\n        if (root._bokeh_is_loading === 0) {\n          console.log(\"Bokeh: all BokehJS libraries loaded\");\n          run_callbacks()\n        }\n      };\n      s.onerror = function() {\n        console.warn(\"failed to load library \" + url);\n      };\n      console.log(\"Bokeh: injecting script tag for BokehJS library: \", url);\n      document.getElementsByTagName(\"head\")[0].appendChild(s);\n    }\n  };var element = document.getElementById(\"25901c9f-8253-4bfc-8cf1-a10f2bf1ffb5\");\n  if (element == null) {\n    console.log(\"Bokeh: ERROR: autoload.js configured with elementid '25901c9f-8253-4bfc-8cf1-a10f2bf1ffb5' but no matching script tag was found. \")\n    return false;\n  }\n\n  var js_urls = [\"https://cdn.pydata.org/bokeh/release/bokeh-0.12.10.min.js\", \"https://cdn.pydata.org/bokeh/release/bokeh-widgets-0.12.10.min.js\", \"https://cdn.pydata.org/bokeh/release/bokeh-tables-0.12.10.min.js\", \"https://cdn.pydata.org/bokeh/release/bokeh-gl-0.12.10.min.js\"];\n\n  var inline_js = [\n    function(Bokeh) {\n      Bokeh.set_log_level(\"info\");\n    },\n    \n    function(Bokeh) {\n      \n    },\n    function(Bokeh) {\n      console.log(\"Bokeh: injecting CSS: https://cdn.pydata.org/bokeh/release/bokeh-0.12.10.min.css\");\n      Bokeh.embed.inject_css(\"https://cdn.pydata.org/bokeh/release/bokeh-0.12.10.min.css\");\n      console.log(\"Bokeh: injecting CSS: https://cdn.pydata.org/bokeh/release/bokeh-widgets-0.12.10.min.css\");\n      Bokeh.embed.inject_css(\"https://cdn.pydata.org/bokeh/release/bokeh-widgets-0.12.10.min.css\");\n      console.log(\"Bokeh: injecting CSS: https://cdn.pydata.org/bokeh/release/bokeh-tables-0.12.10.min.css\");\n      Bokeh.embed.inject_css(\"https://cdn.pydata.org/bokeh/release/bokeh-tables-0.12.10.min.css\");\n    }\n  ];\n\n  function run_inline_js() {\n    \n    if ((root.Bokeh !== undefined) || (force === true)) {\n      for (var i = 0; i < inline_js.length; i++) {\n        inline_js[i].call(root, root.Bokeh);\n      }if (force === true) {\n        display_loaded();\n      }} else if (Date.now() < root._bokeh_timeout) {\n      setTimeout(run_inline_js, 100);\n    } else if (!root._bokeh_failed_load) {\n      console.log(\"Bokeh: BokehJS failed to load within specified timeout.\");\n      root._bokeh_failed_load = true;\n    } else if (force !== true) {\n      var cell = $(document.getElementById(\"25901c9f-8253-4bfc-8cf1-a10f2bf1ffb5\")).parents('.cell').data().cell;\n      cell.output_area.append_execute_result(NB_LOAD_WARNING)\n    }\n\n  }\n\n  if (root._bokeh_is_loading === 0) {\n    console.log(\"Bokeh: BokehJS loaded, going straight to plotting\");\n    run_inline_js();\n  } else {\n    load_libs(js_urls, function() {\n      console.log(\"Bokeh: BokehJS plotting callback run at\", now());\n      run_inline_js();\n    });\n  }\n}(window));"
     },
     "metadata": {},
     "output_type": "display_data"
    },
    {
     "data": {
      "text/html": [
       "\n",
       "<div class=\"bk-root\">\n",
       "    <div class=\"bk-plotdiv\" id=\"c33ebc49-9366-4e07-b38b-d5ec14942769\"></div>\n",
       "</div>"
      ]
     },
     "metadata": {},
     "output_type": "display_data"
    },
    {
     "data": {
      "application/javascript": [
       "(function(root) {\n",
       "  function embed_document(root) {\n",
       "    var docs_json = {\"163cb7c3-1513-4aee-9c6d-71e40ce3bb6c\":{\"roots\":{\"references\":[{\"attributes\":{\"source\":{\"id\":\"c50710af-731b-4519-919f-4625265b8039\",\"type\":\"ColumnDataSource\"}},\"id\":\"aa8f951a-4e1d-44ad-9fbc-4670a51a1302\",\"type\":\"CDSView\"},{\"attributes\":{\"line_alpha\":{\"value\":0.1},\"line_color\":{\"value\":\"#1f77b4\"},\"line_width\":{\"value\":2},\"x\":{\"field\":\"x\"},\"y\":{\"field\":\"y\"}},\"id\":\"4b9eff6a-27d5-408e-a0a3-9529e74ac887\",\"type\":\"Line\"},{\"attributes\":{},\"id\":\"73427f61-c899-405c-96bd-0df656f2592c\",\"type\":\"BasicTickFormatter\"},{\"attributes\":{\"callback\":null,\"column_names\":[\"x\",\"y\"],\"data\":{\"x\":[0,1,2,3,4,5,6,7,8,9],\"y\":[0,1,2,3,4,5,6,7,8,9]}},\"id\":\"c50710af-731b-4519-919f-4625265b8039\",\"type\":\"ColumnDataSource\"},{\"attributes\":{\"bottom_units\":\"screen\",\"fill_alpha\":{\"value\":0.5},\"fill_color\":{\"value\":\"lightgrey\"},\"left_units\":\"screen\",\"level\":\"overlay\",\"line_alpha\":{\"value\":1.0},\"line_color\":{\"value\":\"black\"},\"line_dash\":[4,4],\"line_width\":{\"value\":2},\"plot\":null,\"render_mode\":\"css\",\"right_units\":\"screen\",\"top_units\":\"screen\"},\"id\":\"a2d51170-69f3-416d-8950-75f270b9cfcb\",\"type\":\"BoxAnnotation\"},{\"attributes\":{\"active_drag\":\"auto\",\"active_inspect\":\"auto\",\"active_scroll\":\"auto\",\"active_tap\":\"auto\",\"tools\":[{\"id\":\"826a2154-218f-4f8c-a153-6859970b3654\",\"type\":\"PanTool\"},{\"id\":\"39095279-61dd-4589-a3df-bf38a1db80c3\",\"type\":\"WheelZoomTool\"},{\"id\":\"3086d9ef-975f-4269-a361-d64663917089\",\"type\":\"BoxZoomTool\"},{\"id\":\"89346197-de43-49d7-9f59-9116c77cb75e\",\"type\":\"SaveTool\"},{\"id\":\"f1ed49da-4468-40eb-b642-28b68db85a4a\",\"type\":\"ResetTool\"},{\"id\":\"b2a4ebb4-0112-41d4-98f3-c0e87c431d4e\",\"type\":\"HelpTool\"}]},\"id\":\"000812f1-f477-48b3-91f9-262263fcbe1c\",\"type\":\"Toolbar\"},{\"attributes\":{},\"id\":\"826a2154-218f-4f8c-a153-6859970b3654\",\"type\":\"PanTool\"},{\"attributes\":{\"callback\":null},\"id\":\"6d607d44-48d3-4e4e-950b-2c31fc863068\",\"type\":\"DataRange1d\"},{\"attributes\":{\"data_source\":{\"id\":\"c50710af-731b-4519-919f-4625265b8039\",\"type\":\"ColumnDataSource\"},\"glyph\":{\"id\":\"5b0201e0-41b7-42fe-9e08-b068e60226be\",\"type\":\"Line\"},\"hover_glyph\":null,\"muted_glyph\":null,\"nonselection_glyph\":{\"id\":\"4b9eff6a-27d5-408e-a0a3-9529e74ac887\",\"type\":\"Line\"},\"selection_glyph\":null,\"view\":{\"id\":\"aa8f951a-4e1d-44ad-9fbc-4670a51a1302\",\"type\":\"CDSView\"}},\"id\":\"1511c9e0-22f0-49c4-beff-8f9d8be753d6\",\"type\":\"GlyphRenderer\"},{\"attributes\":{\"line_color\":{\"value\":\"#1f77b4\"},\"line_width\":{\"value\":2},\"x\":{\"field\":\"x\"},\"y\":{\"field\":\"y\"}},\"id\":\"5b0201e0-41b7-42fe-9e08-b068e60226be\",\"type\":\"Line\"},{\"attributes\":{},\"id\":\"39095279-61dd-4589-a3df-bf38a1db80c3\",\"type\":\"WheelZoomTool\"},{\"attributes\":{\"overlay\":{\"id\":\"a2d51170-69f3-416d-8950-75f270b9cfcb\",\"type\":\"BoxAnnotation\"}},\"id\":\"3086d9ef-975f-4269-a361-d64663917089\",\"type\":\"BoxZoomTool\"},{\"attributes\":{},\"id\":\"89346197-de43-49d7-9f59-9116c77cb75e\",\"type\":\"SaveTool\"},{\"attributes\":{},\"id\":\"8a7a8cd0-42c1-4339-91ba-23da3b534d83\",\"type\":\"LinearScale\"},{\"attributes\":{},\"id\":\"f1ed49da-4468-40eb-b642-28b68db85a4a\",\"type\":\"ResetTool\"},{\"attributes\":{},\"id\":\"30f3035f-3544-473f-ab31-ee9468cc86c3\",\"type\":\"LinearScale\"},{\"attributes\":{},\"id\":\"ef9a9be9-748a-44ed-8278-71a26f65ae90\",\"type\":\"BasicTickFormatter\"},{\"attributes\":{\"plot\":{\"id\":\"788643cd-7ae0-4375-af3d-54bec7bbe535\",\"subtype\":\"Figure\",\"type\":\"Plot\"},\"ticker\":{\"id\":\"87cc5233-d9c8-421d-8c24-a0d281c9d8c5\",\"type\":\"BasicTicker\"}},\"id\":\"e31bc452-805f-4205-b3ed-f4c326691c0d\",\"type\":\"Grid\"},{\"attributes\":{},\"id\":\"b2a4ebb4-0112-41d4-98f3-c0e87c431d4e\",\"type\":\"HelpTool\"},{\"attributes\":{\"callback\":null},\"id\":\"7d641f6a-aa7e-47bd-a3fe-25856f49ad0d\",\"type\":\"DataRange1d\"},{\"attributes\":{\"formatter\":{\"id\":\"ef9a9be9-748a-44ed-8278-71a26f65ae90\",\"type\":\"BasicTickFormatter\"},\"plot\":{\"id\":\"788643cd-7ae0-4375-af3d-54bec7bbe535\",\"subtype\":\"Figure\",\"type\":\"Plot\"},\"ticker\":{\"id\":\"87cc5233-d9c8-421d-8c24-a0d281c9d8c5\",\"type\":\"BasicTicker\"}},\"id\":\"d47d3a48-19df-490c-9e92-1c68b5b6712d\",\"type\":\"LinearAxis\"},{\"attributes\":{},\"id\":\"87cc5233-d9c8-421d-8c24-a0d281c9d8c5\",\"type\":\"BasicTicker\"},{\"attributes\":{\"plot\":null,\"text\":\"\"},\"id\":\"7494b332-0797-4181-bac3-64c8264a7ed1\",\"type\":\"Title\"},{\"attributes\":{\"formatter\":{\"id\":\"73427f61-c899-405c-96bd-0df656f2592c\",\"type\":\"BasicTickFormatter\"},\"plot\":{\"id\":\"788643cd-7ae0-4375-af3d-54bec7bbe535\",\"subtype\":\"Figure\",\"type\":\"Plot\"},\"ticker\":{\"id\":\"13af6aa9-de36-4eff-b094-c6868440f763\",\"type\":\"BasicTicker\"}},\"id\":\"953c788b-3141-4def-9784-dc29367ba014\",\"type\":\"LinearAxis\"},{\"attributes\":{},\"id\":\"13af6aa9-de36-4eff-b094-c6868440f763\",\"type\":\"BasicTicker\"},{\"attributes\":{\"dimension\":1,\"plot\":{\"id\":\"788643cd-7ae0-4375-af3d-54bec7bbe535\",\"subtype\":\"Figure\",\"type\":\"Plot\"},\"ticker\":{\"id\":\"13af6aa9-de36-4eff-b094-c6868440f763\",\"type\":\"BasicTicker\"}},\"id\":\"58aa25d7-1b14-4bb6-9317-d3aa3f25c859\",\"type\":\"Grid\"},{\"attributes\":{\"below\":[{\"id\":\"d47d3a48-19df-490c-9e92-1c68b5b6712d\",\"type\":\"LinearAxis\"}],\"left\":[{\"id\":\"953c788b-3141-4def-9784-dc29367ba014\",\"type\":\"LinearAxis\"}],\"renderers\":[{\"id\":\"d47d3a48-19df-490c-9e92-1c68b5b6712d\",\"type\":\"LinearAxis\"},{\"id\":\"e31bc452-805f-4205-b3ed-f4c326691c0d\",\"type\":\"Grid\"},{\"id\":\"953c788b-3141-4def-9784-dc29367ba014\",\"type\":\"LinearAxis\"},{\"id\":\"58aa25d7-1b14-4bb6-9317-d3aa3f25c859\",\"type\":\"Grid\"},{\"id\":\"a2d51170-69f3-416d-8950-75f270b9cfcb\",\"type\":\"BoxAnnotation\"},{\"id\":\"1511c9e0-22f0-49c4-beff-8f9d8be753d6\",\"type\":\"GlyphRenderer\"}],\"title\":{\"id\":\"7494b332-0797-4181-bac3-64c8264a7ed1\",\"type\":\"Title\"},\"toolbar\":{\"id\":\"000812f1-f477-48b3-91f9-262263fcbe1c\",\"type\":\"Toolbar\"},\"x_range\":{\"id\":\"6d607d44-48d3-4e4e-950b-2c31fc863068\",\"type\":\"DataRange1d\"},\"x_scale\":{\"id\":\"8a7a8cd0-42c1-4339-91ba-23da3b534d83\",\"type\":\"LinearScale\"},\"y_range\":{\"id\":\"7d641f6a-aa7e-47bd-a3fe-25856f49ad0d\",\"type\":\"DataRange1d\"},\"y_scale\":{\"id\":\"30f3035f-3544-473f-ab31-ee9468cc86c3\",\"type\":\"LinearScale\"}},\"id\":\"788643cd-7ae0-4375-af3d-54bec7bbe535\",\"subtype\":\"Figure\",\"type\":\"Plot\"}],\"root_ids\":[\"788643cd-7ae0-4375-af3d-54bec7bbe535\"]},\"title\":\"Bokeh Application\",\"version\":\"0.12.10\"}};\n",
       "    var render_items = [{\"docid\":\"163cb7c3-1513-4aee-9c6d-71e40ce3bb6c\",\"elementid\":\"c33ebc49-9366-4e07-b38b-d5ec14942769\",\"modelid\":\"788643cd-7ae0-4375-af3d-54bec7bbe535\"}];\n",
       "\n",
       "    root.Bokeh.embed.embed_items(docs_json, render_items);\n",
       "  }\n",
       "\n",
       "  if (root.Bokeh !== undefined) {\n",
       "    embed_document(root);\n",
       "  } else {\n",
       "    var attempts = 0;\n",
       "    var timer = setInterval(function(root) {\n",
       "      if (root.Bokeh !== undefined) {\n",
       "        embed_document(root);\n",
       "        clearInterval(timer);\n",
       "      }\n",
       "      attempts++;\n",
       "      if (attempts > 100) {\n",
       "        console.log(\"Bokeh: ERROR: Unable to embed document because BokehJS library is missing\")\n",
       "        clearInterval(timer);\n",
       "      }\n",
       "    }, 10, root)\n",
       "  }\n",
       "})(window);"
      ],
      "application/vnd.bokehjs_exec.v0+json": ""
     },
     "metadata": {
      "application/vnd.bokehjs_exec.v0+json": {
       "id": "788643cd-7ae0-4375-af3d-54bec7bbe535"
      }
     },
     "output_type": "display_data"
    }
   ],
   "source": [
    "p2 = figure(plot_width = 600, plot_height = 600)\n",
    "\n",
    "p2.line([i for i in range(10)], [i for i in range(10)], line_width = 2)\n",
    "output_notebook()\n",
    "show(p2)"
   ]
  },
  {
   "cell_type": "code",
   "execution_count": 20,
   "metadata": {},
   "outputs": [
    {
     "data": {
      "text/html": [
       "\n",
       "<div class=\"bk-root\">\n",
       "    <div class=\"bk-plotdiv\" id=\"9b8a9705-ba10-457f-b5c3-08eda01844e2\"></div>\n",
       "</div>"
      ]
     },
     "metadata": {},
     "output_type": "display_data"
    },
    {
     "data": {
      "application/javascript": [
       "(function(root) {\n",
       "  function embed_document(root) {\n",
       "    var docs_json = {\"36e517d5-27d2-4240-b4cc-289494eb6f2a\":{\"roots\":{\"references\":[{\"attributes\":{},\"id\":\"19e10024-6ea8-449e-a378-efa67d37ef95\",\"type\":\"LinearScale\"},{\"attributes\":{},\"id\":\"03fa62d4-e699-443d-a3e1-6cd2cb5f2d3f\",\"type\":\"LinearScale\"},{\"attributes\":{},\"id\":\"1728df08-27fc-4919-8331-ef2acff4e053\",\"type\":\"HelpTool\"},{\"attributes\":{\"formatter\":{\"id\":\"8bb14c61-3e08-4790-8624-0fe87dcd90f7\",\"type\":\"BasicTickFormatter\"},\"plot\":{\"id\":\"cc128aa1-6f60-41d8-9cb4-9cd2b8aa58f3\",\"subtype\":\"Figure\",\"type\":\"Plot\"},\"ticker\":{\"id\":\"f37907ee-c159-4013-90fd-4fd883734899\",\"type\":\"BasicTicker\"}},\"id\":\"b4ecacf1-a27d-4aeb-9866-8d6278c14f56\",\"type\":\"LinearAxis\"},{\"attributes\":{},\"id\":\"1192267f-7083-4cad-a4d1-7ba06a88ae2f\",\"type\":\"ResetTool\"},{\"attributes\":{},\"id\":\"eff2c39a-e21f-401c-89fe-284aeba4cd3d\",\"type\":\"SaveTool\"},{\"attributes\":{\"plot\":{\"id\":\"cc128aa1-6f60-41d8-9cb4-9cd2b8aa58f3\",\"subtype\":\"Figure\",\"type\":\"Plot\"},\"ticker\":{\"id\":\"f37907ee-c159-4013-90fd-4fd883734899\",\"type\":\"BasicTicker\"}},\"id\":\"ea7d32a0-aabf-41a3-8e3f-c263f8cc059e\",\"type\":\"Grid\"},{\"attributes\":{\"overlay\":{\"id\":\"6fe42c19-cff5-45ee-a9f2-2eb0dda7d082\",\"type\":\"BoxAnnotation\"}},\"id\":\"9b4b3485-6f35-4923-9bdd-de8da0702f5e\",\"type\":\"BoxZoomTool\"},{\"attributes\":{\"callback\":null},\"id\":\"a3cb8033-c025-41e5-9155-c7f46c04e638\",\"type\":\"DataRange1d\"},{\"attributes\":{},\"id\":\"5fd1fccc-10d5-4516-a376-b5f97a84fa93\",\"type\":\"WheelZoomTool\"},{\"attributes\":{\"active_drag\":\"auto\",\"active_inspect\":\"auto\",\"active_scroll\":\"auto\",\"active_tap\":\"auto\",\"tools\":[{\"id\":\"036a558f-c9f4-4aa1-9bdc-82422c15f025\",\"type\":\"PanTool\"},{\"id\":\"5fd1fccc-10d5-4516-a376-b5f97a84fa93\",\"type\":\"WheelZoomTool\"},{\"id\":\"9b4b3485-6f35-4923-9bdd-de8da0702f5e\",\"type\":\"BoxZoomTool\"},{\"id\":\"eff2c39a-e21f-401c-89fe-284aeba4cd3d\",\"type\":\"SaveTool\"},{\"id\":\"1192267f-7083-4cad-a4d1-7ba06a88ae2f\",\"type\":\"ResetTool\"},{\"id\":\"1728df08-27fc-4919-8331-ef2acff4e053\",\"type\":\"HelpTool\"}]},\"id\":\"f221b0ac-0ab1-4548-8d9b-4b139ce3a60e\",\"type\":\"Toolbar\"},{\"attributes\":{\"callback\":null,\"column_names\":[\"x\",\"y\"],\"data\":{\"x\":{\"__ndarray__\":\"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\",\"dtype\":\"float64\",\"shape\":[1000]},\"y\":{\"__ndarray__\":\"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\",\"dtype\":\"float64\",\"shape\":[1000]}}},\"id\":\"3a5e029b-595e-4bf0-97ef-cd569502c0e2\",\"type\":\"ColumnDataSource\"},{\"attributes\":{\"source\":{\"id\":\"3a5e029b-595e-4bf0-97ef-cd569502c0e2\",\"type\":\"ColumnDataSource\"}},\"id\":\"91009c6d-259e-4d96-a30f-0550acf44e4f\",\"type\":\"CDSView\"},{\"attributes\":{},\"id\":\"036a558f-c9f4-4aa1-9bdc-82422c15f025\",\"type\":\"PanTool\"},{\"attributes\":{\"line_color\":{\"value\":\"red\"},\"line_width\":{\"value\":3},\"x\":{\"field\":\"x\"},\"y\":{\"field\":\"y\"}},\"id\":\"77c51070-8d84-4708-9d60-bb55ba6018ff\",\"type\":\"Line\"},{\"attributes\":{\"callback\":null},\"id\":\"8e0c0b6e-2fbd-4f40-bffb-8f3d81c3650d\",\"type\":\"DataRange1d\"},{\"attributes\":{},\"id\":\"f9d597cc-3e81-43d7-9d4b-85d031951b02\",\"type\":\"BasicTickFormatter\"},{\"attributes\":{\"bottom_units\":\"screen\",\"fill_alpha\":{\"value\":0.5},\"fill_color\":{\"value\":\"lightgrey\"},\"left_units\":\"screen\",\"level\":\"overlay\",\"line_alpha\":{\"value\":1.0},\"line_color\":{\"value\":\"black\"},\"line_dash\":[4,4],\"line_width\":{\"value\":2},\"plot\":null,\"render_mode\":\"css\",\"right_units\":\"screen\",\"top_units\":\"screen\"},\"id\":\"6fe42c19-cff5-45ee-a9f2-2eb0dda7d082\",\"type\":\"BoxAnnotation\"},{\"attributes\":{\"data_source\":{\"id\":\"3a5e029b-595e-4bf0-97ef-cd569502c0e2\",\"type\":\"ColumnDataSource\"},\"glyph\":{\"id\":\"77c51070-8d84-4708-9d60-bb55ba6018ff\",\"type\":\"Line\"},\"hover_glyph\":null,\"muted_glyph\":null,\"nonselection_glyph\":{\"id\":\"6be3724d-6074-4a06-8074-c7959769647a\",\"type\":\"Line\"},\"selection_glyph\":null,\"view\":{\"id\":\"91009c6d-259e-4d96-a30f-0550acf44e4f\",\"type\":\"CDSView\"}},\"id\":\"4251811a-93e3-4b5d-a77b-16853dcf577f\",\"type\":\"GlyphRenderer\"},{\"attributes\":{\"below\":[{\"id\":\"b4ecacf1-a27d-4aeb-9866-8d6278c14f56\",\"type\":\"LinearAxis\"}],\"left\":[{\"id\":\"3a64fb4c-b514-4728-90d8-53853f33b0ba\",\"type\":\"LinearAxis\"}],\"renderers\":[{\"id\":\"b4ecacf1-a27d-4aeb-9866-8d6278c14f56\",\"type\":\"LinearAxis\"},{\"id\":\"ea7d32a0-aabf-41a3-8e3f-c263f8cc059e\",\"type\":\"Grid\"},{\"id\":\"3a64fb4c-b514-4728-90d8-53853f33b0ba\",\"type\":\"LinearAxis\"},{\"id\":\"6c618aac-24b5-4901-ab8a-a02d71dc5ad1\",\"type\":\"Grid\"},{\"id\":\"6fe42c19-cff5-45ee-a9f2-2eb0dda7d082\",\"type\":\"BoxAnnotation\"},{\"id\":\"4251811a-93e3-4b5d-a77b-16853dcf577f\",\"type\":\"GlyphRenderer\"}],\"title\":{\"id\":\"b74beab5-9b46-4ba3-a2c6-25808768928e\",\"type\":\"Title\"},\"toolbar\":{\"id\":\"f221b0ac-0ab1-4548-8d9b-4b139ce3a60e\",\"type\":\"Toolbar\"},\"x_range\":{\"id\":\"8e0c0b6e-2fbd-4f40-bffb-8f3d81c3650d\",\"type\":\"DataRange1d\"},\"x_scale\":{\"id\":\"03fa62d4-e699-443d-a3e1-6cd2cb5f2d3f\",\"type\":\"LinearScale\"},\"y_range\":{\"id\":\"a3cb8033-c025-41e5-9155-c7f46c04e638\",\"type\":\"DataRange1d\"},\"y_scale\":{\"id\":\"19e10024-6ea8-449e-a378-efa67d37ef95\",\"type\":\"LinearScale\"}},\"id\":\"cc128aa1-6f60-41d8-9cb4-9cd2b8aa58f3\",\"subtype\":\"Figure\",\"type\":\"Plot\"},{\"attributes\":{\"line_alpha\":{\"value\":0.1},\"line_color\":{\"value\":\"#1f77b4\"},\"line_width\":{\"value\":3},\"x\":{\"field\":\"x\"},\"y\":{\"field\":\"y\"}},\"id\":\"6be3724d-6074-4a06-8074-c7959769647a\",\"type\":\"Line\"},{\"attributes\":{},\"id\":\"8bb14c61-3e08-4790-8624-0fe87dcd90f7\",\"type\":\"BasicTickFormatter\"},{\"attributes\":{},\"id\":\"f37907ee-c159-4013-90fd-4fd883734899\",\"type\":\"BasicTicker\"},{\"attributes\":{\"dimension\":1,\"plot\":{\"id\":\"cc128aa1-6f60-41d8-9cb4-9cd2b8aa58f3\",\"subtype\":\"Figure\",\"type\":\"Plot\"},\"ticker\":{\"id\":\"50c7853c-79a4-4fdd-8312-abe27772bb86\",\"type\":\"BasicTicker\"}},\"id\":\"6c618aac-24b5-4901-ab8a-a02d71dc5ad1\",\"type\":\"Grid\"},{\"attributes\":{},\"id\":\"50c7853c-79a4-4fdd-8312-abe27772bb86\",\"type\":\"BasicTicker\"},{\"attributes\":{\"plot\":null,\"text\":\"\"},\"id\":\"b74beab5-9b46-4ba3-a2c6-25808768928e\",\"type\":\"Title\"},{\"attributes\":{\"formatter\":{\"id\":\"f9d597cc-3e81-43d7-9d4b-85d031951b02\",\"type\":\"BasicTickFormatter\"},\"plot\":{\"id\":\"cc128aa1-6f60-41d8-9cb4-9cd2b8aa58f3\",\"subtype\":\"Figure\",\"type\":\"Plot\"},\"ticker\":{\"id\":\"50c7853c-79a4-4fdd-8312-abe27772bb86\",\"type\":\"BasicTicker\"}},\"id\":\"3a64fb4c-b514-4728-90d8-53853f33b0ba\",\"type\":\"LinearAxis\"}],\"root_ids\":[\"cc128aa1-6f60-41d8-9cb4-9cd2b8aa58f3\"]},\"title\":\"Bokeh Application\",\"version\":\"0.12.10\"}};\n",
       "    var render_items = [{\"docid\":\"36e517d5-27d2-4240-b4cc-289494eb6f2a\",\"elementid\":\"9b8a9705-ba10-457f-b5c3-08eda01844e2\",\"modelid\":\"cc128aa1-6f60-41d8-9cb4-9cd2b8aa58f3\"}];\n",
       "\n",
       "    root.Bokeh.embed.embed_items(docs_json, render_items);\n",
       "  }\n",
       "\n",
       "  if (root.Bokeh !== undefined) {\n",
       "    embed_document(root);\n",
       "  } else {\n",
       "    var attempts = 0;\n",
       "    var timer = setInterval(function(root) {\n",
       "      if (root.Bokeh !== undefined) {\n",
       "        embed_document(root);\n",
       "        clearInterval(timer);\n",
       "      }\n",
       "      attempts++;\n",
       "      if (attempts > 100) {\n",
       "        console.log(\"Bokeh: ERROR: Unable to embed document because BokehJS library is missing\")\n",
       "        clearInterval(timer);\n",
       "      }\n",
       "    }, 10, root)\n",
       "  }\n",
       "})(window);"
      ],
      "application/vnd.bokehjs_exec.v0+json": ""
     },
     "metadata": {
      "application/vnd.bokehjs_exec.v0+json": {
       "id": "cc128aa1-6f60-41d8-9cb4-9cd2b8aa58f3"
      }
     },
     "output_type": "display_data"
    }
   ],
   "source": [
    "def f(x):\n",
    "    return x**3\n",
    "\n",
    "x = np.linspace(-5,5,1000)\n",
    "\n",
    "p3 = figure()\n",
    "p3.line(x, f(x), line_width = 3, color = 'red')\n",
    "show(p3)"
   ]
  },
  {
   "cell_type": "code",
   "execution_count": 21,
   "metadata": {
    "collapsed": true
   },
   "outputs": [],
   "source": [
    "def g(x):\n",
    "    return -x**2 + 1"
   ]
  },
  {
   "cell_type": "code",
   "execution_count": 22,
   "metadata": {},
   "outputs": [
    {
     "data": {
      "text/html": [
       "\n",
       "<div class=\"bk-root\">\n",
       "    <div class=\"bk-plotdiv\" id=\"58853471-f61d-4c91-9821-f99d279a4239\"></div>\n",
       "</div>"
      ]
     },
     "metadata": {},
     "output_type": "display_data"
    },
    {
     "data": {
      "application/javascript": [
       "(function(root) {\n",
       "  function embed_document(root) {\n",
       "    var docs_json = {\"b5bb23e6-f123-47cb-8c24-4c229e20e313\":{\"roots\":{\"references\":[{\"attributes\":{},\"id\":\"1728df08-27fc-4919-8331-ef2acff4e053\",\"type\":\"HelpTool\"},{\"attributes\":{\"callback\":null,\"column_names\":[\"x\",\"y\"],\"data\":{\"x\":{\"__ndarray__\":\"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\",\"dtype\":\"float64\",\"shape\":[1000]},\"y\":{\"__ndarray__\":\"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\",\"dtype\":\"float64\",\"shape\":[1000]}}},\"id\":\"6d42c63e-32be-4912-bc82-12b966af4a0b\",\"type\":\"ColumnDataSource\"},{\"attributes\":{},\"id\":\"1192267f-7083-4cad-a4d1-7ba06a88ae2f\",\"type\":\"ResetTool\"},{\"attributes\":{},\"id\":\"eff2c39a-e21f-401c-89fe-284aeba4cd3d\",\"type\":\"SaveTool\"},{\"attributes\":{\"overlay\":{\"id\":\"6fe42c19-cff5-45ee-a9f2-2eb0dda7d082\",\"type\":\"BoxAnnotation\"}},\"id\":\"9b4b3485-6f35-4923-9bdd-de8da0702f5e\",\"type\":\"BoxZoomTool\"},{\"attributes\":{},\"id\":\"5fd1fccc-10d5-4516-a376-b5f97a84fa93\",\"type\":\"WheelZoomTool\"},{\"attributes\":{\"source\":{\"id\":\"3a5e029b-595e-4bf0-97ef-cd569502c0e2\",\"type\":\"ColumnDataSource\"}},\"id\":\"91009c6d-259e-4d96-a30f-0550acf44e4f\",\"type\":\"CDSView\"},{\"attributes\":{},\"id\":\"036a558f-c9f4-4aa1-9bdc-82422c15f025\",\"type\":\"PanTool\"},{\"attributes\":{\"line_color\":{\"value\":\"blue\"},\"line_width\":{\"value\":3},\"x\":{\"field\":\"x\"},\"y\":{\"field\":\"y\"}},\"id\":\"4337188b-25fe-4527-b1cd-3e9c7d25d64b\",\"type\":\"Line\"},{\"attributes\":{\"bottom_units\":\"screen\",\"fill_alpha\":{\"value\":0.5},\"fill_color\":{\"value\":\"lightgrey\"},\"left_units\":\"screen\",\"level\":\"overlay\",\"line_alpha\":{\"value\":1.0},\"line_color\":{\"value\":\"black\"},\"line_dash\":[4,4],\"line_width\":{\"value\":2},\"plot\":null,\"render_mode\":\"css\",\"right_units\":\"screen\",\"top_units\":\"screen\"},\"id\":\"6fe42c19-cff5-45ee-a9f2-2eb0dda7d082\",\"type\":\"BoxAnnotation\"},{\"attributes\":{\"line_alpha\":{\"value\":0.1},\"line_color\":{\"value\":\"#1f77b4\"},\"line_width\":{\"value\":3},\"x\":{\"field\":\"x\"},\"y\":{\"field\":\"y\"}},\"id\":\"6be3724d-6074-4a06-8074-c7959769647a\",\"type\":\"Line\"},{\"attributes\":{\"dimension\":1,\"plot\":{\"id\":\"cc128aa1-6f60-41d8-9cb4-9cd2b8aa58f3\",\"subtype\":\"Figure\",\"type\":\"Plot\"},\"ticker\":{\"id\":\"50c7853c-79a4-4fdd-8312-abe27772bb86\",\"type\":\"BasicTicker\"}},\"id\":\"6c618aac-24b5-4901-ab8a-a02d71dc5ad1\",\"type\":\"Grid\"},{\"attributes\":{},\"id\":\"50c7853c-79a4-4fdd-8312-abe27772bb86\",\"type\":\"BasicTicker\"},{\"attributes\":{\"plot\":null,\"text\":\"\"},\"id\":\"b74beab5-9b46-4ba3-a2c6-25808768928e\",\"type\":\"Title\"},{\"attributes\":{\"formatter\":{\"id\":\"f9d597cc-3e81-43d7-9d4b-85d031951b02\",\"type\":\"BasicTickFormatter\"},\"plot\":{\"id\":\"cc128aa1-6f60-41d8-9cb4-9cd2b8aa58f3\",\"subtype\":\"Figure\",\"type\":\"Plot\"},\"ticker\":{\"id\":\"50c7853c-79a4-4fdd-8312-abe27772bb86\",\"type\":\"BasicTicker\"}},\"id\":\"3a64fb4c-b514-4728-90d8-53853f33b0ba\",\"type\":\"LinearAxis\"},{\"attributes\":{},\"id\":\"19e10024-6ea8-449e-a378-efa67d37ef95\",\"type\":\"LinearScale\"},{\"attributes\":{},\"id\":\"03fa62d4-e699-443d-a3e1-6cd2cb5f2d3f\",\"type\":\"LinearScale\"},{\"attributes\":{\"formatter\":{\"id\":\"8bb14c61-3e08-4790-8624-0fe87dcd90f7\",\"type\":\"BasicTickFormatter\"},\"plot\":{\"id\":\"cc128aa1-6f60-41d8-9cb4-9cd2b8aa58f3\",\"subtype\":\"Figure\",\"type\":\"Plot\"},\"ticker\":{\"id\":\"f37907ee-c159-4013-90fd-4fd883734899\",\"type\":\"BasicTicker\"}},\"id\":\"b4ecacf1-a27d-4aeb-9866-8d6278c14f56\",\"type\":\"LinearAxis\"},{\"attributes\":{\"plot\":{\"id\":\"cc128aa1-6f60-41d8-9cb4-9cd2b8aa58f3\",\"subtype\":\"Figure\",\"type\":\"Plot\"},\"ticker\":{\"id\":\"f37907ee-c159-4013-90fd-4fd883734899\",\"type\":\"BasicTicker\"}},\"id\":\"ea7d32a0-aabf-41a3-8e3f-c263f8cc059e\",\"type\":\"Grid\"},{\"attributes\":{\"callback\":null},\"id\":\"a3cb8033-c025-41e5-9155-c7f46c04e638\",\"type\":\"DataRange1d\"},{\"attributes\":{\"active_drag\":\"auto\",\"active_inspect\":\"auto\",\"active_scroll\":\"auto\",\"active_tap\":\"auto\",\"tools\":[{\"id\":\"036a558f-c9f4-4aa1-9bdc-82422c15f025\",\"type\":\"PanTool\"},{\"id\":\"5fd1fccc-10d5-4516-a376-b5f97a84fa93\",\"type\":\"WheelZoomTool\"},{\"id\":\"9b4b3485-6f35-4923-9bdd-de8da0702f5e\",\"type\":\"BoxZoomTool\"},{\"id\":\"eff2c39a-e21f-401c-89fe-284aeba4cd3d\",\"type\":\"SaveTool\"},{\"id\":\"1192267f-7083-4cad-a4d1-7ba06a88ae2f\",\"type\":\"ResetTool\"},{\"id\":\"1728df08-27fc-4919-8331-ef2acff4e053\",\"type\":\"HelpTool\"}]},\"id\":\"f221b0ac-0ab1-4548-8d9b-4b139ce3a60e\",\"type\":\"Toolbar\"},{\"attributes\":{\"source\":{\"id\":\"6d42c63e-32be-4912-bc82-12b966af4a0b\",\"type\":\"ColumnDataSource\"}},\"id\":\"d3c5b451-78ba-4662-99da-36a951ff3fe1\",\"type\":\"CDSView\"},{\"attributes\":{\"callback\":null,\"column_names\":[\"x\",\"y\"],\"data\":{\"x\":{\"__ndarray__\":\"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\",\"dtype\":\"float64\",\"shape\":[1000]},\"y\":{\"__ndarray__\":\"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\",\"dtype\":\"float64\",\"shape\":[1000]}}},\"id\":\"3a5e029b-595e-4bf0-97ef-cd569502c0e2\",\"type\":\"ColumnDataSource\"},{\"attributes\":{\"callback\":null},\"id\":\"8e0c0b6e-2fbd-4f40-bffb-8f3d81c3650d\",\"type\":\"DataRange1d\"},{\"attributes\":{\"line_color\":{\"value\":\"red\"},\"line_width\":{\"value\":3},\"x\":{\"field\":\"x\"},\"y\":{\"field\":\"y\"}},\"id\":\"77c51070-8d84-4708-9d60-bb55ba6018ff\",\"type\":\"Line\"},{\"attributes\":{},\"id\":\"f9d597cc-3e81-43d7-9d4b-85d031951b02\",\"type\":\"BasicTickFormatter\"},{\"attributes\":{\"data_source\":{\"id\":\"3a5e029b-595e-4bf0-97ef-cd569502c0e2\",\"type\":\"ColumnDataSource\"},\"glyph\":{\"id\":\"77c51070-8d84-4708-9d60-bb55ba6018ff\",\"type\":\"Line\"},\"hover_glyph\":null,\"muted_glyph\":null,\"nonselection_glyph\":{\"id\":\"6be3724d-6074-4a06-8074-c7959769647a\",\"type\":\"Line\"},\"selection_glyph\":null,\"view\":{\"id\":\"91009c6d-259e-4d96-a30f-0550acf44e4f\",\"type\":\"CDSView\"}},\"id\":\"4251811a-93e3-4b5d-a77b-16853dcf577f\",\"type\":\"GlyphRenderer\"},{\"attributes\":{\"below\":[{\"id\":\"b4ecacf1-a27d-4aeb-9866-8d6278c14f56\",\"type\":\"LinearAxis\"}],\"left\":[{\"id\":\"3a64fb4c-b514-4728-90d8-53853f33b0ba\",\"type\":\"LinearAxis\"}],\"renderers\":[{\"id\":\"b4ecacf1-a27d-4aeb-9866-8d6278c14f56\",\"type\":\"LinearAxis\"},{\"id\":\"ea7d32a0-aabf-41a3-8e3f-c263f8cc059e\",\"type\":\"Grid\"},{\"id\":\"3a64fb4c-b514-4728-90d8-53853f33b0ba\",\"type\":\"LinearAxis\"},{\"id\":\"6c618aac-24b5-4901-ab8a-a02d71dc5ad1\",\"type\":\"Grid\"},{\"id\":\"6fe42c19-cff5-45ee-a9f2-2eb0dda7d082\",\"type\":\"BoxAnnotation\"},{\"id\":\"4251811a-93e3-4b5d-a77b-16853dcf577f\",\"type\":\"GlyphRenderer\"},{\"id\":\"fbf9bd7d-777a-446c-851f-4197f2169946\",\"type\":\"GlyphRenderer\"}],\"title\":{\"id\":\"b74beab5-9b46-4ba3-a2c6-25808768928e\",\"type\":\"Title\"},\"toolbar\":{\"id\":\"f221b0ac-0ab1-4548-8d9b-4b139ce3a60e\",\"type\":\"Toolbar\"},\"x_range\":{\"id\":\"8e0c0b6e-2fbd-4f40-bffb-8f3d81c3650d\",\"type\":\"DataRange1d\"},\"x_scale\":{\"id\":\"03fa62d4-e699-443d-a3e1-6cd2cb5f2d3f\",\"type\":\"LinearScale\"},\"y_range\":{\"id\":\"a3cb8033-c025-41e5-9155-c7f46c04e638\",\"type\":\"DataRange1d\"},\"y_scale\":{\"id\":\"19e10024-6ea8-449e-a378-efa67d37ef95\",\"type\":\"LinearScale\"}},\"id\":\"cc128aa1-6f60-41d8-9cb4-9cd2b8aa58f3\",\"subtype\":\"Figure\",\"type\":\"Plot\"},{\"attributes\":{},\"id\":\"8bb14c61-3e08-4790-8624-0fe87dcd90f7\",\"type\":\"BasicTickFormatter\"},{\"attributes\":{},\"id\":\"f37907ee-c159-4013-90fd-4fd883734899\",\"type\":\"BasicTicker\"},{\"attributes\":{\"data_source\":{\"id\":\"6d42c63e-32be-4912-bc82-12b966af4a0b\",\"type\":\"ColumnDataSource\"},\"glyph\":{\"id\":\"4337188b-25fe-4527-b1cd-3e9c7d25d64b\",\"type\":\"Line\"},\"hover_glyph\":null,\"muted_glyph\":null,\"nonselection_glyph\":{\"id\":\"d2763169-ee99-4cc9-9d51-3decb05a03d7\",\"type\":\"Line\"},\"selection_glyph\":null,\"view\":{\"id\":\"d3c5b451-78ba-4662-99da-36a951ff3fe1\",\"type\":\"CDSView\"}},\"id\":\"fbf9bd7d-777a-446c-851f-4197f2169946\",\"type\":\"GlyphRenderer\"},{\"attributes\":{\"line_alpha\":{\"value\":0.1},\"line_color\":{\"value\":\"#1f77b4\"},\"line_width\":{\"value\":3},\"x\":{\"field\":\"x\"},\"y\":{\"field\":\"y\"}},\"id\":\"d2763169-ee99-4cc9-9d51-3decb05a03d7\",\"type\":\"Line\"}],\"root_ids\":[\"cc128aa1-6f60-41d8-9cb4-9cd2b8aa58f3\"]},\"title\":\"Bokeh Application\",\"version\":\"0.12.10\"}};\n",
       "    var render_items = [{\"docid\":\"b5bb23e6-f123-47cb-8c24-4c229e20e313\",\"elementid\":\"58853471-f61d-4c91-9821-f99d279a4239\",\"modelid\":\"cc128aa1-6f60-41d8-9cb4-9cd2b8aa58f3\"}];\n",
       "\n",
       "    root.Bokeh.embed.embed_items(docs_json, render_items);\n",
       "  }\n",
       "\n",
       "  if (root.Bokeh !== undefined) {\n",
       "    embed_document(root);\n",
       "  } else {\n",
       "    var attempts = 0;\n",
       "    var timer = setInterval(function(root) {\n",
       "      if (root.Bokeh !== undefined) {\n",
       "        embed_document(root);\n",
       "        clearInterval(timer);\n",
       "      }\n",
       "      attempts++;\n",
       "      if (attempts > 100) {\n",
       "        console.log(\"Bokeh: ERROR: Unable to embed document because BokehJS library is missing\")\n",
       "        clearInterval(timer);\n",
       "      }\n",
       "    }, 10, root)\n",
       "  }\n",
       "})(window);"
      ],
      "application/vnd.bokehjs_exec.v0+json": ""
     },
     "metadata": {
      "application/vnd.bokehjs_exec.v0+json": {
       "id": "cc128aa1-6f60-41d8-9cb4-9cd2b8aa58f3"
      }
     },
     "output_type": "display_data"
    }
   ],
   "source": [
    "p3.line(x, g(x), line_width = 3, color = 'blue')\n",
    "show(p3)"
   ]
  },
  {
   "cell_type": "markdown",
   "metadata": {},
   "source": [
    "### Problem\n",
    "\n",
    "Can you create plots of two functions, as given below, with different points located at $x = -2, 0, 1,$ and $6$.\n",
    "\n",
    "$$f(x) = \\cos(x) \\quad \\text{and} \\quad g(x) = \\sin{x^2}$$"
   ]
  },
  {
   "cell_type": "code",
   "execution_count": null,
   "metadata": {
    "collapsed": true
   },
   "outputs": [],
   "source": []
  },
  {
   "cell_type": "code",
   "execution_count": null,
   "metadata": {
    "collapsed": true
   },
   "outputs": [],
   "source": []
  },
  {
   "cell_type": "code",
   "execution_count": null,
   "metadata": {
    "collapsed": true
   },
   "outputs": [],
   "source": []
  },
  {
   "cell_type": "code",
   "execution_count": null,
   "metadata": {
    "collapsed": true
   },
   "outputs": [],
   "source": []
  },
  {
   "cell_type": "markdown",
   "metadata": {},
   "source": [
    "# Rectangles\n",
    "\n",
    "Of course we are interested in rectangles.  Here, to draw a rectangle, we declare the `left, right, top`, and `bottom` positions of the rectangle."
   ]
  },
  {
   "cell_type": "code",
   "execution_count": 26,
   "metadata": {},
   "outputs": [
    {
     "data": {
      "text/html": [
       "\n",
       "<div class=\"bk-root\">\n",
       "    <div class=\"bk-plotdiv\" id=\"ca9ee37f-7458-4494-b75f-30141e625b78\"></div>\n",
       "</div>"
      ]
     },
     "metadata": {},
     "output_type": "display_data"
    },
    {
     "data": {
      "application/javascript": [
       "(function(root) {\n",
       "  function embed_document(root) {\n",
       "    var docs_json = {\"e5835656-2543-4474-b62c-e00b8cb302c9\":{\"roots\":{\"references\":[{\"attributes\":{},\"id\":\"2b4d461e-0624-468a-994a-e8122a9a1d73\",\"type\":\"BasicTickFormatter\"},{\"attributes\":{},\"id\":\"f54d788d-8c98-45eb-b2eb-64bee7f4cf38\",\"type\":\"HelpTool\"},{\"attributes\":{\"formatter\":{\"id\":\"2b4d461e-0624-468a-994a-e8122a9a1d73\",\"type\":\"BasicTickFormatter\"},\"plot\":{\"id\":\"5404f66b-df45-44fb-bb57-ac57d222cac7\",\"subtype\":\"Figure\",\"type\":\"Plot\"},\"ticker\":{\"id\":\"a04e2347-ca00-4c18-83a2-aa86330c6f28\",\"type\":\"BasicTicker\"}},\"id\":\"3fc2052b-7e41-4620-b339-996ed8e3bf78\",\"type\":\"LinearAxis\"},{\"attributes\":{},\"id\":\"2630bb5c-ca02-494a-b836-03b798d9e85f\",\"type\":\"LinearScale\"},{\"attributes\":{\"plot\":null,\"text\":\"\"},\"id\":\"adcfb245-5a04-4652-aaea-8e4aab1435c0\",\"type\":\"Title\"},{\"attributes\":{\"formatter\":{\"id\":\"232eeb4d-96fd-48bb-831d-eb72fe11fe34\",\"type\":\"BasicTickFormatter\"},\"plot\":{\"id\":\"5404f66b-df45-44fb-bb57-ac57d222cac7\",\"subtype\":\"Figure\",\"type\":\"Plot\"},\"ticker\":{\"id\":\"7571226a-a08c-41d2-acee-f5660d03c2cd\",\"type\":\"BasicTicker\"}},\"id\":\"6540025a-6bef-4daa-86a8-7fb99ca34d9e\",\"type\":\"LinearAxis\"},{\"attributes\":{},\"id\":\"5bbc0dcb-a30e-45be-98d6-2d5e7421413e\",\"type\":\"ResetTool\"},{\"attributes\":{\"overlay\":{\"id\":\"6e84de2d-3f83-4f88-842d-953092921e5c\",\"type\":\"BoxAnnotation\"}},\"id\":\"ff624a30-1105-4c90-84b3-e6fb959bf42b\",\"type\":\"BoxZoomTool\"},{\"attributes\":{},\"id\":\"db03577d-4c5e-4e35-8b62-ecc7044e1429\",\"type\":\"PanTool\"},{\"attributes\":{\"bottom\":{\"field\":\"bottom\"},\"fill_alpha\":{\"value\":0.1},\"fill_color\":{\"value\":\"#1f77b4\"},\"left\":{\"field\":\"left\"},\"line_alpha\":{\"value\":0.1},\"line_color\":{\"value\":\"#1f77b4\"},\"right\":{\"field\":\"right\"},\"top\":{\"field\":\"top\"}},\"id\":\"850ee33e-b55d-4904-a118-c5363113b586\",\"type\":\"Quad\"},{\"attributes\":{},\"id\":\"a8764ad7-726a-4f4e-83ea-ed64197dd623\",\"type\":\"SaveTool\"},{\"attributes\":{\"callback\":null,\"column_names\":[\"left\",\"right\",\"top\",\"bottom\"],\"data\":{\"bottom\":[1,1,1],\"left\":[1,2,3],\"right\":[2,3,4],\"top\":[2,3,4]}},\"id\":\"773e760d-8e89-45e7-9f46-9af54d718f06\",\"type\":\"ColumnDataSource\"},{\"attributes\":{\"bottom_units\":\"screen\",\"fill_alpha\":{\"value\":0.5},\"fill_color\":{\"value\":\"lightgrey\"},\"left_units\":\"screen\",\"level\":\"overlay\",\"line_alpha\":{\"value\":1.0},\"line_color\":{\"value\":\"black\"},\"line_dash\":[4,4],\"line_width\":{\"value\":2},\"plot\":null,\"render_mode\":\"css\",\"right_units\":\"screen\",\"top_units\":\"screen\"},\"id\":\"6e84de2d-3f83-4f88-842d-953092921e5c\",\"type\":\"BoxAnnotation\"},{\"attributes\":{\"plot\":{\"id\":\"5404f66b-df45-44fb-bb57-ac57d222cac7\",\"subtype\":\"Figure\",\"type\":\"Plot\"},\"ticker\":{\"id\":\"a04e2347-ca00-4c18-83a2-aa86330c6f28\",\"type\":\"BasicTicker\"}},\"id\":\"57ced6bb-8845-4a11-b6b6-a070f1e246e3\",\"type\":\"Grid\"},{\"attributes\":{\"active_drag\":\"auto\",\"active_inspect\":\"auto\",\"active_scroll\":\"auto\",\"active_tap\":\"auto\",\"tools\":[{\"id\":\"db03577d-4c5e-4e35-8b62-ecc7044e1429\",\"type\":\"PanTool\"},{\"id\":\"1bd36aef-bbb5-493f-a275-e8ab4c2a1e6a\",\"type\":\"WheelZoomTool\"},{\"id\":\"ff624a30-1105-4c90-84b3-e6fb959bf42b\",\"type\":\"BoxZoomTool\"},{\"id\":\"a8764ad7-726a-4f4e-83ea-ed64197dd623\",\"type\":\"SaveTool\"},{\"id\":\"5bbc0dcb-a30e-45be-98d6-2d5e7421413e\",\"type\":\"ResetTool\"},{\"id\":\"f54d788d-8c98-45eb-b2eb-64bee7f4cf38\",\"type\":\"HelpTool\"}]},\"id\":\"d5d7f2b6-101b-4d4f-90dd-2d6a16308e2a\",\"type\":\"Toolbar\"},{\"attributes\":{},\"id\":\"96d6f680-ce92-45f5-adec-26adebcdf210\",\"type\":\"LinearScale\"},{\"attributes\":{\"callback\":null},\"id\":\"53fb6c0a-0983-40f4-bb3a-bffdcf5a35b4\",\"type\":\"DataRange1d\"},{\"attributes\":{\"source\":{\"id\":\"773e760d-8e89-45e7-9f46-9af54d718f06\",\"type\":\"ColumnDataSource\"}},\"id\":\"460b81ee-ac26-4fee-9085-6bbf77ab7a91\",\"type\":\"CDSView\"},{\"attributes\":{\"below\":[{\"id\":\"3fc2052b-7e41-4620-b339-996ed8e3bf78\",\"type\":\"LinearAxis\"}],\"left\":[{\"id\":\"6540025a-6bef-4daa-86a8-7fb99ca34d9e\",\"type\":\"LinearAxis\"}],\"renderers\":[{\"id\":\"3fc2052b-7e41-4620-b339-996ed8e3bf78\",\"type\":\"LinearAxis\"},{\"id\":\"57ced6bb-8845-4a11-b6b6-a070f1e246e3\",\"type\":\"Grid\"},{\"id\":\"6540025a-6bef-4daa-86a8-7fb99ca34d9e\",\"type\":\"LinearAxis\"},{\"id\":\"b2921f15-6cf1-4f0c-b9bb-d13104391e73\",\"type\":\"Grid\"},{\"id\":\"6e84de2d-3f83-4f88-842d-953092921e5c\",\"type\":\"BoxAnnotation\"},{\"id\":\"e1782cd9-7098-4126-be5f-d42c73db9ae8\",\"type\":\"GlyphRenderer\"}],\"title\":{\"id\":\"adcfb245-5a04-4652-aaea-8e4aab1435c0\",\"type\":\"Title\"},\"toolbar\":{\"id\":\"d5d7f2b6-101b-4d4f-90dd-2d6a16308e2a\",\"type\":\"Toolbar\"},\"x_range\":{\"id\":\"53fb6c0a-0983-40f4-bb3a-bffdcf5a35b4\",\"type\":\"DataRange1d\"},\"x_scale\":{\"id\":\"96d6f680-ce92-45f5-adec-26adebcdf210\",\"type\":\"LinearScale\"},\"y_range\":{\"id\":\"a08f5760-8b09-42b1-9481-17b2a5f45469\",\"type\":\"DataRange1d\"},\"y_scale\":{\"id\":\"2630bb5c-ca02-494a-b836-03b798d9e85f\",\"type\":\"LinearScale\"}},\"id\":\"5404f66b-df45-44fb-bb57-ac57d222cac7\",\"subtype\":\"Figure\",\"type\":\"Plot\"},{\"attributes\":{\"bottom\":{\"field\":\"bottom\"},\"fill_color\":{\"value\":\"pink\"},\"left\":{\"field\":\"left\"},\"line_color\":{\"value\":\"pink\"},\"right\":{\"field\":\"right\"},\"top\":{\"field\":\"top\"}},\"id\":\"2ae9e537-9fce-42fa-aae3-da285571485b\",\"type\":\"Quad\"},{\"attributes\":{},\"id\":\"7571226a-a08c-41d2-acee-f5660d03c2cd\",\"type\":\"BasicTicker\"},{\"attributes\":{},\"id\":\"1bd36aef-bbb5-493f-a275-e8ab4c2a1e6a\",\"type\":\"WheelZoomTool\"},{\"attributes\":{\"dimension\":1,\"plot\":{\"id\":\"5404f66b-df45-44fb-bb57-ac57d222cac7\",\"subtype\":\"Figure\",\"type\":\"Plot\"},\"ticker\":{\"id\":\"7571226a-a08c-41d2-acee-f5660d03c2cd\",\"type\":\"BasicTicker\"}},\"id\":\"b2921f15-6cf1-4f0c-b9bb-d13104391e73\",\"type\":\"Grid\"},{\"attributes\":{},\"id\":\"a04e2347-ca00-4c18-83a2-aa86330c6f28\",\"type\":\"BasicTicker\"},{\"attributes\":{\"data_source\":{\"id\":\"773e760d-8e89-45e7-9f46-9af54d718f06\",\"type\":\"ColumnDataSource\"},\"glyph\":{\"id\":\"2ae9e537-9fce-42fa-aae3-da285571485b\",\"type\":\"Quad\"},\"hover_glyph\":null,\"muted_glyph\":null,\"nonselection_glyph\":{\"id\":\"850ee33e-b55d-4904-a118-c5363113b586\",\"type\":\"Quad\"},\"selection_glyph\":null,\"view\":{\"id\":\"460b81ee-ac26-4fee-9085-6bbf77ab7a91\",\"type\":\"CDSView\"}},\"id\":\"e1782cd9-7098-4126-be5f-d42c73db9ae8\",\"type\":\"GlyphRenderer\"},{\"attributes\":{\"callback\":null},\"id\":\"a08f5760-8b09-42b1-9481-17b2a5f45469\",\"type\":\"DataRange1d\"},{\"attributes\":{},\"id\":\"232eeb4d-96fd-48bb-831d-eb72fe11fe34\",\"type\":\"BasicTickFormatter\"}],\"root_ids\":[\"5404f66b-df45-44fb-bb57-ac57d222cac7\"]},\"title\":\"Bokeh Application\",\"version\":\"0.12.10\"}};\n",
       "    var render_items = [{\"docid\":\"e5835656-2543-4474-b62c-e00b8cb302c9\",\"elementid\":\"ca9ee37f-7458-4494-b75f-30141e625b78\",\"modelid\":\"5404f66b-df45-44fb-bb57-ac57d222cac7\"}];\n",
       "\n",
       "    root.Bokeh.embed.embed_items(docs_json, render_items);\n",
       "  }\n",
       "\n",
       "  if (root.Bokeh !== undefined) {\n",
       "    embed_document(root);\n",
       "  } else {\n",
       "    var attempts = 0;\n",
       "    var timer = setInterval(function(root) {\n",
       "      if (root.Bokeh !== undefined) {\n",
       "        embed_document(root);\n",
       "        clearInterval(timer);\n",
       "      }\n",
       "      attempts++;\n",
       "      if (attempts > 100) {\n",
       "        console.log(\"Bokeh: ERROR: Unable to embed document because BokehJS library is missing\")\n",
       "        clearInterval(timer);\n",
       "      }\n",
       "    }, 10, root)\n",
       "  }\n",
       "})(window);"
      ],
      "application/vnd.bokehjs_exec.v0+json": ""
     },
     "metadata": {
      "application/vnd.bokehjs_exec.v0+json": {
       "id": "5404f66b-df45-44fb-bb57-ac57d222cac7"
      }
     },
     "output_type": "display_data"
    }
   ],
   "source": [
    "p4 = figure()\n",
    "p4.quad(top = [2,3,4], bottom = [1, 1,1], left = [1, 2, 3], right = [2,3,4], color = 'pink')\n",
    "show(p4)"
   ]
  },
  {
   "cell_type": "markdown",
   "metadata": {},
   "source": [
    "### Bars\n",
    "\n",
    "You can also use bars to create a similar effect.  We have both `hbar()` and `vbar()` methods."
   ]
  },
  {
   "cell_type": "code",
   "execution_count": 39,
   "metadata": {},
   "outputs": [
    {
     "data": {
      "text/html": [
       "\n",
       "<div class=\"bk-root\">\n",
       "    <div class=\"bk-plotdiv\" id=\"e401e3af-0cd5-49f5-ab58-8d8cc01825f0\"></div>\n",
       "</div>"
      ]
     },
     "metadata": {},
     "output_type": "display_data"
    },
    {
     "data": {
      "application/javascript": [
       "(function(root) {\n",
       "  function embed_document(root) {\n",
       "    var docs_json = {\"4fbc6bf0-ffec-4b8b-a40f-443208560920\":{\"roots\":{\"references\":[{\"attributes\":{\"callback\":null},\"id\":\"ddca7c01-72c0-4c95-a44e-55a79b4de055\",\"type\":\"DataRange1d\"},{\"attributes\":{},\"id\":\"fefe5799-243c-409a-95d8-ed2a87bfb3e8\",\"type\":\"WheelZoomTool\"},{\"attributes\":{},\"id\":\"09b459f8-911f-4866-b927-72c656ba1b97\",\"type\":\"BasicTicker\"},{\"attributes\":{\"formatter\":{\"id\":\"6d61865c-dfa0-4b20-b655-a4fa11819a69\",\"type\":\"BasicTickFormatter\"},\"plot\":{\"id\":\"e257f26e-b8d4-4935-af85-354aab33827d\",\"subtype\":\"Figure\",\"type\":\"Plot\"},\"ticker\":{\"id\":\"14bb969e-076c-4dcd-91fb-7218d730b7be\",\"type\":\"BasicTicker\"}},\"id\":\"8df41dea-36dc-4ce0-89b9-ae7e12467dc8\",\"type\":\"LinearAxis\"},{\"attributes\":{},\"id\":\"6d274bce-503c-4d06-ba19-d3612f4ad47b\",\"type\":\"PanTool\"},{\"attributes\":{},\"id\":\"d5b11a87-95f0-49c3-a4c4-e0f5dac933e3\",\"type\":\"LinearScale\"},{\"attributes\":{},\"id\":\"6d61865c-dfa0-4b20-b655-a4fa11819a69\",\"type\":\"BasicTickFormatter\"},{\"attributes\":{\"overlay\":{\"id\":\"77cb2f62-ae01-4ccc-8678-d97e90591d0a\",\"type\":\"BoxAnnotation\"}},\"id\":\"58a53e29-f151-428d-b8d6-e66d097c4e59\",\"type\":\"BoxZoomTool\"},{\"attributes\":{},\"id\":\"a341858c-76d4-43ee-a25f-04b900d1b61c\",\"type\":\"LinearScale\"},{\"attributes\":{\"callback\":null},\"id\":\"a5c402d8-a80d-4db1-be77-9fd19ebfdceb\",\"type\":\"DataRange1d\"},{\"attributes\":{\"data_source\":{\"id\":\"32dceba1-39f9-4fc8-b4b5-06e0b148049f\",\"type\":\"ColumnDataSource\"},\"glyph\":{\"id\":\"81d6b8ce-22b4-49b0-ac4b-4e8b0d0f6423\",\"type\":\"VBar\"},\"hover_glyph\":null,\"muted_glyph\":null,\"nonselection_glyph\":{\"id\":\"57e06196-85eb-4d5f-bf96-f74a570058e6\",\"type\":\"VBar\"},\"selection_glyph\":null,\"view\":{\"id\":\"e79ab9d1-63e1-4592-bbcb-16683f491cca\",\"type\":\"CDSView\"}},\"id\":\"386778bb-8795-4e1b-b997-6a45656800ae\",\"type\":\"GlyphRenderer\"},{\"attributes\":{},\"id\":\"7461aa91-fc02-4432-8850-fc3f1cb60271\",\"type\":\"SaveTool\"},{\"attributes\":{\"fill_color\":{\"value\":\"orange\"},\"line_color\":{\"value\":\"orange\"},\"top\":{\"field\":\"top\"},\"width\":{\"value\":1},\"x\":{\"field\":\"x\"}},\"id\":\"81d6b8ce-22b4-49b0-ac4b-4e8b0d0f6423\",\"type\":\"VBar\"},{\"attributes\":{\"below\":[{\"id\":\"8df41dea-36dc-4ce0-89b9-ae7e12467dc8\",\"type\":\"LinearAxis\"}],\"left\":[{\"id\":\"7dd865ba-1b4e-4804-aa09-265d02a7f554\",\"type\":\"LinearAxis\"}],\"renderers\":[{\"id\":\"8df41dea-36dc-4ce0-89b9-ae7e12467dc8\",\"type\":\"LinearAxis\"},{\"id\":\"b1d9a0a7-12bf-41c2-859c-94018f62535c\",\"type\":\"Grid\"},{\"id\":\"7dd865ba-1b4e-4804-aa09-265d02a7f554\",\"type\":\"LinearAxis\"},{\"id\":\"4be3574e-bd7f-4a6c-ae8d-069af3e0236b\",\"type\":\"Grid\"},{\"id\":\"77cb2f62-ae01-4ccc-8678-d97e90591d0a\",\"type\":\"BoxAnnotation\"},{\"id\":\"386778bb-8795-4e1b-b997-6a45656800ae\",\"type\":\"GlyphRenderer\"}],\"title\":{\"id\":\"3b4e1b9c-7b42-4b77-8365-7f9842bd5b08\",\"type\":\"Title\"},\"toolbar\":{\"id\":\"18dd18af-3d61-4b9e-98d5-0c9893512a6f\",\"type\":\"Toolbar\"},\"x_range\":{\"id\":\"ddca7c01-72c0-4c95-a44e-55a79b4de055\",\"type\":\"DataRange1d\"},\"x_scale\":{\"id\":\"d5b11a87-95f0-49c3-a4c4-e0f5dac933e3\",\"type\":\"LinearScale\"},\"y_range\":{\"id\":\"a5c402d8-a80d-4db1-be77-9fd19ebfdceb\",\"type\":\"DataRange1d\"},\"y_scale\":{\"id\":\"a341858c-76d4-43ee-a25f-04b900d1b61c\",\"type\":\"LinearScale\"}},\"id\":\"e257f26e-b8d4-4935-af85-354aab33827d\",\"subtype\":\"Figure\",\"type\":\"Plot\"},{\"attributes\":{},\"id\":\"9e3dcb73-e5c1-4b4c-9ac3-884ae67645c6\",\"type\":\"HelpTool\"},{\"attributes\":{\"formatter\":{\"id\":\"04aa1b5c-a53f-41dc-ba5d-cc60e94b505f\",\"type\":\"BasicTickFormatter\"},\"plot\":{\"id\":\"e257f26e-b8d4-4935-af85-354aab33827d\",\"subtype\":\"Figure\",\"type\":\"Plot\"},\"ticker\":{\"id\":\"09b459f8-911f-4866-b927-72c656ba1b97\",\"type\":\"BasicTicker\"}},\"id\":\"7dd865ba-1b4e-4804-aa09-265d02a7f554\",\"type\":\"LinearAxis\"},{\"attributes\":{},\"id\":\"14bb969e-076c-4dcd-91fb-7218d730b7be\",\"type\":\"BasicTicker\"},{\"attributes\":{\"dimension\":1,\"plot\":{\"id\":\"e257f26e-b8d4-4935-af85-354aab33827d\",\"subtype\":\"Figure\",\"type\":\"Plot\"},\"ticker\":{\"id\":\"09b459f8-911f-4866-b927-72c656ba1b97\",\"type\":\"BasicTicker\"}},\"id\":\"4be3574e-bd7f-4a6c-ae8d-069af3e0236b\",\"type\":\"Grid\"},{\"attributes\":{\"plot\":null,\"text\":\"\"},\"id\":\"3b4e1b9c-7b42-4b77-8365-7f9842bd5b08\",\"type\":\"Title\"},{\"attributes\":{\"active_drag\":\"auto\",\"active_inspect\":\"auto\",\"active_scroll\":\"auto\",\"active_tap\":\"auto\",\"tools\":[{\"id\":\"6d274bce-503c-4d06-ba19-d3612f4ad47b\",\"type\":\"PanTool\"},{\"id\":\"fefe5799-243c-409a-95d8-ed2a87bfb3e8\",\"type\":\"WheelZoomTool\"},{\"id\":\"58a53e29-f151-428d-b8d6-e66d097c4e59\",\"type\":\"BoxZoomTool\"},{\"id\":\"7461aa91-fc02-4432-8850-fc3f1cb60271\",\"type\":\"SaveTool\"},{\"id\":\"334ee175-7aef-4e92-a334-ac48db4c0db3\",\"type\":\"ResetTool\"},{\"id\":\"9e3dcb73-e5c1-4b4c-9ac3-884ae67645c6\",\"type\":\"HelpTool\"}]},\"id\":\"18dd18af-3d61-4b9e-98d5-0c9893512a6f\",\"type\":\"Toolbar\"},{\"attributes\":{},\"id\":\"04aa1b5c-a53f-41dc-ba5d-cc60e94b505f\",\"type\":\"BasicTickFormatter\"},{\"attributes\":{\"fill_alpha\":{\"value\":0.1},\"fill_color\":{\"value\":\"#1f77b4\"},\"line_alpha\":{\"value\":0.1},\"line_color\":{\"value\":\"#1f77b4\"},\"top\":{\"field\":\"top\"},\"width\":{\"value\":1},\"x\":{\"field\":\"x\"}},\"id\":\"57e06196-85eb-4d5f-bf96-f74a570058e6\",\"type\":\"VBar\"},{\"attributes\":{\"callback\":null,\"column_names\":[\"x\",\"top\"],\"data\":{\"top\":[1,4,9],\"x\":[1,2,3]}},\"id\":\"32dceba1-39f9-4fc8-b4b5-06e0b148049f\",\"type\":\"ColumnDataSource\"},{\"attributes\":{\"source\":{\"id\":\"32dceba1-39f9-4fc8-b4b5-06e0b148049f\",\"type\":\"ColumnDataSource\"}},\"id\":\"e79ab9d1-63e1-4592-bbcb-16683f491cca\",\"type\":\"CDSView\"},{\"attributes\":{\"plot\":{\"id\":\"e257f26e-b8d4-4935-af85-354aab33827d\",\"subtype\":\"Figure\",\"type\":\"Plot\"},\"ticker\":{\"id\":\"14bb969e-076c-4dcd-91fb-7218d730b7be\",\"type\":\"BasicTicker\"}},\"id\":\"b1d9a0a7-12bf-41c2-859c-94018f62535c\",\"type\":\"Grid\"},{\"attributes\":{},\"id\":\"334ee175-7aef-4e92-a334-ac48db4c0db3\",\"type\":\"ResetTool\"},{\"attributes\":{\"bottom_units\":\"screen\",\"fill_alpha\":{\"value\":0.5},\"fill_color\":{\"value\":\"lightgrey\"},\"left_units\":\"screen\",\"level\":\"overlay\",\"line_alpha\":{\"value\":1.0},\"line_color\":{\"value\":\"black\"},\"line_dash\":[4,4],\"line_width\":{\"value\":2},\"plot\":null,\"render_mode\":\"css\",\"right_units\":\"screen\",\"top_units\":\"screen\"},\"id\":\"77cb2f62-ae01-4ccc-8678-d97e90591d0a\",\"type\":\"BoxAnnotation\"}],\"root_ids\":[\"e257f26e-b8d4-4935-af85-354aab33827d\"]},\"title\":\"Bokeh Application\",\"version\":\"0.12.10\"}};\n",
       "    var render_items = [{\"docid\":\"4fbc6bf0-ffec-4b8b-a40f-443208560920\",\"elementid\":\"e401e3af-0cd5-49f5-ab58-8d8cc01825f0\",\"modelid\":\"e257f26e-b8d4-4935-af85-354aab33827d\"}];\n",
       "\n",
       "    root.Bokeh.embed.embed_items(docs_json, render_items);\n",
       "  }\n",
       "\n",
       "  if (root.Bokeh !== undefined) {\n",
       "    embed_document(root);\n",
       "  } else {\n",
       "    var attempts = 0;\n",
       "    var timer = setInterval(function(root) {\n",
       "      if (root.Bokeh !== undefined) {\n",
       "        embed_document(root);\n",
       "        clearInterval(timer);\n",
       "      }\n",
       "      attempts++;\n",
       "      if (attempts > 100) {\n",
       "        console.log(\"Bokeh: ERROR: Unable to embed document because BokehJS library is missing\")\n",
       "        clearInterval(timer);\n",
       "      }\n",
       "    }, 10, root)\n",
       "  }\n",
       "})(window);"
      ],
      "application/vnd.bokehjs_exec.v0+json": ""
     },
     "metadata": {
      "application/vnd.bokehjs_exec.v0+json": {
       "id": "e257f26e-b8d4-4935-af85-354aab33827d"
      }
     },
     "output_type": "display_data"
    }
   ],
   "source": [
    "def g(x):\n",
    "    return x**2\n",
    "\n",
    "p5 = figure()\n",
    "p5.vbar(x = [1, 2, 3], width = 1, bottom = 0, top = [1, 4,9], color = 'orange')\n",
    "show(p5)"
   ]
  },
  {
   "cell_type": "code",
   "execution_count": 53,
   "metadata": {},
   "outputs": [
    {
     "data": {
      "text/html": [
       "\n",
       "<div class=\"bk-root\">\n",
       "    <div class=\"bk-plotdiv\" id=\"71204cdb-f313-4d54-a105-ddf261a399a3\"></div>\n",
       "</div>"
      ]
     },
     "metadata": {},
     "output_type": "display_data"
    },
    {
     "data": {
      "application/javascript": [
       "(function(root) {\n",
       "  function embed_document(root) {\n",
       "    var docs_json = {\"1b621974-2c30-479c-bd3b-3370913812f4\":{\"roots\":{\"references\":[{\"attributes\":{\"overlay\":{\"id\":\"e8c471ec-758e-42e5-a545-0dfc171dcfa6\",\"type\":\"BoxAnnotation\"}},\"id\":\"e89f3719-85d6-442b-8ddc-6bbb14f7db0d\",\"type\":\"BoxZoomTool\"},{\"attributes\":{\"source\":{\"id\":\"37b9cf91-b2ad-4d73-b195-350bfe455f89\",\"type\":\"ColumnDataSource\"}},\"id\":\"3efb7ff4-3f76-4da0-95c3-2fc89b9508d2\",\"type\":\"CDSView\"},{\"attributes\":{},\"id\":\"ef280b79-bf0e-4475-9306-a3f1d06b84dd\",\"type\":\"HelpTool\"},{\"attributes\":{},\"id\":\"4aa41ef9-1077-4332-a324-3b7cbe67533f\",\"type\":\"LinearScale\"},{\"attributes\":{},\"id\":\"ccdacd0b-e8c1-44d8-8358-71b2ae09636f\",\"type\":\"BasicTicker\"},{\"attributes\":{\"plot\":null,\"text\":\"\"},\"id\":\"2cbb559e-424a-4920-b615-d5e8f881e6b5\",\"type\":\"Title\"},{\"attributes\":{},\"id\":\"19bd5ce4-fe7f-41a6-a8bb-8d4ba702ac56\",\"type\":\"LinearScale\"},{\"attributes\":{\"dimension\":1,\"plot\":{\"id\":\"3154e04b-6a3f-407f-902f-9a8a6bd75c0f\",\"subtype\":\"Figure\",\"type\":\"Plot\"},\"ticker\":{\"id\":\"ccdacd0b-e8c1-44d8-8358-71b2ae09636f\",\"type\":\"BasicTicker\"}},\"id\":\"76632c26-270a-46ea-87cd-06f49004317a\",\"type\":\"Grid\"},{\"attributes\":{},\"id\":\"5d8467cd-0989-46a9-a84d-a116276748a5\",\"type\":\"BasicTickFormatter\"},{\"attributes\":{\"fill_alpha\":{\"value\":0.1},\"fill_color\":{\"value\":\"#1f77b4\"},\"height\":{\"value\":0.4},\"line_alpha\":{\"value\":0.1},\"line_color\":{\"value\":\"#1f77b4\"},\"right\":{\"field\":\"right\"},\"y\":{\"field\":\"y\"}},\"id\":\"f1e53281-90e6-4811-b97e-7b67cb2a2960\",\"type\":\"HBar\"},{\"attributes\":{\"formatter\":{\"id\":\"2875e173-5df7-4a75-9792-f7f0fc532b32\",\"type\":\"BasicTickFormatter\"},\"plot\":{\"id\":\"3154e04b-6a3f-407f-902f-9a8a6bd75c0f\",\"subtype\":\"Figure\",\"type\":\"Plot\"},\"ticker\":{\"id\":\"0ad4ea37-00db-43a6-8cd2-abff8a88c28b\",\"type\":\"BasicTicker\"}},\"id\":\"1dcacc86-4202-4693-8e41-2db399432cae\",\"type\":\"LinearAxis\"},{\"attributes\":{\"plot\":{\"id\":\"3154e04b-6a3f-407f-902f-9a8a6bd75c0f\",\"subtype\":\"Figure\",\"type\":\"Plot\"},\"ticker\":{\"id\":\"0ad4ea37-00db-43a6-8cd2-abff8a88c28b\",\"type\":\"BasicTicker\"}},\"id\":\"e0332499-1d3b-4d3d-af2c-a39cede4aad4\",\"type\":\"Grid\"},{\"attributes\":{},\"id\":\"80d0c242-13e0-41a3-95e3-f4b439dcf84b\",\"type\":\"WheelZoomTool\"},{\"attributes\":{},\"id\":\"0ad4ea37-00db-43a6-8cd2-abff8a88c28b\",\"type\":\"BasicTicker\"},{\"attributes\":{\"callback\":null,\"column_names\":[\"y\",\"right\"],\"data\":{\"right\":[1,2,5],\"y\":[1,2,3]}},\"id\":\"37b9cf91-b2ad-4d73-b195-350bfe455f89\",\"type\":\"ColumnDataSource\"},{\"attributes\":{\"fill_color\":{\"value\":\"blue\"},\"height\":{\"value\":0.4},\"line_color\":{\"value\":\"blue\"},\"right\":{\"field\":\"right\"},\"y\":{\"field\":\"y\"}},\"id\":\"6a46ecd3-e4a5-470e-996a-182fb24fd506\",\"type\":\"HBar\"},{\"attributes\":{\"callback\":null},\"id\":\"8e5e09f2-621b-4755-b1e1-7358f8aa3f4d\",\"type\":\"DataRange1d\"},{\"attributes\":{},\"id\":\"9af92dc0-7162-46d6-bd6f-aed8214d6c41\",\"type\":\"SaveTool\"},{\"attributes\":{},\"id\":\"2f6c2a6a-04cd-4fd5-a000-f87a993a6e15\",\"type\":\"ResetTool\"},{\"attributes\":{\"below\":[{\"id\":\"1dcacc86-4202-4693-8e41-2db399432cae\",\"type\":\"LinearAxis\"}],\"left\":[{\"id\":\"59080e2f-e57f-4819-b5b3-e34bbe6dcd12\",\"type\":\"LinearAxis\"}],\"renderers\":[{\"id\":\"1dcacc86-4202-4693-8e41-2db399432cae\",\"type\":\"LinearAxis\"},{\"id\":\"e0332499-1d3b-4d3d-af2c-a39cede4aad4\",\"type\":\"Grid\"},{\"id\":\"59080e2f-e57f-4819-b5b3-e34bbe6dcd12\",\"type\":\"LinearAxis\"},{\"id\":\"76632c26-270a-46ea-87cd-06f49004317a\",\"type\":\"Grid\"},{\"id\":\"e8c471ec-758e-42e5-a545-0dfc171dcfa6\",\"type\":\"BoxAnnotation\"},{\"id\":\"cf9f83c4-9086-4994-80c4-0886da19f14b\",\"type\":\"GlyphRenderer\"}],\"title\":{\"id\":\"2cbb559e-424a-4920-b615-d5e8f881e6b5\",\"type\":\"Title\"},\"toolbar\":{\"id\":\"8052d124-b917-4399-9971-a7eed7d4686e\",\"type\":\"Toolbar\"},\"x_range\":{\"id\":\"4455a79b-24a0-4a5b-a9ee-cba69761dc61\",\"type\":\"DataRange1d\"},\"x_scale\":{\"id\":\"19bd5ce4-fe7f-41a6-a8bb-8d4ba702ac56\",\"type\":\"LinearScale\"},\"y_range\":{\"id\":\"8e5e09f2-621b-4755-b1e1-7358f8aa3f4d\",\"type\":\"DataRange1d\"},\"y_scale\":{\"id\":\"4aa41ef9-1077-4332-a324-3b7cbe67533f\",\"type\":\"LinearScale\"}},\"id\":\"3154e04b-6a3f-407f-902f-9a8a6bd75c0f\",\"subtype\":\"Figure\",\"type\":\"Plot\"},{\"attributes\":{\"data_source\":{\"id\":\"37b9cf91-b2ad-4d73-b195-350bfe455f89\",\"type\":\"ColumnDataSource\"},\"glyph\":{\"id\":\"6a46ecd3-e4a5-470e-996a-182fb24fd506\",\"type\":\"HBar\"},\"hover_glyph\":null,\"muted_glyph\":null,\"nonselection_glyph\":{\"id\":\"f1e53281-90e6-4811-b97e-7b67cb2a2960\",\"type\":\"HBar\"},\"selection_glyph\":null,\"view\":{\"id\":\"3efb7ff4-3f76-4da0-95c3-2fc89b9508d2\",\"type\":\"CDSView\"}},\"id\":\"cf9f83c4-9086-4994-80c4-0886da19f14b\",\"type\":\"GlyphRenderer\"},{\"attributes\":{},\"id\":\"2875e173-5df7-4a75-9792-f7f0fc532b32\",\"type\":\"BasicTickFormatter\"},{\"attributes\":{\"formatter\":{\"id\":\"5d8467cd-0989-46a9-a84d-a116276748a5\",\"type\":\"BasicTickFormatter\"},\"plot\":{\"id\":\"3154e04b-6a3f-407f-902f-9a8a6bd75c0f\",\"subtype\":\"Figure\",\"type\":\"Plot\"},\"ticker\":{\"id\":\"ccdacd0b-e8c1-44d8-8358-71b2ae09636f\",\"type\":\"BasicTicker\"}},\"id\":\"59080e2f-e57f-4819-b5b3-e34bbe6dcd12\",\"type\":\"LinearAxis\"},{\"attributes\":{},\"id\":\"f7a0ee70-df1a-4579-a916-344f1deed5ab\",\"type\":\"PanTool\"},{\"attributes\":{\"active_drag\":\"auto\",\"active_inspect\":\"auto\",\"active_scroll\":\"auto\",\"active_tap\":\"auto\",\"tools\":[{\"id\":\"f7a0ee70-df1a-4579-a916-344f1deed5ab\",\"type\":\"PanTool\"},{\"id\":\"80d0c242-13e0-41a3-95e3-f4b439dcf84b\",\"type\":\"WheelZoomTool\"},{\"id\":\"e89f3719-85d6-442b-8ddc-6bbb14f7db0d\",\"type\":\"BoxZoomTool\"},{\"id\":\"9af92dc0-7162-46d6-bd6f-aed8214d6c41\",\"type\":\"SaveTool\"},{\"id\":\"2f6c2a6a-04cd-4fd5-a000-f87a993a6e15\",\"type\":\"ResetTool\"},{\"id\":\"ef280b79-bf0e-4475-9306-a3f1d06b84dd\",\"type\":\"HelpTool\"}]},\"id\":\"8052d124-b917-4399-9971-a7eed7d4686e\",\"type\":\"Toolbar\"},{\"attributes\":{\"callback\":null},\"id\":\"4455a79b-24a0-4a5b-a9ee-cba69761dc61\",\"type\":\"DataRange1d\"},{\"attributes\":{\"bottom_units\":\"screen\",\"fill_alpha\":{\"value\":0.5},\"fill_color\":{\"value\":\"lightgrey\"},\"left_units\":\"screen\",\"level\":\"overlay\",\"line_alpha\":{\"value\":1.0},\"line_color\":{\"value\":\"black\"},\"line_dash\":[4,4],\"line_width\":{\"value\":2},\"plot\":null,\"render_mode\":\"css\",\"right_units\":\"screen\",\"top_units\":\"screen\"},\"id\":\"e8c471ec-758e-42e5-a545-0dfc171dcfa6\",\"type\":\"BoxAnnotation\"}],\"root_ids\":[\"3154e04b-6a3f-407f-902f-9a8a6bd75c0f\"]},\"title\":\"Bokeh Application\",\"version\":\"0.12.10\"}};\n",
       "    var render_items = [{\"docid\":\"1b621974-2c30-479c-bd3b-3370913812f4\",\"elementid\":\"71204cdb-f313-4d54-a105-ddf261a399a3\",\"modelid\":\"3154e04b-6a3f-407f-902f-9a8a6bd75c0f\"}];\n",
       "\n",
       "    root.Bokeh.embed.embed_items(docs_json, render_items);\n",
       "  }\n",
       "\n",
       "  if (root.Bokeh !== undefined) {\n",
       "    embed_document(root);\n",
       "  } else {\n",
       "    var attempts = 0;\n",
       "    var timer = setInterval(function(root) {\n",
       "      if (root.Bokeh !== undefined) {\n",
       "        embed_document(root);\n",
       "        clearInterval(timer);\n",
       "      }\n",
       "      attempts++;\n",
       "      if (attempts > 100) {\n",
       "        console.log(\"Bokeh: ERROR: Unable to embed document because BokehJS library is missing\")\n",
       "        clearInterval(timer);\n",
       "      }\n",
       "    }, 10, root)\n",
       "  }\n",
       "})(window);"
      ],
      "application/vnd.bokehjs_exec.v0+json": ""
     },
     "metadata": {
      "application/vnd.bokehjs_exec.v0+json": {
       "id": "3154e04b-6a3f-407f-902f-9a8a6bd75c0f"
      }
     },
     "output_type": "display_data"
    }
   ],
   "source": [
    "p6 = figure()\n",
    "p6.hbar(y = [1, 2, 3], height = .4, left = 0, right = [1, 2, 5], color = 'blue')\n",
    "show(p6)"
   ]
  },
  {
   "cell_type": "markdown",
   "metadata": {},
   "source": [
    "### Problem\n",
    "\n",
    "Create a plot that shows a rectangular approximation for the curve $y = x^2$ on $x = [-3,3]$, with 6 rectangles."
   ]
  },
  {
   "cell_type": "code",
   "execution_count": null,
   "metadata": {
    "collapsed": true
   },
   "outputs": [],
   "source": []
  },
  {
   "cell_type": "code",
   "execution_count": null,
   "metadata": {
    "collapsed": true
   },
   "outputs": [],
   "source": []
  },
  {
   "cell_type": "markdown",
   "metadata": {},
   "source": [
    "# Patches\n",
    "\n",
    "We can create simple patches that connect vertices of polygons."
   ]
  },
  {
   "cell_type": "code",
   "execution_count": 44,
   "metadata": {},
   "outputs": [
    {
     "data": {
      "text/html": [
       "\n",
       "<div class=\"bk-root\">\n",
       "    <div class=\"bk-plotdiv\" id=\"98bed623-daad-4030-a459-070b5fb78c94\"></div>\n",
       "</div>"
      ]
     },
     "metadata": {},
     "output_type": "display_data"
    },
    {
     "data": {
      "application/javascript": [
       "(function(root) {\n",
       "  function embed_document(root) {\n",
       "    var docs_json = {\"11dbc485-df35-40eb-8cb0-cdf9a22a043b\":{\"roots\":{\"references\":[{\"attributes\":{\"plot\":null,\"text\":\"\"},\"id\":\"0d1b472b-88f8-41ec-905d-b043586d8351\",\"type\":\"Title\"},{\"attributes\":{\"bottom_units\":\"screen\",\"fill_alpha\":{\"value\":0.5},\"fill_color\":{\"value\":\"lightgrey\"},\"left_units\":\"screen\",\"level\":\"overlay\",\"line_alpha\":{\"value\":1.0},\"line_color\":{\"value\":\"black\"},\"line_dash\":[4,4],\"line_width\":{\"value\":2},\"plot\":null,\"render_mode\":\"css\",\"right_units\":\"screen\",\"top_units\":\"screen\"},\"id\":\"663ae679-c688-446e-9e9b-d5aee9e691b5\",\"type\":\"BoxAnnotation\"},{\"attributes\":{\"overlay\":{\"id\":\"663ae679-c688-446e-9e9b-d5aee9e691b5\",\"type\":\"BoxAnnotation\"}},\"id\":\"bd66a1ab-9381-49db-b239-b86dda98988d\",\"type\":\"BoxZoomTool\"},{\"attributes\":{\"data_source\":{\"id\":\"b6c12243-a0ce-46dc-ab1c-6bc16aac1fcc\",\"type\":\"ColumnDataSource\"},\"glyph\":{\"id\":\"bb9c7f3e-e548-4712-abbc-974d96fd4837\",\"type\":\"Patch\"},\"hover_glyph\":null,\"muted_glyph\":null,\"nonselection_glyph\":{\"id\":\"5f7873ae-4268-43bb-a893-059b51783381\",\"type\":\"Patch\"},\"selection_glyph\":null,\"view\":{\"id\":\"05ce4481-cce1-4ffb-9504-a5f369389857\",\"type\":\"CDSView\"}},\"id\":\"74cd840d-5050-4173-97d9-4d5c743699e4\",\"type\":\"GlyphRenderer\"},{\"attributes\":{},\"id\":\"061b1c12-d214-48bd-9275-e9388575d29c\",\"type\":\"LinearScale\"},{\"attributes\":{},\"id\":\"ba439e1c-1fbc-4fde-85ed-061209156abe\",\"type\":\"BasicTickFormatter\"},{\"attributes\":{\"callback\":null,\"column_names\":[\"x\",\"y\"],\"data\":{\"x\":[1,2,3,4,5],\"y\":[6,7,8,7,3]}},\"id\":\"b6c12243-a0ce-46dc-ab1c-6bc16aac1fcc\",\"type\":\"ColumnDataSource\"},{\"attributes\":{\"dimension\":1,\"plot\":{\"id\":\"b2e7e912-d495-4a9e-94ed-a77dc35711cb\",\"subtype\":\"Figure\",\"type\":\"Plot\"},\"ticker\":{\"id\":\"a3f83de6-2e2a-4f92-922c-14b275f9c766\",\"type\":\"BasicTicker\"}},\"id\":\"d26ca21f-54b7-4248-b290-1d0a34c29f38\",\"type\":\"Grid\"},{\"attributes\":{},\"id\":\"15d43086-482d-42f9-883f-8a2153ec439a\",\"type\":\"LinearScale\"},{\"attributes\":{\"callback\":null},\"id\":\"3ba80cad-16b8-471d-aea1-589ecb00f5bc\",\"type\":\"DataRange1d\"},{\"attributes\":{},\"id\":\"4e7dd98d-3687-4146-83c2-00ef2a3f888a\",\"type\":\"SaveTool\"},{\"attributes\":{\"callback\":null},\"id\":\"be1038e2-81e5-4381-8ad8-c772de0d96d8\",\"type\":\"DataRange1d\"},{\"attributes\":{},\"id\":\"ed81ac49-d447-4da7-87ee-a36acec99d7c\",\"type\":\"HelpTool\"},{\"attributes\":{\"below\":[{\"id\":\"342c6782-e8c3-448e-9d4b-2c5bd8984361\",\"type\":\"LinearAxis\"}],\"left\":[{\"id\":\"c5940a46-1013-484e-81af-b8b2654e03ce\",\"type\":\"LinearAxis\"}],\"plot_height\":400,\"plot_width\":400,\"renderers\":[{\"id\":\"342c6782-e8c3-448e-9d4b-2c5bd8984361\",\"type\":\"LinearAxis\"},{\"id\":\"b78a2ff9-8851-49f6-be4b-39285b579cfa\",\"type\":\"Grid\"},{\"id\":\"c5940a46-1013-484e-81af-b8b2654e03ce\",\"type\":\"LinearAxis\"},{\"id\":\"d26ca21f-54b7-4248-b290-1d0a34c29f38\",\"type\":\"Grid\"},{\"id\":\"663ae679-c688-446e-9e9b-d5aee9e691b5\",\"type\":\"BoxAnnotation\"},{\"id\":\"74cd840d-5050-4173-97d9-4d5c743699e4\",\"type\":\"GlyphRenderer\"}],\"title\":{\"id\":\"0d1b472b-88f8-41ec-905d-b043586d8351\",\"type\":\"Title\"},\"toolbar\":{\"id\":\"22cfd197-ce3d-49d2-8df8-fbacf2390e99\",\"type\":\"Toolbar\"},\"x_range\":{\"id\":\"3ba80cad-16b8-471d-aea1-589ecb00f5bc\",\"type\":\"DataRange1d\"},\"x_scale\":{\"id\":\"15d43086-482d-42f9-883f-8a2153ec439a\",\"type\":\"LinearScale\"},\"y_range\":{\"id\":\"be1038e2-81e5-4381-8ad8-c772de0d96d8\",\"type\":\"DataRange1d\"},\"y_scale\":{\"id\":\"061b1c12-d214-48bd-9275-e9388575d29c\",\"type\":\"LinearScale\"}},\"id\":\"b2e7e912-d495-4a9e-94ed-a77dc35711cb\",\"subtype\":\"Figure\",\"type\":\"Plot\"},{\"attributes\":{\"formatter\":{\"id\":\"838fb35b-9e06-4b2e-b4df-88a2a3378b24\",\"type\":\"BasicTickFormatter\"},\"plot\":{\"id\":\"b2e7e912-d495-4a9e-94ed-a77dc35711cb\",\"subtype\":\"Figure\",\"type\":\"Plot\"},\"ticker\":{\"id\":\"a3f83de6-2e2a-4f92-922c-14b275f9c766\",\"type\":\"BasicTicker\"}},\"id\":\"c5940a46-1013-484e-81af-b8b2654e03ce\",\"type\":\"LinearAxis\"},{\"attributes\":{\"formatter\":{\"id\":\"ba439e1c-1fbc-4fde-85ed-061209156abe\",\"type\":\"BasicTickFormatter\"},\"plot\":{\"id\":\"b2e7e912-d495-4a9e-94ed-a77dc35711cb\",\"subtype\":\"Figure\",\"type\":\"Plot\"},\"ticker\":{\"id\":\"ada629ca-dda0-4824-9d74-cca476983ca1\",\"type\":\"BasicTicker\"}},\"id\":\"342c6782-e8c3-448e-9d4b-2c5bd8984361\",\"type\":\"LinearAxis\"},{\"attributes\":{},\"id\":\"ada629ca-dda0-4824-9d74-cca476983ca1\",\"type\":\"BasicTicker\"},{\"attributes\":{\"source\":{\"id\":\"b6c12243-a0ce-46dc-ab1c-6bc16aac1fcc\",\"type\":\"ColumnDataSource\"}},\"id\":\"05ce4481-cce1-4ffb-9504-a5f369389857\",\"type\":\"CDSView\"},{\"attributes\":{},\"id\":\"a3f83de6-2e2a-4f92-922c-14b275f9c766\",\"type\":\"BasicTicker\"},{\"attributes\":{\"fill_alpha\":{\"value\":0.5},\"fill_color\":{\"value\":\"#1f77b4\"},\"line_alpha\":{\"value\":0.5},\"line_color\":{\"value\":\"#1f77b4\"},\"line_width\":{\"value\":2},\"x\":{\"field\":\"x\"},\"y\":{\"field\":\"y\"}},\"id\":\"bb9c7f3e-e548-4712-abbc-974d96fd4837\",\"type\":\"Patch\"},{\"attributes\":{},\"id\":\"8b33b67d-9db4-4719-948f-a12284a48d0d\",\"type\":\"ResetTool\"},{\"attributes\":{\"plot\":{\"id\":\"b2e7e912-d495-4a9e-94ed-a77dc35711cb\",\"subtype\":\"Figure\",\"type\":\"Plot\"},\"ticker\":{\"id\":\"ada629ca-dda0-4824-9d74-cca476983ca1\",\"type\":\"BasicTicker\"}},\"id\":\"b78a2ff9-8851-49f6-be4b-39285b579cfa\",\"type\":\"Grid\"},{\"attributes\":{},\"id\":\"4b0cc309-b366-4c45-a81c-de0f16b3952a\",\"type\":\"WheelZoomTool\"},{\"attributes\":{\"fill_alpha\":{\"value\":0.1},\"fill_color\":{\"value\":\"#1f77b4\"},\"line_alpha\":{\"value\":0.1},\"line_color\":{\"value\":\"#1f77b4\"},\"line_width\":{\"value\":2},\"x\":{\"field\":\"x\"},\"y\":{\"field\":\"y\"}},\"id\":\"5f7873ae-4268-43bb-a893-059b51783381\",\"type\":\"Patch\"},{\"attributes\":{},\"id\":\"295045cc-5969-416e-8aba-59f9543adda9\",\"type\":\"PanTool\"},{\"attributes\":{\"active_drag\":\"auto\",\"active_inspect\":\"auto\",\"active_scroll\":\"auto\",\"active_tap\":\"auto\",\"tools\":[{\"id\":\"295045cc-5969-416e-8aba-59f9543adda9\",\"type\":\"PanTool\"},{\"id\":\"4b0cc309-b366-4c45-a81c-de0f16b3952a\",\"type\":\"WheelZoomTool\"},{\"id\":\"bd66a1ab-9381-49db-b239-b86dda98988d\",\"type\":\"BoxZoomTool\"},{\"id\":\"4e7dd98d-3687-4146-83c2-00ef2a3f888a\",\"type\":\"SaveTool\"},{\"id\":\"8b33b67d-9db4-4719-948f-a12284a48d0d\",\"type\":\"ResetTool\"},{\"id\":\"ed81ac49-d447-4da7-87ee-a36acec99d7c\",\"type\":\"HelpTool\"}]},\"id\":\"22cfd197-ce3d-49d2-8df8-fbacf2390e99\",\"type\":\"Toolbar\"},{\"attributes\":{},\"id\":\"838fb35b-9e06-4b2e-b4df-88a2a3378b24\",\"type\":\"BasicTickFormatter\"}],\"root_ids\":[\"b2e7e912-d495-4a9e-94ed-a77dc35711cb\"]},\"title\":\"Bokeh Application\",\"version\":\"0.12.10\"}};\n",
       "    var render_items = [{\"docid\":\"11dbc485-df35-40eb-8cb0-cdf9a22a043b\",\"elementid\":\"98bed623-daad-4030-a459-070b5fb78c94\",\"modelid\":\"b2e7e912-d495-4a9e-94ed-a77dc35711cb\"}];\n",
       "\n",
       "    root.Bokeh.embed.embed_items(docs_json, render_items);\n",
       "  }\n",
       "\n",
       "  if (root.Bokeh !== undefined) {\n",
       "    embed_document(root);\n",
       "  } else {\n",
       "    var attempts = 0;\n",
       "    var timer = setInterval(function(root) {\n",
       "      if (root.Bokeh !== undefined) {\n",
       "        embed_document(root);\n",
       "        clearInterval(timer);\n",
       "      }\n",
       "      attempts++;\n",
       "      if (attempts > 100) {\n",
       "        console.log(\"Bokeh: ERROR: Unable to embed document because BokehJS library is missing\")\n",
       "        clearInterval(timer);\n",
       "      }\n",
       "    }, 10, root)\n",
       "  }\n",
       "})(window);"
      ],
      "application/vnd.bokehjs_exec.v0+json": ""
     },
     "metadata": {
      "application/vnd.bokehjs_exec.v0+json": {
       "id": "b2e7e912-d495-4a9e-94ed-a77dc35711cb"
      }
     },
     "output_type": "display_data"
    }
   ],
   "source": [
    "p7 = figure(plot_width=400, plot_height=400)\n",
    "\n",
    "# add a patch renderer with an alpha an line width\n",
    "p7.patch([1, 2, 3, 4, 5], [6, 7, 8, 7, 3], alpha=0.5, line_width=2)\n",
    "\n",
    "show(p7)"
   ]
  },
  {
   "cell_type": "markdown",
   "metadata": {},
   "source": [
    "Many other adaptations and glyphs are available like the `oval` and `annulus`.  Explore the documentation [here]( bokeh.pydata.org) for more."
   ]
  },
  {
   "cell_type": "markdown",
   "metadata": {},
   "source": [
    "### Multiple glyphs.\n",
    "\n",
    "Suppose we want to make points and lines!"
   ]
  },
  {
   "cell_type": "code",
   "execution_count": 54,
   "metadata": {},
   "outputs": [
    {
     "data": {
      "text/html": [
       "\n",
       "<div class=\"bk-root\">\n",
       "    <div class=\"bk-plotdiv\" id=\"51490662-11ea-4eaf-873d-95bbfff4646a\"></div>\n",
       "</div>"
      ]
     },
     "metadata": {},
     "output_type": "display_data"
    },
    {
     "data": {
      "application/javascript": [
       "(function(root) {\n",
       "  function embed_document(root) {\n",
       "    var docs_json = {\"d6c3699f-cf63-4d8c-9181-38ad0b5f8ee4\":{\"roots\":{\"references\":[{\"attributes\":{\"fill_alpha\":{\"value\":0.1},\"fill_color\":{\"value\":\"#1f77b4\"},\"line_alpha\":{\"value\":0.1},\"line_color\":{\"value\":\"#1f77b4\"},\"size\":{\"units\":\"screen\",\"value\":10},\"x\":{\"field\":\"x\"},\"y\":{\"field\":\"y\"}},\"id\":\"229270ef-0e2c-4f30-8dd2-e5112ad7bf48\",\"type\":\"Circle\"},{\"attributes\":{\"source\":{\"id\":\"ce116702-ce92-4155-8304-34f0a1cec918\",\"type\":\"ColumnDataSource\"}},\"id\":\"b19ec676-9153-4d9b-b510-765789b1b051\",\"type\":\"CDSView\"},{\"attributes\":{\"fill_color\":{\"value\":\"white\"},\"line_color\":{\"value\":\"#1f77b4\"},\"size\":{\"units\":\"screen\",\"value\":10},\"x\":{\"field\":\"x\"},\"y\":{\"field\":\"y\"}},\"id\":\"1e70934b-98ec-4300-84a4-ee5e7706742b\",\"type\":\"Circle\"},{\"attributes\":{},\"id\":\"425e0d22-dc64-4010-993f-3317c85a236c\",\"type\":\"BasicTickFormatter\"},{\"attributes\":{\"data_source\":{\"id\":\"ce116702-ce92-4155-8304-34f0a1cec918\",\"type\":\"ColumnDataSource\"},\"glyph\":{\"id\":\"1e70934b-98ec-4300-84a4-ee5e7706742b\",\"type\":\"Circle\"},\"hover_glyph\":null,\"muted_glyph\":null,\"nonselection_glyph\":{\"id\":\"229270ef-0e2c-4f30-8dd2-e5112ad7bf48\",\"type\":\"Circle\"},\"selection_glyph\":null,\"view\":{\"id\":\"b19ec676-9153-4d9b-b510-765789b1b051\",\"type\":\"CDSView\"}},\"id\":\"4c6639e9-89fb-42b5-844e-5e666ba08392\",\"type\":\"GlyphRenderer\"},{\"attributes\":{\"below\":[{\"id\":\"f61ba450-350d-4ccd-b2d7-4677f56e9cd1\",\"type\":\"LinearAxis\"}],\"left\":[{\"id\":\"e23212d2-4a24-4181-bfa0-ab214fe2bcfc\",\"type\":\"LinearAxis\"}],\"renderers\":[{\"id\":\"f61ba450-350d-4ccd-b2d7-4677f56e9cd1\",\"type\":\"LinearAxis\"},{\"id\":\"014f661c-1a04-4616-bb19-8a4cff539e2c\",\"type\":\"Grid\"},{\"id\":\"e23212d2-4a24-4181-bfa0-ab214fe2bcfc\",\"type\":\"LinearAxis\"},{\"id\":\"e0c5debc-d44e-44bd-8c60-f9d317c088cf\",\"type\":\"Grid\"},{\"id\":\"c051d2fd-8fce-41dd-ab34-dd199f05380b\",\"type\":\"BoxAnnotation\"},{\"id\":\"1129f5b0-b003-4ead-b08a-c37b14940cfd\",\"type\":\"GlyphRenderer\"},{\"id\":\"4c6639e9-89fb-42b5-844e-5e666ba08392\",\"type\":\"GlyphRenderer\"}],\"title\":{\"id\":\"ab5ee147-4b61-427d-8782-cda64b7886d1\",\"type\":\"Title\"},\"toolbar\":{\"id\":\"5b1060c5-1bda-4c2b-b88c-93f797842b49\",\"type\":\"Toolbar\"},\"x_range\":{\"id\":\"2e7d99ed-e174-4692-a257-fe8807cfbdfd\",\"type\":\"DataRange1d\"},\"x_scale\":{\"id\":\"b235813b-150b-48e9-a3b5-b9aa06c5e9f0\",\"type\":\"LinearScale\"},\"y_range\":{\"id\":\"298afe20-1c5f-4dfe-a668-2f76a14ddb58\",\"type\":\"DataRange1d\"},\"y_scale\":{\"id\":\"851ec436-8431-43b2-b13f-84f8c0e712fe\",\"type\":\"LinearScale\"}},\"id\":\"fd67ecc4-a92d-49f9-b1b5-78c06643e661\",\"subtype\":\"Figure\",\"type\":\"Plot\"},{\"attributes\":{\"callback\":null,\"column_names\":[\"x\",\"y\"],\"data\":{\"x\":{\"__ndarray__\":\"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\",\"dtype\":\"float64\",\"shape\":[1000]},\"y\":{\"__ndarray__\":\"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\",\"dtype\":\"float64\",\"shape\":[1000]}}},\"id\":\"410d0c90-0f7b-40d5-b9c2-d610d14ab972\",\"type\":\"ColumnDataSource\"},{\"attributes\":{\"data_source\":{\"id\":\"410d0c90-0f7b-40d5-b9c2-d610d14ab972\",\"type\":\"ColumnDataSource\"},\"glyph\":{\"id\":\"beccd45b-df52-46ce-94bb-d803c3287dcf\",\"type\":\"Line\"},\"hover_glyph\":null,\"muted_glyph\":null,\"nonselection_glyph\":{\"id\":\"7b558174-f2a6-4e6d-a69a-077474c3d708\",\"type\":\"Line\"},\"selection_glyph\":null,\"view\":{\"id\":\"3ea81b51-702b-42b3-95f0-25b165482776\",\"type\":\"CDSView\"}},\"id\":\"1129f5b0-b003-4ead-b08a-c37b14940cfd\",\"type\":\"GlyphRenderer\"},{\"attributes\":{\"active_drag\":\"auto\",\"active_inspect\":\"auto\",\"active_scroll\":\"auto\",\"active_tap\":\"auto\",\"tools\":[{\"id\":\"1edcc77e-a648-4a3a-bfde-31187cc3ef3e\",\"type\":\"PanTool\"},{\"id\":\"459d352a-8cef-4613-8b13-3ee032ff165e\",\"type\":\"WheelZoomTool\"},{\"id\":\"5d718fd4-4157-4b49-bf81-4366ce535a2e\",\"type\":\"BoxZoomTool\"},{\"id\":\"6380b322-c12a-42ea-8746-33d4967b1305\",\"type\":\"SaveTool\"},{\"id\":\"5ca103eb-eed4-4b89-af50-4e1bea80916f\",\"type\":\"ResetTool\"},{\"id\":\"73bfbf98-6d77-4f9e-b71d-c11479d1aab5\",\"type\":\"HelpTool\"}]},\"id\":\"5b1060c5-1bda-4c2b-b88c-93f797842b49\",\"type\":\"Toolbar\"},{\"attributes\":{\"callback\":null},\"id\":\"2e7d99ed-e174-4692-a257-fe8807cfbdfd\",\"type\":\"DataRange1d\"},{\"attributes\":{\"line_color\":{\"value\":\"#1f77b4\"},\"line_width\":{\"value\":2},\"x\":{\"field\":\"x\"},\"y\":{\"field\":\"y\"}},\"id\":\"beccd45b-df52-46ce-94bb-d803c3287dcf\",\"type\":\"Line\"},{\"attributes\":{\"callback\":null},\"id\":\"298afe20-1c5f-4dfe-a668-2f76a14ddb58\",\"type\":\"DataRange1d\"},{\"attributes\":{},\"id\":\"b235813b-150b-48e9-a3b5-b9aa06c5e9f0\",\"type\":\"LinearScale\"},{\"attributes\":{},\"id\":\"851ec436-8431-43b2-b13f-84f8c0e712fe\",\"type\":\"LinearScale\"},{\"attributes\":{\"plot\":{\"id\":\"fd67ecc4-a92d-49f9-b1b5-78c06643e661\",\"subtype\":\"Figure\",\"type\":\"Plot\"},\"ticker\":{\"id\":\"2b8008ff-5920-4b31-a57e-199412ec9e74\",\"type\":\"BasicTicker\"}},\"id\":\"014f661c-1a04-4616-bb19-8a4cff539e2c\",\"type\":\"Grid\"},{\"attributes\":{\"formatter\":{\"id\":\"425e0d22-dc64-4010-993f-3317c85a236c\",\"type\":\"BasicTickFormatter\"},\"plot\":{\"id\":\"fd67ecc4-a92d-49f9-b1b5-78c06643e661\",\"subtype\":\"Figure\",\"type\":\"Plot\"},\"ticker\":{\"id\":\"2b8008ff-5920-4b31-a57e-199412ec9e74\",\"type\":\"BasicTicker\"}},\"id\":\"f61ba450-350d-4ccd-b2d7-4677f56e9cd1\",\"type\":\"LinearAxis\"},{\"attributes\":{},\"id\":\"2b8008ff-5920-4b31-a57e-199412ec9e74\",\"type\":\"BasicTicker\"},{\"attributes\":{\"formatter\":{\"id\":\"5a66b3b9-a5cb-42bd-8d5b-318136a36664\",\"type\":\"BasicTickFormatter\"},\"plot\":{\"id\":\"fd67ecc4-a92d-49f9-b1b5-78c06643e661\",\"subtype\":\"Figure\",\"type\":\"Plot\"},\"ticker\":{\"id\":\"3fbc65ba-36d4-41b2-96cc-4364119fb0c3\",\"type\":\"BasicTicker\"}},\"id\":\"e23212d2-4a24-4181-bfa0-ab214fe2bcfc\",\"type\":\"LinearAxis\"},{\"attributes\":{},\"id\":\"3fbc65ba-36d4-41b2-96cc-4364119fb0c3\",\"type\":\"BasicTicker\"},{\"attributes\":{\"dimension\":1,\"plot\":{\"id\":\"fd67ecc4-a92d-49f9-b1b5-78c06643e661\",\"subtype\":\"Figure\",\"type\":\"Plot\"},\"ticker\":{\"id\":\"3fbc65ba-36d4-41b2-96cc-4364119fb0c3\",\"type\":\"BasicTicker\"}},\"id\":\"e0c5debc-d44e-44bd-8c60-f9d317c088cf\",\"type\":\"Grid\"},{\"attributes\":{\"line_alpha\":{\"value\":0.1},\"line_color\":{\"value\":\"#1f77b4\"},\"line_width\":{\"value\":2},\"x\":{\"field\":\"x\"},\"y\":{\"field\":\"y\"}},\"id\":\"7b558174-f2a6-4e6d-a69a-077474c3d708\",\"type\":\"Line\"},{\"attributes\":{},\"id\":\"5a66b3b9-a5cb-42bd-8d5b-318136a36664\",\"type\":\"BasicTickFormatter\"},{\"attributes\":{\"callback\":null,\"column_names\":[\"x\",\"y\"],\"data\":{\"x\":[-12.566370614359172,-10.995574287564276,-9.42477796076938,-7.853981633974483,-6.283185307179586,-4.71238898038469,-3.141592653589793,-1.5707963267948966,0.0,1.5707963267948966,3.141592653589793,4.71238898038469,6.283185307179586,7.853981633974483,9.42477796076938,10.995574287564276],\"y\":{\"__ndarray__\":\"B1wUMyamwTwAAAAAAADwPwqKnkw5ebq8AAAAAAAA8L8HXBQzJqaxPAAAAAAAAPA/B1wUMyamobwAAAAAAADwvwAAAAAAAAAAAAAAAAAA8D8HXBQzJqahPAAAAAAAAPC/B1wUMyamsbwAAAAAAADwPwqKnkw5ebo8AAAAAAAA8L8=\",\"dtype\":\"float64\",\"shape\":[16]}}},\"id\":\"ce116702-ce92-4155-8304-34f0a1cec918\",\"type\":\"ColumnDataSource\"},{\"attributes\":{\"bottom_units\":\"screen\",\"fill_alpha\":{\"value\":0.5},\"fill_color\":{\"value\":\"lightgrey\"},\"left_units\":\"screen\",\"level\":\"overlay\",\"line_alpha\":{\"value\":1.0},\"line_color\":{\"value\":\"black\"},\"line_dash\":[4,4],\"line_width\":{\"value\":2},\"plot\":null,\"render_mode\":\"css\",\"right_units\":\"screen\",\"top_units\":\"screen\"},\"id\":\"c051d2fd-8fce-41dd-ab34-dd199f05380b\",\"type\":\"BoxAnnotation\"},{\"attributes\":{},\"id\":\"1edcc77e-a648-4a3a-bfde-31187cc3ef3e\",\"type\":\"PanTool\"},{\"attributes\":{\"source\":{\"id\":\"410d0c90-0f7b-40d5-b9c2-d610d14ab972\",\"type\":\"ColumnDataSource\"}},\"id\":\"3ea81b51-702b-42b3-95f0-25b165482776\",\"type\":\"CDSView\"},{\"attributes\":{},\"id\":\"459d352a-8cef-4613-8b13-3ee032ff165e\",\"type\":\"WheelZoomTool\"},{\"attributes\":{\"overlay\":{\"id\":\"c051d2fd-8fce-41dd-ab34-dd199f05380b\",\"type\":\"BoxAnnotation\"}},\"id\":\"5d718fd4-4157-4b49-bf81-4366ce535a2e\",\"type\":\"BoxZoomTool\"},{\"attributes\":{},\"id\":\"6380b322-c12a-42ea-8746-33d4967b1305\",\"type\":\"SaveTool\"},{\"attributes\":{},\"id\":\"5ca103eb-eed4-4b89-af50-4e1bea80916f\",\"type\":\"ResetTool\"},{\"attributes\":{},\"id\":\"73bfbf98-6d77-4f9e-b71d-c11479d1aab5\",\"type\":\"HelpTool\"},{\"attributes\":{\"plot\":null,\"text\":\"\"},\"id\":\"ab5ee147-4b61-427d-8782-cda64b7886d1\",\"type\":\"Title\"}],\"root_ids\":[\"fd67ecc4-a92d-49f9-b1b5-78c06643e661\"]},\"title\":\"Bokeh Application\",\"version\":\"0.12.10\"}};\n",
       "    var render_items = [{\"docid\":\"d6c3699f-cf63-4d8c-9181-38ad0b5f8ee4\",\"elementid\":\"51490662-11ea-4eaf-873d-95bbfff4646a\",\"modelid\":\"fd67ecc4-a92d-49f9-b1b5-78c06643e661\"}];\n",
       "\n",
       "    root.Bokeh.embed.embed_items(docs_json, render_items);\n",
       "  }\n",
       "\n",
       "  if (root.Bokeh !== undefined) {\n",
       "    embed_document(root);\n",
       "  } else {\n",
       "    var attempts = 0;\n",
       "    var timer = setInterval(function(root) {\n",
       "      if (root.Bokeh !== undefined) {\n",
       "        embed_document(root);\n",
       "        clearInterval(timer);\n",
       "      }\n",
       "      attempts++;\n",
       "      if (attempts > 100) {\n",
       "        console.log(\"Bokeh: ERROR: Unable to embed document because BokehJS library is missing\")\n",
       "        clearInterval(timer);\n",
       "      }\n",
       "    }, 10, root)\n",
       "  }\n",
       "})(window);"
      ],
      "application/vnd.bokehjs_exec.v0+json": ""
     },
     "metadata": {
      "application/vnd.bokehjs_exec.v0+json": {
       "id": "fd67ecc4-a92d-49f9-b1b5-78c06643e661"
      }
     },
     "output_type": "display_data"
    }
   ],
   "source": [
    "def h(x):\n",
    "    return np.sin(x)\n",
    "\n",
    "p = figure()\n",
    "x = np.linspace(-4*np.pi, 4*np.pi, 1000)\n",
    "\n",
    "x2 = [(i/2)*np.pi for i in np.arange(-8, 8, 1)]\n",
    "\n",
    "p.line(x, h(x), line_width = 2)\n",
    "p.circle(x2, h(x2), fill_color = 'white', size = 10)\n",
    "show(p)"
   ]
  },
  {
   "cell_type": "markdown",
   "metadata": {},
   "source": [
    "### Problem\n",
    "\n",
    "Create a plot containing trapezoidal approximations with 6 trapezoids for $y = x^2 - 2x + 1$ on $x = [-2,2]$."
   ]
  },
  {
   "cell_type": "code",
   "execution_count": null,
   "metadata": {
    "collapsed": true
   },
   "outputs": [],
   "source": []
  },
  {
   "cell_type": "code",
   "execution_count": null,
   "metadata": {
    "collapsed": true
   },
   "outputs": [],
   "source": []
  },
  {
   "cell_type": "code",
   "execution_count": null,
   "metadata": {
    "collapsed": true
   },
   "outputs": [],
   "source": []
  },
  {
   "cell_type": "code",
   "execution_count": null,
   "metadata": {
    "collapsed": true
   },
   "outputs": [],
   "source": []
  }
 ],
 "metadata": {
  "kernelspec": {
   "display_name": "Python 3",
   "language": "python",
   "name": "python3"
  },
  "language_info": {
   "codemirror_mode": {
    "name": "ipython",
    "version": 3
   },
   "file_extension": ".py",
   "mimetype": "text/x-python",
   "name": "python",
   "nbconvert_exporter": "python",
   "pygments_lexer": "ipython3",
   "version": "3.6.3"
  }
 },
 "nbformat": 4,
 "nbformat_minor": 2
}
