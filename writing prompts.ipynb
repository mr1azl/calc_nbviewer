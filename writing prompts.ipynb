{
 "cells": [
  {
   "cell_type": "markdown",
   "metadata": {},
   "source": [
    "### Classical Problems\n",
    "\n",
    "Focus on the Ibn Al Haytham reading and the proof of Lemma I and Lemma 4.  \n",
    "\n",
    "Can you use the diagram below following Al Haytham's description for how to determine \n",
    "\n",
    "$$\\sum_{i = 1}^n i^4$$\n",
    "\n",
    "![](images/finals/sum4.png)\n",
    "\n",
    "How does this help to find the Volume of the Paraboloid? \n",
    "\n",
    "Can you show both the approach from Al Haytham and a modern approach for the volume of the solid of revolution?\n",
    "\n",
    "Can you describe the difference in approach when you read Riemann's definition of the definite integral?"
   ]
  },
  {
   "cell_type": "markdown",
   "metadata": {},
   "source": [
    "### Gender and Calculus\n",
    "\n",
    "* Focus on Dataset\n",
    "\n",
    "Describe the variables of your dataset.  Load them into python as a pandas dataframe.  Can you find some basic descriptive statistics using the `Pandas` cheatsheet ([here](files/Pandas_Cheat_Sheet.pdf)).  Create a histogram, boxplots, and a scatterplot containing a line of best fit.  Describe the results.\n",
    "\n",
    "* Focus on Reading\n",
    "\n",
    "Read Sherry Turkle and Seymour Papert's *Epistemological Pluralism* ([here](files/turkle_epistemological.pdf))\n",
    "\n",
    "What is an epistemolgical style and what does this have to do with mathematics?\n",
    "\n",
    "* Focus on Mathematics\n",
    "\n",
    "Last class we briefly introduced the Runge - Kutta method for approximating solutions to differential equations.  This method is actually synonymous with Simpson's method.  I restate both below, and wonder if you can work to explain first, the derivation of Simpson's Rule and how this connects to the Fourth-Order Runge-Kutta Method.\n",
    "\n",
    "**Simpson's Rule**\n",
    "\n",
    "$$\\displaystyle \\int_a^b f(x)dx \\approx \\frac{b-a}{6}( f(a) + 4f(\\frac{a+b}{2}) + f(b) )$$\n",
    "\n",
    "**Fourth Order Runge-Kutta Method**\n",
    "\n",
    "$$k_1 = f(x_i)$$\n",
    "\n",
    "$$k_2 = f(x_j + h/2)$$\n",
    "\n",
    "$$k_3 = f(x_j + h/2)$$\n",
    "\n",
    "$$k_4 = f(x_j + h)$$\n",
    "\n",
    "$$y_{j+1} = y_j + h(k_1 + 2k_2 + 2k_3 + k_4)/6$$\n",
    "\n",
    "Use these to approximate the solutions to \n",
    "\n",
    "$$\\frac{dy}{dx} = y; ~ y(1) = 0$$"
   ]
  },
  {
   "cell_type": "markdown",
   "metadata": {},
   "source": [
    "### Data Analysis and Regression\n",
    "\n",
    "Work to fill in the mathematical details of your outline.  Make sure you can walk somebody through your experiment to find the line of best fit.  This would likely involve:\n",
    "\n",
    "- Clarity around test/train split\n",
    "- The use of cross-validation to compare different splits\n",
    "- Experimenting across multiple polynomial values\n",
    "- Determining the optimal degree polynomial and identify the important elements of the model quality"
   ]
  },
  {
   "cell_type": "markdown",
   "metadata": {},
   "source": [
    "### Data Visualization\n",
    "\n",
    "Focus on designing the approximation and exact definite integral image.  I'd like your design to include the following:\n",
    "\n",
    "- Clickable information about rectangular approximations areas\n",
    "- A text box that explains in words the visualization (brief!)\n",
    "\n",
    "\n",
    "If you complete this, please get started on the visualization that demonstrates the definition of the derivative given by:\n",
    "\n",
    "$$f'(x) = \\frac{f(x+h) - f(x)}{h} ~ \\text{as} ~ h \\rightarrow 0$$\n",
    "\n",
    "It would be ideal to make a slider that shifts the values of $h$ and moves the points closer together or further apart, demonstrating the limiting process."
   ]
  }
 ],
 "metadata": {
  "kernelspec": {
   "display_name": "Python 3",
   "language": "python",
   "name": "python3"
  },
  "language_info": {
   "codemirror_mode": {
    "name": "ipython",
    "version": 3
   },
   "file_extension": ".py",
   "mimetype": "text/x-python",
   "name": "python",
   "nbconvert_exporter": "python",
   "pygments_lexer": "ipython3",
   "version": "3.6.3"
  }
 },
 "nbformat": 4,
 "nbformat_minor": 2
}
