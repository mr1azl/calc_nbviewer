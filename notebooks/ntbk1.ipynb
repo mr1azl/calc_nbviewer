{
 "cells": [
  {
   "cell_type": "markdown",
   "metadata": {},
   "source": [
    "<div class=\"panel panel-default\">\n",
    "  <div class=\"panel-body\"><strong>A Basic Panel</strong></div>\n",
    "</div>"
   ]
  },
  {
   "cell_type": "markdown",
   "metadata": {},
   "source": [
    "<div class=\"row\">\n",
    "  <div class=\"col-sm-4\">\n",
    "    <div class=\"card\">\n",
    "      <div class=\"card-block\">\n",
    "        <h3 class=\"card-title\">Special title treatment</h3>\n",
    "        <p class=\"card-text\">With supporting text below as a natural lead-in to additional content.</p>\n",
    "        <a href=\"#\" class=\"btn btn-primary\">Go somewhere</a>\n",
    "      </div>\n",
    "    </div>\n",
    "  </div>\n",
    "  <div class=\"col-sm-4\">\n",
    "    <div class=\"card\">\n",
    "      <div class=\"card-block\">\n",
    "        <h3 class=\"card-title\">Special title treatment</h3>\n",
    "        <p class=\"card-text\">With supporting text below as a natural lead-in to additional content.</p>\n",
    "        <a href=\"#\" class=\"btn btn-primary\">Go somewhere</a>\n",
    "      </div>\n",
    "    </div>\n",
    "  </div>\n",
    "  <div class=\"col-sm-4\">\n",
    "    <div class=\"card\">\n",
    "      <div class=\"card-block\">\n",
    "        <h3 class=\"card-title\">Special title treatment</h3>\n",
    "        <p class=\"card-text\">With supporting text below as a natural lead-in to additional content.</p>\n",
    "        <a href=\"#\" class=\"btn btn-primary\">Go somewhere</a>\n",
    "      </div>\n",
    "    </div>\n",
    "  </div>\n",
    "</div>"
   ]
  }
 ],
 "metadata": {
  "kernelspec": {
   "display_name": "Python [conda root]",
   "language": "python",
   "name": "conda-root-py"
  },
  "language_info": {
   "codemirror_mode": {
    "name": "ipython",
    "version": 3
   },
   "file_extension": ".py",
   "mimetype": "text/x-python",
   "name": "python",
   "nbconvert_exporter": "python",
   "pygments_lexer": "ipython3",
   "version": "3.5.3"
  }
 },
 "nbformat": 4,
 "nbformat_minor": 2
}
