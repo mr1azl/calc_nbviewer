{
 "cells": [
  {
   "cell_type": "markdown",
   "metadata": {},
   "source": [
    "<script>\n",
    "  (function(i,s,o,g,r,a,m){i['GoogleAnalyticsObject']=r;i[r]=i[r]||function(){\n",
    "  (i[r].q=i[r].q||[]).push(arguments)},i[r].l=1*new Date();a=s.createElement(o),\n",
    "  m=s.getElementsByTagName(o)[0];a.async=1;a.src=g;m.parentNode.insertBefore(a,m)\n",
    "  })(window,document,'script','https://www.google-analytics.com/analytics.js','ga');\n",
    "\n",
    "  ga('create', 'UA-50838873-3', 'auto');\n",
    "  ga('send', 'pageview');\n",
    "\n",
    "</script>"
   ]
  },
  {
   "cell_type": "code",
   "execution_count": 144,
   "metadata": {
    "collapsed": true,
    "deletable": true,
    "editable": true
   },
   "outputs": [],
   "source": [
    "%matplotlib inline\n",
    "import matplotlib.pyplot as plt\n",
    "import numpy as np\n",
    "import sympy as sy\n",
    "from matplotlib import patches"
   ]
  },
  {
   "cell_type": "markdown",
   "metadata": {
    "deletable": true,
    "editable": true
   },
   "source": [
    "# Arbitrating Disputes with John Nash\n",
    "\n",
    "This notebook introduces the use of max/min problems in arbitrating a dispute between two parties.  For example, suppose you have a bachelor or bachelorette party to plan.  The parties involved will likely have different opinions to how and where the participants think the days and nights should be spent.  Is there a way to determine an outcome that is most amenable to all?\n",
    "\n",
    "Mathematician John Nash believed there was, and he deployed a method that relied on maximizing a product of values, much like Fermat's original problem.  Now, however, Nash's quantities represented peoples preferences for certain outcomes.  This ideal solution is referred to as the Nash Equilibrium, found using the calculus of maximums and minimums of products.\n",
    "\n",
    "![](http://i.dailymail.co.uk/i/pix/2015/05/24/15/290874A900000578-3095059-image-a-35_1432478026946.jpg)"
   ]
  },
  {
   "cell_type": "markdown",
   "metadata": {
    "deletable": true,
    "editable": true
   },
   "source": [
    "## First Example\n",
    "\n",
    "Let's suppose you are planning a weekend away with a friend.  You have three choices:\n",
    "\n",
    "- Stay in city and do nothing (S)\n",
    "\n",
    "- Bike upstate and go camping (C)\n",
    "\n",
    "- Go to Rockaways for weekend (B)\n",
    "\n",
    "You and your friend have different preferences for these, and could measure them by assigning some numeric value to each choice.  We call these *utilities*.  For example, we can denote your utility as $u_y$ and your friends utilities as $u_f$.  If you were to assign values to each of these choices, the result may look something like:\n",
    "\n",
    "$$u_y(C) = 2 \\quad u_y(S) = 5 \\quad u_y(B) = 7$$\n",
    "\n",
    "and for your friend\n",
    "\n",
    "$$u_f(C) = 1 \\quad u_f(S) = 3 \\quad u_f(B) = 6$$"
   ]
  },
  {
   "cell_type": "code",
   "execution_count": 145,
   "metadata": {
    "collapsed": true,
    "deletable": true,
    "editable": true
   },
   "outputs": [],
   "source": [
    "uy = [2, 5, 7]\n",
    "uf = [1, 3, 6]"
   ]
  },
  {
   "cell_type": "code",
   "execution_count": 146,
   "metadata": {
    "collapsed": false,
    "deletable": true,
    "editable": true
   },
   "outputs": [
    {
     "data": {
      "text/plain": [
       "array([3, 2])"
      ]
     },
     "execution_count": 146,
     "metadata": {},
     "output_type": "execute_result"
    }
   ],
   "source": [
    "np.diff(uy)"
   ]
  },
  {
   "cell_type": "markdown",
   "metadata": {
    "deletable": true,
    "editable": true
   },
   "source": [
    "Thus, we have the relationship:\n",
    "\n",
    "$$u_y(C) - u_y(S) = 3$$\n",
    "\n",
    "$$u_y(B) - u_y(C) = 2$$\n",
    "\n",
    "If you think about when these would be the same, you would have to multiply the second equation by $3/2$.  You can interpret this as saying that your preference for going camping is one and a half times greater than your preference for going to the beach."
   ]
  },
  {
   "cell_type": "code",
   "execution_count": 147,
   "metadata": {
    "collapsed": false,
    "deletable": true,
    "editable": true
   },
   "outputs": [
    {
     "data": {
      "text/plain": [
       "array([2, 3])"
      ]
     },
     "execution_count": 147,
     "metadata": {},
     "output_type": "execute_result"
    }
   ],
   "source": [
    "np.diff(uf)"
   ]
  },
  {
   "cell_type": "markdown",
   "metadata": {
    "deletable": true,
    "editable": true
   },
   "source": [
    "Seems we have the exact opposite outcome for your friend.  \n",
    "\n",
    "We can also see from this that preferences needn't be the exact same values for them to represent the same preference.\n",
    "\n",
    "Accordingly, we will say that two utilities $u$ and $v$ are equivalent when you have numbers $a$ and $b$ such that $v = au + b$.\n",
    "\n",
    "For example, the utilities:\n",
    "\n",
    "$$u_j(C) = 3 \\quad u_j(S) = 5 \\quad u_j(B) = 9$$\n",
    "\n",
    "and \n",
    "\n",
    "$$u_k(C) = 3 \\quad u_j(S) = 7 \\quad u_j(B) = 15$$\n",
    "\n",
    "are equivalent because:\n",
    "\n",
    "$$u_k = 2u_j - 3$$\n",
    "\n"
   ]
  },
  {
   "cell_type": "markdown",
   "metadata": {
    "deletable": true,
    "editable": true
   },
   "source": [
    "## Payoff Polygon\n",
    "\n",
    "We are able to visualize the preferences of two parties by assinging an axis to each participant, and plotting the corresponding utility for each choice as an ordered pair. Before we do this, we want to *normalize* the utilities by creating a common base value around one option.  We can use the $S$ to normalize the first utilities as:\n",
    "\n",
    "$$u_y(C) = -3 \\quad u_y(S) = 0 \\quad u_y(B) = 2$$\n",
    "\n",
    "and \n",
    "\n",
    "$$u_f(C) = -2 \\quad u_f(S) = 0 \\quad u_f(B) = 3$$\n",
    "\n",
    "For example, consider our first example with $u_f$ and $u_y$.  We will plot $u_f$ as the $x$ coordinates and $u_y$ as the $y$ coordinates."
   ]
  },
  {
   "cell_type": "code",
   "execution_count": 148,
   "metadata": {
    "collapsed": false,
    "deletable": true,
    "editable": true
   },
   "outputs": [],
   "source": [
    "C = [-3, -2]\n",
    "S = [0, 0]\n",
    "B = [2, 3]"
   ]
  },
  {
   "cell_type": "code",
   "execution_count": 149,
   "metadata": {
    "collapsed": false,
    "deletable": true,
    "editable": true
   },
   "outputs": [],
   "source": [
    "a = np.array([C, S, B])"
   ]
  },
  {
   "cell_type": "code",
   "execution_count": 150,
   "metadata": {
    "collapsed": false,
    "deletable": true,
    "editable": true
   },
   "outputs": [
    {
     "data": {
      "text/plain": [
       "(3, 2)"
      ]
     },
     "execution_count": 150,
     "metadata": {},
     "output_type": "execute_result"
    }
   ],
   "source": [
    "np.shape(a)"
   ]
  },
  {
   "cell_type": "code",
   "execution_count": 151,
   "metadata": {
    "collapsed": false,
    "deletable": true,
    "editable": true
   },
   "outputs": [
    {
     "data": {
      "text/plain": [
       "<matplotlib.text.Text at 0x115e54d30>"
      ]
     },
     "execution_count": 151,
     "metadata": {},
     "output_type": "execute_result"
    },
    {
     "data": {
      "image/png": "[encoded data removed]",
      "text/plain": [
       "<matplotlib.figure.Figure at 0x1157fb940>"
      ]
     },
     "metadata": {},
     "output_type": "display_data"
    }
   ],
   "source": [
    "fig1 = plt.figure(figsize = (8, 5))\n",
    "ax1 = fig1.add_subplot(111)\n",
    "ax1.add_patch(patches.Polygon(a, fill = False))\n",
    "\n",
    "\n",
    "plt.xlim(-4, 4)\n",
    "plt.ylim(-3, 4)\n",
    "plt.axhline()\n",
    "plt.axvline()\n",
    "plt.title(\"Payoff Polygon\")"
   ]
  },
  {
   "cell_type": "markdown",
   "metadata": {
    "deletable": true,
    "editable": true
   },
   "source": [
    "The ideal outcome here should be fairly obvious, as both participants showed a clear preference for the beach.  Suppose however, we reverse the scenario, and now have your friends preferences inverted from yours.\n",
    "\n",
    "$$u_y(C) = -1 \\quad u_y(S) = 0 \\quad u_y(B) = 3$$\n",
    "\n",
    "$$u_f(C) = 2 \\quad u_f(S) = 0 \\quad u_f(B) = -1$$\n",
    "\n"
   ]
  },
  {
   "cell_type": "code",
   "execution_count": 152,
   "metadata": {
    "collapsed": true,
    "deletable": true,
    "editable": true
   },
   "outputs": [],
   "source": [
    "C = [-1, 2]\n",
    "S = [0,0]\n",
    "B = [3, -1]\n",
    "a = np.array([C, S, B])"
   ]
  },
  {
   "cell_type": "code",
   "execution_count": 153,
   "metadata": {
    "collapsed": false,
    "deletable": true,
    "editable": true
   },
   "outputs": [
    {
     "data": {
      "text/plain": [
       "<matplotlib.text.Text at 0x115ff15c0>"
      ]
     },
     "execution_count": 153,
     "metadata": {},
     "output_type": "execute_result"
    },
    {
     "data": {
      "image/png": "[encoded data removed]",
      "text/plain": [
       "<matplotlib.figure.Figure at 0x115e8dc18>"
      ]
     },
     "metadata": {},
     "output_type": "display_data"
    }
   ],
   "source": [
    "fig1 = plt.figure(figsize = (8, 5))\n",
    "ax1 = fig1.add_subplot(111)\n",
    "ax1.add_patch(patches.Polygon(a, fill = False))\n",
    "\n",
    "\n",
    "plt.xlim(-4, 4)\n",
    "plt.ylim(-3, 4)\n",
    "plt.axhline()\n",
    "plt.axvline()\n",
    "plt.title(\"Payoff Polygon II\")"
   ]
  },
  {
   "cell_type": "markdown",
   "metadata": {
    "deletable": true,
    "editable": true
   },
   "source": [
    "If we consider the solutions here, we note that for both participants we have normalized these values so that the preference for $S$ is 0.  Hence, any solution should have better outcomes than this, which would mean it has positive values of $x$ and $y$.  This is called the Pareto condition formally, but it should make intuitive sense.\n",
    "\n",
    "Additionally, Nash proposed other important criteria for a fair solution and determine that *there is exactly one arbitration solution that satisfies these conditions*:\n",
    "\n",
    "\n",
    "$~$\n",
    "\n",
    "<div class=\"alert alert-info\">\n",
    "  <strong>Nash's Theorem</strong> \n",
    "  \n",
    "  $~$\n",
    "  \n",
    "<li> if there are no points in $P$ with $x > 0$ or $y > 0$, let $N = (0, 0)$.</li>\n",
    "\n",
    "$~$\n",
    "\n",
    "<li> if there are no points in $P$ with $y > 0$, but are points with $y = 0$ and $x > 0$, then let $N$ be the point $(x, 0)$ which maximizes $x$.  Handle the case with $x$ and $y$ interchanged similarly. </li>\n",
    "\n",
    "$~$\n",
    "\n",
    "<li> if there are points in $P$ with both $x > 0$ and $y>0$, let $N$ be the point with $X > 0$ and $y > 0$ which maximizes the product $xy$.\n",
    "</div>\n",
    "\n",
    "Focus on the last criteria.  Nash claims that the ideal solution to the problem is the maximum of $xy$ in the first quadrant.  Let's just consider this region.\n"
   ]
  },
  {
   "cell_type": "code",
   "execution_count": 154,
   "metadata": {
    "collapsed": false,
    "deletable": true,
    "editable": true
   },
   "outputs": [
    {
     "data": {
      "text/plain": [
       "<matplotlib.text.Text at 0x116065a20>"
      ]
     },
     "execution_count": 154,
     "metadata": {},
     "output_type": "execute_result"
    },
    {
     "data": {
      "image/png": "[encoded data removed]",
      "text/plain": [
       "<matplotlib.figure.Figure at 0x11602dda0>"
      ]
     },
     "metadata": {},
     "output_type": "display_data"
    }
   ],
   "source": [
    "fig1 = plt.figure(figsize = (8, 5))\n",
    "ax1 = fig1.add_subplot(111)\n",
    "ax1.add_patch(patches.Polygon(a, fill = False))\n",
    "\n",
    "\n",
    "plt.xlim(0, 2)\n",
    "plt.ylim(0, 1.5)\n",
    "plt.title(\"Payoff Polygon in the First Quadrant\")"
   ]
  },
  {
   "cell_type": "markdown",
   "metadata": {
    "deletable": true,
    "editable": true
   },
   "source": [
    "The question is where is the maximum of $xy$ here?\n",
    "\n",
    "We can use our maximization work to answer this.  First however, we want to express $y$ in terms of $x$ or vice versa so we have an easier expression to deal with.\n",
    "\n",
    "The line segment we see above is the result of drawing a straight line through the points $(-1, 2)$ and $(3, -1)$. We will write an equation for a line through these two points.\n",
    "\n",
    "We will spend some time here as this is an important skill for us to remember from our work with sequences."
   ]
  },
  {
   "cell_type": "markdown",
   "metadata": {
    "deletable": true,
    "editable": true
   },
   "source": [
    "## Arithmetic Sequences and Linear Functions\n",
    "\n",
    "In the example above, we can consider this as the problem involving a sequence who's terms are the $y$ values and indicies are the $x$ values.  Thus, we have something like:\n",
    "\n",
    "$$a_{-1} = 2$$\n",
    "\n",
    "$$a_{3} = -1$$\n",
    "\n",
    "It seems odd to index something at $-1$ but it's arbitrary.  What matters is the amount of terms from the start to the start.  In this example we start at 2 and then:\n",
    "\n",
    "$$a_{-1} = 2, \\quad a_0 = ?, \\quad, a_1 = ?, \\quad a_2 = ?, \\quad a_3 = -1$$\n",
    "\n",
    "Because this is arithmetic, we know there is a constant change between terms.  Hence, we have a change of $-3$(from 2 to -1)$ over four intervals, hence we can define our sequence as:\n",
    "\n",
    "$$a_0 = 2; \\quad a_{i+1} = a_{i} - \\frac{3}{4}$$\n",
    "\n",
    "Generally, we can simply divide the difference in the terms by that of the indicies to get the common difference.\n",
    "\n",
    "$$\\frac{2 - (-1)}{-1 - 3}$$\n",
    "\n",
    "This is essentially the same as our slope terminology for a linear function, and we can use the point slope form of a linear equation to get the equation.\n",
    "\n",
    "$$y = m(x - x_1) + y_2$$\n",
    "\n",
    "$$ y = \\frac{-3}{4}(x - (-1)) + 2$$"
   ]
  },
  {
   "cell_type": "code",
   "execution_count": 155,
   "metadata": {
    "collapsed": true,
    "deletable": true,
    "editable": true
   },
   "outputs": [],
   "source": [
    "x, y = sy.symbols('x y')"
   ]
  },
  {
   "cell_type": "code",
   "execution_count": 156,
   "metadata": {
    "collapsed": false,
    "deletable": true,
    "editable": true
   },
   "outputs": [],
   "source": [
    "y = -3/4*(x - (-1)) + 2"
   ]
  },
  {
   "cell_type": "code",
   "execution_count": 157,
   "metadata": {
    "collapsed": false,
    "deletable": true,
    "editable": true
   },
   "outputs": [
    {
     "data": {
      "text/plain": [
       "-0.75*x + 1.25"
      ]
     },
     "execution_count": 157,
     "metadata": {},
     "output_type": "execute_result"
    }
   ],
   "source": [
    "y"
   ]
  },
  {
   "cell_type": "code",
   "execution_count": 158,
   "metadata": {
    "collapsed": true,
    "deletable": true,
    "editable": true
   },
   "outputs": [],
   "source": [
    "def f(x):\n",
    "    return -0.75*x + 1.25"
   ]
  },
  {
   "cell_type": "code",
   "execution_count": 159,
   "metadata": {
    "collapsed": false,
    "deletable": true,
    "editable": true
   },
   "outputs": [
    {
     "data": {
      "text/plain": [
       "<matplotlib.lines.Line2D at 0x1161c76a0>"
      ]
     },
     "execution_count": 159,
     "metadata": {},
     "output_type": "execute_result"
    },
    {
     "data": {
      "image/png": "[encoded data removed]",
      "text/plain": [
       "<matplotlib.figure.Figure at 0x1161c7668>"
      ]
     },
     "metadata": {},
     "output_type": "display_data"
    }
   ],
   "source": [
    "x = np.linspace(0, 2, 100)\n",
    "plt.plot(x, f(x))\n",
    "plt.axhline(color = 'black')"
   ]
  },
  {
   "cell_type": "markdown",
   "metadata": {
    "deletable": true,
    "editable": true
   },
   "source": [
    "Thus, our problem has become maximizing $xy$ or $x(\\frac{-3}{4}x + \\frac{5}{4})$."
   ]
  },
  {
   "cell_type": "code",
   "execution_count": 160,
   "metadata": {
    "collapsed": true,
    "deletable": true,
    "editable": true
   },
   "outputs": [],
   "source": [
    "def p(x):\n",
    "    return x*f(x)"
   ]
  },
  {
   "cell_type": "code",
   "execution_count": 161,
   "metadata": {
    "collapsed": false,
    "deletable": true,
    "editable": true
   },
   "outputs": [
    {
     "data": {
      "text/plain": [
       "<matplotlib.lines.Line2D at 0x112d17fd0>"
      ]
     },
     "execution_count": 161,
     "metadata": {},
     "output_type": "execute_result"
    },
    {
     "data": {
      "image/png": "[encoded data removed]",
      "text/plain": [
       "<matplotlib.figure.Figure at 0x1161bdef0>"
      ]
     },
     "metadata": {},
     "output_type": "display_data"
    }
   ],
   "source": [
    "x = np.linspace(0, 2, 100)\n",
    "plt.plot(x, p(x))\n",
    "plt.axhline(color = 'black')"
   ]
  },
  {
   "cell_type": "code",
   "execution_count": 162,
   "metadata": {
    "collapsed": true,
    "deletable": true,
    "editable": true
   },
   "outputs": [],
   "source": [
    "x = sy.Symbol('x')"
   ]
  },
  {
   "cell_type": "code",
   "execution_count": 163,
   "metadata": {
    "collapsed": false,
    "deletable": true,
    "editable": true
   },
   "outputs": [],
   "source": [
    "eq = sy.diff(p(x), x)"
   ]
  },
  {
   "cell_type": "code",
   "execution_count": 164,
   "metadata": {
    "collapsed": false,
    "deletable": true,
    "editable": true
   },
   "outputs": [
    {
     "data": {
      "text/plain": [
       "[0.833333333333333]"
      ]
     },
     "execution_count": 164,
     "metadata": {},
     "output_type": "execute_result"
    }
   ],
   "source": [
    "sy.solve(eq)"
   ]
  },
  {
   "cell_type": "code",
   "execution_count": 165,
   "metadata": {
    "collapsed": false,
    "deletable": true,
    "editable": true
   },
   "outputs": [
    {
     "data": {
      "text/plain": [
       "[<matplotlib.lines.Line2D at 0x1164517f0>]"
      ]
     },
     "execution_count": 165,
     "metadata": {},
     "output_type": "execute_result"
    },
    {
     "data": {
      "image/png": "[encoded data removed]",
      "text/plain": [
       "<matplotlib.figure.Figure at 0x115b652b0>"
      ]
     },
     "metadata": {},
     "output_type": "display_data"
    }
   ],
   "source": [
    "x = np.linspace(0, 2, 100)\n",
    "plt.plot(x, p(x))\n",
    "plt.axhline(color = 'black')\n",
    "plt.plot(0.83333, p(0.8333), 'o', markersize = 14, alpha = 0.8)"
   ]
  },
  {
   "cell_type": "code",
   "execution_count": 166,
   "metadata": {
    "collapsed": false,
    "deletable": true,
    "editable": true
   },
   "outputs": [
    {
     "data": {
      "text/plain": [
       "0.62500000025"
      ]
     },
     "execution_count": 166,
     "metadata": {},
     "output_type": "execute_result"
    }
   ],
   "source": [
    "f(0.833333333)"
   ]
  },
  {
   "cell_type": "code",
   "execution_count": 167,
   "metadata": {
    "collapsed": false,
    "deletable": true,
    "editable": true
   },
   "outputs": [
    {
     "data": {
      "text/plain": [
       "<matplotlib.text.Text at 0x1164a0390>"
      ]
     },
     "execution_count": 167,
     "metadata": {},
     "output_type": "execute_result"
    },
    {
     "data": {
      "image/png": "[encoded data removed]",
      "text/plain": [
       "<matplotlib.figure.Figure at 0x1163672b0>"
      ]
     },
     "metadata": {},
     "output_type": "display_data"
    }
   ],
   "source": [
    "fig1 = plt.figure(figsize = (8, 5))\n",
    "ax1 = fig1.add_subplot(111)\n",
    "ax1.add_patch(patches.Polygon(a, fill = False))\n",
    "plt.plot(0.833333, f(0.83333333), 'o', markersize = 10, label = (0.833, 0.625))\n",
    "plt.legend()\n",
    "\n",
    "plt.xlim(-4, 4)\n",
    "plt.ylim(-3, 4)\n",
    "plt.axhline()\n",
    "plt.axvline()\n",
    "plt.title(\"Payoff Polygon II\")"
   ]
  },
  {
   "cell_type": "markdown",
   "metadata": {
    "deletable": true,
    "editable": true
   },
   "source": [
    "### Interpreting the Solution\n",
    "\n",
    "Thus, there is not a clear choice that wins, and instead we are at a solution somewhere between the beach and mountains.  This could be understood as a lottery situation where we have some mixture of possibilities beach and mountain.  We deine a lottery as follows:\n",
    "\n",
    "**Lottery**: Some lottery $L$ between outcomes $A$ and $B$, with probability $p$ of $A$ and $1-p$ for $B$.  Then, for any utility function $u$ the utility of the lottery is \n",
    "\n",
    "$$u(L) = pu(A) + (1 - p)(u(B))$$\n",
    "\n",
    "Thus, in the example above, our $u$ is the line we see the point on, and which we defined earlier.  \n",
    "\n",
    "$$u_y(L) = pu_y(B) + (1 - p)u_y(M)$$\n",
    "\n",
    "$$u_f(L) = pu_f(B) + (1 - p)u_y(M)$$\n",
    "\n",
    "or \n",
    "\n",
    "$$0.833 = p(-1) + (1-p)(3)$$\n",
    "\n",
    "$$0.625 = p(2) + (1-p)(-1)$$\n",
    "\n",
    "We can solve either one of these to obtain our $p$."
   ]
  },
  {
   "cell_type": "code",
   "execution_count": 168,
   "metadata": {
    "collapsed": false,
    "deletable": true,
    "editable": true
   },
   "outputs": [],
   "source": [
    "p = sy.Symbol('p')\n",
    "eq = -1*p + (1-p)*3 - 0.833\n",
    "p = sy.solve(eq)"
   ]
  },
  {
   "cell_type": "code",
   "execution_count": 169,
   "metadata": {
    "collapsed": false,
    "deletable": true,
    "editable": true
   },
   "outputs": [
    {
     "data": {
      "text/plain": [
       "[0.541750000000000]"
      ]
     },
     "execution_count": 169,
     "metadata": {},
     "output_type": "execute_result"
    }
   ],
   "source": [
    "p"
   ]
  },
  {
   "cell_type": "markdown",
   "metadata": {
    "deletable": true,
    "editable": true
   },
   "source": [
    " "
   ]
  },
  {
   "cell_type": "code",
   "execution_count": 170,
   "metadata": {
    "collapsed": false,
    "deletable": true,
    "editable": true
   },
   "outputs": [
    {
     "data": {
      "text/plain": [
       "list"
      ]
     },
     "execution_count": 170,
     "metadata": {},
     "output_type": "execute_result"
    }
   ],
   "source": [
    "type(p)"
   ]
  },
  {
   "cell_type": "code",
   "execution_count": 171,
   "metadata": {
    "collapsed": false,
    "deletable": true,
    "editable": true
   },
   "outputs": [],
   "source": [
    "p.append(1-p[0])"
   ]
  },
  {
   "cell_type": "code",
   "execution_count": 172,
   "metadata": {
    "collapsed": false,
    "deletable": true,
    "editable": true
   },
   "outputs": [
    {
     "data": {
      "text/plain": [
       "[0.541750000000000, 0.458250000000000]"
      ]
     },
     "execution_count": 172,
     "metadata": {},
     "output_type": "execute_result"
    }
   ],
   "source": [
    "p"
   ]
  },
  {
   "cell_type": "markdown",
   "metadata": {
    "deletable": true,
    "editable": true
   },
   "source": [
    "Thus, if we have a lottery where the probability of beach is near 0.54 and the mountains is 0.46, we would have the best solution."
   ]
  }
 ],
 "metadata": {
  "kernelspec": {
   "display_name": "Python 3",
   "language": "python",
   "name": "python3"
  },
  "language_info": {
   "codemirror_mode": {
    "name": "ipython",
    "version": 3
   },
   "file_extension": ".py",
   "mimetype": "text/x-python",
   "name": "python",
   "nbconvert_exporter": "python",
   "pygments_lexer": "ipython3",
   "version": "3.5.3"
  }
 },
 "nbformat": 4,
 "nbformat_minor": 2
}
