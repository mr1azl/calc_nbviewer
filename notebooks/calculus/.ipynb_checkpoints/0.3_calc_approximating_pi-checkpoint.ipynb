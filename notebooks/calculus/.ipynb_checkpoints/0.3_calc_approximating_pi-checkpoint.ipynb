{
 "cells": [
  {
   "cell_type": "markdown",
   "metadata": {},
   "source": [
    "# What is $\\pi$?\n",
    "\n",
    "In his book *The Historical Development of the Calculus*, C.H. Edwards relates an early history of $\\pi$.  Around 430 BC, Hippocrates of Chios showed that the ratio of the area of two circles is equal to the ratio of the squares of their diameters.  Later, Eudoxus and Archimedes worked to deploy the method of exhaustion in determining this value.\n",
    "\n",
    "## Rough Approximations\n",
    "\n",
    "For Archimedes, he began with a hexagon inscribed and circumscribed on a circle with unit radius.  Of course, we've probably seen the relationship for the area of a circle as\n",
    "\n",
    "$$A = \\pi r^2$$\n",
    "\n",
    "Thus, if we have $r = 1$, the area of our circle is equal to $\\pi$.  We can use some rough approximations and our knowledge of square roots to determine a first approximation as Archimedes did by using a unit circle and inscribed and circumscribed hexagons as seen in the image below.\n",
    "\n",
    "<img src = \"images/exhaust.png\" height=\"50%\" width=\"50%\" /img>\n",
    "\n",
    "\n",
    "Here, we decompose the inscribed and circumscribed polygons using our knowledge of triangles.  As we saw in class, we can understand the inscribed triangles through the Pythagorean theorem, and some elementary knowledge about equilateral triangles.  To find the height of these triangles, we recognize that dropping a perpendicular to the base creates a right triangle with hypotenuse 1 and short leg $\\frac{1}{2}$ shown below.\n",
    "\n",
    "<img src = \"images/triangle.png\" height=\"50%\" width=\"50%\" /img>\n",
    "\n",
    "Thus, we can find the height using the Pythagorean theorem.  This gives us:\n",
    "\n",
    "$$\\frac{1}{2}^2 + ?^2 = 1^2$$\n",
    "\n",
    "$$?^2 = 1 - \\frac{1}{4}$$\n",
    "\n",
    "$$? = \\frac{\\sqrt{3}}{2}$$\n",
    "\n",
    "and an area for each of the six triangles of \n",
    "\n",
    "$$A = \\frac{1}{2}(\\text{base})(\\text{height}) \\quad \\text{or} \\quad A = \\frac{1}{2}\\times 1\\times\\frac{\\sqrt{3}}{2} = \\frac{\\sqrt{3}}{8}$$\n",
    "\n",
    "Thus, for all six triangles we have\n",
    "\n",
    "$$6 \\times \\frac{\\sqrt{3}}{4} \\quad \\text{or} \\quad \\frac{3\\sqrt{3}}{2}$$\n",
    "\n",
    "We can use Python to compute this as a number using our tenth approximation for $\\sqrt{3}$."
   ]
  },
  {
   "cell_type": "code",
   "execution_count": 4,
   "metadata": {},
   "outputs": [
    {
     "name": "stdout",
     "output_type": "stream",
     "text": [
      "The first approximation for pi is 2.598076211353316\n"
     ]
    }
   ],
   "source": [
    "a = [1.6]\n",
    "\n",
    "for i in range(9):\n",
    "    next = 0.5*(a[i]+3/a[i])\n",
    "    a.append(next)\n",
    "    \n",
    "print(\"The first approximation for pi is\", (3*a[-1]/2))"
   ]
  },
  {
   "cell_type": "markdown",
   "metadata": {},
   "source": [
    "## Recurrence Relationships from Antiquity\n",
    "\n",
    "While we could continue to determine the successive relationships as we go, there are actually patterns that develop in both Eudoxus who started with a square and Archimedes who began with a hexagon. As Bruce Shapiro notes in his book *Scientific Computation: Python Hacking for Math Junkies*, the Eudoxean relationship is contingent on the length of an outer edge of a polygon $H_n$ and the perimeter of that polygone $P_n$, as follows:\n",
    "\n",
    "$$P_n = 2^n H_n \\quad \\text{thus} \\quad \\pi_n = \\frac{1}{2}P_n = 2^{n-1}H_n$$\n",
    "\n",
    "Further, we have a recursive relationship on $H_n$ as:\n",
    "\n",
    "$$H_n^2 = 2 - 2\\sqrt{1-\\big(\\frac{H_{n-1}}{2}\\big)^2}$$\n",
    "\n",
    "Thus, if we have an initial approximation, we can deploy this relationship to iterate and find better and better approximations.\n",
    "\n",
    "For Archimedes, we have a similar relationship where $I_n$ is the inscribed polygon and $C_n$ is the circumscribed polygon, thus\n",
    "\n",
    "$$I_n < \\pi < C_n$$\n",
    "\n",
    "and the recurrence relationships\n",
    "\n",
    "$$C_{2n} = \\frac{2C_nI_n}{C_n + I_n}$$\n",
    "\n",
    "$$~$$\n",
    "\n",
    "$$I_{2n} = \\sqrt{C_{2n}I_{n}}$$\n",
    "\n",
    "If you need something to do, you can establish these relationships."
   ]
  }
 ],
 "metadata": {
  "kernelspec": {
   "display_name": "Python [default]",
   "language": "python",
   "name": "python3"
  },
  "language_info": {
   "codemirror_mode": {
    "name": "ipython",
    "version": 3
   },
   "file_extension": ".py",
   "mimetype": "text/x-python",
   "name": "python",
   "nbconvert_exporter": "python",
   "pygments_lexer": "ipython3",
   "version": "3.5.3"
  }
 },
 "nbformat": 4,
 "nbformat_minor": 2
}
