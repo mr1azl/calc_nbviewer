{
 "cells": [
  {
   "cell_type": "code",
   "execution_count": 5,
   "metadata": {
    "collapsed": true
   },
   "outputs": [],
   "source": [
    "import requests\n",
    "k = requests.get('http://www.corestandards.org/Math/Content/HSF/IF/')"
   ]
  },
  {
   "cell_type": "code",
   "execution_count": 6,
   "metadata": {},
   "outputs": [],
   "source": [
    "from bs4 import BeautifulSoup"
   ]
  },
  {
   "cell_type": "code",
   "execution_count": 8,
   "metadata": {},
   "outputs": [],
   "source": [
    "soup = BeautifulSoup(k.text, 'html.parser')"
   ]
  },
  {
   "cell_type": "code",
   "execution_count": 10,
   "metadata": {},
   "outputs": [
    {
     "data": {
      "text/plain": [
       "<title>High School: Functions » Interpreting Functions\t\t\t| Common Core State Standards Initiative</title>"
      ]
     },
     "execution_count": 10,
     "metadata": {},
     "output_type": "execute_result"
    }
   ],
   "source": [
    "soup.title"
   ]
  },
  {
   "cell_type": "code",
   "execution_count": 11,
   "metadata": {},
   "outputs": [
    {
     "data": {
      "text/plain": [
       "'title'"
      ]
     },
     "execution_count": 11,
     "metadata": {},
     "output_type": "execute_result"
    }
   ],
   "source": [
    "soup.title.name"
   ]
  },
  {
   "cell_type": "code",
   "execution_count": 12,
   "metadata": {},
   "outputs": [
    {
     "data": {
      "text/plain": [
       "'High School: Functions » Interpreting Functions\\t\\t\\t| Common Core State Standards Initiative'"
      ]
     },
     "execution_count": 12,
     "metadata": {},
     "output_type": "execute_result"
    }
   ],
   "source": [
    "soup.title.string"
   ]
  },
  {
   "cell_type": "code",
   "execution_count": 13,
   "metadata": {},
   "outputs": [
    {
     "data": {
      "text/plain": [
       "<p id=\"spanish_link\"><a class=\"ir\" href=\"http://www.corestandards.org/lo-que-los-padres-deben-saber/\" rel=\"nofollow\">Common Core State Standards Initiative</a>\n",
       "</p>"
      ]
     },
     "execution_count": 13,
     "metadata": {},
     "output_type": "execute_result"
    }
   ],
   "source": [
    "soup.p"
   ]
  },
  {
   "cell_type": "code",
   "execution_count": 14,
   "metadata": {},
   "outputs": [
    {
     "data": {
      "text/plain": [
       "<a data-remote=\"false\" data-target=\"#video\" data-toggle=\"modal\" href=\"http://www.corestandards.org/video/\" id=\"video-tab\">Video</a>"
      ]
     },
     "execution_count": 14,
     "metadata": {},
     "output_type": "execute_result"
    }
   ],
   "source": [
    "soup.a"
   ]
  },
  {
   "cell_type": "code",
   "execution_count": 41,
   "metadata": {},
   "outputs": [
    {
     "data": {
      "text/plain": [
       "<div class=\"standard\"><a class=\"identifier\" href=\"http://www.corestandards.org/Math/Content/HSF/IF/A/1/\" name=\"CCSS.Math.Content.HSF.IF.A.1\">CCSS.Math.Content.HSF.IF.A.1</a><br/>Understand that a function from one set (called the domain) to another set (called the range) assigns to each element of the domain exactly one element of the range. If <i>f</i> is a function and <i>x</i> is an element of its domain, then <i>f</i>(<i>x</i>) denotes the output of <i>f</i> corresponding to the input <i>x</i>. The graph of <i>f</i> is the graph of the equation <i>y</i> = <i>f</i>(<i>x</i>).</div>"
      ]
     },
     "execution_count": 41,
     "metadata": {},
     "output_type": "execute_result"
    }
   ],
   "source": [
    "soup.find_all('p')[2].contents[3]"
   ]
  },
  {
   "cell_type": "code",
   "execution_count": 20,
   "metadata": {},
   "outputs": [
    {
     "name": "stdout",
     "output_type": "stream",
     "text": [
      "[<p id=\"spanish_link\"><a class=\"ir\" href=\"http://www.corestandards.org/lo-que-los-padres-deben-saber/\" rel=\"nofollow\">Common Core State Standards Initiative</a>\n",
      "</p>, <p id=\"logo\"><a class=\"ir\" href=\"http://www.corestandards.org\" rel=\"nofollow\">Common Core State Standards Initiative</a>\n",
      "</p>, <p><h2>Standards in this domain:</h2><div class=\"identifiers\"><div class=\"row\"><div class=\"cell\"><a class=\"identifier\" href=\"#CCSS.Math.Content.HSF.IF.A.1\">CCSS.Math.Content.HSF.IF.A.1</a></div><div class=\"cell\"><a class=\"identifier\" href=\"#CCSS.Math.Content.HSF.IF.A.2\">CCSS.Math.Content.HSF.IF.A.2</a></div><div class=\"cell\"><a class=\"identifier\" href=\"#CCSS.Math.Content.HSF.IF.A.3\">CCSS.Math.Content.HSF.IF.A.3</a></div></div><div class=\"row\"><div class=\"cell\"><a class=\"identifier\" href=\"#CCSS.Math.Content.HSF.IF.B.4\">CCSS.Math.Content.HSF.IF.B.4</a></div><div class=\"cell\"><a class=\"identifier\" href=\"#CCSS.Math.Content.HSF.IF.B.5\">CCSS.Math.Content.HSF.IF.B.5</a></div><div class=\"cell\"><a class=\"identifier\" href=\"#CCSS.Math.Content.HSF.IF.B.6\">CCSS.Math.Content.HSF.IF.B.6</a></div></div><div class=\"row\"><div class=\"cell\"><a class=\"identifier\" href=\"#CCSS.Math.Content.HSF.IF.C.7\">CCSS.Math.Content.HSF.IF.C.7</a></div><div class=\"cell\"><a class=\"identifier\" href=\"#CCSS.Math.Content.HSF.IF.C.8\">CCSS.Math.Content.HSF.IF.C.8</a></div><div class=\"cell\"><a class=\"identifier\" href=\"#CCSS.Math.Content.HSF.IF.C.9\">CCSS.Math.Content.HSF.IF.C.9</a></div></div></div><h4>Understand the concept of a function and use function notation.</h4><div class=\"standard\"><a class=\"identifier\" href=\"http://www.corestandards.org/Math/Content/HSF/IF/A/1/\" name=\"CCSS.Math.Content.HSF.IF.A.1\">CCSS.Math.Content.HSF.IF.A.1</a><br/>Understand that a function from one set (called the domain) to another set (called the range) assigns to each element of the domain exactly one element of the range. If <i>f</i> is a function and <i>x</i> is an element of its domain, then <i>f</i>(<i>x</i>) denotes the output of <i>f</i> corresponding to the input <i>x</i>. The graph of <i>f</i> is the graph of the equation <i>y</i> = <i>f</i>(<i>x</i>).</div><div class=\"standard\"><a class=\"identifier\" href=\"http://www.corestandards.org/Math/Content/HSF/IF/A/2/\" name=\"CCSS.Math.Content.HSF.IF.A.2\">CCSS.Math.Content.HSF.IF.A.2</a><br/>Use function notation, evaluate functions for inputs in their domains, and interpret statements that use function notation in terms of a context.</div><div class=\"standard\"><a class=\"identifier\" href=\"http://www.corestandards.org/Math/Content/HSF/IF/A/3/\" name=\"CCSS.Math.Content.HSF.IF.A.3\">CCSS.Math.Content.HSF.IF.A.3</a><br/>Recognize that sequences are functions, sometimes defined recursively, whose domain is a subset of the integers. <i>For example, the Fibonacci sequence is defined recursively by f(0) = f(1) = 1, f(n+1) = f(n) + f(n-1) for n ≥ 1</i>.</div><h4>Interpret functions that arise in applications in terms of the context.</h4><div class=\"standard\"><a class=\"identifier\" href=\"http://www.corestandards.org/Math/Content/HSF/IF/B/4/\" name=\"CCSS.Math.Content.HSF.IF.B.4\">CCSS.Math.Content.HSF.IF.B.4</a><br/>For a function that models a relationship between two quantities, interpret key features of graphs and tables in terms of the quantities, and sketch graphs showing key features given a verbal description of the relationship. <i>Key features include: intercepts; intervals where the function is increasing, decreasing, positive, or negative; relative maximums and minimums; symmetries; end behavior; and periodicity</i>.<sup>*</sup></div><div class=\"standard\"><a class=\"identifier\" href=\"http://www.corestandards.org/Math/Content/HSF/IF/B/5/\" name=\"CCSS.Math.Content.HSF.IF.B.5\">CCSS.Math.Content.HSF.IF.B.5</a><br/>Relate the domain of a function to its graph and, where applicable, to the quantitative relationship it describes. <i>For example, if the function h(n) gives the number of person-hours it takes to assemble n engines in a factory, then the positive integers would be an appropriate domain for the function.</i><sup>*</sup></div><div class=\"standard\"><a class=\"identifier\" href=\"http://www.corestandards.org/Math/Content/HSF/IF/B/6/\" name=\"CCSS.Math.Content.HSF.IF.B.6\">CCSS.Math.Content.HSF.IF.B.6</a><br/>Calculate and interpret the average rate of change of a function (presented symbolically or as a table) over a specified interval. Estimate the rate of change from a graph.<sup>*</sup></div><h4>Analyze functions using different representations.</h4><div class=\"standard\"><a class=\"identifier\" href=\"http://www.corestandards.org/Math/Content/HSF/IF/C/7/\" name=\"CCSS.Math.Content.HSF.IF.C.7\">CCSS.Math.Content.HSF.IF.C.7</a><br/>Graph functions expressed symbolically and show key features of the graph, by hand in simple cases and using technology for more complicated cases.<sup>*</sup></div><div class=\"substandard\"><a class=\"identifier\" href=\"http://www.corestandards.org/Math/Content/HSF/IF/C/7/a/\" name=\"CCSS.Math.Content.HSF.IF.C.7.a\">CCSS.Math.Content.HSF.IF.C.7.a</a><br/>Graph linear and quadratic functions and show intercepts, maxima, and minima.</div><div class=\"substandard\"><a class=\"identifier\" href=\"http://www.corestandards.org/Math/Content/HSF/IF/C/7/b/\" name=\"CCSS.Math.Content.HSF.IF.C.7.b\">CCSS.Math.Content.HSF.IF.C.7.b</a><br/>Graph square root, cube root, and piecewise-defined functions, including step functions and absolute value functions.</div><div class=\"substandard\"><a class=\"identifier\" href=\"http://www.corestandards.org/Math/Content/HSF/IF/C/7/c/\" name=\"CCSS.Math.Content.HSF.IF.C.7.c\">CCSS.Math.Content.HSF.IF.C.7.c</a><br/>Graph polynomial functions, identifying zeros when suitable factorizations are available, and showing end behavior.</div><div class=\"substandard\"><a class=\"identifier\" href=\"http://www.corestandards.org/Math/Content/HSF/IF/C/7/d/\" name=\"CCSS.Math.Content.HSF.IF.C.7.d\">CCSS.Math.Content.HSF.IF.C.7.d</a><br/>(+) Graph rational functions, identifying zeros and asymptotes when suitable factorizations are available, and showing end behavior.</div><div class=\"substandard\"><a class=\"identifier\" href=\"http://www.corestandards.org/Math/Content/HSF/IF/C/7/e/\" name=\"CCSS.Math.Content.HSF.IF.C.7.e\">CCSS.Math.Content.HSF.IF.C.7.e</a><br/>Graph exponential and logarithmic functions, showing intercepts and end behavior, and trigonometric functions, showing period, midline, and amplitude.</div><div class=\"standard\"><a class=\"identifier\" href=\"http://www.corestandards.org/Math/Content/HSF/IF/C/8/\" name=\"CCSS.Math.Content.HSF.IF.C.8\">CCSS.Math.Content.HSF.IF.C.8</a><br/>Write a function defined by an expression in different but equivalent forms to reveal and explain different properties of the function.</div><div class=\"substandard\"><a class=\"identifier\" href=\"http://www.corestandards.org/Math/Content/HSF/IF/C/8/a/\" name=\"CCSS.Math.Content.HSF.IF.C.8.a\">CCSS.Math.Content.HSF.IF.C.8.a</a><br/>Use the process of factoring and completing the square in a quadratic function to show zeros, extreme values, and symmetry of the graph, and interpret these in terms of a context.</div><div class=\"substandard\"><a class=\"identifier\" href=\"http://www.corestandards.org/Math/Content/HSF/IF/C/8/b/\" name=\"CCSS.Math.Content.HSF.IF.C.8.b\">CCSS.Math.Content.HSF.IF.C.8.b</a><br/>Use the properties of exponents to interpret expressions for exponential functions. For example, identify percent rate of change in functions such as y = (1.02)ᵗ, y = (0.97)ᵗ, y = (1.01)12ᵗ, y = (1.2)ᵗ/10, and classify them as representing exponential growth or decay.</div><div class=\"standard\"><a class=\"identifier\" href=\"http://www.corestandards.org/Math/Content/HSF/IF/C/9/\" name=\"CCSS.Math.Content.HSF.IF.C.9\">CCSS.Math.Content.HSF.IF.C.9</a><br/>Compare properties of two functions each represented in a different way (algebraically, graphically, numerically in tables, or by verbal descriptions). <i>For example, given a graph of one quadratic function and an algebraic expression for another, say which has the larger maximum</i>.</div></p>, <p class=\"source-org copyright\">© 2017 Common Core State Standards Initiative</p>]\n"
     ]
    }
   ],
   "source": [
    "print(soup.find_all('p', attrs={}))"
   ]
  },
  {
   "cell_type": "code",
   "execution_count": null,
   "metadata": {
    "collapsed": true
   },
   "outputs": [],
   "source": []
  }
 ],
 "metadata": {
  "kernelspec": {
   "display_name": "Python 3",
   "language": "python",
   "name": "python3"
  },
  "language_info": {
   "codemirror_mode": {
    "name": "ipython",
    "version": 3
   },
   "file_extension": ".py",
   "mimetype": "text/x-python",
   "name": "python",
   "nbconvert_exporter": "python",
   "pygments_lexer": "ipython3",
   "version": "3.6.3"
  }
 },
 "nbformat": 4,
 "nbformat_minor": 2
}
