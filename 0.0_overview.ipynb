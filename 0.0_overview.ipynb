{
 "cells": [
  {
   "cell_type": "markdown",
   "metadata": {},
   "source": [
    "![](images/section_I/header.png)\n",
    "\n",
    "<ul class=\"pager\">\n",
    "  <li class=\"previous\"><a href=\"www.dubmathematics.com\">Home</a></li>\n",
    "  <li class=\"next\"><a href=\"0.1_calc_Intro_to_Infinite.ipynb\">Next</a></li>\n",
    "</ul>"
   ]
  },
  {
   "cell_type": "markdown",
   "metadata": {},
   "source": [
    "[![Binder](https://mybinder.org/badge.svg)](https://mybinder.org/v2/gh/jfkoehler/calc_nbviewer/master?filepath=0.0_overview.ipynb)"
   ]
  },
  {
   "cell_type": "markdown",
   "metadata": {},
   "source": [
    "The materials below reflect my version of a contemporary calculus course.  The main thrust is to support the integration of freely available technology, to present a humanistic vision of calculus as the product of societies and people, and to incorporate work with both the discrete and continuous with attention to statistics and data analysis.\n",
    "\n",
    "---\n",
    "\n",
    "**A Note on Structure of Materials**\n",
    "\n",
    "While I have constructed these materials using the Python computer language and Jupyter notebooks, I've relegated the code and computer based solutions to the end of the notebooks.  By using the Jupyter notebooks, I am able to quickly represent and solve problems.  I am also able to build slideshows and host these through `nbviewer`.  \n",
    "\n"
   ]
  },
  {
   "cell_type": "markdown",
   "metadata": {},
   "source": [
    "- **Slideshows**: To view the slideshow of a given notebook click the slideshow button on the `nbviewer` toolbar.\n",
    "\n",
    "![](images/slideshow.png)\n",
    "\n"
   ]
  },
  {
   "cell_type": "markdown",
   "metadata": {},
   "source": [
    "- **Interacting with Notebooks**: I've place links to launch the notebooks using Binder.  This will allow you to interact with and alter the notebook online, however your work will not be saved.  Simply click the `Binder` button at the top of the notebook, wait while the notebook is created, and you may use the notebook interactively online.\n",
    "\n",
    "![](images/binder.png)"
   ]
  },
  {
   "cell_type": "markdown",
   "metadata": {},
   "source": [
    "- **Downloading the Notebooks**: Download and install Anaconda on your computer.  Use the **download** button on the `nbviewer` toolbar.\n",
    "\n",
    "![](images/download.png)"
   ]
  },
  {
   "cell_type": "markdown",
   "metadata": {
    "collapsed": true
   },
   "source": [
    "### Section I: Integration\n",
    "\n",
    "This section introduces classical problems in calculus through the definite integral.  We deal with both finite and continuous domains, comparing approximations and exact answers involving the integral as an accumulator.  The focus is on the infinite process as a problem solving strategy, and developing facility using definite integrals to solve specific problems.\n",
    "\n",
    "- [Problematic Numbers](0.1_calc_Intro_to_Infinite.ipynb): Introducing the infinite process through approximating square roots and $\\pi$\n",
    "\n",
    "- [Approximating Areas I](0.2_calc_summations_and_areas.ipynb): Approximating areas using rectangles.\n",
    "\n",
    "- [Approximating Areas II](0.3_calc_area_approxII.ipynb): Approximating using Trapezoids and Parabolas.\n",
    "\n",
    "- [Cardiac Output](0.4_calc_measuring_cardiac_output.ipynb): Application of approximation to Biology.\n",
    "\n",
    "- [The Definite Integral ](0.5_calc_definite_integral.ipynb): Moving to a basic definition for a definite integral and exact solutions to the area problem.\n",
    "\n",
    "**PROJECTS**\n",
    "\n",
    "- [Work and Force in Physics](0.6_calc_work_force.ipynb)\n",
    "\n",
    "- [Centers of Mass in Physics](0.7_calc_centers_of_mass.ipynb)\n",
    "\n",
    "- [Consumer and Producer Surplus in Economics](0.8_calc_consumer_surplus.ipynb)\n",
    "\n",
    "- [Probability Distributions and Statistics](0.9_calc_probability_stats.ipynb)"
   ]
  },
  {
   "cell_type": "markdown",
   "metadata": {},
   "source": [
    "### Section II: Differentiation\n",
    "\n",
    "Motivated by classical problems of motion, we begin to investigate the concept of derivatives.  Problems involving approximate and exact solutions in motion give way to geometric interpretations of the tangent line.  We examine applications of optimization to game theory and equation solving.\n",
    "\n",
    "- [Mathematizing Motion](1.0_calc_motion.ipynb)\n",
    "\n",
    "- [Defining a Derivative](1.1_calc_derivatives.ipynb)\n",
    "\n",
    "- [Derivatives: Maximum and Minimum Values](1.2_calc_maxmin.ipynb)\n",
    "\n",
    "- [Applications: Nash Arbitration Scheme](1.3_calc_gametheory.ipynb)\n",
    "\n",
    "- [Chain Rule and Parametric Descriptions](1.4_calc_chainrule.ipynb)\n",
    "\n",
    "- [Derivatives: Solving Equations with Newton's Method](1.5_calc_newtons_method.ipynb)\n",
    "\n",
    "**PROJECTS**\n",
    "\n",
    "- [Projectile Motion and Differentiation](1.5_calc_projectiles.ipynb)\n",
    "\n",
    "- [Parametrics and Interpolation](1.6_calc_interpolation.ipynb)\n",
    "\n",
    "- [Least Squares Methods and Statistics](1.7_calc_regression.ipynb)\n",
    "\n",
    "- [Newton's Method and Chaos](1.8_calc_newtonchaos.ipynb)"
   ]
  },
  {
   "cell_type": "markdown",
   "metadata": {
    "collapsed": true
   },
   "source": [
    "### Section III: Differential Equations\n",
    "\n",
    "Here, we introduce differential equations through a variety of applications.  Qualitative solutions and phase plane analysis, Euler's method and Runge Kutta approximations, and basic separation of variables problems are discussed.  Using population models, we connect the earlier work with the dynamics of Newton's method.\n",
    "\n",
    "- [Modeling Populations: Exponential vs. Logistic Growth](2.0_calc_populations.ipynb)\n",
    "\n",
    "- [Phase Plane Analysis: Qualitative Methods and the Lotka - Volterra model.](2.1_calc_phaseplane.ipynb)\n",
    "\n",
    "- [Fixed Points and Stability - Some Applications](2.3_calc_fixedpoints.ipynb)\n",
    "\n",
    "- [Approximating Solutions: Euler and Runge-Kutta](2.4_calc_approx.ipynb)\n",
    "\n",
    "**PROJECTS**\n",
    "\n",
    "- [Dynamical Sytems and Biology](2.5_calc_aqua.ipynb)\n",
    "\n",
    "- [Classical Problems from Differential Equations](2.6_brachist.ipynb)\n",
    "\n",
    "- [Physics of Waves](2.7_calc_waves.ipynb)"
   ]
  },
  {
   "cell_type": "markdown",
   "metadata": {},
   "source": [
    "### Final Projects\n",
    "\n",
    "Students produce a final piece of work that applies our work in Calculus with deeper problems depending on their interests.\n",
    "\n",
    "- [Gender, Craft, Calculus](3.0_calc_computing.ipynb)\n",
    "\n",
    "- [Statistics and Calculus](3.1_stats_and_calc.ipynb)\n",
    "\n",
    "- [Historical Problems in Calculus](3.2_calc_history.ipynb)\n",
    "\n",
    "- [Non - Linear Systems](3.3_calc_nonlinear.ipynb)\n",
    "\n",
    "- [Linear Problems](3.4_calc_linear.ipynb)"
   ]
  }
 ],
 "metadata": {
  "kernelspec": {
   "display_name": "Python 3",
   "language": "python",
   "name": "python3"
  },
  "language_info": {
   "codemirror_mode": {
    "name": "ipython",
    "version": 3
   },
   "file_extension": ".py",
   "mimetype": "text/x-python",
   "name": "python",
   "nbconvert_exporter": "python",
   "pygments_lexer": "ipython3",
   "version": "3.6.3"
  }
 },
 "nbformat": 4,
 "nbformat_minor": 2
}
